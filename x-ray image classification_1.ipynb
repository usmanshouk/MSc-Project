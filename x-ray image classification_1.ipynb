{
 "cells": [
  {
   "cell_type": "code",
   "execution_count": 1,
   "id": "5bb93b00",
   "metadata": {},
   "outputs": [],
   "source": [
    "from torch.utils.data import DataLoader\n",
    "from torch.utils.data import random_split\n",
    "from torchvision.datasets import ImageFolder\n",
    "from torch import optim\n",
    "import torchvision.transforms as T\n",
    "import torch as th\n",
    "import torch.nn as nn\n",
    "import matplotlib.pyplot as plt\n",
    "import numpy as np\n",
    "import torch.nn as nn\n",
    "import torch.nn.functional as F\n",
    "from sklearn.metrics import confusion_matrix, classification_report\n",
    "import seaborn as sns\n",
    "from tqdm import tqdm"
   ]
  },
  {
   "cell_type": "code",
   "execution_count": 15,
   "id": "80a12f15",
   "metadata": {},
   "outputs": [],
   "source": [
    "def main():\n",
    "    seed = 1000\n",
    "    th.manual_seed(seed)\n",
    "    if th.cuda.is_available():\n",
    "    # Make CuDNN Determinist\n",
    "        th.backends.cudnn.deterministic = True\n",
    "        th.cuda.manual_seed(seed)\n",
    "    #Directories\n",
    "    trainDirectory = \"./Data/archive/Data/train\"\n",
    "    testDirectory = \"./Data/archive/Data/test\"\n",
    "\n",
    "    device = th.device(\"cuda\" if th.cuda.is_available() else \"cpu\")\n",
    "    #checking for model\n",
    "    net = input(\"Press 1 if you want to use Model 1\\nPress any other key if you want to use Model 2 : \")\n",
    "\n",
    "    if net == \"1\":\n",
    "        #checking for greyScale and Loading the images\n",
    "        greyScale = input(\"Enter 1 if you want to use convert channel of image to 1 otherwise press any other key : \")\n",
    "        if greyScale == \"1\":\n",
    "            greyScale = True\n",
    "        else:\n",
    "            greyScale = False\n",
    "    \n",
    "        trainLoader, valLoader, testLoader = imageDataLoader(trainDirectory, testDirectory, greyScale)\n",
    "\n",
    "        #Initialising a network\n",
    "        net = ConvolutionalNetwork_1(greyScale)\n",
    "        #Training the model\n",
    "        trainHistory, valHistory = train(net, batchSize=100, nEpochs=10, learningRate=0.001, device=device, trainSet=trainLoader, valSet=valLoader)\n",
    "\n",
    "        #plotting the curves\n",
    "        plotLosses(trainHistory, valHistory, \"Net 1\")\n",
    "#         net.load_state_dict(th.load(bestModelPath))\n",
    "\n",
    "        #computing the accuracies\n",
    "        print(\"\\nEvaluation of the model...\")\n",
    "        testing(net, trainLoader, valLoader, testLoader,  device = device)\n",
    "\n",
    "\n",
    "    else:\n",
    "        #checking for greyScale and Loading the images\n",
    "        greyScale = input(\"Enter 1 if you want to use greyScale image otherwise press any other key : \")\n",
    "        if greyScale == \"1\":\n",
    "            greyScale = True\n",
    "        else:\n",
    "            greyScale = False\n",
    "        trainLoader, valLoader, testLoader = imageDataLoader(trainDirectory, testDirectory, greyScale, model2 = True)\n",
    "\n",
    "        #Initialising a network\n",
    "        net = ConvolutionalNetwork_2(greyScale)\n",
    "\n",
    "        #Training the model\n",
    "        trainHistory, valHistory = train(net, batchSize=100, nEpochs=10, learningRate=0.001,  device=device, trainSet=trainLoader, valSet=valLoader)\n",
    "\n",
    "        #plotting the curves\n",
    "        plotLosses(trainHistory, valHistory, \"Net 2\")\n",
    "#         net.load_state_dict(th.load(bestModelPath))\n",
    "\n",
    "        #computing the accuracies\n",
    "        print(\"\\nEvaluation of the model...\")\n",
    "        testing(net, trainLoader, valLoader, testLoader,  device = device)\n"
   ]
  },
  {
   "cell_type": "code",
   "execution_count": 3,
   "id": "0e93b74e",
   "metadata": {},
   "outputs": [],
   "source": [
    "def imageDataLoader(trainDirectory, testDirectory, greyScale = False, model2 = False):\n",
    "    \"\"\"\n",
    "    This method takes the directory of test and train data, split the train data in training and validation data,\n",
    "    make the apprpriate transformations and return the training, testing and valdation data\n",
    "    \"\"\"\n",
    "    #Making Transforms\n",
    "    if model2:\n",
    "        if greyScale:\n",
    "            transform = T.Compose([\n",
    "                T.Grayscale(num_output_channels=1), T.Resize((32,32)),\n",
    "                T.ToTensor(), T.RandomHorizontalFlip()])\n",
    "        else:\n",
    "            transform = T.Compose([\n",
    "                T.ToTensor(),  T.Resize((32,32)), T.RandomHorizontalFlip()])\n",
    "    else:\n",
    "        if greyScale:\n",
    "            transform = T.Compose([\n",
    "                T.Grayscale(num_output_channels=1),  T.Resize((32,32)),\n",
    "                T.ToTensor()])\n",
    "        else:\n",
    "            transform = T.Compose([\n",
    "                T.ToTensor(), T.Resize((32,32))])\n",
    "\n",
    "    #Loading the images from firectory\n",
    "    dataset =   ImageFolder(trainDirectory, transform=transform)\n",
    "    testData = ImageFolder(testDirectory, transform=transform)\n",
    "    batchSize = 100\n",
    "    #Defining the spliting\n",
    "    valSize = int(len(dataset) * 0.2)\n",
    "    trainSize =  len(dataset) - valSize\n",
    "    valSize = int(len(dataset) * 0.2)\n",
    "    trainData, valData = random_split(dataset, [trainSize, valSize])\n",
    "\n",
    "    #Loading the data in batches\n",
    "    trainLoader = DataLoader(trainData, batchSize, shuffle=True)\n",
    "    testLoader = DataLoader(testData, batchSize, shuffle=True)\n",
    "    valLoader = DataLoader(valData, batchSize, shuffle=True)\n",
    "\n",
    "\n",
    "    return trainLoader, valLoader, testLoader"
   ]
  },
  {
   "cell_type": "code",
   "execution_count": 4,
   "id": "6087af9d",
   "metadata": {},
   "outputs": [],
   "source": [
    "class ConvolutionalNetwork_1(nn.Module):\n",
    "    \"\"\"\n",
    "    A simple neural network with one convolutional layer, one pooling layer and two fully connected layers\n",
    "    \n",
    "    \"\"\"\n",
    "    def __init__(self, greyScale):\n",
    "        super(ConvolutionalNetwork_1, self).__init__()\n",
    "        #deciding the input channels\n",
    "        if greyScale:\n",
    "            inChannels = 1\n",
    "        else:\n",
    "            inChannels = 3\n",
    "\n",
    "        #defining hyperparameters\n",
    "        kernelSize = 3\n",
    "        stride =  1\n",
    "        self.outChannels = 32\n",
    "        zeroPadding = 1\n",
    "        inSize = 32\n",
    "        kernelSizePool = 2\n",
    "        stridePool =  2\n",
    "        zeroPaddingPool = 0\n",
    "\n",
    "        #Initialising the layers\n",
    "        self.conv1 = nn.Conv2d(inChannels, self.outChannels, kernel_size=kernelSize, stride=stride, padding=zeroPadding)\n",
    "        #Computing the out height\n",
    "        h2 = outSize(inSize = inSize, kernelSize = kernelSize, stride=stride, padding=zeroPadding)\n",
    "        self.pool = nn.MaxPool2d(kernel_size=2, stride=2, padding=0)\n",
    "        #Computing the out height\n",
    "        self.h3 = outSize(inSize = h2, kernelSize = kernelSizePool, stride=stridePool, padding=zeroPaddingPool)\n",
    "        self.fc1 = nn.Linear(int(self.outChannels * self.h3 * self.h3), 64) \n",
    "        self.fc2 = nn.Linear(64, 3)\n",
    "\n",
    "    def forward(self, x):\n",
    "        \"\"\"\n",
    "        Forward pass of the network\n",
    "        \"\"\"\n",
    "        x = F.relu(self.conv1(x))\n",
    "        x = self.pool(x)\n",
    "        #Flattening the convolution\n",
    "        x = x.view(-1, int(self.outChannels * self.h3 * self.h3))\n",
    "        x = F.relu(self.fc1(x))\n",
    "        x = self.fc2(x)\n",
    "        return x"
   ]
  },
  {
   "cell_type": "code",
   "execution_count": 5,
   "id": "5e75135b",
   "metadata": {},
   "outputs": [],
   "source": [
    "class ConvolutionalNetwork_2(nn.Module):\n",
    "    \"\"\"\n",
    "    A modified neural network with two convolutional layer, two batchnorm layers, one pooling layer and three fully connected layers\n",
    "    \n",
    "    \"\"\"\n",
    "    def __init__(self, greyScale):\n",
    "        super(ConvolutionalNetwork_2, self).__init__()\n",
    "        #deciding the input channels\n",
    "        if greyScale:\n",
    "            inChannels = 1\n",
    "        else:\n",
    "            inChannels = 3\n",
    "\n",
    "        #defining hyperparameters\n",
    "        kernelSize = 3\n",
    "        stride =  1\n",
    "        self.outChannels = 64\n",
    "        zeroPadding = 1\n",
    "        inSize = 32\n",
    "        kernelSizePool = 2\n",
    "        stridePool =  2\n",
    "        zeroPaddingPool = 0\n",
    "\n",
    "        #Initialising the layers\n",
    "        self.conv1 = nn.Conv2d(inChannels, 32, kernel_size=kernelSize, stride=stride, padding=zeroPadding)\n",
    "        #Computing the out height\n",
    "        h2 = outSize(inSize = inSize, kernelSize = 3, stride=1, padding=1)\n",
    "        self.batchNorm1 = nn.BatchNorm2d(32)\n",
    "        self.conv2 = nn.Conv2d(32, 64, kernel_size=kernelSize, stride=stride, padding=zeroPadding)\n",
    "        #Computing the out height\n",
    "        h3 = outSize(inSize = h2, kernelSize = 3, stride=1, padding=1)\n",
    "        self.batchNorm2 = nn.BatchNorm2d(64)\n",
    "        self.pool = nn.MaxPool2d(kernel_size=2, stride=2, padding=0)\n",
    "        #Computing the out height\n",
    "        self.h4 = outSize(inSize = h3, kernelSize = kernelSizePool, stride=stridePool, padding=zeroPaddingPool)\n",
    "        self.fc1 = nn.Linear(int(self.outChannels * self.h4 * self.h4), 32)  \n",
    "        self.fc2 = nn.Linear(32, 64)\n",
    "        self.fc3 = nn.Linear(64, 3)\n",
    "\n",
    "    def forward(self, x):\n",
    "        \"\"\"\n",
    "        Forward pass of the network\n",
    "        \"\"\"\n",
    "        x = F.relu(self.batchNorm1(self.conv1(x)))\n",
    "        x = F.relu(self.batchNorm2(self.conv2(x)))\n",
    "        x = self.pool(x)\n",
    "        #Flattening the convolution\n",
    "        x = x.view(-1, int(self.outChannels * self.h4 * self.h4))\n",
    "        x = F.relu(self.fc1(x))\n",
    "        x = F.relu(self.fc2(x))\n",
    "        x = self.fc3(x)\n",
    "        return x"
   ]
  },
  {
   "cell_type": "code",
   "execution_count": 6,
   "id": "203748f9",
   "metadata": {},
   "outputs": [],
   "source": [
    "def outSize(inSize, kernelSize, stride=1, padding=0):\n",
    "    \"\"\"This method Calculats the out size of layer by using the formula (N -F+2P)/S+1\"\"\"\n",
    "    return int((inSize - kernelSize + 2 * padding) / stride) + 1"
   ]
  },
  {
   "cell_type": "code",
   "execution_count": 7,
   "id": "fa5aeae7",
   "metadata": {},
   "outputs": [],
   "source": [
    "def createLossAndOptimizer(net, learningRate=0.001):\n",
    "    \"\"\"\n",
    "    This method defined the loss criteria and the optimiser\n",
    "    \"\"\"\n",
    "    criterion = nn.CrossEntropyLoss()  \n",
    "    optimizer = optim.Adam(net.parameters(), lr=learningRate)\n",
    "    return criterion, optimizer"
   ]
  },
  {
   "cell_type": "code",
   "execution_count": 8,
   "id": "5c1052b1",
   "metadata": {},
   "outputs": [],
   "source": [
    "def train(net, batchSize, nEpochs, learningRate, trainSet, valSet, device):\n",
    "    \"\"\"\n",
    "    Train a neural network and prints out its evolution during the training\n",
    "\n",
    "    Parameters:    \n",
    "        net: Convolutional neural network\n",
    "        batchSize: size of  the batch\n",
    "        nEpochs: (int)  Number of iterations on the training set\n",
    "        learningRate: (float) learning rate used by the optimizer\n",
    "    \"\"\"\n",
    "    print(\"\\n===== HYPERPARAMETERS =====\")\n",
    "    print(\"Batch Size = \", batchSize)\n",
    "    print(\"number of Epochs = \", nEpochs)\n",
    "    print(\"Learning Rate = \", learningRate)\n",
    "    print(\"=\" * 27)\n",
    "\n",
    "    #defining the loss criteria and optimiser\n",
    "    criterion, optimizer = createLossAndOptimizer(net, learningRate)\n",
    "    # initialisation of variables used to track record of loss\n",
    "    trainHistory = []\n",
    "    valHistory = []\n",
    "\n",
    "    #Track of best error to update the model\n",
    "    bestError = np.inf\n",
    "    bestModelPath = \"best_model.pth\"\n",
    "    \n",
    "    # Move model to gpu if possible\n",
    "    net = net.to(device)\n",
    "\n",
    "    for epoch in range(nEpochs):  # loop over the dataset multiple times\n",
    "\n",
    "        runningLoss = 0.0\n",
    "        # print_every = nMinibatches // 10\n",
    "        # start_time = time.time()\n",
    "        totalTrainLoss = 0\n",
    "        \n",
    "\n",
    "        \n",
    "        for inputs, labels in tqdm(trainSet):\n",
    "            \n",
    "\n",
    "            # Move tensors to correct device\n",
    "            inputs, labels = inputs.to(device), labels.to(device)\n",
    "\n",
    "            # zero the parameter gradients\n",
    "            optimizer.zero_grad()\n",
    "\n",
    "            # forward + backward + optimize\n",
    "            outputs = net(inputs)\n",
    "            loss = criterion(outputs, labels)\n",
    "            loss.backward()\n",
    "            optimizer.step()\n",
    "\n",
    "            # print statistics\n",
    "            runningLoss += loss.item()\n",
    "            totalTrainLoss += loss.item()\n",
    "\n",
    "\n",
    "        trainHistory.append(totalTrainLoss / len(trainSet))\n",
    "\n",
    "        totalValLoss = 0\n",
    "\n",
    "\n",
    "        # Do a pass on the validation set\n",
    "        # We don't need to compute gradient,\n",
    "        # we save memory and computation using th.no_grad()\n",
    "        with th.no_grad():\n",
    "          for inputs, labels in valSet:\n",
    "              # Move tensors to correct device\n",
    "              inputs, labels = inputs.to(device), labels.to(device)\n",
    "              # Forward pass\n",
    "              predictions = net(inputs)\n",
    "              valLoss = criterion(predictions, labels)\n",
    "              totalValLoss += valLoss.item()\n",
    "            \n",
    "        valHistory.append(totalValLoss / len(valSet))\n",
    "\n",
    "        # Save model that performs best on validation set\n",
    "        if totalValLoss < bestError:\n",
    "            bestError = totalValLoss\n",
    "            th.save(net.state_dict(), bestModelPath)\n",
    "\n",
    "        print(\"Epoch = \",epoch + 1, \", Training loss = {:.2f}\".format(totalTrainLoss / len(trainSet)), \", Validation loss = {:.2f}\".format(totalValLoss / len(valSet)))\n",
    "\n",
    "    \n",
    "    # Load best model\n",
    "    net.load_state_dict(th.load(bestModelPath))\n",
    "    \n",
    "    return trainHistory, valHistory"
   ]
  },
  {
   "cell_type": "code",
   "execution_count": 13,
   "id": "3302d895",
   "metadata": {},
   "outputs": [],
   "source": [
    "def evaluation(net, dataLoader, device,  plot_number, name=\"\"):\n",
    "    \"\"\"\n",
    "    This method takes the network and data compute the accuracy of model on the data\n",
    "    \"\"\"\n",
    "    print(\"Evaluation of the network on {} data\".format(name))\n",
    "    correct = 0\n",
    "    total = 0\n",
    "    label = []\n",
    "    predictions = []\n",
    "    for images, labels in tqdm(dataLoader):\n",
    "\n",
    "        images, labels = images.to(device), labels.to(device)\n",
    "\n",
    "        outputs = net(images)\n",
    "        _, predicted = th.max(outputs, 1)\n",
    "#         print(list(labels))\n",
    "#         print(list(predicted))\n",
    "        predictions += list(predicted)\n",
    "        label += list(labels)\n",
    "\n",
    "#         total += labels.size(0)\n",
    "#         correct += (predicted == labels).sum()\n",
    "#     accuracy = 100 * float(correct) / total\n",
    "#     print('Accuracy of the network on the {} {} images: {:.2f} %'.format(total, name, accuracy))\n",
    "\n",
    "    cm = confusion_matrix(label, predictions)\n",
    "    plt.figure(figsize=(5,5))\n",
    "    sns.heatmap(cm, annot = True, xticklabels=[\"Covid\", \"Normal\", \"pneumonia\"], yticklabels=[\"Covid\", \"Normal\", \"pneumonia\"])\n",
    "    plt.show()\n",
    "    print(\"Evaluation Report\")\n",
    "    print(classification_report(label, predictions))"
   ]
  },
  {
   "cell_type": "code",
   "execution_count": 10,
   "id": "56f3a309",
   "metadata": {},
   "outputs": [],
   "source": [
    "def testing(net, trainLoader, valLoader, testLoader, device):\n",
    "    \"\"\"\n",
    "    This method takes the training, validation and test data, calls the accuracy function to calculate accuracy of each data on the traind model\n",
    "    \"\"\"\n",
    "    evaluation(net, trainLoader, name = \"Training\",  device = device, plot_number=1)\n",
    "    evaluation(net, valLoader, name = \"Validation\",  device = device, plot_number=2)\n",
    "    evaluation(net, testLoader, name = \"Testing\",  device = device, plot_number=3)\n",
    "\n",
    "    "
   ]
  },
  {
   "cell_type": "code",
   "execution_count": 11,
   "id": "10e17059",
   "metadata": {},
   "outputs": [],
   "source": [
    "def plotLosses(trainHistory, valHistory, title):\n",
    "    \"\"\"\n",
    "    This method takes in the train history and the validation history on plot it\n",
    "    \"\"\"\n",
    "\n",
    "    x = np.arange(1, len(trainHistory) + 1)\n",
    "    plt.figure(figsize=(8, 6))\n",
    "    plt.plot(x, trainHistory, label=\"Training loss\", linewidth=2)\n",
    "    plt.plot(x, valHistory, label=\"Validation loss\", linewidth=2)\n",
    "    plt.xlabel('Epoch')\n",
    "    plt.ylabel('Loss')\n",
    "    plt.legend(loc='upper right')\n",
    "    plt.title(\"Evolution of the training and validation loss for \" + title)\n",
    "    plt.show()"
   ]
  },
  {
   "cell_type": "markdown",
   "id": "7a035a1c",
   "metadata": {},
   "source": [
    "# Model 1\n",
    "### Without Grey Scaling"
   ]
  },
  {
   "cell_type": "code",
   "execution_count": 16,
   "id": "058414cc",
   "metadata": {},
   "outputs": [
    {
     "name": "stdout",
     "output_type": "stream",
     "text": [
      "Press 1 if you want to use Model 1\n",
      "Press any other key if you want to use Model 2 : 1\n",
      "Enter 1 if you want to use convert channel of image to 1 otherwise press any other key : n\n",
      "\n",
      "===== HYPERPARAMETERS =====\n",
      "Batch Size =  100\n",
      "number of Epochs =  10\n",
      "Learning Rate =  0.001\n",
      "===========================\n"
     ]
    },
    {
     "name": "stderr",
     "output_type": "stream",
     "text": [
      "100%|██████████████████████████████████████████████████████████████████████████████████| 42/42 [02:49<00:00,  4.03s/it]\n"
     ]
    },
    {
     "name": "stdout",
     "output_type": "stream",
     "text": [
      "Epoch =  1 , Training loss = 0.64 , Validation loss = 0.36\n"
     ]
    },
    {
     "name": "stderr",
     "output_type": "stream",
     "text": [
      "100%|██████████████████████████████████████████████████████████████████████████████████| 42/42 [02:42<00:00,  3.86s/it]\n"
     ]
    },
    {
     "name": "stdout",
     "output_type": "stream",
     "text": [
      "Epoch =  2 , Training loss = 0.30 , Validation loss = 0.38\n"
     ]
    },
    {
     "name": "stderr",
     "output_type": "stream",
     "text": [
      "100%|██████████████████████████████████████████████████████████████████████████████████| 42/42 [02:40<00:00,  3.82s/it]\n"
     ]
    },
    {
     "name": "stdout",
     "output_type": "stream",
     "text": [
      "Epoch =  3 , Training loss = 0.24 , Validation loss = 0.23\n"
     ]
    },
    {
     "name": "stderr",
     "output_type": "stream",
     "text": [
      "100%|██████████████████████████████████████████████████████████████████████████████████| 42/42 [02:38<00:00,  3.77s/it]\n"
     ]
    },
    {
     "name": "stdout",
     "output_type": "stream",
     "text": [
      "Epoch =  4 , Training loss = 0.20 , Validation loss = 0.19\n"
     ]
    },
    {
     "name": "stderr",
     "output_type": "stream",
     "text": [
      "100%|██████████████████████████████████████████████████████████████████████████████████| 42/42 [02:42<00:00,  3.86s/it]\n"
     ]
    },
    {
     "name": "stdout",
     "output_type": "stream",
     "text": [
      "Epoch =  5 , Training loss = 0.18 , Validation loss = 0.19\n"
     ]
    },
    {
     "name": "stderr",
     "output_type": "stream",
     "text": [
      "100%|██████████████████████████████████████████████████████████████████████████████████| 42/42 [02:45<00:00,  3.95s/it]\n"
     ]
    },
    {
     "name": "stdout",
     "output_type": "stream",
     "text": [
      "Epoch =  6 , Training loss = 0.17 , Validation loss = 0.18\n"
     ]
    },
    {
     "name": "stderr",
     "output_type": "stream",
     "text": [
      "100%|██████████████████████████████████████████████████████████████████████████████████| 42/42 [02:42<00:00,  3.87s/it]\n"
     ]
    },
    {
     "name": "stdout",
     "output_type": "stream",
     "text": [
      "Epoch =  7 , Training loss = 0.17 , Validation loss = 0.18\n"
     ]
    },
    {
     "name": "stderr",
     "output_type": "stream",
     "text": [
      "100%|██████████████████████████████████████████████████████████████████████████████████| 42/42 [02:19<00:00,  3.33s/it]\n"
     ]
    },
    {
     "name": "stdout",
     "output_type": "stream",
     "text": [
      "Epoch =  8 , Training loss = 0.15 , Validation loss = 0.17\n"
     ]
    },
    {
     "name": "stderr",
     "output_type": "stream",
     "text": [
      "100%|██████████████████████████████████████████████████████████████████████████████████| 42/42 [03:00<00:00,  4.30s/it]\n"
     ]
    },
    {
     "name": "stdout",
     "output_type": "stream",
     "text": [
      "Epoch =  9 , Training loss = 0.16 , Validation loss = 0.19\n"
     ]
    },
    {
     "name": "stderr",
     "output_type": "stream",
     "text": [
      "100%|██████████████████████████████████████████████████████████████████████████████████| 42/42 [03:26<00:00,  4.91s/it]\n"
     ]
    },
    {
     "name": "stdout",
     "output_type": "stream",
     "text": [
      "Epoch =  10 , Training loss = 0.13 , Validation loss = 0.18\n"
     ]
    },
    {
     "data": {
      "image/png": "[encoded data removed]",
      "text/plain": [
       "<Figure size 576x432 with 1 Axes>"
      ]
     },
     "metadata": {
      "needs_background": "light"
     },
     "output_type": "display_data"
    },
    {
     "name": "stdout",
     "output_type": "stream",
     "text": [
      "\n",
      "Evaluation of the model...\n",
      "Evaluation of the network on Training data\n"
     ]
    },
    {
     "name": "stderr",
     "output_type": "stream",
     "text": [
      "100%|██████████████████████████████████████████████████████████████████████████████████| 42/42 [02:46<00:00,  3.95s/it]\n"
     ]
    },
    {
     "data": {
      "image/png": "[encoded data removed]",
      "text/plain": [
       "<Figure size 360x360 with 2 Axes>"
      ]
     },
     "metadata": {
      "needs_background": "light"
     },
     "output_type": "display_data"
    },
    {
     "name": "stdout",
     "output_type": "stream",
     "text": [
      "Evaluation Report\n",
      "              precision    recall  f1-score   support\n",
      "\n",
      "           0       0.96      0.91      0.94       367\n",
      "           1       0.95      0.91      0.93      1021\n",
      "           2       0.96      0.98      0.97      2728\n",
      "\n",
      "    accuracy                           0.96      4116\n",
      "   macro avg       0.96      0.93      0.95      4116\n",
      "weighted avg       0.96      0.96      0.96      4116\n",
      "\n",
      "Evaluation of the network on Validation data\n"
     ]
    },
    {
     "name": "stderr",
     "output_type": "stream",
     "text": [
      "100%|██████████████████████████████████████████████████████████████████████████████████| 11/11 [00:33<00:00,  3.05s/it]\n"
     ]
    },
    {
     "data": {
      "image/png": "[encoded data removed]",
      "text/plain": [
       "<Figure size 360x360 with 2 Axes>"
      ]
     },
     "metadata": {
      "needs_background": "light"
     },
     "output_type": "display_data"
    },
    {
     "name": "stdout",
     "output_type": "stream",
     "text": [
      "Evaluation Report\n",
      "              precision    recall  f1-score   support\n",
      "\n",
      "           0       0.98      0.85      0.91        93\n",
      "           1       0.89      0.91      0.90       245\n",
      "           2       0.95      0.96      0.96       690\n",
      "\n",
      "    accuracy                           0.94      1028\n",
      "   macro avg       0.94      0.91      0.92      1028\n",
      "weighted avg       0.94      0.94      0.94      1028\n",
      "\n",
      "Evaluation of the network on Testing data\n"
     ]
    },
    {
     "name": "stderr",
     "output_type": "stream",
     "text": [
      "100%|██████████████████████████████████████████████████████████████████████████████████| 13/13 [00:43<00:00,  3.33s/it]\n"
     ]
    },
    {
     "data": {
      "image/png": "[encoded data removed]",
      "text/plain": [
       "<Figure size 360x360 with 2 Axes>"
      ]
     },
     "metadata": {
      "needs_background": "light"
     },
     "output_type": "display_data"
    },
    {
     "name": "stdout",
     "output_type": "stream",
     "text": [
      "Evaluation Report\n",
      "              precision    recall  f1-score   support\n",
      "\n",
      "           0       0.97      0.89      0.93       116\n",
      "           1       0.92      0.92      0.92       317\n",
      "           2       0.96      0.97      0.96       855\n",
      "\n",
      "    accuracy                           0.95      1288\n",
      "   macro avg       0.95      0.93      0.94      1288\n",
      "weighted avg       0.95      0.95      0.95      1288\n",
      "\n"
     ]
    }
   ],
   "source": [
    "if __name__ == \"__main__\":\n",
    "    main()"
   ]
  },
  {
   "cell_type": "markdown",
   "id": "b42bee10",
   "metadata": {},
   "source": [
    "# Model 2\n",
    "### Without Grey Scaling"
   ]
  },
  {
   "cell_type": "code",
   "execution_count": 17,
   "id": "67896e95",
   "metadata": {},
   "outputs": [
    {
     "name": "stdout",
     "output_type": "stream",
     "text": [
      "Press 1 if you want to use Model 1\n",
      "Press any other key if you want to use Model 2 : 2\n",
      "Enter 1 if you want to use greyScale image otherwise press any other key : d\n",
      "\n",
      "===== HYPERPARAMETERS =====\n",
      "Batch Size =  100\n",
      "number of Epochs =  10\n",
      "Learning Rate =  0.001\n",
      "===========================\n"
     ]
    },
    {
     "name": "stderr",
     "output_type": "stream",
     "text": [
      "100%|██████████████████████████████████████████████████████████████████████████████████| 42/42 [02:24<00:00,  3.45s/it]\n"
     ]
    },
    {
     "name": "stdout",
     "output_type": "stream",
     "text": [
      "Epoch =  1 , Training loss = 0.45 , Validation loss = 0.24\n"
     ]
    },
    {
     "name": "stderr",
     "output_type": "stream",
     "text": [
      "100%|██████████████████████████████████████████████████████████████████████████████████| 42/42 [02:26<00:00,  3.48s/it]\n"
     ]
    },
    {
     "name": "stdout",
     "output_type": "stream",
     "text": [
      "Epoch =  2 , Training loss = 0.23 , Validation loss = 0.17\n"
     ]
    },
    {
     "name": "stderr",
     "output_type": "stream",
     "text": [
      "100%|██████████████████████████████████████████████████████████████████████████████████| 42/42 [02:23<00:00,  3.41s/it]\n"
     ]
    },
    {
     "name": "stdout",
     "output_type": "stream",
     "text": [
      "Epoch =  3 , Training loss = 0.18 , Validation loss = 0.16\n"
     ]
    },
    {
     "name": "stderr",
     "output_type": "stream",
     "text": [
      "100%|██████████████████████████████████████████████████████████████████████████████████| 42/42 [02:22<00:00,  3.40s/it]\n"
     ]
    },
    {
     "name": "stdout",
     "output_type": "stream",
     "text": [
      "Epoch =  4 , Training loss = 0.16 , Validation loss = 0.15\n"
     ]
    },
    {
     "name": "stderr",
     "output_type": "stream",
     "text": [
      "100%|██████████████████████████████████████████████████████████████████████████████████| 42/42 [02:22<00:00,  3.39s/it]\n"
     ]
    },
    {
     "name": "stdout",
     "output_type": "stream",
     "text": [
      "Epoch =  5 , Training loss = 0.16 , Validation loss = 0.14\n"
     ]
    },
    {
     "name": "stderr",
     "output_type": "stream",
     "text": [
      "100%|██████████████████████████████████████████████████████████████████████████████████| 42/42 [02:21<00:00,  3.37s/it]\n"
     ]
    },
    {
     "name": "stdout",
     "output_type": "stream",
     "text": [
      "Epoch =  6 , Training loss = 0.12 , Validation loss = 0.17\n"
     ]
    },
    {
     "name": "stderr",
     "output_type": "stream",
     "text": [
      "100%|██████████████████████████████████████████████████████████████████████████████████| 42/42 [02:21<00:00,  3.38s/it]\n"
     ]
    },
    {
     "name": "stdout",
     "output_type": "stream",
     "text": [
      "Epoch =  7 , Training loss = 0.12 , Validation loss = 0.14\n"
     ]
    },
    {
     "name": "stderr",
     "output_type": "stream",
     "text": [
      "100%|██████████████████████████████████████████████████████████████████████████████████| 42/42 [02:21<00:00,  3.38s/it]\n"
     ]
    },
    {
     "name": "stdout",
     "output_type": "stream",
     "text": [
      "Epoch =  8 , Training loss = 0.10 , Validation loss = 0.13\n"
     ]
    },
    {
     "name": "stderr",
     "output_type": "stream",
     "text": [
      "100%|██████████████████████████████████████████████████████████████████████████████████| 42/42 [02:22<00:00,  3.39s/it]\n"
     ]
    },
    {
     "name": "stdout",
     "output_type": "stream",
     "text": [
      "Epoch =  9 , Training loss = 0.09 , Validation loss = 0.14\n"
     ]
    },
    {
     "name": "stderr",
     "output_type": "stream",
     "text": [
      "100%|██████████████████████████████████████████████████████████████████████████████████| 42/42 [02:22<00:00,  3.40s/it]\n"
     ]
    },
    {
     "name": "stdout",
     "output_type": "stream",
     "text": [
      "Epoch =  10 , Training loss = 0.09 , Validation loss = 0.14\n"
     ]
    },
    {
     "data": {
      "image/png": "[encoded data removed]",
      "text/plain": [
       "<Figure size 576x432 with 1 Axes>"
      ]
     },
     "metadata": {
      "needs_background": "light"
     },
     "output_type": "display_data"
    },
    {
     "name": "stdout",
     "output_type": "stream",
     "text": [
      "\n",
      "Evaluation of the model...\n",
      "Evaluation of the network on Training data\n"
     ]
    },
    {
     "name": "stderr",
     "output_type": "stream",
     "text": [
      "100%|██████████████████████████████████████████████████████████████████████████████████| 42/42 [02:17<00:00,  3.27s/it]\n"
     ]
    },
    {
     "data": {
      "image/png": "[encoded data removed]",
      "text/plain": [
       "<Figure size 360x360 with 2 Axes>"
      ]
     },
     "metadata": {
      "needs_background": "light"
     },
     "output_type": "display_data"
    },
    {
     "name": "stdout",
     "output_type": "stream",
     "text": [
      "Evaluation Report\n",
      "              precision    recall  f1-score   support\n",
      "\n",
      "           0       0.98      0.99      0.99       367\n",
      "           1       0.93      0.96      0.94      1021\n",
      "           2       0.98      0.97      0.98      2728\n",
      "\n",
      "    accuracy                           0.97      4116\n",
      "   macro avg       0.96      0.97      0.97      4116\n",
      "weighted avg       0.97      0.97      0.97      4116\n",
      "\n",
      "Evaluation of the network on Validation data\n"
     ]
    },
    {
     "name": "stderr",
     "output_type": "stream",
     "text": [
      "100%|██████████████████████████████████████████████████████████████████████████████████| 11/11 [00:32<00:00,  2.99s/it]\n"
     ]
    },
    {
     "data": {
      "image/png": "[encoded data removed]",
      "text/plain": [
       "<Figure size 360x360 with 2 Axes>"
      ]
     },
     "metadata": {
      "needs_background": "light"
     },
     "output_type": "display_data"
    },
    {
     "name": "stdout",
     "output_type": "stream",
     "text": [
      "Evaluation Report\n",
      "              precision    recall  f1-score   support\n",
      "\n",
      "           0       0.97      0.95      0.96        93\n",
      "           1       0.87      0.93      0.90       245\n",
      "           2       0.97      0.95      0.96       690\n",
      "\n",
      "    accuracy                           0.95      1028\n",
      "   macro avg       0.94      0.94      0.94      1028\n",
      "weighted avg       0.95      0.95      0.95      1028\n",
      "\n",
      "Evaluation of the network on Testing data\n"
     ]
    },
    {
     "name": "stderr",
     "output_type": "stream",
     "text": [
      "100%|██████████████████████████████████████████████████████████████████████████████████| 13/13 [00:42<00:00,  3.28s/it]\n"
     ]
    },
    {
     "data": {
      "image/png": "[encoded data removed]",
      "text/plain": [
       "<Figure size 360x360 with 2 Axes>"
      ]
     },
     "metadata": {
      "needs_background": "light"
     },
     "output_type": "display_data"
    },
    {
     "name": "stdout",
     "output_type": "stream",
     "text": [
      "Evaluation Report\n",
      "              precision    recall  f1-score   support\n",
      "\n",
      "           0       0.97      0.97      0.97       116\n",
      "           1       0.88      0.94      0.91       317\n",
      "           2       0.98      0.95      0.96       855\n",
      "\n",
      "    accuracy                           0.95      1288\n",
      "   macro avg       0.94      0.95      0.95      1288\n",
      "weighted avg       0.95      0.95      0.95      1288\n",
      "\n"
     ]
    }
   ],
   "source": [
    "if __name__ == \"__main__\":\n",
    "    main()"
   ]
  }
 ],
 "metadata": {
  "kernelspec": {
   "display_name": "Python 3 (ipykernel)",
   "language": "python",
   "name": "python3"
  },
  "language_info": {
   "codemirror_mode": {
    "name": "ipython",
    "version": 3
   },
   "file_extension": ".py",
   "mimetype": "text/x-python",
   "name": "python",
   "nbconvert_exporter": "python",
   "pygments_lexer": "ipython3",
   "version": "3.7.9"
  }
 },
 "nbformat": 4,
 "nbformat_minor": 5
}
