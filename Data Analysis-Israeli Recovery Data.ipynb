{
 "cells": [
  {
   "cell_type": "code",
   "execution_count": 1,
   "id": "7a126dc4",
   "metadata": {},
   "outputs": [],
   "source": [
    "import pandas as pd\n",
    "import numpy as np\n",
    "from sklearn.cluster import KMeans\n",
    "from sklearn.metrics import classification_report, confusion_matrix, cluster, silhouette_samples, silhouette_score\n",
    "from sklearn.preprocessing import scale\n",
    "import matplotlib.pyplot as plt\n",
    "import matplotlib as mpl\n",
    "from matplotlib.ticker import FixedLocator, FixedFormatter\n",
    "from pylab import rcParams\n",
    "import seaborn as sns"
   ]
  },
  {
   "cell_type": "code",
   "execution_count": 2,
   "id": "2bc09de1",
   "metadata": {},
   "outputs": [],
   "source": [
    "data_dir = \"./../\"\n",
    "data = pd.read_excel(data_dir + \"corona_recovered_ver_00163.xlsx\")"
   ]
  },
  {
   "cell_type": "code",
   "execution_count": 3,
   "id": "0203c42f",
   "metadata": {},
   "outputs": [],
   "source": [
    "data.loc[data['days_between_pos_and_recovery'] > 28, 'Long Covid'] = 1\n",
    "data.loc[data['days_between_pos_and_recovery'] <= 28, 'Long Covid'] = 0"
   ]
  },
  {
   "cell_type": "code",
   "execution_count": 4,
   "id": "a9294d1d",
   "metadata": {},
   "outputs": [],
   "source": [
    "data.loc[data['gender'] == \"Male\", 'Male'] = 1\n",
    "data.loc[data['gender'] == \"Female\", 'Male'] = 0"
   ]
  },
  {
   "cell_type": "code",
   "execution_count": 5,
   "id": "2a66e77e",
   "metadata": {},
   "outputs": [],
   "source": [
    "# label = data[\"infectionProb\"]"
   ]
  },
  {
   "cell_type": "code",
   "execution_count": 6,
   "id": "7afac22c",
   "metadata": {},
   "outputs": [
    {
     "data": {
      "text/html": [
       "<div>\n",
       "<style scoped>\n",
       "    .dataframe tbody tr th:only-of-type {\n",
       "        vertical-align: middle;\n",
       "    }\n",
       "\n",
       "    .dataframe tbody tr th {\n",
       "        vertical-align: top;\n",
       "    }\n",
       "\n",
       "    .dataframe thead th {\n",
       "        text-align: right;\n",
       "    }\n",
       "</style>\n",
       "<table border=\"1\" class=\"dataframe\">\n",
       "  <thead>\n",
       "    <tr style=\"text-align: right;\">\n",
       "      <th></th>\n",
       "      <th>days_between_pos_and_recovery</th>\n",
       "      <th>total_tests_count</th>\n",
       "      <th>age_group</th>\n",
       "      <th>gender</th>\n",
       "      <th>test_indication</th>\n",
       "      <th>Long Covid</th>\n",
       "      <th>Male</th>\n",
       "    </tr>\n",
       "  </thead>\n",
       "  <tbody>\n",
       "    <tr>\n",
       "      <th>0</th>\n",
       "      <td>14.0</td>\n",
       "      <td>1</td>\n",
       "      <td>60+</td>\n",
       "      <td>Female</td>\n",
       "      <td>Contact with confirmed</td>\n",
       "      <td>0.0</td>\n",
       "      <td>0.0</td>\n",
       "    </tr>\n",
       "    <tr>\n",
       "      <th>1</th>\n",
       "      <td>9.0</td>\n",
       "      <td>1</td>\n",
       "      <td>30-39</td>\n",
       "      <td>Male</td>\n",
       "      <td>Contact with confirmed</td>\n",
       "      <td>0.0</td>\n",
       "      <td>1.0</td>\n",
       "    </tr>\n",
       "    <tr>\n",
       "      <th>2</th>\n",
       "      <td>10.0</td>\n",
       "      <td>1</td>\n",
       "      <td>0-19</td>\n",
       "      <td>Male</td>\n",
       "      <td>Contact with confirmed</td>\n",
       "      <td>0.0</td>\n",
       "      <td>1.0</td>\n",
       "    </tr>\n",
       "    <tr>\n",
       "      <th>3</th>\n",
       "      <td>91.0</td>\n",
       "      <td>1</td>\n",
       "      <td>50-59</td>\n",
       "      <td>Male</td>\n",
       "      <td>Contact with confirmed</td>\n",
       "      <td>1.0</td>\n",
       "      <td>1.0</td>\n",
       "    </tr>\n",
       "    <tr>\n",
       "      <th>4</th>\n",
       "      <td>11.0</td>\n",
       "      <td>1</td>\n",
       "      <td>60+</td>\n",
       "      <td>Female</td>\n",
       "      <td>Other</td>\n",
       "      <td>0.0</td>\n",
       "      <td>0.0</td>\n",
       "    </tr>\n",
       "    <tr>\n",
       "      <th>...</th>\n",
       "      <td>...</td>\n",
       "      <td>...</td>\n",
       "      <td>...</td>\n",
       "      <td>...</td>\n",
       "      <td>...</td>\n",
       "      <td>...</td>\n",
       "      <td>...</td>\n",
       "    </tr>\n",
       "    <tr>\n",
       "      <th>1001948</th>\n",
       "      <td>NaN</td>\n",
       "      <td>NaN</td>\n",
       "      <td>0-19</td>\n",
       "      <td>Male</td>\n",
       "      <td>Other</td>\n",
       "      <td>NaN</td>\n",
       "      <td>1.0</td>\n",
       "    </tr>\n",
       "    <tr>\n",
       "      <th>1001949</th>\n",
       "      <td>NaN</td>\n",
       "      <td>NaN</td>\n",
       "      <td>40-49</td>\n",
       "      <td>Male</td>\n",
       "      <td>Other</td>\n",
       "      <td>NaN</td>\n",
       "      <td>1.0</td>\n",
       "    </tr>\n",
       "    <tr>\n",
       "      <th>1001950</th>\n",
       "      <td>NaN</td>\n",
       "      <td>NaN</td>\n",
       "      <td>50-59</td>\n",
       "      <td>Male</td>\n",
       "      <td>Contact with confirmed</td>\n",
       "      <td>NaN</td>\n",
       "      <td>1.0</td>\n",
       "    </tr>\n",
       "    <tr>\n",
       "      <th>1001951</th>\n",
       "      <td>NaN</td>\n",
       "      <td>NaN</td>\n",
       "      <td>40-49</td>\n",
       "      <td>Female</td>\n",
       "      <td>Other</td>\n",
       "      <td>NaN</td>\n",
       "      <td>0.0</td>\n",
       "    </tr>\n",
       "    <tr>\n",
       "      <th>1001952</th>\n",
       "      <td>NaN</td>\n",
       "      <td>NaN</td>\n",
       "      <td>0-19</td>\n",
       "      <td>Female</td>\n",
       "      <td>Other</td>\n",
       "      <td>NaN</td>\n",
       "      <td>0.0</td>\n",
       "    </tr>\n",
       "  </tbody>\n",
       "</table>\n",
       "<p>1001953 rows × 7 columns</p>\n",
       "</div>"
      ],
      "text/plain": [
       "         days_between_pos_and_recovery total_tests_count age_group  gender  \\\n",
       "0                                 14.0                 1       60+  Female   \n",
       "1                                  9.0                 1     30-39    Male   \n",
       "2                                 10.0                 1      0-19    Male   \n",
       "3                                 91.0                 1     50-59    Male   \n",
       "4                                 11.0                 1       60+  Female   \n",
       "...                                ...               ...       ...     ...   \n",
       "1001948                            NaN               NaN      0-19    Male   \n",
       "1001949                            NaN               NaN     40-49    Male   \n",
       "1001950                            NaN               NaN     50-59    Male   \n",
       "1001951                            NaN               NaN     40-49  Female   \n",
       "1001952                            NaN               NaN      0-19  Female   \n",
       "\n",
       "                test_indication  Long Covid  Male  \n",
       "0        Contact with confirmed         0.0   0.0  \n",
       "1        Contact with confirmed         0.0   1.0  \n",
       "2        Contact with confirmed         0.0   1.0  \n",
       "3        Contact with confirmed         1.0   1.0  \n",
       "4                         Other         0.0   0.0  \n",
       "...                         ...         ...   ...  \n",
       "1001948                   Other         NaN   1.0  \n",
       "1001949                   Other         NaN   1.0  \n",
       "1001950  Contact with confirmed         NaN   1.0  \n",
       "1001951                   Other         NaN   0.0  \n",
       "1001952                   Other         NaN   0.0  \n",
       "\n",
       "[1001953 rows x 7 columns]"
      ]
     },
     "execution_count": 6,
     "metadata": {},
     "output_type": "execute_result"
    }
   ],
   "source": [
    "data"
   ]
  },
  {
   "cell_type": "code",
   "execution_count": 7,
   "id": "eef03b31",
   "metadata": {},
   "outputs": [
    {
     "ename": "KeyError",
     "evalue": "\"['infectionProb'] not found in axis\"",
     "output_type": "error",
     "traceback": [
      "\u001b[1;31m---------------------------------------------------------------------------\u001b[0m",
      "\u001b[1;31mKeyError\u001b[0m                                  Traceback (most recent call last)",
      "\u001b[1;32m~\\AppData\\Local\\Temp/ipykernel_7368/1391268313.py\u001b[0m in \u001b[0;36m<module>\u001b[1;34m\u001b[0m\n\u001b[1;32m----> 1\u001b[1;33m \u001b[0mdata1\u001b[0m \u001b[1;33m=\u001b[0m \u001b[0mdata\u001b[0m\u001b[1;33m.\u001b[0m\u001b[0mdrop\u001b[0m\u001b[1;33m(\u001b[0m\u001b[1;34m\"infectionProb\"\u001b[0m\u001b[1;33m,\u001b[0m \u001b[0maxis\u001b[0m\u001b[1;33m=\u001b[0m\u001b[1;36m1\u001b[0m\u001b[1;33m,\u001b[0m \u001b[0minplace\u001b[0m \u001b[1;33m=\u001b[0m \u001b[1;32mFalse\u001b[0m\u001b[1;33m)\u001b[0m\u001b[1;33m\u001b[0m\u001b[1;33m\u001b[0m\u001b[0m\n\u001b[0m",
      "\u001b[1;32mc:\\users\\ushou\\downloads\\data science and ai\\msc project\\project_venv\\lib\\site-packages\\pandas\\util\\_decorators.py\u001b[0m in \u001b[0;36mwrapper\u001b[1;34m(*args, **kwargs)\u001b[0m\n\u001b[0;32m    309\u001b[0m                     \u001b[0mstacklevel\u001b[0m\u001b[1;33m=\u001b[0m\u001b[0mstacklevel\u001b[0m\u001b[1;33m,\u001b[0m\u001b[1;33m\u001b[0m\u001b[1;33m\u001b[0m\u001b[0m\n\u001b[0;32m    310\u001b[0m                 )\n\u001b[1;32m--> 311\u001b[1;33m             \u001b[1;32mreturn\u001b[0m \u001b[0mfunc\u001b[0m\u001b[1;33m(\u001b[0m\u001b[1;33m*\u001b[0m\u001b[0margs\u001b[0m\u001b[1;33m,\u001b[0m \u001b[1;33m**\u001b[0m\u001b[0mkwargs\u001b[0m\u001b[1;33m)\u001b[0m\u001b[1;33m\u001b[0m\u001b[1;33m\u001b[0m\u001b[0m\n\u001b[0m\u001b[0;32m    312\u001b[0m \u001b[1;33m\u001b[0m\u001b[0m\n\u001b[0;32m    313\u001b[0m         \u001b[1;32mreturn\u001b[0m \u001b[0mwrapper\u001b[0m\u001b[1;33m\u001b[0m\u001b[1;33m\u001b[0m\u001b[0m\n",
      "\u001b[1;32mc:\\users\\ushou\\downloads\\data science and ai\\msc project\\project_venv\\lib\\site-packages\\pandas\\core\\frame.py\u001b[0m in \u001b[0;36mdrop\u001b[1;34m(self, labels, axis, index, columns, level, inplace, errors)\u001b[0m\n\u001b[0;32m   4911\u001b[0m             \u001b[0mlevel\u001b[0m\u001b[1;33m=\u001b[0m\u001b[0mlevel\u001b[0m\u001b[1;33m,\u001b[0m\u001b[1;33m\u001b[0m\u001b[1;33m\u001b[0m\u001b[0m\n\u001b[0;32m   4912\u001b[0m             \u001b[0minplace\u001b[0m\u001b[1;33m=\u001b[0m\u001b[0minplace\u001b[0m\u001b[1;33m,\u001b[0m\u001b[1;33m\u001b[0m\u001b[1;33m\u001b[0m\u001b[0m\n\u001b[1;32m-> 4913\u001b[1;33m             \u001b[0merrors\u001b[0m\u001b[1;33m=\u001b[0m\u001b[0merrors\u001b[0m\u001b[1;33m,\u001b[0m\u001b[1;33m\u001b[0m\u001b[1;33m\u001b[0m\u001b[0m\n\u001b[0m\u001b[0;32m   4914\u001b[0m         )\n\u001b[0;32m   4915\u001b[0m \u001b[1;33m\u001b[0m\u001b[0m\n",
      "\u001b[1;32mc:\\users\\ushou\\downloads\\data science and ai\\msc project\\project_venv\\lib\\site-packages\\pandas\\core\\generic.py\u001b[0m in \u001b[0;36mdrop\u001b[1;34m(self, labels, axis, index, columns, level, inplace, errors)\u001b[0m\n\u001b[0;32m   4148\u001b[0m         \u001b[1;32mfor\u001b[0m \u001b[0maxis\u001b[0m\u001b[1;33m,\u001b[0m \u001b[0mlabels\u001b[0m \u001b[1;32min\u001b[0m \u001b[0maxes\u001b[0m\u001b[1;33m.\u001b[0m\u001b[0mitems\u001b[0m\u001b[1;33m(\u001b[0m\u001b[1;33m)\u001b[0m\u001b[1;33m:\u001b[0m\u001b[1;33m\u001b[0m\u001b[1;33m\u001b[0m\u001b[0m\n\u001b[0;32m   4149\u001b[0m             \u001b[1;32mif\u001b[0m \u001b[0mlabels\u001b[0m \u001b[1;32mis\u001b[0m \u001b[1;32mnot\u001b[0m \u001b[1;32mNone\u001b[0m\u001b[1;33m:\u001b[0m\u001b[1;33m\u001b[0m\u001b[1;33m\u001b[0m\u001b[0m\n\u001b[1;32m-> 4150\u001b[1;33m                 \u001b[0mobj\u001b[0m \u001b[1;33m=\u001b[0m \u001b[0mobj\u001b[0m\u001b[1;33m.\u001b[0m\u001b[0m_drop_axis\u001b[0m\u001b[1;33m(\u001b[0m\u001b[0mlabels\u001b[0m\u001b[1;33m,\u001b[0m \u001b[0maxis\u001b[0m\u001b[1;33m,\u001b[0m \u001b[0mlevel\u001b[0m\u001b[1;33m=\u001b[0m\u001b[0mlevel\u001b[0m\u001b[1;33m,\u001b[0m \u001b[0merrors\u001b[0m\u001b[1;33m=\u001b[0m\u001b[0merrors\u001b[0m\u001b[1;33m)\u001b[0m\u001b[1;33m\u001b[0m\u001b[1;33m\u001b[0m\u001b[0m\n\u001b[0m\u001b[0;32m   4151\u001b[0m \u001b[1;33m\u001b[0m\u001b[0m\n\u001b[0;32m   4152\u001b[0m         \u001b[1;32mif\u001b[0m \u001b[0minplace\u001b[0m\u001b[1;33m:\u001b[0m\u001b[1;33m\u001b[0m\u001b[1;33m\u001b[0m\u001b[0m\n",
      "\u001b[1;32mc:\\users\\ushou\\downloads\\data science and ai\\msc project\\project_venv\\lib\\site-packages\\pandas\\core\\generic.py\u001b[0m in \u001b[0;36m_drop_axis\u001b[1;34m(self, labels, axis, level, errors)\u001b[0m\n\u001b[0;32m   4183\u001b[0m                 \u001b[0mnew_axis\u001b[0m \u001b[1;33m=\u001b[0m \u001b[0maxis\u001b[0m\u001b[1;33m.\u001b[0m\u001b[0mdrop\u001b[0m\u001b[1;33m(\u001b[0m\u001b[0mlabels\u001b[0m\u001b[1;33m,\u001b[0m \u001b[0mlevel\u001b[0m\u001b[1;33m=\u001b[0m\u001b[0mlevel\u001b[0m\u001b[1;33m,\u001b[0m \u001b[0merrors\u001b[0m\u001b[1;33m=\u001b[0m\u001b[0merrors\u001b[0m\u001b[1;33m)\u001b[0m\u001b[1;33m\u001b[0m\u001b[1;33m\u001b[0m\u001b[0m\n\u001b[0;32m   4184\u001b[0m             \u001b[1;32melse\u001b[0m\u001b[1;33m:\u001b[0m\u001b[1;33m\u001b[0m\u001b[1;33m\u001b[0m\u001b[0m\n\u001b[1;32m-> 4185\u001b[1;33m                 \u001b[0mnew_axis\u001b[0m \u001b[1;33m=\u001b[0m \u001b[0maxis\u001b[0m\u001b[1;33m.\u001b[0m\u001b[0mdrop\u001b[0m\u001b[1;33m(\u001b[0m\u001b[0mlabels\u001b[0m\u001b[1;33m,\u001b[0m \u001b[0merrors\u001b[0m\u001b[1;33m=\u001b[0m\u001b[0merrors\u001b[0m\u001b[1;33m)\u001b[0m\u001b[1;33m\u001b[0m\u001b[1;33m\u001b[0m\u001b[0m\n\u001b[0m\u001b[0;32m   4186\u001b[0m             \u001b[0mresult\u001b[0m \u001b[1;33m=\u001b[0m \u001b[0mself\u001b[0m\u001b[1;33m.\u001b[0m\u001b[0mreindex\u001b[0m\u001b[1;33m(\u001b[0m\u001b[1;33m**\u001b[0m\u001b[1;33m{\u001b[0m\u001b[0maxis_name\u001b[0m\u001b[1;33m:\u001b[0m \u001b[0mnew_axis\u001b[0m\u001b[1;33m}\u001b[0m\u001b[1;33m)\u001b[0m\u001b[1;33m\u001b[0m\u001b[1;33m\u001b[0m\u001b[0m\n\u001b[0;32m   4187\u001b[0m \u001b[1;33m\u001b[0m\u001b[0m\n",
      "\u001b[1;32mc:\\users\\ushou\\downloads\\data science and ai\\msc project\\project_venv\\lib\\site-packages\\pandas\\core\\indexes\\base.py\u001b[0m in \u001b[0;36mdrop\u001b[1;34m(self, labels, errors)\u001b[0m\n\u001b[0;32m   6015\u001b[0m         \u001b[1;32mif\u001b[0m \u001b[0mmask\u001b[0m\u001b[1;33m.\u001b[0m\u001b[0many\u001b[0m\u001b[1;33m(\u001b[0m\u001b[1;33m)\u001b[0m\u001b[1;33m:\u001b[0m\u001b[1;33m\u001b[0m\u001b[1;33m\u001b[0m\u001b[0m\n\u001b[0;32m   6016\u001b[0m             \u001b[1;32mif\u001b[0m \u001b[0merrors\u001b[0m \u001b[1;33m!=\u001b[0m \u001b[1;34m\"ignore\"\u001b[0m\u001b[1;33m:\u001b[0m\u001b[1;33m\u001b[0m\u001b[1;33m\u001b[0m\u001b[0m\n\u001b[1;32m-> 6017\u001b[1;33m                 \u001b[1;32mraise\u001b[0m \u001b[0mKeyError\u001b[0m\u001b[1;33m(\u001b[0m\u001b[1;34mf\"{labels[mask]} not found in axis\"\u001b[0m\u001b[1;33m)\u001b[0m\u001b[1;33m\u001b[0m\u001b[1;33m\u001b[0m\u001b[0m\n\u001b[0m\u001b[0;32m   6018\u001b[0m             \u001b[0mindexer\u001b[0m \u001b[1;33m=\u001b[0m \u001b[0mindexer\u001b[0m\u001b[1;33m[\u001b[0m\u001b[1;33m~\u001b[0m\u001b[0mmask\u001b[0m\u001b[1;33m]\u001b[0m\u001b[1;33m\u001b[0m\u001b[1;33m\u001b[0m\u001b[0m\n\u001b[0;32m   6019\u001b[0m         \u001b[1;32mreturn\u001b[0m \u001b[0mself\u001b[0m\u001b[1;33m.\u001b[0m\u001b[0mdelete\u001b[0m\u001b[1;33m(\u001b[0m\u001b[0mindexer\u001b[0m\u001b[1;33m)\u001b[0m\u001b[1;33m\u001b[0m\u001b[1;33m\u001b[0m\u001b[0m\n",
      "\u001b[1;31mKeyError\u001b[0m: \"['infectionProb'] not found in axis\""
     ]
    }
   ],
   "source": [
    "data1 = data.drop(\"infectionProb\", axis=1, inplace = False)"
   ]
  },
  {
   "cell_type": "markdown",
   "id": "b22836f6",
   "metadata": {},
   "source": [
    "# Data Visalisation"
   ]
  },
  {
   "cell_type": "code",
   "execution_count": 8,
   "id": "456b6c66",
   "metadata": {},
   "outputs": [
    {
     "data": {
      "text/plain": [
       "<AxesSubplot:xlabel='age_group', ylabel='count'>"
      ]
     },
     "execution_count": 8,
     "metadata": {},
     "output_type": "execute_result"
    },
    {
     "data": {
      "image/png": "[encoded data removed]",
      "text/plain": [
       "<Figure size 864x864 with 3 Axes>"
      ]
     },
     "metadata": {
      "needs_background": "light"
     },
     "output_type": "display_data"
    }
   ],
   "source": [
    "plt.figure(figsize=[12,12])\n",
    "plt.subplot(221)\n",
    "sns.countplot(x= \"Male\", data= data)\n",
    "plt.subplot(222)\n",
    "sns.countplot(x= \"Long Covid\", data= data)\n",
    "plt.subplot(223)\n",
    "sns.countplot(x= \"age_group\", data= data)"
   ]
  },
  {
   "cell_type": "code",
   "execution_count": 9,
   "id": "62517c87",
   "metadata": {},
   "outputs": [
    {
     "data": {
      "text/plain": [
       "<AxesSubplot:xlabel='age_group', ylabel='count'>"
      ]
     },
     "execution_count": 9,
     "metadata": {},
     "output_type": "execute_result"
    },
    {
     "data": {
      "image/png": "[encoded data removed]",
      "text/plain": [
       "<Figure size 864x864 with 2 Axes>"
      ]
     },
     "metadata": {
      "needs_background": "light"
     },
     "output_type": "display_data"
    }
   ],
   "source": [
    "plt.figure(figsize=[12,12])\n",
    "plt.subplot(211)\n",
    "sns.countplot(x= \"Male\",hue = \"Long Covid\",  data= data)\n",
    "plt.subplot(212)\n",
    "sns.countplot(x= \"age_group\",hue = \"Long Covid\",  data= data)"
   ]
  },
  {
   "cell_type": "code",
   "execution_count": 14,
   "id": "eb1994a8",
   "metadata": {},
   "outputs": [
    {
     "data": {
      "text/plain": [
       "<AxesSubplot:xlabel='Long Covid', ylabel='count'>"
      ]
     },
     "execution_count": 14,
     "metadata": {},
     "output_type": "execute_result"
    },
    {
     "data": {
      "image/png": "[encoded data removed]",
      "text/plain": [
       "<Figure size 432x288 with 1 Axes>"
      ]
     },
     "metadata": {
      "needs_background": "light"
     },
     "output_type": "display_data"
    }
   ],
   "source": [
    "# plt.figure(figsize=[12,12])\n",
    "# # plt.subplot(211)\n",
    "# # sns.countplot(x= \"Male\",  data= data)\n",
    "# # plt.subplot(221)\n",
    "sns.countplot(x= \"Long Covid\",hue = \"Male\",  data= data)"
   ]
  },
  {
   "cell_type": "code",
   "execution_count": 17,
   "id": "74d82d16",
   "metadata": {},
   "outputs": [
    {
     "data": {
      "text/plain": [
       "<seaborn.axisgrid.FacetGrid at 0x22e29ed45c8>"
      ]
     },
     "execution_count": 17,
     "metadata": {},
     "output_type": "execute_result"
    },
    {
     "data": {
      "image/png": "[encoded data removed]",
      "text/plain": [
       "<Figure size 360x360 with 1 Axes>"
      ]
     },
     "metadata": {
      "needs_background": "light"
     },
     "output_type": "display_data"
    }
   ],
   "source": [
    "sns.catplot(x=\"Male\", y=\"Long Covid\", kind='bar', data=data)"
   ]
  },
  {
   "cell_type": "code",
   "execution_count": 42,
   "id": "6bdbb3c6",
   "metadata": {},
   "outputs": [
    {
     "data": {
      "text/plain": [
       "<AxesSubplot:>"
      ]
     },
     "execution_count": 42,
     "metadata": {},
     "output_type": "execute_result"
    },
    {
     "data": {
      "image/png": "[encoded data removed]",
      "text/plain": [
       "<Figure size 864x864 with 2 Axes>"
      ]
     },
     "metadata": {
      "needs_background": "light"
     },
     "output_type": "display_data"
    }
   ],
   "source": [
    "plt.figure(figsize=[12,12])\n",
    "sns.heatmap(data.corr(), annot=True)"
   ]
  },
  {
   "cell_type": "markdown",
   "id": "9c8b004c",
   "metadata": {},
   "source": [
    "# Age 0-19"
   ]
  },
  {
   "cell_type": "code",
   "execution_count": 50,
   "id": "8c096c93",
   "metadata": {},
   "outputs": [],
   "source": [
    "age_0_19 = data[data[\"age_group\"]==\"0-19\"]"
   ]
  },
  {
   "cell_type": "code",
   "execution_count": 60,
   "id": "dec28c0d",
   "metadata": {},
   "outputs": [
    {
     "name": "stdout",
     "output_type": "stream",
     "text": [
      "Percentage of 0-19 age group people affected by Long covid 2.99 %\n"
     ]
    }
   ],
   "source": [
    "print(\"Percentage of 0-19 age group people affected by Long covid\",round(len(age_0_19[age_0_19[\"Long Covid\"]==1])/len(age_0_19)*100, 2), \"%\")"
   ]
  },
  {
   "cell_type": "markdown",
   "id": "0098fb14",
   "metadata": {},
   "source": [
    "# Age 20-29"
   ]
  },
  {
   "cell_type": "code",
   "execution_count": 61,
   "id": "fb621dd3",
   "metadata": {},
   "outputs": [],
   "source": [
    "age_20_29 = data[data[\"age_group\"]==\"20-29\"]"
   ]
  },
  {
   "cell_type": "code",
   "execution_count": 63,
   "id": "a52a9f13",
   "metadata": {},
   "outputs": [
    {
     "name": "stdout",
     "output_type": "stream",
     "text": [
      "Percentage of 20-29 age group people affected by Long covid 4.76 %\n"
     ]
    }
   ],
   "source": [
    "print(\"Percentage of 20-29 age group people affected by Long covid\",round(len(age_20_29[age_20_29[\"Long Covid\"]==1])/len(age_20_29)*100, 2), \"%\")"
   ]
  },
  {
   "cell_type": "markdown",
   "id": "a368ec32",
   "metadata": {},
   "source": [
    "# Age 30-39"
   ]
  },
  {
   "cell_type": "code",
   "execution_count": 64,
   "id": "957b8434",
   "metadata": {},
   "outputs": [],
   "source": [
    "age_30_39 = data[data[\"age_group\"]==\"30-39\"]"
   ]
  },
  {
   "cell_type": "code",
   "execution_count": 65,
   "id": "fc0bbb36",
   "metadata": {},
   "outputs": [
    {
     "name": "stdout",
     "output_type": "stream",
     "text": [
      "Percentage of 30-39 age group people affected by Long covid 4.9 %\n"
     ]
    }
   ],
   "source": [
    "print(\"Percentage of 30-39 age group people affected by Long covid\",round(len(age_30_39[age_30_39[\"Long Covid\"]==1])/len(age_30_39)*100, 2), \"%\")"
   ]
  },
  {
   "cell_type": "markdown",
   "id": "dff1b10b",
   "metadata": {},
   "source": [
    "# Age 40-49"
   ]
  },
  {
   "cell_type": "code",
   "execution_count": 66,
   "id": "48035889",
   "metadata": {},
   "outputs": [],
   "source": [
    "age_40_49 = data[data[\"age_group\"]==\"40-49\"]"
   ]
  },
  {
   "cell_type": "code",
   "execution_count": 67,
   "id": "033a82c5",
   "metadata": {},
   "outputs": [
    {
     "name": "stdout",
     "output_type": "stream",
     "text": [
      "Percentage of 40-49 age group people affected by Long covid 5.12 %\n"
     ]
    }
   ],
   "source": [
    "print(\"Percentage of 40-49 age group people affected by Long covid\",round(len(age_40_49[age_40_49[\"Long Covid\"]==1])/len(age_40_49)*100, 2), \"%\")"
   ]
  },
  {
   "cell_type": "markdown",
   "id": "680f4384",
   "metadata": {},
   "source": [
    "# Age 50-59"
   ]
  },
  {
   "cell_type": "code",
   "execution_count": 68,
   "id": "0cb3cc7e",
   "metadata": {},
   "outputs": [],
   "source": [
    "age_50_59 = data[data[\"age_group\"]==\"50-59\"]"
   ]
  },
  {
   "cell_type": "code",
   "execution_count": 69,
   "id": "d564a6c5",
   "metadata": {},
   "outputs": [
    {
     "name": "stdout",
     "output_type": "stream",
     "text": [
      "Percentage of 50-59 age group people affected by Long covid 6.17 %\n"
     ]
    }
   ],
   "source": [
    "print(\"Percentage of 50-59 age group people affected by Long covid\",round(len(age_50_59[age_50_59[\"Long Covid\"]==1])/len(age_50_59)*100, 2), \"%\")"
   ]
  },
  {
   "cell_type": "markdown",
   "id": "02b1d83f",
   "metadata": {},
   "source": [
    "# Age 60+"
   ]
  },
  {
   "cell_type": "code",
   "execution_count": 70,
   "id": "2608b23f",
   "metadata": {},
   "outputs": [],
   "source": [
    "age_60_above = data[data[\"age_group\"]==\"60+\"]"
   ]
  },
  {
   "cell_type": "code",
   "execution_count": 71,
   "id": "35e9e674",
   "metadata": {},
   "outputs": [
    {
     "name": "stdout",
     "output_type": "stream",
     "text": [
      "Percentage of 60+ age group people affected by Long covid 11.98 %\n"
     ]
    }
   ],
   "source": [
    "print(\"Percentage of 60+ age group people affected by Long covid\",round(len(age_60_above[age_60_above[\"Long Covid\"]==1])/len(age_60_above)*100, 2), \"%\")"
   ]
  },
  {
   "cell_type": "code",
   "execution_count": 76,
   "id": "c77a9cb2",
   "metadata": {},
   "outputs": [
    {
     "data": {
      "text/plain": [
       "Text(0, 0.5, 'Percentage having Long Covid')"
      ]
     },
     "execution_count": 76,
     "metadata": {},
     "output_type": "execute_result"
    },
    {
     "data": {
      "image/png": "[encoded data removed]",
      "text/plain": [
       "<Figure size 432x288 with 1 Axes>"
      ]
     },
     "metadata": {
      "needs_background": "light"
     },
     "output_type": "display_data"
    }
   ],
   "source": [
    "plt.bar([\"0-19\", \"20-29\", \"30-39\", \"40-49\", \"50-59\", \"60+\"],[len(age_0_19[age_0_19[\"Long Covid\"]==1])/len(age_0_19)*100, len(age_20_29[age_20_29[\"Long Covid\"]==1])/len(age_20_29)*100, len(age_30_39[age_30_39[\"Long Covid\"]==1])/len(age_30_39)*100, len(age_40_49[age_40_49[\"Long Covid\"]==1])/len(age_40_49)*100, len(age_50_59[age_50_59[\"Long Covid\"]==1])/len(age_50_59)*100,  len(age_60_above[age_60_above[\"Long Covid\"]==1])/len(age_60_above)*100])\n",
    "plt.xlabel(\"Age Group\")\n",
    "plt.ylabel(\"Percentage having Long Covid\")"
   ]
  },
  {
   "cell_type": "code",
   "execution_count": null,
   "id": "a18a733a",
   "metadata": {},
   "outputs": [],
   "source": []
  }
 ],
 "metadata": {
  "kernelspec": {
   "display_name": "Python 3 (ipykernel)",
   "language": "python",
   "name": "python3"
  },
  "language_info": {
   "codemirror_mode": {
    "name": "ipython",
    "version": 3
   },
   "file_extension": ".py",
   "mimetype": "text/x-python",
   "name": "python",
   "nbconvert_exporter": "python",
   "pygments_lexer": "ipython3",
   "version": "3.7.9"
  }
 },
 "nbformat": 4,
 "nbformat_minor": 5
}
