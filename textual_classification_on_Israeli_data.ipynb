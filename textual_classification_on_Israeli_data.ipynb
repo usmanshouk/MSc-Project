{
 "cells": [
  {
   "cell_type": "code",
   "execution_count": 3,
   "id": "c963a91b",
   "metadata": {},
   "outputs": [],
   "source": [
    "from sklearn.preprocessing import scale\n",
    "from sklearn.cluster import KMeans\n",
    "from sklearn.model_selection import train_test_split\n",
    "from sklearn.svm import SVC\n",
    "import pandas as pd\n",
    "import numpy as np\n",
    "from sklearn.metrics import confusion_matrix, classification_report\n",
    "import seaborn as sns\n",
    "from sklearn.linear_model import LogisticRegression\n",
    "from sklearn.neighbors import KNeighborsClassifier as KNN\n",
    "from sklearn.linear_model import Perceptron\n"
   ]
  },
  {
   "cell_type": "code",
   "execution_count": 4,
   "id": "13907cc5",
   "metadata": {},
   "outputs": [],
   "source": [
    "data_dir = \"./../\"\n",
    "data = pd.read_excel(data_dir + \"corona_tested_individuals_subset_ver_00132.xlsx\")"
   ]
  },
  {
   "cell_type": "code",
   "execution_count": 32,
   "id": "5bc30512",
   "metadata": {},
   "outputs": [
    {
     "data": {
      "text/html": [
       "<div>\n",
       "<style scoped>\n",
       "    .dataframe tbody tr th:only-of-type {\n",
       "        vertical-align: middle;\n",
       "    }\n",
       "\n",
       "    .dataframe tbody tr th {\n",
       "        vertical-align: top;\n",
       "    }\n",
       "\n",
       "    .dataframe thead th {\n",
       "        text-align: right;\n",
       "    }\n",
       "</style>\n",
       "<table border=\"1\" class=\"dataframe\">\n",
       "  <thead>\n",
       "    <tr style=\"text-align: right;\">\n",
       "      <th></th>\n",
       "      <th>test_date</th>\n",
       "      <th>cough</th>\n",
       "      <th>fever</th>\n",
       "      <th>sore_throat</th>\n",
       "      <th>shortness_of_breath</th>\n",
       "      <th>head_ache</th>\n",
       "      <th>corona_result</th>\n",
       "      <th>age_60_and_above</th>\n",
       "      <th>gender</th>\n",
       "      <th>test_indication</th>\n",
       "      <th>sixty_above</th>\n",
       "      <th>male</th>\n",
       "    </tr>\n",
       "  </thead>\n",
       "  <tbody>\n",
       "    <tr>\n",
       "      <th>0</th>\n",
       "      <td>2021-09-02</td>\n",
       "      <td>0</td>\n",
       "      <td>0</td>\n",
       "      <td>0</td>\n",
       "      <td>0</td>\n",
       "      <td>0</td>\n",
       "      <td>Positive</td>\n",
       "      <td>No</td>\n",
       "      <td>Female</td>\n",
       "      <td>Other</td>\n",
       "      <td>0.0</td>\n",
       "      <td>0.0</td>\n",
       "    </tr>\n",
       "    <tr>\n",
       "      <th>1</th>\n",
       "      <td>2021-09-02</td>\n",
       "      <td>0</td>\n",
       "      <td>0</td>\n",
       "      <td>0</td>\n",
       "      <td>0</td>\n",
       "      <td>0</td>\n",
       "      <td>Positive</td>\n",
       "      <td>No</td>\n",
       "      <td>Female</td>\n",
       "      <td>Other</td>\n",
       "      <td>0.0</td>\n",
       "      <td>0.0</td>\n",
       "    </tr>\n",
       "    <tr>\n",
       "      <th>2</th>\n",
       "      <td>2021-09-02</td>\n",
       "      <td>0</td>\n",
       "      <td>0</td>\n",
       "      <td>0</td>\n",
       "      <td>0</td>\n",
       "      <td>0</td>\n",
       "      <td>Negative</td>\n",
       "      <td>No</td>\n",
       "      <td>Female</td>\n",
       "      <td>Other</td>\n",
       "      <td>0.0</td>\n",
       "      <td>0.0</td>\n",
       "    </tr>\n",
       "    <tr>\n",
       "      <th>3</th>\n",
       "      <td>2021-09-02</td>\n",
       "      <td>0</td>\n",
       "      <td>0</td>\n",
       "      <td>0</td>\n",
       "      <td>0</td>\n",
       "      <td>0</td>\n",
       "      <td>Negative</td>\n",
       "      <td>No</td>\n",
       "      <td>Male</td>\n",
       "      <td>Other</td>\n",
       "      <td>0.0</td>\n",
       "      <td>1.0</td>\n",
       "    </tr>\n",
       "    <tr>\n",
       "      <th>4</th>\n",
       "      <td>2021-09-02</td>\n",
       "      <td>0</td>\n",
       "      <td>0</td>\n",
       "      <td>0</td>\n",
       "      <td>0</td>\n",
       "      <td>0</td>\n",
       "      <td>Positive</td>\n",
       "      <td>No</td>\n",
       "      <td>Male</td>\n",
       "      <td>Other</td>\n",
       "      <td>0.0</td>\n",
       "      <td>1.0</td>\n",
       "    </tr>\n",
       "    <tr>\n",
       "      <th>...</th>\n",
       "      <td>...</td>\n",
       "      <td>...</td>\n",
       "      <td>...</td>\n",
       "      <td>...</td>\n",
       "      <td>...</td>\n",
       "      <td>...</td>\n",
       "      <td>...</td>\n",
       "      <td>...</td>\n",
       "      <td>...</td>\n",
       "      <td>...</td>\n",
       "      <td>...</td>\n",
       "      <td>...</td>\n",
       "    </tr>\n",
       "    <tr>\n",
       "      <th>224725</th>\n",
       "      <td>2021-08-22</td>\n",
       "      <td>1</td>\n",
       "      <td>1</td>\n",
       "      <td>0</td>\n",
       "      <td>0</td>\n",
       "      <td>0</td>\n",
       "      <td>Negative</td>\n",
       "      <td>No</td>\n",
       "      <td>Male</td>\n",
       "      <td>Contact with confirmed</td>\n",
       "      <td>0.0</td>\n",
       "      <td>1.0</td>\n",
       "    </tr>\n",
       "    <tr>\n",
       "      <th>224726</th>\n",
       "      <td>2021-08-22</td>\n",
       "      <td>1</td>\n",
       "      <td>0</td>\n",
       "      <td>0</td>\n",
       "      <td>0</td>\n",
       "      <td>0</td>\n",
       "      <td>Negative</td>\n",
       "      <td>No</td>\n",
       "      <td>Female</td>\n",
       "      <td>Other</td>\n",
       "      <td>0.0</td>\n",
       "      <td>0.0</td>\n",
       "    </tr>\n",
       "    <tr>\n",
       "      <th>224727</th>\n",
       "      <td>2021-08-22</td>\n",
       "      <td>0</td>\n",
       "      <td>0</td>\n",
       "      <td>0</td>\n",
       "      <td>0</td>\n",
       "      <td>0</td>\n",
       "      <td>Negative</td>\n",
       "      <td>No</td>\n",
       "      <td>Female</td>\n",
       "      <td>Other</td>\n",
       "      <td>0.0</td>\n",
       "      <td>0.0</td>\n",
       "    </tr>\n",
       "    <tr>\n",
       "      <th>224728</th>\n",
       "      <td>2021-08-22</td>\n",
       "      <td>0</td>\n",
       "      <td>0</td>\n",
       "      <td>0</td>\n",
       "      <td>0</td>\n",
       "      <td>0</td>\n",
       "      <td>Positive</td>\n",
       "      <td>No</td>\n",
       "      <td>Male</td>\n",
       "      <td>Contact with confirmed</td>\n",
       "      <td>0.0</td>\n",
       "      <td>1.0</td>\n",
       "    </tr>\n",
       "    <tr>\n",
       "      <th>224729</th>\n",
       "      <td>2021-08-22</td>\n",
       "      <td>0</td>\n",
       "      <td>0</td>\n",
       "      <td>0</td>\n",
       "      <td>0</td>\n",
       "      <td>0</td>\n",
       "      <td>Positive</td>\n",
       "      <td>No</td>\n",
       "      <td>Male</td>\n",
       "      <td>Other</td>\n",
       "      <td>0.0</td>\n",
       "      <td>1.0</td>\n",
       "    </tr>\n",
       "  </tbody>\n",
       "</table>\n",
       "<p>224730 rows × 12 columns</p>\n",
       "</div>"
      ],
      "text/plain": [
       "        test_date  cough  fever  sore_throat  shortness_of_breath  head_ache  \\\n",
       "0      2021-09-02      0      0            0                    0          0   \n",
       "1      2021-09-02      0      0            0                    0          0   \n",
       "2      2021-09-02      0      0            0                    0          0   \n",
       "3      2021-09-02      0      0            0                    0          0   \n",
       "4      2021-09-02      0      0            0                    0          0   \n",
       "...           ...    ...    ...          ...                  ...        ...   \n",
       "224725 2021-08-22      1      1            0                    0          0   \n",
       "224726 2021-08-22      1      0            0                    0          0   \n",
       "224727 2021-08-22      0      0            0                    0          0   \n",
       "224728 2021-08-22      0      0            0                    0          0   \n",
       "224729 2021-08-22      0      0            0                    0          0   \n",
       "\n",
       "       corona_result age_60_and_above  gender         test_indication  \\\n",
       "0           Positive               No  Female                   Other   \n",
       "1           Positive               No  Female                   Other   \n",
       "2           Negative               No  Female                   Other   \n",
       "3           Negative               No    Male                   Other   \n",
       "4           Positive               No    Male                   Other   \n",
       "...              ...              ...     ...                     ...   \n",
       "224725      Negative               No    Male  Contact with confirmed   \n",
       "224726      Negative               No  Female                   Other   \n",
       "224727      Negative               No  Female                   Other   \n",
       "224728      Positive               No    Male  Contact with confirmed   \n",
       "224729      Positive               No    Male                   Other   \n",
       "\n",
       "        sixty_above  male  \n",
       "0               0.0   0.0  \n",
       "1               0.0   0.0  \n",
       "2               0.0   0.0  \n",
       "3               0.0   1.0  \n",
       "4               0.0   1.0  \n",
       "...             ...   ...  \n",
       "224725          0.0   1.0  \n",
       "224726          0.0   0.0  \n",
       "224727          0.0   0.0  \n",
       "224728          0.0   1.0  \n",
       "224729          0.0   1.0  \n",
       "\n",
       "[224730 rows x 12 columns]"
      ]
     },
     "execution_count": 32,
     "metadata": {},
     "output_type": "execute_result"
    }
   ],
   "source": [
    "data"
   ]
  },
  {
   "cell_type": "code",
   "execution_count": 33,
   "id": "d8a05cf0",
   "metadata": {},
   "outputs": [],
   "source": [
    "data.loc[data['corona_result'] == \"Positive\", 'result'] = 1\n",
    "data.loc[data['corona_result'] == \"Negative\", 'result'] = 0"
   ]
  },
  {
   "cell_type": "code",
   "execution_count": 34,
   "id": "8ea4d0bc",
   "metadata": {},
   "outputs": [],
   "source": [
    "data.loc[data['age_60_and_above'] == \"Yes\", 'sixty_above'] = 1\n",
    "data.loc[data['age_60_and_above'] == \"No\", 'sixty_above'] = 0"
   ]
  },
  {
   "cell_type": "code",
   "execution_count": 35,
   "id": "cfcc52bc",
   "metadata": {},
   "outputs": [],
   "source": [
    "data.loc[data['gender'] == \"Male\", 'male'] = 1\n",
    "data.loc[data['gender'] == \"Female\", 'male'] = 0"
   ]
  },
  {
   "cell_type": "code",
   "execution_count": 36,
   "id": "86ebeadd",
   "metadata": {},
   "outputs": [],
   "source": [
    "data1 = data.drop([\"corona_result\", \"age_60_and_above\", \"gender\", \"test_indication\", \"test_date\"], axis = 1)"
   ]
  },
  {
   "cell_type": "code",
   "execution_count": 37,
   "id": "78c3bb7c",
   "metadata": {},
   "outputs": [
    {
     "data": {
      "text/html": [
       "<div>\n",
       "<style scoped>\n",
       "    .dataframe tbody tr th:only-of-type {\n",
       "        vertical-align: middle;\n",
       "    }\n",
       "\n",
       "    .dataframe tbody tr th {\n",
       "        vertical-align: top;\n",
       "    }\n",
       "\n",
       "    .dataframe thead th {\n",
       "        text-align: right;\n",
       "    }\n",
       "</style>\n",
       "<table border=\"1\" class=\"dataframe\">\n",
       "  <thead>\n",
       "    <tr style=\"text-align: right;\">\n",
       "      <th></th>\n",
       "      <th>cough</th>\n",
       "      <th>fever</th>\n",
       "      <th>sore_throat</th>\n",
       "      <th>shortness_of_breath</th>\n",
       "      <th>head_ache</th>\n",
       "      <th>sixty_above</th>\n",
       "      <th>male</th>\n",
       "      <th>result</th>\n",
       "    </tr>\n",
       "  </thead>\n",
       "  <tbody>\n",
       "    <tr>\n",
       "      <th>0</th>\n",
       "      <td>0</td>\n",
       "      <td>0</td>\n",
       "      <td>0</td>\n",
       "      <td>0</td>\n",
       "      <td>0</td>\n",
       "      <td>0.0</td>\n",
       "      <td>0.0</td>\n",
       "      <td>1.0</td>\n",
       "    </tr>\n",
       "    <tr>\n",
       "      <th>1</th>\n",
       "      <td>0</td>\n",
       "      <td>0</td>\n",
       "      <td>0</td>\n",
       "      <td>0</td>\n",
       "      <td>0</td>\n",
       "      <td>0.0</td>\n",
       "      <td>0.0</td>\n",
       "      <td>1.0</td>\n",
       "    </tr>\n",
       "    <tr>\n",
       "      <th>2</th>\n",
       "      <td>0</td>\n",
       "      <td>0</td>\n",
       "      <td>0</td>\n",
       "      <td>0</td>\n",
       "      <td>0</td>\n",
       "      <td>0.0</td>\n",
       "      <td>0.0</td>\n",
       "      <td>0.0</td>\n",
       "    </tr>\n",
       "    <tr>\n",
       "      <th>3</th>\n",
       "      <td>0</td>\n",
       "      <td>0</td>\n",
       "      <td>0</td>\n",
       "      <td>0</td>\n",
       "      <td>0</td>\n",
       "      <td>0.0</td>\n",
       "      <td>1.0</td>\n",
       "      <td>0.0</td>\n",
       "    </tr>\n",
       "    <tr>\n",
       "      <th>4</th>\n",
       "      <td>0</td>\n",
       "      <td>0</td>\n",
       "      <td>0</td>\n",
       "      <td>0</td>\n",
       "      <td>0</td>\n",
       "      <td>0.0</td>\n",
       "      <td>1.0</td>\n",
       "      <td>1.0</td>\n",
       "    </tr>\n",
       "    <tr>\n",
       "      <th>...</th>\n",
       "      <td>...</td>\n",
       "      <td>...</td>\n",
       "      <td>...</td>\n",
       "      <td>...</td>\n",
       "      <td>...</td>\n",
       "      <td>...</td>\n",
       "      <td>...</td>\n",
       "      <td>...</td>\n",
       "    </tr>\n",
       "    <tr>\n",
       "      <th>224725</th>\n",
       "      <td>1</td>\n",
       "      <td>1</td>\n",
       "      <td>0</td>\n",
       "      <td>0</td>\n",
       "      <td>0</td>\n",
       "      <td>0.0</td>\n",
       "      <td>1.0</td>\n",
       "      <td>0.0</td>\n",
       "    </tr>\n",
       "    <tr>\n",
       "      <th>224726</th>\n",
       "      <td>1</td>\n",
       "      <td>0</td>\n",
       "      <td>0</td>\n",
       "      <td>0</td>\n",
       "      <td>0</td>\n",
       "      <td>0.0</td>\n",
       "      <td>0.0</td>\n",
       "      <td>0.0</td>\n",
       "    </tr>\n",
       "    <tr>\n",
       "      <th>224727</th>\n",
       "      <td>0</td>\n",
       "      <td>0</td>\n",
       "      <td>0</td>\n",
       "      <td>0</td>\n",
       "      <td>0</td>\n",
       "      <td>0.0</td>\n",
       "      <td>0.0</td>\n",
       "      <td>0.0</td>\n",
       "    </tr>\n",
       "    <tr>\n",
       "      <th>224728</th>\n",
       "      <td>0</td>\n",
       "      <td>0</td>\n",
       "      <td>0</td>\n",
       "      <td>0</td>\n",
       "      <td>0</td>\n",
       "      <td>0.0</td>\n",
       "      <td>1.0</td>\n",
       "      <td>1.0</td>\n",
       "    </tr>\n",
       "    <tr>\n",
       "      <th>224729</th>\n",
       "      <td>0</td>\n",
       "      <td>0</td>\n",
       "      <td>0</td>\n",
       "      <td>0</td>\n",
       "      <td>0</td>\n",
       "      <td>0.0</td>\n",
       "      <td>1.0</td>\n",
       "      <td>1.0</td>\n",
       "    </tr>\n",
       "  </tbody>\n",
       "</table>\n",
       "<p>224730 rows × 8 columns</p>\n",
       "</div>"
      ],
      "text/plain": [
       "        cough  fever  sore_throat  shortness_of_breath  head_ache  \\\n",
       "0           0      0            0                    0          0   \n",
       "1           0      0            0                    0          0   \n",
       "2           0      0            0                    0          0   \n",
       "3           0      0            0                    0          0   \n",
       "4           0      0            0                    0          0   \n",
       "...       ...    ...          ...                  ...        ...   \n",
       "224725      1      1            0                    0          0   \n",
       "224726      1      0            0                    0          0   \n",
       "224727      0      0            0                    0          0   \n",
       "224728      0      0            0                    0          0   \n",
       "224729      0      0            0                    0          0   \n",
       "\n",
       "        sixty_above  male  result  \n",
       "0               0.0   0.0     1.0  \n",
       "1               0.0   0.0     1.0  \n",
       "2               0.0   0.0     0.0  \n",
       "3               0.0   1.0     0.0  \n",
       "4               0.0   1.0     1.0  \n",
       "...             ...   ...     ...  \n",
       "224725          0.0   1.0     0.0  \n",
       "224726          0.0   0.0     0.0  \n",
       "224727          0.0   0.0     0.0  \n",
       "224728          0.0   1.0     1.0  \n",
       "224729          0.0   1.0     1.0  \n",
       "\n",
       "[224730 rows x 8 columns]"
      ]
     },
     "execution_count": 37,
     "metadata": {},
     "output_type": "execute_result"
    }
   ],
   "source": [
    "data1"
   ]
  },
  {
   "cell_type": "code",
   "execution_count": 38,
   "id": "f43ffd63",
   "metadata": {},
   "outputs": [],
   "source": [
    "data1.dropna(axis=0, inplace = True)"
   ]
  },
  {
   "cell_type": "code",
   "execution_count": null,
   "id": "3528ff9e",
   "metadata": {},
   "outputs": [],
   "source": []
  },
  {
   "cell_type": "code",
   "execution_count": null,
   "id": "e80665ae",
   "metadata": {},
   "outputs": [],
   "source": []
  },
  {
   "cell_type": "code",
   "execution_count": null,
   "id": "5afaedac",
   "metadata": {},
   "outputs": [],
   "source": []
  },
  {
   "cell_type": "code",
   "execution_count": null,
   "id": "e09f9471",
   "metadata": {},
   "outputs": [],
   "source": []
  },
  {
   "cell_type": "code",
   "execution_count": 39,
   "id": "7fe2b954",
   "metadata": {},
   "outputs": [],
   "source": [
    "label = data1[\"result\"]"
   ]
  },
  {
   "cell_type": "code",
   "execution_count": 40,
   "id": "f5689264",
   "metadata": {},
   "outputs": [
    {
     "data": {
      "text/plain": [
       "0         1.0\n",
       "1         1.0\n",
       "2         0.0\n",
       "3         0.0\n",
       "4         1.0\n",
       "         ... \n",
       "224725    0.0\n",
       "224726    0.0\n",
       "224727    0.0\n",
       "224728    1.0\n",
       "224729    1.0\n",
       "Name: result, Length: 186082, dtype: float64"
      ]
     },
     "execution_count": 40,
     "metadata": {},
     "output_type": "execute_result"
    }
   ],
   "source": [
    "label"
   ]
  },
  {
   "cell_type": "code",
   "execution_count": 41,
   "id": "229e31a1",
   "metadata": {},
   "outputs": [],
   "source": [
    "data1.drop(\"result\", axis=1, inplace = True)"
   ]
  },
  {
   "cell_type": "code",
   "execution_count": 42,
   "id": "763cbdda",
   "metadata": {},
   "outputs": [
    {
     "data": {
      "text/html": [
       "<div>\n",
       "<style scoped>\n",
       "    .dataframe tbody tr th:only-of-type {\n",
       "        vertical-align: middle;\n",
       "    }\n",
       "\n",
       "    .dataframe tbody tr th {\n",
       "        vertical-align: top;\n",
       "    }\n",
       "\n",
       "    .dataframe thead th {\n",
       "        text-align: right;\n",
       "    }\n",
       "</style>\n",
       "<table border=\"1\" class=\"dataframe\">\n",
       "  <thead>\n",
       "    <tr style=\"text-align: right;\">\n",
       "      <th></th>\n",
       "      <th>cough</th>\n",
       "      <th>fever</th>\n",
       "      <th>sore_throat</th>\n",
       "      <th>shortness_of_breath</th>\n",
       "      <th>head_ache</th>\n",
       "      <th>sixty_above</th>\n",
       "      <th>male</th>\n",
       "    </tr>\n",
       "  </thead>\n",
       "  <tbody>\n",
       "    <tr>\n",
       "      <th>0</th>\n",
       "      <td>0</td>\n",
       "      <td>0</td>\n",
       "      <td>0</td>\n",
       "      <td>0</td>\n",
       "      <td>0</td>\n",
       "      <td>0.0</td>\n",
       "      <td>0.0</td>\n",
       "    </tr>\n",
       "    <tr>\n",
       "      <th>1</th>\n",
       "      <td>0</td>\n",
       "      <td>0</td>\n",
       "      <td>0</td>\n",
       "      <td>0</td>\n",
       "      <td>0</td>\n",
       "      <td>0.0</td>\n",
       "      <td>0.0</td>\n",
       "    </tr>\n",
       "    <tr>\n",
       "      <th>2</th>\n",
       "      <td>0</td>\n",
       "      <td>0</td>\n",
       "      <td>0</td>\n",
       "      <td>0</td>\n",
       "      <td>0</td>\n",
       "      <td>0.0</td>\n",
       "      <td>0.0</td>\n",
       "    </tr>\n",
       "    <tr>\n",
       "      <th>3</th>\n",
       "      <td>0</td>\n",
       "      <td>0</td>\n",
       "      <td>0</td>\n",
       "      <td>0</td>\n",
       "      <td>0</td>\n",
       "      <td>0.0</td>\n",
       "      <td>1.0</td>\n",
       "    </tr>\n",
       "    <tr>\n",
       "      <th>4</th>\n",
       "      <td>0</td>\n",
       "      <td>0</td>\n",
       "      <td>0</td>\n",
       "      <td>0</td>\n",
       "      <td>0</td>\n",
       "      <td>0.0</td>\n",
       "      <td>1.0</td>\n",
       "    </tr>\n",
       "    <tr>\n",
       "      <th>...</th>\n",
       "      <td>...</td>\n",
       "      <td>...</td>\n",
       "      <td>...</td>\n",
       "      <td>...</td>\n",
       "      <td>...</td>\n",
       "      <td>...</td>\n",
       "      <td>...</td>\n",
       "    </tr>\n",
       "    <tr>\n",
       "      <th>224725</th>\n",
       "      <td>1</td>\n",
       "      <td>1</td>\n",
       "      <td>0</td>\n",
       "      <td>0</td>\n",
       "      <td>0</td>\n",
       "      <td>0.0</td>\n",
       "      <td>1.0</td>\n",
       "    </tr>\n",
       "    <tr>\n",
       "      <th>224726</th>\n",
       "      <td>1</td>\n",
       "      <td>0</td>\n",
       "      <td>0</td>\n",
       "      <td>0</td>\n",
       "      <td>0</td>\n",
       "      <td>0.0</td>\n",
       "      <td>0.0</td>\n",
       "    </tr>\n",
       "    <tr>\n",
       "      <th>224727</th>\n",
       "      <td>0</td>\n",
       "      <td>0</td>\n",
       "      <td>0</td>\n",
       "      <td>0</td>\n",
       "      <td>0</td>\n",
       "      <td>0.0</td>\n",
       "      <td>0.0</td>\n",
       "    </tr>\n",
       "    <tr>\n",
       "      <th>224728</th>\n",
       "      <td>0</td>\n",
       "      <td>0</td>\n",
       "      <td>0</td>\n",
       "      <td>0</td>\n",
       "      <td>0</td>\n",
       "      <td>0.0</td>\n",
       "      <td>1.0</td>\n",
       "    </tr>\n",
       "    <tr>\n",
       "      <th>224729</th>\n",
       "      <td>0</td>\n",
       "      <td>0</td>\n",
       "      <td>0</td>\n",
       "      <td>0</td>\n",
       "      <td>0</td>\n",
       "      <td>0.0</td>\n",
       "      <td>1.0</td>\n",
       "    </tr>\n",
       "  </tbody>\n",
       "</table>\n",
       "<p>186082 rows × 7 columns</p>\n",
       "</div>"
      ],
      "text/plain": [
       "        cough  fever  sore_throat  shortness_of_breath  head_ache  \\\n",
       "0           0      0            0                    0          0   \n",
       "1           0      0            0                    0          0   \n",
       "2           0      0            0                    0          0   \n",
       "3           0      0            0                    0          0   \n",
       "4           0      0            0                    0          0   \n",
       "...       ...    ...          ...                  ...        ...   \n",
       "224725      1      1            0                    0          0   \n",
       "224726      1      0            0                    0          0   \n",
       "224727      0      0            0                    0          0   \n",
       "224728      0      0            0                    0          0   \n",
       "224729      0      0            0                    0          0   \n",
       "\n",
       "        sixty_above  male  \n",
       "0               0.0   0.0  \n",
       "1               0.0   0.0  \n",
       "2               0.0   0.0  \n",
       "3               0.0   1.0  \n",
       "4               0.0   1.0  \n",
       "...             ...   ...  \n",
       "224725          0.0   1.0  \n",
       "224726          0.0   0.0  \n",
       "224727          0.0   0.0  \n",
       "224728          0.0   1.0  \n",
       "224729          0.0   1.0  \n",
       "\n",
       "[186082 rows x 7 columns]"
      ]
     },
     "execution_count": 42,
     "metadata": {},
     "output_type": "execute_result"
    }
   ],
   "source": [
    "data1"
   ]
  },
  {
   "cell_type": "code",
   "execution_count": 43,
   "id": "ceaadebf",
   "metadata": {},
   "outputs": [],
   "source": [
    "train_X, test_X, train_y, test_y = train_test_split(data1, label, test_size=0.35)"
   ]
  },
  {
   "cell_type": "code",
   "execution_count": 44,
   "id": "89c1c3ea",
   "metadata": {},
   "outputs": [
    {
     "data": {
      "text/plain": [
       "(120953, 7)"
      ]
     },
     "execution_count": 44,
     "metadata": {},
     "output_type": "execute_result"
    }
   ],
   "source": [
    "train_X.shape"
   ]
  },
  {
   "cell_type": "markdown",
   "id": "dd591bc8",
   "metadata": {},
   "source": [
    "# Support Vector Machine"
   ]
  },
  {
   "cell_type": "code",
   "execution_count": 45,
   "id": "cbc4dc88",
   "metadata": {},
   "outputs": [],
   "source": [
    "svc = SVC()"
   ]
  },
  {
   "cell_type": "code",
   "execution_count": 46,
   "id": "59ea8b19",
   "metadata": {},
   "outputs": [
    {
     "data": {
      "text/plain": [
       "SVC()"
      ]
     },
     "execution_count": 46,
     "metadata": {},
     "output_type": "execute_result"
    }
   ],
   "source": [
    "svc.fit(train_X, train_y)"
   ]
  },
  {
   "cell_type": "code",
   "execution_count": 47,
   "id": "405ca076",
   "metadata": {},
   "outputs": [],
   "source": [
    "pred = svc.predict(test_X)"
   ]
  },
  {
   "cell_type": "code",
   "execution_count": 48,
   "id": "dca7d1f4",
   "metadata": {},
   "outputs": [
    {
     "name": "stdout",
     "output_type": "stream",
     "text": [
      "              precision    recall  f1-score   support\n",
      "\n",
      "         0.0       0.90      0.99      0.94     56757\n",
      "         1.0       0.84      0.25      0.39      8372\n",
      "\n",
      "    accuracy                           0.90     65129\n",
      "   macro avg       0.87      0.62      0.67     65129\n",
      "weighted avg       0.89      0.90      0.87     65129\n",
      "\n"
     ]
    }
   ],
   "source": [
    "print(classification_report(test_y, pred))"
   ]
  },
  {
   "cell_type": "code",
   "execution_count": 49,
   "id": "940ed1ca",
   "metadata": {},
   "outputs": [
    {
     "data": {
      "text/plain": [
       "<AxesSubplot:>"
      ]
     },
     "execution_count": 49,
     "metadata": {},
     "output_type": "execute_result"
    },
    {
     "data": {
      "image/png": "[encoded data removed]",
      "text/plain": [
       "<Figure size 432x288 with 2 Axes>"
      ]
     },
     "metadata": {
      "needs_background": "light"
     },
     "output_type": "display_data"
    }
   ],
   "source": [
    "cm = confusion_matrix(test_y, pred)\n",
    "sns.heatmap(cm, annot = True, xticklabels=[\"Short Covid\", \"Long Covid\"], yticklabels=[\"Short Covid\", \"Long Covid\"])"
   ]
  },
  {
   "cell_type": "markdown",
   "id": "13e0edee",
   "metadata": {},
   "source": [
    "# Logistic Regression"
   ]
  },
  {
   "cell_type": "code",
   "execution_count": 50,
   "id": "4c126040",
   "metadata": {},
   "outputs": [],
   "source": [
    "lr = LogisticRegression()"
   ]
  },
  {
   "cell_type": "code",
   "execution_count": 51,
   "id": "a5e68d0a",
   "metadata": {},
   "outputs": [
    {
     "data": {
      "text/plain": [
       "LogisticRegression()"
      ]
     },
     "execution_count": 51,
     "metadata": {},
     "output_type": "execute_result"
    }
   ],
   "source": [
    "lr.fit(train_X, train_y)"
   ]
  },
  {
   "cell_type": "code",
   "execution_count": 52,
   "id": "067020bd",
   "metadata": {},
   "outputs": [],
   "source": [
    "pred2 = lr.predict(test_X)"
   ]
  },
  {
   "cell_type": "code",
   "execution_count": 53,
   "id": "68aaaa47",
   "metadata": {},
   "outputs": [
    {
     "name": "stdout",
     "output_type": "stream",
     "text": [
      "              precision    recall  f1-score   support\n",
      "\n",
      "         0.0       0.90      0.99      0.94     56757\n",
      "         1.0       0.84      0.23      0.36      8372\n",
      "\n",
      "    accuracy                           0.89     65129\n",
      "   macro avg       0.87      0.61      0.65     65129\n",
      "weighted avg       0.89      0.89      0.87     65129\n",
      "\n"
     ]
    }
   ],
   "source": [
    "print(classification_report(test_y, pred2))"
   ]
  },
  {
   "cell_type": "code",
   "execution_count": 54,
   "id": "65e310b1",
   "metadata": {},
   "outputs": [
    {
     "data": {
      "text/plain": [
       "<AxesSubplot:>"
      ]
     },
     "execution_count": 54,
     "metadata": {},
     "output_type": "execute_result"
    },
    {
     "data": {
      "image/png": "[encoded data removed]",
      "text/plain": [
       "<Figure size 432x288 with 2 Axes>"
      ]
     },
     "metadata": {
      "needs_background": "light"
     },
     "output_type": "display_data"
    }
   ],
   "source": [
    "cm = confusion_matrix(test_y, pred2)\n",
    "sns.heatmap(cm, annot = True, xticklabels=[\"Short Covid\", \"Long Covid\"], yticklabels=[\"Short Covid\", \"Long Covid\"])"
   ]
  },
  {
   "cell_type": "markdown",
   "id": "9029b09b",
   "metadata": {},
   "source": [
    "# KNN\n"
   ]
  },
  {
   "cell_type": "code",
   "execution_count": 55,
   "id": "6713d378",
   "metadata": {},
   "outputs": [],
   "source": [
    "knn = KNN(n_neighbors=2)"
   ]
  },
  {
   "cell_type": "code",
   "execution_count": 56,
   "id": "d7dbbf99",
   "metadata": {},
   "outputs": [
    {
     "data": {
      "text/plain": [
       "KNeighborsClassifier(n_neighbors=2)"
      ]
     },
     "execution_count": 56,
     "metadata": {},
     "output_type": "execute_result"
    }
   ],
   "source": [
    "knn.fit(train_X, train_y)"
   ]
  },
  {
   "cell_type": "code",
   "execution_count": 57,
   "id": "e4bf5ed4",
   "metadata": {},
   "outputs": [
    {
     "name": "stderr",
     "output_type": "stream",
     "text": [
      "C:\\Users\\ushou\\Downloads\\Data Science and AI\\MSc Project\\project_env\\lib\\site-packages\\sklearn\\base.py:441: UserWarning: X does not have valid feature names, but KNeighborsClassifier was fitted with feature names\n",
      "  warnings.warn(\n"
     ]
    }
   ],
   "source": [
    "pred3 = knn.predict(test_X)"
   ]
  },
  {
   "cell_type": "code",
   "execution_count": 58,
   "id": "c37cfca7",
   "metadata": {},
   "outputs": [
    {
     "name": "stdout",
     "output_type": "stream",
     "text": [
      "              precision    recall  f1-score   support\n",
      "\n",
      "         0.0       0.90      0.99      0.94     56757\n",
      "         1.0       0.85      0.22      0.34      8372\n",
      "\n",
      "    accuracy                           0.89     65129\n",
      "   macro avg       0.87      0.60      0.64     65129\n",
      "weighted avg       0.89      0.89      0.87     65129\n",
      "\n"
     ]
    }
   ],
   "source": [
    "print(classification_report(test_y, pred3))"
   ]
  },
  {
   "cell_type": "code",
   "execution_count": 59,
   "id": "ce3da0b3",
   "metadata": {},
   "outputs": [
    {
     "data": {
      "text/plain": [
       "<AxesSubplot:>"
      ]
     },
     "execution_count": 59,
     "metadata": {},
     "output_type": "execute_result"
    },
    {
     "data": {
      "image/png": "[encoded data removed]",
      "text/plain": [
       "<Figure size 432x288 with 2 Axes>"
      ]
     },
     "metadata": {
      "needs_background": "light"
     },
     "output_type": "display_data"
    }
   ],
   "source": [
    "cm = confusion_matrix(test_y, pred3)\n",
    "sns.heatmap(cm, annot = True, xticklabels=[\"Short Covid\", \"Long Covid\"], yticklabels=[\"Short Covid\", \"Long Covid\"])"
   ]
  },
  {
   "cell_type": "markdown",
   "id": "f69ef0df",
   "metadata": {},
   "source": [
    "# Perceptron"
   ]
  },
  {
   "cell_type": "code",
   "execution_count": 60,
   "id": "e7cba5cf",
   "metadata": {},
   "outputs": [],
   "source": [
    "perceptron = Perceptron(tol=1e-3, random_state=0)"
   ]
  },
  {
   "cell_type": "code",
   "execution_count": 61,
   "id": "159d823d",
   "metadata": {},
   "outputs": [
    {
     "data": {
      "text/plain": [
       "Perceptron()"
      ]
     },
     "execution_count": 61,
     "metadata": {},
     "output_type": "execute_result"
    }
   ],
   "source": [
    "perceptron.fit(train_X, train_y)"
   ]
  },
  {
   "cell_type": "code",
   "execution_count": 62,
   "id": "d3ca1e3a",
   "metadata": {},
   "outputs": [
    {
     "data": {
      "text/plain": [
       "0.8885289195289349"
      ]
     },
     "execution_count": 62,
     "metadata": {},
     "output_type": "execute_result"
    }
   ],
   "source": [
    "perceptron.score(test_X, test_y)"
   ]
  },
  {
   "cell_type": "code",
   "execution_count": 63,
   "id": "02345848",
   "metadata": {},
   "outputs": [],
   "source": [
    "pred4 = perceptron.predict(test_X)"
   ]
  },
  {
   "cell_type": "code",
   "execution_count": 64,
   "id": "4826c829",
   "metadata": {},
   "outputs": [
    {
     "name": "stdout",
     "output_type": "stream",
     "text": [
      "              precision    recall  f1-score   support\n",
      "\n",
      "         0.0       0.89      1.00      0.94     56757\n",
      "         1.0       0.84      0.16      0.27      8372\n",
      "\n",
      "    accuracy                           0.89     65129\n",
      "   macro avg       0.87      0.58      0.61     65129\n",
      "weighted avg       0.88      0.89      0.85     65129\n",
      "\n"
     ]
    }
   ],
   "source": [
    "print(classification_report(test_y, pred4))"
   ]
  },
  {
   "cell_type": "code",
   "execution_count": 65,
   "id": "fb77414f",
   "metadata": {},
   "outputs": [
    {
     "data": {
      "text/plain": [
       "<AxesSubplot:>"
      ]
     },
     "execution_count": 65,
     "metadata": {},
     "output_type": "execute_result"
    },
    {
     "data": {
      "image/png": "[encoded data removed]",
      "text/plain": [
       "<Figure size 432x288 with 2 Axes>"
      ]
     },
     "metadata": {
      "needs_background": "light"
     },
     "output_type": "display_data"
    }
   ],
   "source": [
    "cm = confusion_matrix(test_y, pred3)\n",
    "sns.heatmap(cm, annot = True, xticklabels=[\"Short Covid\", \"Long Covid\"], yticklabels=[\"Short Covid\", \"Long Covid\"])"
   ]
  },
  {
   "cell_type": "code",
   "execution_count": null,
   "id": "4c3e5ef3",
   "metadata": {},
   "outputs": [],
   "source": []
  }
 ],
 "metadata": {
  "kernelspec": {
   "display_name": "Python 3 (ipykernel)",
   "language": "python",
   "name": "python3"
  },
  "language_info": {
   "codemirror_mode": {
    "name": "ipython",
    "version": 3
   },
   "file_extension": ".py",
   "mimetype": "text/x-python",
   "name": "python",
   "nbconvert_exporter": "python",
   "pygments_lexer": "ipython3",
   "version": "3.7.9"
  }
 },
 "nbformat": 4,
 "nbformat_minor": 5
}
