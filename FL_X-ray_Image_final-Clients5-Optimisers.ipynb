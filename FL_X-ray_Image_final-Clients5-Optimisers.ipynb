{
 "cells": [
  {
   "cell_type": "code",
   "execution_count": 1,
   "id": "651d31fd",
   "metadata": {},
   "outputs": [],
   "source": [
    "import nest_asyncio\n",
    "nest_asyncio.apply()\n",
    "import collections\n",
    "import numpy as np\n",
    "import tensorflow as tf\n",
    "import tensorflow_federated as tff\n",
    "from tqdm import tqdm\n",
    "from pathlib import Path\n",
    "from matplotlib import pyplot as plt\n",
    "import collections\n",
    "import numpy as np\n",
    "from tensorflow.keras.datasets import mnist\n",
    "from tensorflow import reshape, nest, config\n",
    "from tensorflow.keras import losses, metrics, optimizers\n",
    "import tensorflow_federated as tff\n",
    "from matplotlib import pyplot as plt\n",
    "from pathlib import Path\n",
    "from tensorflow.keras.preprocessing.image import ImageDataGenerator\n",
    "from tensorflow import reshape, nest, config\n",
    "from tensorflow.keras import Sequential\n",
    "from tensorflow.keras.layers import Conv2D, MaxPool2D, Flatten, Dense, Dropout\n",
    "from sklearn.metrics import confusion_matrix, classification_report\n",
    "import seaborn as sns"
   ]
  },
  {
   "cell_type": "markdown",
   "id": "04b1de07",
   "metadata": {},
   "source": [
    "# Data Loading and Pre-Processing"
   ]
  },
  {
   "cell_type": "code",
   "execution_count": 2,
   "id": "3adfd176",
   "metadata": {},
   "outputs": [
    {
     "name": "stdout",
     "output_type": "stream",
     "text": [
      "Found 5144 images belonging to 3 classes.\n",
      "Found 1288 images belonging to 3 classes.\n"
     ]
    },
    {
     "name": "stderr",
     "output_type": "stream",
     "text": [
      "100%|████████████████████████████████████████████████████████████████████████████████| 514/514 [01:24<00:00,  6.11it/s]\n",
      "100%|████████████████████████████████████████████████████████████████████████████████| 128/128 [00:19<00:00,  6.55it/s]\n"
     ]
    }
   ],
   "source": [
    "np.random.seed(0)\n",
    "\n",
    "\n",
    "experiment_name = \"xray_image_dataset\"\n",
    "method = \"tff_training\"\n",
    "this_dir = Path.cwd()\n",
    "model_dir = this_dir / \"models\" \n",
    "output_dir = this_dir / \"results\" \n",
    "\n",
    "\n",
    "# Data generators\n",
    "train_dir='./../Data/archive/Data/train/'\n",
    "validation_dir='./../Data/archive/Data/test/'\n",
    "batch_size=10\n",
    "\n",
    "train_datagen = ImageDataGenerator(\n",
    "      rescale=1./255,\n",
    "      rotation_range=40,\n",
    "      width_shift_range=0.2,\n",
    "      height_shift_range=0.2,\n",
    "      shear_range=0.2,\n",
    "      zoom_range=0.2,\n",
    "      horizontal_flip=True,\n",
    "      fill_mode='nearest')\n",
    "\n",
    "# Note that the validation data should not be augmented!\n",
    "test_datagen =  ImageDataGenerator(\n",
    "      rescale=1./255)\n",
    "\n",
    "train_generator = train_datagen.flow_from_directory(\n",
    "        # This is the target directory\n",
    "        train_dir,\n",
    "        # All images will be resized to 32x32\n",
    "        target_size=(32, 32),\n",
    "        batch_size=batch_size,\n",
    "        # Since we use categorical_crossentropy loss, we need binary labels\n",
    "        class_mode='categorical', color_mode = \"grayscale\")\n",
    "\n",
    "validation_generator = test_datagen.flow_from_directory(\n",
    "        validation_dir,\n",
    "        target_size=(32, 32),\n",
    "        batch_size=batch_size,\n",
    "        class_mode='categorical', color_mode = \"grayscale\")\n",
    "\n",
    "\n",
    "train_generator.class_indices.values()\n",
    "\n",
    "\n",
    "# Store the data in X_train, y_train variables by iterating over the batches\n",
    "train_generator.reset()\n",
    "X_train, y_train = next(train_generator)\n",
    "for i in tqdm(range(int(len(train_generator))-1)): \n",
    "    img, label = next(train_generator)\n",
    "    X_train = np.append(X_train, img, axis=0 )\n",
    "    y_train = np.append(y_train, label, axis=0)\n",
    "\n",
    "\n",
    "validation_generator.reset()\n",
    "X_test, y_test = next(validation_generator)\n",
    "for i in tqdm(range(int(len(validation_generator))-1)): \n",
    "    img, label = next(validation_generator)\n",
    "    X_test = np.append(X_test, img, axis=0 )\n",
    "    y_test = np.append(y_test, label, axis=0)\n"
   ]
  },
  {
   "cell_type": "code",
   "execution_count": 3,
   "id": "59264318",
   "metadata": {},
   "outputs": [],
   "source": [
    "\n",
    "X_test = X_test.astype(np.float32)\n",
    "y_test =  np.argmax(y_test, axis=-1).reshape([1288,1]).astype(np.int32)\n",
    "\n",
    "\n",
    "X_train = X_train.astype(np.float32)\n",
    "y_train =  np.argmax(y_train, axis=-1).reshape([5144,1]).astype(np.int32)\n"
   ]
  },
  {
   "cell_type": "markdown",
   "id": "ac08d518",
   "metadata": {},
   "source": [
    "# Creating Federations"
   ]
  },
  {
   "cell_type": "code",
   "execution_count": 4,
   "id": "75596a72",
   "metadata": {},
   "outputs": [
    {
     "name": "stdout",
     "output_type": "stream",
     "text": [
      "Adding data from 0 to 1028 for client : client_1\n",
      "Adding data from 1028 to 2056 for client : client_2\n",
      "Adding data from 2056 to 3084 for client : client_3\n",
      "Adding data from 3084 to 4112 for client : client_4\n",
      "Adding data from 4112 to 5140 for client : client_5\n",
      "Number of client datasets: 5\n",
      "First dataset: <PrefetchDataset shapes: OrderedDict([(x, (None, 32, 32, 1)), (y, (None, 1))]), types: OrderedDict([(x, tf.float32), (y, tf.int32)])>\n"
     ]
    }
   ],
   "source": [
    "split=5 #Number of clients\n",
    "total_image_count = len(X_train)\n",
    "image_per_set = int(np.floor(total_image_count/split))\n",
    "\n",
    "\n",
    "client_train_dataset = collections.OrderedDict()\n",
    "for i in range(1, split+1):\n",
    "    client_name = \"client_\" + str(i)\n",
    "    start = image_per_set * (i-1)\n",
    "    end = image_per_set * i\n",
    "\n",
    "    print(f\"Adding data from {start} to {end} for client : {client_name}\")\n",
    "    data = collections.OrderedDict((('label', y_train[start:end]), ('pixels', X_train[start:end])))\n",
    "    client_train_dataset[client_name] = data\n",
    "\n",
    "\n",
    "\n",
    "NUM_EPOCHS=10\n",
    "BATCH_SIZE=10\n",
    "PREFETCH_BUFFER = 10\n",
    "\n",
    "\n",
    "train_dataset = tff.simulation.FromTensorSlicesClientData(client_train_dataset)\n",
    "\n",
    "sample_dataset = train_dataset.create_tf_dataset_for_client(train_dataset.client_ids[0])\n",
    "\n",
    "sample_element = next(iter(sample_dataset))\n",
    "\n",
    "SHUFFLE_BUFFER = image_per_set\n",
    "\n",
    "def preprocess(dataset):\n",
    "\n",
    "    def batch_format_fn(element):\n",
    "        \"\"\"Flatten a batch `pixels` and return the features as an `OrderedDict`.\"\"\"\n",
    "        return collections.OrderedDict(\n",
    "            x=reshape(element['pixels'], [-1, 32, 32, 1]),\n",
    "            y=reshape(element['label'], [-1, 1]))\n",
    "\n",
    "\n",
    "\n",
    "    return dataset.repeat(NUM_EPOCHS).shuffle(SHUFFLE_BUFFER).batch(\n",
    "        BATCH_SIZE).map(batch_format_fn).prefetch(PREFETCH_BUFFER)\n",
    "\n",
    "\n",
    "preprocessed_sample_dataset = preprocess(sample_dataset)\n",
    "sample_batch = nest.map_structure(lambda x: x.numpy(), next(iter(preprocessed_sample_dataset)))\n",
    "\n",
    "\n",
    "def make_federated_data(client_data, client_ids):\n",
    "    return [preprocess(client_data.create_tf_dataset_for_client(x)) for x in client_ids]\n",
    "\n",
    "federated_train_data = make_federated_data(train_dataset, train_dataset.client_ids)\n",
    "\n",
    "print('Number of client datasets: {l}'.format(l=len(federated_train_data)))\n",
    "print('First dataset: {d}'.format(d=federated_train_data[0]))"
   ]
  },
  {
   "cell_type": "markdown",
   "id": "9acbff6c",
   "metadata": {},
   "source": [
    "# Model 1"
   ]
  },
  {
   "cell_type": "code",
   "execution_count": 5,
   "id": "7e0858c1",
   "metadata": {
    "scrolled": true
   },
   "outputs": [
    {
     "name": "stdout",
     "output_type": "stream",
     "text": [
      "WARNING:tensorflow:From c:\\users\\ushou\\downloads\\data science and ai\\msc project\\federated\\lib\\site-packages\\tensorflow_core\\python\\ops\\resource_variable_ops.py:1635: calling BaseResourceVariable.__init__ (from tensorflow.python.ops.resource_variable_ops) with constraint is deprecated and will be removed in a future version.\n",
      "Instructions for updating:\n",
      "If using Keras pass *_constraint arguments to layers.\n",
      "( -> <model=<trainable=<float32[3,3,1,32],float32[32],float32[3,3,32,64],float32[64],float32[2304,32],float32[32],float32[32,64],float32[64],float32[64,3],float32[3]>,non_trainable=<>>,optimizer_state=<int64>,delta_aggregate_state=<>,model_broadcast_state=<>>@SERVER)\n",
      "round  1, metrics=<sparse_categorical_accuracy=0.7404863834381104,loss=0.6187027096748352,keras_training_time_client_sum_sec=0.0>\n",
      "Validation loss : 1.1213365319352713 and Validation accuracy : 9.006211161613464\n",
      "round  2, metrics=<sparse_categorical_accuracy=0.74665367603302,loss=0.6094824075698853,keras_training_time_client_sum_sec=0.0>\n",
      "Validation loss : 1.1206956739011018 and Validation accuracy : 9.006211161613464\n",
      "round  3, metrics=<sparse_categorical_accuracy=0.740700364112854,loss=0.618203341960907,keras_training_time_client_sum_sec=0.0>\n",
      "Validation loss : 1.1201031541231996 and Validation accuracy : 9.006211161613464\n",
      "round  4, metrics=<sparse_categorical_accuracy=0.7392412424087524,loss=0.6179419755935669,keras_training_time_client_sum_sec=0.0>\n",
      "Validation loss : 1.119459286980007 and Validation accuracy : 9.006211161613464\n",
      "round  5, metrics=<sparse_categorical_accuracy=0.7513229846954346,loss=0.60052490234375,keras_training_time_client_sum_sec=0.0>\n",
      "Validation loss : 1.11883342710341 and Validation accuracy : 9.006211161613464\n",
      "round  6, metrics=<sparse_categorical_accuracy=0.7486381530761719,loss=0.6009683012962341,keras_training_time_client_sum_sec=0.0>\n",
      "Validation loss : 1.1182676227936834 and Validation accuracy : 9.006211161613464\n",
      "round  7, metrics=<sparse_categorical_accuracy=0.7481906414031982,loss=0.6038364171981812,keras_training_time_client_sum_sec=0.0>\n",
      "Validation loss : 1.1176344756013858 and Validation accuracy : 9.006211161613464\n",
      "round  8, metrics=<sparse_categorical_accuracy=0.7445330619812012,loss=0.6138651967048645,keras_training_time_client_sum_sec=0.0>\n",
      "Validation loss : 1.1170371348813455 and Validation accuracy : 9.006211161613464\n",
      "round  9, metrics=<sparse_categorical_accuracy=0.7533074021339417,loss=0.5943042635917664,keras_training_time_client_sum_sec=0.0>\n",
      "Validation loss : 1.1164875711713518 and Validation accuracy : 9.006211161613464\n",
      "round 10, metrics=<sparse_categorical_accuracy=0.7455253005027771,loss=0.6112839579582214,keras_training_time_client_sum_sec=0.0>\n",
      "Validation loss : 1.1158650935806842 and Validation accuracy : 9.006211161613464\n",
      "round 11, metrics=<sparse_categorical_accuracy=0.7511672973632812,loss=0.5943289995193481,keras_training_time_client_sum_sec=0.0>\n",
      "Validation loss : 1.1153207180662925 and Validation accuracy : 9.006211161613464\n",
      "round 12, metrics=<sparse_categorical_accuracy=0.7430739402770996,loss=0.6125055551528931,keras_training_time_client_sum_sec=0.0>\n",
      "Validation loss : 1.1147535276709135 and Validation accuracy : 9.006211161613464\n",
      "round 13, metrics=<sparse_categorical_accuracy=0.7445136308670044,loss=0.6073630452156067,keras_training_time_client_sum_sec=0.0>\n",
      "Validation loss : 1.1142518446312188 and Validation accuracy : 9.006211161613464\n",
      "round 14, metrics=<sparse_categorical_accuracy=0.742996096611023,loss=0.6148679256439209,keras_training_time_client_sum_sec=0.0>\n",
      "Validation loss : 1.1137257592278238 and Validation accuracy : 9.006211161613464\n",
      "round 15, metrics=<sparse_categorical_accuracy=0.743793785572052,loss=0.6121798157691956,keras_training_time_client_sum_sec=0.0>\n",
      "Validation loss : 1.113177468317636 and Validation accuracy : 9.006211161613464\n"
     ]
    }
   ],
   "source": [
    "np.random.seed(78)\n",
    "#99\n",
    "\n",
    "def model1():\n",
    "    model = Sequential([\n",
    "        Conv2D(32, (3, 3), activation='relu', input_shape=(32, 32, 1)),\n",
    "        MaxPool2D(pool_size=(2, 2)),\n",
    "        Conv2D(64, (3, 3), activation='relu'),\n",
    "        MaxPool2D(pool_size=(2, 2)),\n",
    "        Flatten(),\n",
    "        Dense(32, activation='relu'),\n",
    "        Dense(64, activation='relu'),\n",
    "#         Dropout(0.3),\n",
    "        Dense(3, activation='softmax')\n",
    "\n",
    "    ])\n",
    "    return model\n",
    "\n",
    "\n",
    "method = \"tff_training\"\n",
    "client_lr = 1e-3\n",
    "server_lr = 1e-3\n",
    "NUM_ROUNDS = 15\n",
    "\n",
    "\n",
    "def model_fn():\n",
    "  # We _must_ create a new model here, and _not_ capture it from an external\n",
    "  # scope. TFF will call this within different graph contexts.\n",
    "\n",
    "    keras_model = model1()\n",
    "    return tff.learning.from_keras_model(\n",
    "      keras_model,\n",
    "      input_spec=preprocessed_sample_dataset.element_spec,\n",
    "      loss=losses.SparseCategoricalCrossentropy(),\n",
    "      metrics=[metrics.SparseCategoricalAccuracy()])\n",
    "\n",
    "\n",
    "iterative_process = tff.learning.build_federated_averaging_process(\n",
    "    model_fn,\n",
    "    client_optimizer_fn=lambda: optimizers.Adam(learning_rate=client_lr),\n",
    "    server_optimizer_fn=lambda: optimizers.SGD(learning_rate=server_lr))\n",
    "\n",
    "print(str(iterative_process.initialize.type_signature))\n",
    "\n",
    "state = iterative_process.initialize()\n",
    "\n",
    "tff_train_acc2 = []\n",
    "tff_val_acc2 = []\n",
    "tff_train_loss2 = []\n",
    "tff_val_loss2 = []\n",
    "\n",
    "eval_model1 = None\n",
    "best_accuracy = 0\n",
    "for round_num in range(1, NUM_ROUNDS+1):\n",
    "    state, tff_metrics = iterative_process.next(state, federated_train_data)\n",
    "    eval_model1 = model1()\n",
    "    eval_model1.compile(optimizer=optimizers.Adam(learning_rate=client_lr),\n",
    "                       loss=losses.SparseCategoricalCrossentropy(),\n",
    "                       metrics=[metrics.SparseCategoricalAccuracy()])\n",
    "\n",
    "    tff.learning.assign_weights_to_keras_model(eval_model1, state.model)\n",
    "\n",
    "    ev_result1 = eval_model1.evaluate(X_test, y_test, verbose=0)\n",
    "    print('round {:2d}, metrics={}'.format(round_num, tff_metrics))\n",
    "    print(f\"Validation loss : {ev_result1[0]} and Validation accuracy : {ev_result1[1]*100}\")\n",
    "    tff_train_acc2.append(float(tff_metrics.sparse_categorical_accuracy)*100)\n",
    "    tff_val_acc2.append(ev_result1[1]*100)\n",
    "    tff_train_loss2.append(float(tff_metrics.loss))\n",
    "    tff_val_loss2.append(ev_result1[0])\n",
    "    if ev_result1[1] > best_accuracy:\n",
    "        eval_model1.save_weights('./checkpoints/my_checkpoint')\n",
    "        best_accuracy = ev_result1[1]\n",
    "        eval_model1.save(\"federated_best_model25o.h5\")\n",
    "\n",
    "metric_collection = {\"sparse_categorical_accuracy\": tff_train_acc2,\n",
    "                     \"val_sparse_categorical_accuracy\": tff_val_acc2,\n",
    "                     \"loss\": tff_train_loss2,\n",
    "                     \"val_loss\": tff_val_loss2}\n",
    "\n",
    "\n"
   ]
  },
  {
   "cell_type": "markdown",
   "id": "52776ebd",
   "metadata": {},
   "source": [
    "## Evaluation"
   ]
  },
  {
   "cell_type": "code",
   "execution_count": 6,
   "id": "fd5bdeaf",
   "metadata": {},
   "outputs": [],
   "source": [
    "model2 = tf.keras.models.load_model('federated_best_model25o.h5')"
   ]
  },
  {
   "cell_type": "code",
   "execution_count": 7,
   "id": "72911f19",
   "metadata": {},
   "outputs": [],
   "source": [
    "pred2 = model2.predict(X_test)"
   ]
  },
  {
   "cell_type": "code",
   "execution_count": 8,
   "id": "f6ab67f1",
   "metadata": {},
   "outputs": [],
   "source": [
    "pred2 = np.argmax(pred2, axis=-1)"
   ]
  },
  {
   "cell_type": "code",
   "execution_count": 9,
   "id": "156d8c2a",
   "metadata": {},
   "outputs": [
    {
     "name": "stdout",
     "output_type": "stream",
     "text": [
      "              precision    recall  f1-score   support\n",
      "\n",
      "           0       0.09      1.00      0.17       116\n",
      "           1       0.00      0.00      0.00       317\n",
      "           2       0.00      0.00      0.00       855\n",
      "\n",
      "    accuracy                           0.09      1288\n",
      "   macro avg       0.03      0.33      0.06      1288\n",
      "weighted avg       0.01      0.09      0.01      1288\n",
      "\n"
     ]
    },
    {
     "name": "stderr",
     "output_type": "stream",
     "text": [
      "c:\\users\\ushou\\downloads\\data science and ai\\msc project\\federated\\lib\\site-packages\\sklearn\\metrics\\_classification.py:1308: UndefinedMetricWarning: Precision and F-score are ill-defined and being set to 0.0 in labels with no predicted samples. Use `zero_division` parameter to control this behavior.\n",
      "  _warn_prf(average, modifier, msg_start, len(result))\n",
      "c:\\users\\ushou\\downloads\\data science and ai\\msc project\\federated\\lib\\site-packages\\sklearn\\metrics\\_classification.py:1308: UndefinedMetricWarning: Precision and F-score are ill-defined and being set to 0.0 in labels with no predicted samples. Use `zero_division` parameter to control this behavior.\n",
      "  _warn_prf(average, modifier, msg_start, len(result))\n",
      "c:\\users\\ushou\\downloads\\data science and ai\\msc project\\federated\\lib\\site-packages\\sklearn\\metrics\\_classification.py:1308: UndefinedMetricWarning: Precision and F-score are ill-defined and being set to 0.0 in labels with no predicted samples. Use `zero_division` parameter to control this behavior.\n",
      "  _warn_prf(average, modifier, msg_start, len(result))\n"
     ]
    }
   ],
   "source": [
    "print(classification_report(y_test, pred2))"
   ]
  },
  {
   "cell_type": "code",
   "execution_count": 10,
   "id": "8abccc3d",
   "metadata": {},
   "outputs": [
    {
     "data": {
      "text/plain": [
       "<AxesSubplot:>"
      ]
     },
     "execution_count": 10,
     "metadata": {},
     "output_type": "execute_result"
    },
    {
     "data": {
      "image/png": "[encoded data removed]",
      "text/plain": [
       "<Figure size 432x288 with 2 Axes>"
      ]
     },
     "metadata": {
      "needs_background": "light"
     },
     "output_type": "display_data"
    }
   ],
   "source": [
    "cm = confusion_matrix(y_test, pred2)\n",
    "sns.heatmap(cm, annot = True, xticklabels=[\"Covid\", \"Normal\", \"pneumonia\"], yticklabels=[\"Covid\", \"Normal\", \"pneumonia\"])"
   ]
  },
  {
   "cell_type": "markdown",
   "id": "a1186629",
   "metadata": {},
   "source": [
    "## Plotting Results"
   ]
  },
  {
   "cell_type": "code",
   "execution_count": 11,
   "id": "82c57545",
   "metadata": {},
   "outputs": [],
   "source": [
    "def plot_graph(X, y, format = '-', label=''):\n",
    "    plt.plot(X, y, format, label=label)\n",
    "    plt.xlabel(\"Rounds\")\n",
    "    plt.ylabel(\"Value\")\n",
    "    plt.grid(True)"
   ]
  },
  {
   "cell_type": "code",
   "execution_count": 12,
   "id": "31e59e3a",
   "metadata": {},
   "outputs": [
    {
     "data": {
      "image/png": "[encoded data removed]",
      "text/plain": [
       "<Figure size 720x432 with 1 Axes>"
      ]
     },
     "metadata": {
      "needs_background": "light"
     },
     "output_type": "display_data"
    },
    {
     "data": {
      "image/png": "[encoded data removed]",
      "text/plain": [
       "<Figure size 720x432 with 1 Axes>"
      ]
     },
     "metadata": {
      "needs_background": "light"
     },
     "output_type": "display_data"
    }
   ],
   "source": [
    "fig = plt.figure(figsize=(10, 6))\n",
    "plot_graph(list(range(1, NUM_ROUNDS +1)), tff_train_acc2, label='Train Accuracy')\n",
    "plot_graph(list(range(1, NUM_ROUNDS +1)), tff_val_acc2, label='Validation Accuracy')\n",
    "plt.legend()\n",
    "plt.savefig(output_dir / \"federated_model25o_Accuracy.png\")\n",
    "\n",
    "plt.figure(figsize=(10, 6))\n",
    "plot_graph(list(range(1, NUM_ROUNDS +1)), tff_train_loss2, label='Train loss')\n",
    "plot_graph(list(range(1, NUM_ROUNDS +1)), tff_val_loss2, label='Validation loss')\n",
    "plt.legend()\n",
    "plt.savefig(output_dir / \"federated_model25o_loss.png\")"
   ]
  },
  {
   "cell_type": "markdown",
   "id": "95e748f3",
   "metadata": {},
   "source": [
    "## Saving Results"
   ]
  },
  {
   "cell_type": "code",
   "execution_count": 13,
   "id": "b88ea819",
   "metadata": {},
   "outputs": [],
   "source": [
    "# saving metric values to text file\n",
    "\n",
    "txt_file_path = output_dir / (experiment_name + \".txt\")\n",
    "with open(txt_file_path.as_posix(), \"w\") as handle:\n",
    "    content = []\n",
    "    for key, val in metric_collection.items():\n",
    "        line_content = key\n",
    "        val = [str(k) for k in val]\n",
    "        line_content = line_content + \" \" + \" \".join(val)\n",
    "        content.append(line_content)\n",
    "    handle.write(\"\\n\".join(content))"
   ]
  },
  {
   "cell_type": "markdown",
   "id": "41943ad7",
   "metadata": {},
   "source": [
    "# Model 2"
   ]
  },
  {
   "cell_type": "code",
   "execution_count": 14,
   "id": "6cdf9cff",
   "metadata": {},
   "outputs": [
    {
     "name": "stdout",
     "output_type": "stream",
     "text": [
      "( -> <model=<trainable=<float32[3,3,1,32],float32[32],float32[3,3,32,64],float32[64],float32[3,3,64,64],float32[64],float32[256,128],float32[128],float32[128,3],float32[3]>,non_trainable=<>>,optimizer_state=<int64>,delta_aggregate_state=<>,model_broadcast_state=<>>@SERVER)\n",
      "round  1, metrics=<sparse_categorical_accuracy=0.7164008021354675,loss=0.681198239326477,keras_training_time_client_sum_sec=0.0>\n",
      "Validation loss : 1.0957023238543397 and Validation accuracy : 24.45652186870575\n",
      "round  2, metrics=<sparse_categorical_accuracy=0.7111867666244507,loss=0.6919111609458923,keras_training_time_client_sum_sec=0.0>\n",
      "Validation loss : 1.0953283709768924 and Validation accuracy : 24.30124282836914\n",
      "round  3, metrics=<sparse_categorical_accuracy=0.7174124717712402,loss=0.683173418045044,keras_training_time_client_sum_sec=0.0>\n",
      "Validation loss : 1.0948065896952375 and Validation accuracy : 24.689440429210663\n",
      "round  4, metrics=<sparse_categorical_accuracy=0.7150388956069946,loss=0.6886972784996033,keras_training_time_client_sum_sec=0.0>\n",
      "Validation loss : 1.0943044720229156 and Validation accuracy : 24.534161388874054\n",
      "round  5, metrics=<sparse_categorical_accuracy=0.7156225442886353,loss=0.6873650550842285,keras_training_time_client_sum_sec=0.0>\n",
      "Validation loss : 1.0938240504412917 and Validation accuracy : 24.45652186870575\n",
      "round  6, metrics=<sparse_categorical_accuracy=0.7199805378913879,loss=0.6752451062202454,keras_training_time_client_sum_sec=0.0>\n",
      "Validation loss : 1.0934027848036394 and Validation accuracy : 24.61180090904236\n",
      "round  7, metrics=<sparse_categorical_accuracy=0.7135019302368164,loss=0.689415454864502,keras_training_time_client_sum_sec=0.0>\n",
      "Validation loss : 1.0929593506807125 and Validation accuracy : 24.689440429210663\n",
      "round  8, metrics=<sparse_categorical_accuracy=0.715875506401062,loss=0.6842504143714905,keras_training_time_client_sum_sec=0.0>\n",
      "Validation loss : 1.0925377910922032 and Validation accuracy : 25.077641010284424\n",
      "round  9, metrics=<sparse_categorical_accuracy=0.7153696417808533,loss=0.6856328248977661,keras_training_time_client_sum_sec=0.0>\n",
      "Validation loss : 1.0920544588787955 and Validation accuracy : 25.15527904033661\n",
      "round 10, metrics=<sparse_categorical_accuracy=0.7171206474304199,loss=0.6843574643135071,keras_training_time_client_sum_sec=0.0>\n",
      "Validation loss : 1.0915577063649338 and Validation accuracy : 25.931677222251892\n",
      "round 11, metrics=<sparse_categorical_accuracy=0.7112451195716858,loss=0.6918827295303345,keras_training_time_client_sum_sec=0.0>\n",
      "Validation loss : 1.0911295932272207 and Validation accuracy : 25.931677222251892\n",
      "round 12, metrics=<sparse_categorical_accuracy=0.7195525169372559,loss=0.6750335693359375,keras_training_time_client_sum_sec=0.0>\n",
      "Validation loss : 1.0906971145120468 and Validation accuracy : 26.0869562625885\n",
      "round 13, metrics=<sparse_categorical_accuracy=0.7117509841918945,loss=0.6960728764533997,keras_training_time_client_sum_sec=0.0>\n",
      "Validation loss : 1.0902416291444197 and Validation accuracy : 26.0869562625885\n",
      "round 14, metrics=<sparse_categorical_accuracy=0.7171984314918518,loss=0.6751575469970703,keras_training_time_client_sum_sec=0.0>\n",
      "Validation loss : 1.0898068839718837 and Validation accuracy : 26.552796363830566\n",
      "round 15, metrics=<sparse_categorical_accuracy=0.7225486636161804,loss=0.6697249412536621,keras_training_time_client_sum_sec=0.0>\n",
      "Validation loss : 1.0894100177362098 and Validation accuracy : 27.562111616134644\n"
     ]
    }
   ],
   "source": [
    "np.random.seed(99)\n",
    "def model1():\n",
    "    model = Sequential([\n",
    "        Conv2D(32, (3, 3), activation='relu', input_shape=(32, 32, 1)),\n",
    "        MaxPool2D(pool_size=(2, 2)),\n",
    "        Conv2D(64, (3, 3), activation='relu'),\n",
    "        MaxPool2D(pool_size=(2, 2)),\n",
    "        Conv2D(64, (3, 3), activation='relu'),\n",
    "        MaxPool2D(pool_size=(2, 2)),\n",
    "        Flatten(),\n",
    "        Dense(128, activation='relu'),\n",
    "#         Dense(64, activation='relu'),\n",
    "        Dropout(0.5),\n",
    "        Dense(3, activation='softmax')\n",
    "\n",
    "    ])\n",
    "    return model\n",
    "\n",
    "\n",
    "method = \"tff_training\"\n",
    "client_lr = 1e-3\n",
    "server_lr = 1e-3\n",
    "NUM_ROUNDS = 15\n",
    "\n",
    "\n",
    "def model_fn():\n",
    "  # We _must_ create a new model here, and _not_ capture it from an external\n",
    "  # scope. TFF will call this within different graph contexts.\n",
    "\n",
    "    keras_model = model1()\n",
    "    return tff.learning.from_keras_model(\n",
    "      keras_model,\n",
    "      input_spec=preprocessed_sample_dataset.element_spec,\n",
    "      loss=losses.SparseCategoricalCrossentropy(),\n",
    "      metrics=[metrics.SparseCategoricalAccuracy()])\n",
    "\n",
    "\n",
    "iterative_process = tff.learning.build_federated_averaging_process(\n",
    "    model_fn,\n",
    "    client_optimizer_fn=lambda: optimizers.Adam(learning_rate=client_lr),\n",
    "    server_optimizer_fn=lambda: optimizers.SGD(learning_rate=server_lr))\n",
    "\n",
    "print(str(iterative_process.initialize.type_signature))\n",
    "\n",
    "state = iterative_process.initialize()\n",
    "\n",
    "tff_train_acc1 = []\n",
    "tff_val_acc1 = []\n",
    "tff_train_loss1 = []\n",
    "tff_val_loss1 = []\n",
    "\n",
    "eval_model1 = None\n",
    "best_accuracy = 0\n",
    "for round_num in range(1, NUM_ROUNDS+1):\n",
    "    state, tff_metrics = iterative_process.next(state, federated_train_data)\n",
    "    eval_model1 = model1()\n",
    "    eval_model1.compile(optimizer=optimizers.Adam(learning_rate=client_lr),\n",
    "                       loss=losses.SparseCategoricalCrossentropy(),\n",
    "                       metrics=[metrics.SparseCategoricalAccuracy()])\n",
    "\n",
    "    tff.learning.assign_weights_to_keras_model(eval_model1, state.model)\n",
    "\n",
    "    ev_result1 = eval_model1.evaluate(X_test, y_test, verbose=0)\n",
    "    print('round {:2d}, metrics={}'.format(round_num, tff_metrics))\n",
    "    print(f\"Validation loss : {ev_result1[0]} and Validation accuracy : {ev_result1[1]*100}\")\n",
    "    tff_train_acc1.append(float(tff_metrics.sparse_categorical_accuracy)*100)\n",
    "    tff_val_acc1.append(ev_result1[1]*100)\n",
    "    tff_train_loss1.append(float(tff_metrics.loss))\n",
    "    tff_val_loss1.append(ev_result1[0])\n",
    "    if ev_result1[1] > best_accuracy:\n",
    "        eval_model1.save_weights('./checkpoints/my_checkpoint')\n",
    "        best_accuracy = ev_result1[1]\n",
    "        eval_model1.save(\"federated_best_model15o.h5\")\n",
    "        \n",
    "\n",
    "metric_collection = {\"sparse_categorical_accuracy\": tff_train_acc1,\n",
    "                     \"val_sparse_categorical_accuracy\": tff_val_acc1,\n",
    "                     \"loss\": tff_train_loss1,\n",
    "                     \"val_loss\": tff_val_loss1}\n",
    "\n",
    "#if eval_model:\n",
    "#    eval_model.save(model_dir / (experiment_name + \".h5\"))\n",
    "#else:\n",
    "#    print(\"training didn't started\")\n",
    "#    exit()\n",
    "\n"
   ]
  },
  {
   "cell_type": "markdown",
   "id": "1060faba",
   "metadata": {},
   "source": [
    "# Evaluation"
   ]
  },
  {
   "cell_type": "code",
   "execution_count": 15,
   "id": "fb1cb9cb",
   "metadata": {},
   "outputs": [
    {
     "data": {
      "text/plain": [
       "<tensorflow.python.training.tracking.util.CheckpointLoadStatus at 0x1ba99954648>"
      ]
     },
     "execution_count": 15,
     "metadata": {},
     "output_type": "execute_result"
    }
   ],
   "source": [
    "eval_model1.load_weights('./checkpoints/my_checkpoint')"
   ]
  },
  {
   "cell_type": "code",
   "execution_count": 16,
   "id": "3e8caac8",
   "metadata": {},
   "outputs": [],
   "source": [
    "loaded_model = tf.keras.models.load_model('federated_best_model15o.h5')"
   ]
  },
  {
   "cell_type": "code",
   "execution_count": 17,
   "id": "931d0715",
   "metadata": {},
   "outputs": [],
   "source": [
    "pred2 = loaded_model.predict(X_test)"
   ]
  },
  {
   "cell_type": "code",
   "execution_count": 18,
   "id": "3b77b613",
   "metadata": {},
   "outputs": [],
   "source": [
    "pred2 = np.argmax(pred2, axis=-1)"
   ]
  },
  {
   "cell_type": "code",
   "execution_count": 19,
   "id": "4c97f3e3",
   "metadata": {},
   "outputs": [
    {
     "name": "stdout",
     "output_type": "stream",
     "text": [
      "              precision    recall  f1-score   support\n",
      "\n",
      "           0       0.00      0.00      0.00       116\n",
      "           1       0.22      0.69      0.33       317\n",
      "           2       0.48      0.16      0.24       855\n",
      "\n",
      "    accuracy                           0.28      1288\n",
      "   macro avg       0.23      0.28      0.19      1288\n",
      "weighted avg       0.37      0.28      0.24      1288\n",
      "\n"
     ]
    },
    {
     "name": "stderr",
     "output_type": "stream",
     "text": [
      "c:\\users\\ushou\\downloads\\data science and ai\\msc project\\federated\\lib\\site-packages\\sklearn\\metrics\\_classification.py:1308: UndefinedMetricWarning: Precision and F-score are ill-defined and being set to 0.0 in labels with no predicted samples. Use `zero_division` parameter to control this behavior.\n",
      "  _warn_prf(average, modifier, msg_start, len(result))\n",
      "c:\\users\\ushou\\downloads\\data science and ai\\msc project\\federated\\lib\\site-packages\\sklearn\\metrics\\_classification.py:1308: UndefinedMetricWarning: Precision and F-score are ill-defined and being set to 0.0 in labels with no predicted samples. Use `zero_division` parameter to control this behavior.\n",
      "  _warn_prf(average, modifier, msg_start, len(result))\n",
      "c:\\users\\ushou\\downloads\\data science and ai\\msc project\\federated\\lib\\site-packages\\sklearn\\metrics\\_classification.py:1308: UndefinedMetricWarning: Precision and F-score are ill-defined and being set to 0.0 in labels with no predicted samples. Use `zero_division` parameter to control this behavior.\n",
      "  _warn_prf(average, modifier, msg_start, len(result))\n"
     ]
    }
   ],
   "source": [
    "from sklearn.metrics import confusion_matrix, classification_report\n",
    "print(classification_report(y_test, pred2))"
   ]
  },
  {
   "cell_type": "code",
   "execution_count": 20,
   "id": "99e79024",
   "metadata": {},
   "outputs": [
    {
     "data": {
      "text/plain": [
       "<AxesSubplot:>"
      ]
     },
     "execution_count": 20,
     "metadata": {},
     "output_type": "execute_result"
    },
    {
     "data": {
      "image/png": "[encoded data removed]",
      "text/plain": [
       "<Figure size 432x288 with 2 Axes>"
      ]
     },
     "metadata": {
      "needs_background": "light"
     },
     "output_type": "display_data"
    }
   ],
   "source": [
    "import seaborn as sns\n",
    "cm = confusion_matrix(y_test, pred2)\n",
    "sns.heatmap(cm, annot = True, xticklabels=[\"Covid\", \"Normal\", \"pneumonia\"], yticklabels=[\"Covid\", \"Normal\", \"pneumonia\"])"
   ]
  },
  {
   "cell_type": "markdown",
   "id": "df90283b",
   "metadata": {},
   "source": [
    "# Plotting Results"
   ]
  },
  {
   "cell_type": "code",
   "execution_count": 21,
   "id": "eb7abe0d",
   "metadata": {},
   "outputs": [
    {
     "data": {
      "image/png": "[encoded data removed]",
      "text/plain": [
       "<Figure size 720x432 with 1 Axes>"
      ]
     },
     "metadata": {
      "needs_background": "light"
     },
     "output_type": "display_data"
    },
    {
     "data": {
      "image/png": "[encoded data removed]",
      "text/plain": [
       "<Figure size 720x432 with 1 Axes>"
      ]
     },
     "metadata": {
      "needs_background": "light"
     },
     "output_type": "display_data"
    }
   ],
   "source": [
    "fig = plt.figure(figsize=(10, 6))\n",
    "plot_graph(list(range(1, NUM_ROUNDS +1)), tff_train_acc1, label='Train Accuracy')\n",
    "plot_graph(list(range(1, NUM_ROUNDS +1)), tff_val_acc1, label='Validation Accuracy')\n",
    "plt.legend()\n",
    "plt.savefig(output_dir / \"federated_model15o_Accuracy.png\")\n",
    "\n",
    "plt.figure(figsize=(10, 6))\n",
    "plot_graph(list(range(1, NUM_ROUNDS +1)), tff_train_loss1, label='Train loss')\n",
    "plot_graph(list(range(1, NUM_ROUNDS +1)), tff_val_loss1, label='Validation loss')\n",
    "plt.legend()\n",
    "plt.savefig(output_dir / \"federated_model15o_loss.png\")"
   ]
  },
  {
   "cell_type": "markdown",
   "id": "c5f86c7d",
   "metadata": {},
   "source": [
    "# Model 3"
   ]
  },
  {
   "cell_type": "code",
   "execution_count": 22,
   "id": "61f36f58",
   "metadata": {},
   "outputs": [
    {
     "name": "stdout",
     "output_type": "stream",
     "text": [
      "WARNING:tensorflow:5 out of the last 5 calls to <function zero_all_if_any_non_finite at 0x000001BAFC5061F8> triggered tf.function retracing. Tracing is expensive and the excessive number of tracings is likely due to passing python objects instead of tensors. Also, tf.function has experimental_relax_shapes=True option that relaxes argument shapes that can avoid unnecessary retracing. Please refer to https://www.tensorflow.org/tutorials/customization/performance#python_or_tensor_args and https://www.tensorflow.org/api_docs/python/tf/function for more details.\n"
     ]
    },
    {
     "name": "stderr",
     "output_type": "stream",
     "text": [
      "WARNING:tensorflow:5 out of the last 5 calls to <function zero_all_if_any_non_finite at 0x000001BAFC5061F8> triggered tf.function retracing. Tracing is expensive and the excessive number of tracings is likely due to passing python objects instead of tensors. Also, tf.function has experimental_relax_shapes=True option that relaxes argument shapes that can avoid unnecessary retracing. Please refer to https://www.tensorflow.org/tutorials/customization/performance#python_or_tensor_args and https://www.tensorflow.org/api_docs/python/tf/function for more details.\n"
     ]
    },
    {
     "name": "stdout",
     "output_type": "stream",
     "text": [
      "WARNING:tensorflow:6 out of the last 6 calls to <function zero_all_if_any_non_finite at 0x000001BAFC5061F8> triggered tf.function retracing. Tracing is expensive and the excessive number of tracings is likely due to passing python objects instead of tensors. Also, tf.function has experimental_relax_shapes=True option that relaxes argument shapes that can avoid unnecessary retracing. Please refer to https://www.tensorflow.org/tutorials/customization/performance#python_or_tensor_args and https://www.tensorflow.org/api_docs/python/tf/function for more details.\n"
     ]
    },
    {
     "name": "stderr",
     "output_type": "stream",
     "text": [
      "WARNING:tensorflow:6 out of the last 6 calls to <function zero_all_if_any_non_finite at 0x000001BAFC5061F8> triggered tf.function retracing. Tracing is expensive and the excessive number of tracings is likely due to passing python objects instead of tensors. Also, tf.function has experimental_relax_shapes=True option that relaxes argument shapes that can avoid unnecessary retracing. Please refer to https://www.tensorflow.org/tutorials/customization/performance#python_or_tensor_args and https://www.tensorflow.org/api_docs/python/tf/function for more details.\n"
     ]
    },
    {
     "name": "stdout",
     "output_type": "stream",
     "text": [
      "( -> <model=<trainable=<float32[3,3,1,32],float32[32],float32[7200,64],float32[64],float32[64,3],float32[3]>,non_trainable=<>>,optimizer_state=<int64>,delta_aggregate_state=<>,model_broadcast_state=<>>@SERVER)\n",
      "round  1, metrics=<sparse_categorical_accuracy=0.6883463263511658,loss=0.6969622373580933,keras_training_time_client_sum_sec=0.0>\n",
      "Validation loss : 1.0757740447239845 and Validation accuracy : 66.14906787872314\n",
      "round  2, metrics=<sparse_categorical_accuracy=0.6948054432868958,loss=0.6888629794120789,keras_training_time_client_sum_sec=0.0>\n",
      "Validation loss : 1.074410869468073 and Validation accuracy : 66.14906787872314\n",
      "round  3, metrics=<sparse_categorical_accuracy=0.6948637962341309,loss=0.6886031031608582,keras_training_time_client_sum_sec=0.0>\n",
      "Validation loss : 1.0731141211823647 and Validation accuracy : 66.38198494911194\n",
      "round  4, metrics=<sparse_categorical_accuracy=0.6840466856956482,loss=0.716213583946228,keras_training_time_client_sum_sec=0.0>\n",
      "Validation loss : 1.0722148063019936 and Validation accuracy : 66.38198494911194\n",
      "round  5, metrics=<sparse_categorical_accuracy=0.6826653480529785,loss=0.7062696218490601,keras_training_time_client_sum_sec=0.0>\n",
      "Validation loss : 1.0712904989349177 and Validation accuracy : 66.38198494911194\n",
      "round  6, metrics=<sparse_categorical_accuracy=0.6807003617286682,loss=0.7142301201820374,keras_training_time_client_sum_sec=0.0>\n",
      "Validation loss : 1.070313362601381 and Validation accuracy : 66.22670888900757\n",
      "round  7, metrics=<sparse_categorical_accuracy=0.6915953159332275,loss=0.6943840384483337,keras_training_time_client_sum_sec=0.0>\n",
      "Validation loss : 1.0693763494491577 and Validation accuracy : 66.30434989929199\n",
      "round  8, metrics=<sparse_categorical_accuracy=0.6793385148048401,loss=0.7092021703720093,keras_training_time_client_sum_sec=0.0>\n",
      "Validation loss : 1.0684284364214596 and Validation accuracy : 66.38198494911194\n",
      "round  9, metrics=<sparse_categorical_accuracy=0.6897276043891907,loss=0.7023987174034119,keras_training_time_client_sum_sec=0.0>\n",
      "Validation loss : 1.067466458178455 and Validation accuracy : 66.45962595939636\n",
      "round 10, metrics=<sparse_categorical_accuracy=0.7020622491836548,loss=0.6778335571289062,keras_training_time_client_sum_sec=0.0>\n",
      "Validation loss : 1.0663681548574697 and Validation accuracy : 66.14906787872314\n",
      "round 11, metrics=<sparse_categorical_accuracy=0.6911478638648987,loss=0.6932311058044434,keras_training_time_client_sum_sec=0.0>\n",
      "Validation loss : 1.0656555380140031 and Validation accuracy : 66.14906787872314\n",
      "round 12, metrics=<sparse_categorical_accuracy=0.6915758848190308,loss=0.697023868560791,keras_training_time_client_sum_sec=0.0>\n",
      "Validation loss : 1.0650993415287562 and Validation accuracy : 66.14906787872314\n",
      "round 13, metrics=<sparse_categorical_accuracy=0.6994552612304688,loss=0.6822723150253296,keras_training_time_client_sum_sec=0.0>\n",
      "Validation loss : 1.0643348190355004 and Validation accuracy : 66.14906787872314\n",
      "round 14, metrics=<sparse_categorical_accuracy=0.6896303296089172,loss=0.6882097125053406,keras_training_time_client_sum_sec=0.0>\n",
      "Validation loss : 1.0636840955070828 and Validation accuracy : 66.07142686843872\n",
      "round 15, metrics=<sparse_categorical_accuracy=0.6896303296089172,loss=0.698721170425415,keras_training_time_client_sum_sec=0.0>\n",
      "Validation loss : 1.0629181506470864 and Validation accuracy : 65.9937858581543\n"
     ]
    }
   ],
   "source": [
    "np.random.seed(99)\n",
    "\n",
    "def model1():\n",
    "    model = Sequential([\n",
    "        Conv2D(32, (3, 3), activation='relu', input_shape=(32, 32, 1)),\n",
    "        MaxPool2D(pool_size=(2, 2)),\n",
    "        Flatten(),\n",
    "        Dense(64, activation='relu'),\n",
    "        Dropout(0.5),\n",
    "        Dense(3, activation='softmax')\n",
    "\n",
    "    ])\n",
    "    return model\n",
    "\n",
    "\n",
    "\n",
    "method = \"tff_training\"\n",
    "client_lr = 1e-3\n",
    "server_lr = 1e-3\n",
    "NUM_ROUNDS = 15\n",
    "\n",
    "\n",
    "def model_fn():\n",
    "  # We _must_ create a new model here, and _not_ capture it from an external\n",
    "  # scope. TFF will call this within different graph contexts.\n",
    "\n",
    "    keras_model = model1()\n",
    "    return tff.learning.from_keras_model(\n",
    "      keras_model,\n",
    "      input_spec=preprocessed_sample_dataset.element_spec,\n",
    "      loss=losses.SparseCategoricalCrossentropy(),\n",
    "      metrics=[metrics.SparseCategoricalAccuracy()])\n",
    "\n",
    "\n",
    "iterative_process = tff.learning.build_federated_averaging_process(\n",
    "    model_fn,\n",
    "    client_optimizer_fn=lambda: optimizers.Adam(learning_rate=client_lr),\n",
    "    server_optimizer_fn=lambda: optimizers.SGD(learning_rate=server_lr))\n",
    "\n",
    "print(str(iterative_process.initialize.type_signature))\n",
    "\n",
    "state = iterative_process.initialize()\n",
    "\n",
    "tff_train_acc3 = []\n",
    "tff_val_acc3 = []\n",
    "tff_train_loss3 = []\n",
    "tff_val_loss3 = []\n",
    "\n",
    "eval_model1 = None\n",
    "best_accuracy = 0\n",
    "for round_num in range(1, NUM_ROUNDS+1):\n",
    "    state, tff_metrics = iterative_process.next(state, federated_train_data)\n",
    "    eval_model1 = model1()\n",
    "    eval_model1.compile(optimizer=optimizers.Adam(learning_rate=client_lr),\n",
    "                       loss=losses.SparseCategoricalCrossentropy(),\n",
    "                       metrics=[metrics.SparseCategoricalAccuracy()])\n",
    "\n",
    "    tff.learning.assign_weights_to_keras_model(eval_model1, state.model)\n",
    "\n",
    "    ev_result1 = eval_model1.evaluate(X_test, y_test, verbose=0)\n",
    "    print('round {:2d}, metrics={}'.format(round_num, tff_metrics))\n",
    "    print(f\"Validation loss : {ev_result1[0]} and Validation accuracy : {ev_result1[1]*100}\")\n",
    "    tff_train_acc3.append(float(tff_metrics.sparse_categorical_accuracy)*100)\n",
    "    tff_val_acc3.append(ev_result1[1]*100)\n",
    "    tff_train_loss3.append(float(tff_metrics.loss))\n",
    "    tff_val_loss3.append(ev_result1[0])\n",
    "    if ev_result1[1] > best_accuracy:\n",
    "        eval_model1.save_weights('./checkpoints/my_checkpoint')\n",
    "        best_accuracy = ev_result1[1]\n",
    "        eval_model1.save(\"federated_best_model35o.h5\")\n",
    "        \n",
    "\n",
    "metric_collection = {\"sparse_categorical_accuracy\": tff_train_acc3,\n",
    "                     \"val_sparse_categorical_accuracy\": tff_val_acc3,\n",
    "                     \"loss\": tff_train_loss3,\n",
    "                     \"val_loss\": tff_val_loss3}\n",
    "\n",
    "\n"
   ]
  },
  {
   "cell_type": "markdown",
   "id": "8475630e",
   "metadata": {},
   "source": [
    "# Evaluation"
   ]
  },
  {
   "cell_type": "code",
   "execution_count": 23,
   "id": "2bdbcb75",
   "metadata": {},
   "outputs": [],
   "source": [
    "model3 = tf.keras.models.load_model('federated_best_model35o.h5')"
   ]
  },
  {
   "cell_type": "code",
   "execution_count": 24,
   "id": "212a4f73",
   "metadata": {},
   "outputs": [],
   "source": [
    "pred3 = model3.predict(X_test)"
   ]
  },
  {
   "cell_type": "code",
   "execution_count": 25,
   "id": "551dbcb5",
   "metadata": {},
   "outputs": [],
   "source": [
    "pred3 = np.argmax(pred3, axis=-1)"
   ]
  },
  {
   "cell_type": "code",
   "execution_count": 26,
   "id": "8f8a07b9",
   "metadata": {},
   "outputs": [
    {
     "name": "stdout",
     "output_type": "stream",
     "text": [
      "              precision    recall  f1-score   support\n",
      "\n",
      "           0       1.00      0.02      0.03       116\n",
      "           1       0.10      0.02      0.03       317\n",
      "           2       0.69      0.99      0.82       855\n",
      "\n",
      "    accuracy                           0.66      1288\n",
      "   macro avg       0.60      0.34      0.29      1288\n",
      "weighted avg       0.57      0.66      0.55      1288\n",
      "\n"
     ]
    }
   ],
   "source": [
    "print(classification_report(y_test, pred3))"
   ]
  },
  {
   "cell_type": "code",
   "execution_count": 27,
   "id": "7b58f538",
   "metadata": {},
   "outputs": [
    {
     "data": {
      "text/plain": [
       "<AxesSubplot:>"
      ]
     },
     "execution_count": 27,
     "metadata": {},
     "output_type": "execute_result"
    },
    {
     "data": {
      "image/png": "[encoded data removed]",
      "text/plain": [
       "<Figure size 432x288 with 2 Axes>"
      ]
     },
     "metadata": {
      "needs_background": "light"
     },
     "output_type": "display_data"
    }
   ],
   "source": [
    "cm = confusion_matrix(y_test, pred3)\n",
    "sns.heatmap(cm, annot = True, xticklabels=[\"Covid\", \"Normal\", \"pneumonia\"], yticklabels=[\"Covid\", \"Normal\", \"pneumonia\"])"
   ]
  },
  {
   "cell_type": "markdown",
   "id": "4af95958",
   "metadata": {},
   "source": [
    "# Plotting Results"
   ]
  },
  {
   "cell_type": "code",
   "execution_count": 28,
   "id": "9afc0ea9",
   "metadata": {},
   "outputs": [
    {
     "data": {
      "image/png": "[encoded data removed]",
      "text/plain": [
       "<Figure size 720x432 with 1 Axes>"
      ]
     },
     "metadata": {
      "needs_background": "light"
     },
     "output_type": "display_data"
    },
    {
     "data": {
      "image/png": "[encoded data removed]",
      "text/plain": [
       "<Figure size 720x432 with 1 Axes>"
      ]
     },
     "metadata": {
      "needs_background": "light"
     },
     "output_type": "display_data"
    }
   ],
   "source": [
    "fig = plt.figure(figsize=(10, 6))\n",
    "plot_graph(list(range(1, NUM_ROUNDS +1)), tff_train_acc3, label='Train Accuracy')\n",
    "plot_graph(list(range(1, NUM_ROUNDS +1)), tff_val_acc3, label='Validation Accuracy')\n",
    "plt.legend()\n",
    "plt.savefig(output_dir / \"federated_model35o_Accuracy.png\")\n",
    "\n",
    "plt.figure(figsize=(10, 6))\n",
    "plot_graph(list(range(1, NUM_ROUNDS +1)), tff_train_loss3, label='Train loss')\n",
    "plot_graph(list(range(1, NUM_ROUNDS +1)), tff_val_loss3, label='Validation loss')\n",
    "plt.legend()\n",
    "plt.savefig(output_dir / \"federated_model35o_loss.png\")"
   ]
  },
  {
   "cell_type": "markdown",
   "id": "d33ab311",
   "metadata": {},
   "source": [
    "# Model 4"
   ]
  },
  {
   "cell_type": "code",
   "execution_count": 29,
   "id": "f4fc6b94",
   "metadata": {},
   "outputs": [
    {
     "name": "stdout",
     "output_type": "stream",
     "text": [
      "WARNING:tensorflow:7 out of the last 7 calls to <function zero_all_if_any_non_finite at 0x000001BAFC5061F8> triggered tf.function retracing. Tracing is expensive and the excessive number of tracings is likely due to passing python objects instead of tensors. Also, tf.function has experimental_relax_shapes=True option that relaxes argument shapes that can avoid unnecessary retracing. Please refer to https://www.tensorflow.org/tutorials/customization/performance#python_or_tensor_args and https://www.tensorflow.org/api_docs/python/tf/function for more details.\n"
     ]
    },
    {
     "name": "stderr",
     "output_type": "stream",
     "text": [
      "WARNING:tensorflow:7 out of the last 7 calls to <function zero_all_if_any_non_finite at 0x000001BAFC5061F8> triggered tf.function retracing. Tracing is expensive and the excessive number of tracings is likely due to passing python objects instead of tensors. Also, tf.function has experimental_relax_shapes=True option that relaxes argument shapes that can avoid unnecessary retracing. Please refer to https://www.tensorflow.org/tutorials/customization/performance#python_or_tensor_args and https://www.tensorflow.org/api_docs/python/tf/function for more details.\n"
     ]
    },
    {
     "name": "stdout",
     "output_type": "stream",
     "text": [
      "WARNING:tensorflow:8 out of the last 8 calls to <function zero_all_if_any_non_finite at 0x000001BAFC5061F8> triggered tf.function retracing. Tracing is expensive and the excessive number of tracings is likely due to passing python objects instead of tensors. Also, tf.function has experimental_relax_shapes=True option that relaxes argument shapes that can avoid unnecessary retracing. Please refer to https://www.tensorflow.org/tutorials/customization/performance#python_or_tensor_args and https://www.tensorflow.org/api_docs/python/tf/function for more details.\n"
     ]
    },
    {
     "name": "stderr",
     "output_type": "stream",
     "text": [
      "WARNING:tensorflow:8 out of the last 8 calls to <function zero_all_if_any_non_finite at 0x000001BAFC5061F8> triggered tf.function retracing. Tracing is expensive and the excessive number of tracings is likely due to passing python objects instead of tensors. Also, tf.function has experimental_relax_shapes=True option that relaxes argument shapes that can avoid unnecessary retracing. Please refer to https://www.tensorflow.org/tutorials/customization/performance#python_or_tensor_args and https://www.tensorflow.org/api_docs/python/tf/function for more details.\n"
     ]
    },
    {
     "name": "stdout",
     "output_type": "stream",
     "text": [
      "( -> <model=<trainable=<float32[3,3,1,32],float32[32],float32[3,3,32,32],float32[32],float32[6272,512],float32[512],float32[512,3],float32[3]>,non_trainable=<>>,optimizer_state=<int64>,delta_aggregate_state=<>,model_broadcast_state=<>>@SERVER)\n",
      "round  1, metrics=<sparse_categorical_accuracy=0.7982101440429688,loss=0.48413366079330444,keras_training_time_client_sum_sec=0.0>\n",
      "Validation loss : 1.141438743342524 and Validation accuracy : 24.61180090904236\n",
      "round  2, metrics=<sparse_categorical_accuracy=0.801731526851654,loss=0.47704553604125977,keras_training_time_client_sum_sec=0.0>\n",
      "Validation loss : 1.1329137301593093 and Validation accuracy : 24.61180090904236\n",
      "round  3, metrics=<sparse_categorical_accuracy=0.7930155396461487,loss=0.4915505051612854,keras_training_time_client_sum_sec=0.0>\n",
      "Validation loss : 1.1254763410698554 and Validation accuracy : 24.61180090904236\n",
      "round  4, metrics=<sparse_categorical_accuracy=0.7993579506874084,loss=0.47895702719688416,keras_training_time_client_sum_sec=0.0>\n",
      "Validation loss : 1.1184359307614913 and Validation accuracy : 24.61180090904236\n",
      "round  5, metrics=<sparse_categorical_accuracy=0.798754870891571,loss=0.4809940755367279,keras_training_time_client_sum_sec=0.0>\n",
      "Validation loss : 1.110410753984629 and Validation accuracy : 24.61180090904236\n",
      "round  6, metrics=<sparse_categorical_accuracy=0.8010116815567017,loss=0.47522369027137756,keras_training_time_client_sum_sec=0.0>\n",
      "Validation loss : 1.1035292444762237 and Validation accuracy : 24.61180090904236\n",
      "round  7, metrics=<sparse_categorical_accuracy=0.7991634011268616,loss=0.4807087779045105,keras_training_time_client_sum_sec=0.0>\n",
      "Validation loss : 1.0969914138687322 and Validation accuracy : 24.61180090904236\n",
      "round  8, metrics=<sparse_categorical_accuracy=0.7994941473007202,loss=0.4842068552970886,keras_training_time_client_sum_sec=0.0>\n",
      "Validation loss : 1.0907386134129873 and Validation accuracy : 24.61180090904236\n",
      "round  9, metrics=<sparse_categorical_accuracy=0.8069649934768677,loss=0.4670097529888153,keras_training_time_client_sum_sec=0.0>\n",
      "Validation loss : 1.084861491777882 and Validation accuracy : 24.61180090904236\n",
      "round 10, metrics=<sparse_categorical_accuracy=0.7997859716415405,loss=0.4801296591758728,keras_training_time_client_sum_sec=0.0>\n",
      "Validation loss : 1.0780143915496259 and Validation accuracy : 24.534161388874054\n",
      "round 11, metrics=<sparse_categorical_accuracy=0.8003307580947876,loss=0.4773978292942047,keras_training_time_client_sum_sec=0.0>\n",
      "Validation loss : 1.0712669095637635 and Validation accuracy : 24.45652186870575\n",
      "round 12, metrics=<sparse_categorical_accuracy=0.7995719909667969,loss=0.4799673557281494,keras_training_time_client_sum_sec=0.0>\n",
      "Validation loss : 1.0651063356340302 and Validation accuracy : 24.45652186870575\n",
      "round 13, metrics=<sparse_categorical_accuracy=0.8030739426612854,loss=0.4723564684391022,keras_training_time_client_sum_sec=0.0>\n",
      "Validation loss : 1.0596991192480052 and Validation accuracy : 23.990683257579803\n",
      "round 14, metrics=<sparse_categorical_accuracy=0.8028988242149353,loss=0.4765107035636902,keras_training_time_client_sum_sec=0.0>\n",
      "Validation loss : 1.0546735221554775 and Validation accuracy : 23.05900603532791\n",
      "round 15, metrics=<sparse_categorical_accuracy=0.8031322956085205,loss=0.4737508296966553,keras_training_time_client_sum_sec=0.0>\n",
      "Validation loss : 1.049376786865803 and Validation accuracy : 20.807453989982605\n"
     ]
    }
   ],
   "source": [
    "np.random.seed(99)\n",
    "\n",
    "def model1():\n",
    "    model = Sequential([\n",
    "        Conv2D(32, (3, 3), activation='relu', input_shape=(32, 32, 1)),\n",
    "        Conv2D(32, (3, 3), activation='relu'),\n",
    "        MaxPool2D(pool_size=(2, 2)),\n",
    "        Flatten(),\n",
    "        Dense(512, activation='relu'),\n",
    "#         Dense(64, activation='relu'),\n",
    "        Dropout(0.3),\n",
    "        Dense(3, activation='softmax')\n",
    "\n",
    "    ])\n",
    "    return model\n",
    "\n",
    "\n",
    "\n",
    "method = \"tff_training\"\n",
    "client_lr = 1e-3\n",
    "server_lr = 1e-3\n",
    "NUM_ROUNDS = 15\n",
    "\n",
    "\n",
    "def model_fn():\n",
    "  # We _must_ create a new model here, and _not_ capture it from an external\n",
    "  # scope. TFF will call this within different graph contexts.\n",
    "\n",
    "    keras_model = model1()\n",
    "    return tff.learning.from_keras_model(\n",
    "      keras_model,\n",
    "      input_spec=preprocessed_sample_dataset.element_spec,\n",
    "      loss=losses.SparseCategoricalCrossentropy(),\n",
    "      metrics=[metrics.SparseCategoricalAccuracy()])\n",
    "\n",
    "\n",
    "iterative_process = tff.learning.build_federated_averaging_process(\n",
    "    model_fn,\n",
    "    client_optimizer_fn=lambda: optimizers.Adam(learning_rate=client_lr),\n",
    "    server_optimizer_fn=lambda: optimizers.SGD(learning_rate=server_lr))\n",
    "\n",
    "print(str(iterative_process.initialize.type_signature))\n",
    "\n",
    "state = iterative_process.initialize()\n",
    "\n",
    "tff_train_acc4 = []\n",
    "tff_val_acc4 = []\n",
    "tff_train_loss4 = []\n",
    "tff_val_loss4 = []\n",
    "\n",
    "eval_model1 = None\n",
    "best_accuracy = 0\n",
    "for round_num in range(1, NUM_ROUNDS+1):\n",
    "    state, tff_metrics = iterative_process.next(state, federated_train_data)\n",
    "    eval_model1 = model1()\n",
    "    eval_model1.compile(optimizer=optimizers.Adam(learning_rate=client_lr),\n",
    "                       loss=losses.SparseCategoricalCrossentropy(),\n",
    "                       metrics=[metrics.SparseCategoricalAccuracy()])\n",
    "\n",
    "    tff.learning.assign_weights_to_keras_model(eval_model1, state.model)\n",
    "\n",
    "    ev_result1 = eval_model1.evaluate(X_test, y_test, verbose=0)\n",
    "    print('round {:2d}, metrics={}'.format(round_num, tff_metrics))\n",
    "    print(f\"Validation loss : {ev_result1[0]} and Validation accuracy : {ev_result1[1]*100}\")\n",
    "    tff_train_acc4.append(float(tff_metrics.sparse_categorical_accuracy)*100)\n",
    "    tff_val_acc4.append(ev_result1[1]*100)\n",
    "    tff_train_loss4.append(float(tff_metrics.loss))\n",
    "    tff_val_loss4.append(ev_result1[0])\n",
    "    if ev_result1[1] > best_accuracy:\n",
    "        eval_model1.save_weights('./checkpoints/my_checkpoint')\n",
    "        best_accuracy = ev_result1[1]\n",
    "        eval_model1.save(\"federated_best_model45o.h5\")\n",
    "        \n",
    "\n",
    "metric_collection = {\"sparse_categorical_accuracy\": tff_train_acc4,\n",
    "                     \"val_sparse_categorical_accuracy\": tff_val_acc4,\n",
    "                     \"loss\": tff_train_loss4,\n",
    "                     \"val_loss\": tff_val_loss4}\n"
   ]
  },
  {
   "cell_type": "markdown",
   "id": "34bf218f",
   "metadata": {},
   "source": [
    "# Evaluation"
   ]
  },
  {
   "cell_type": "code",
   "execution_count": 30,
   "id": "1dadecdb",
   "metadata": {},
   "outputs": [],
   "source": [
    "model4 = tf.keras.models.load_model('federated_best_model45o.h5')"
   ]
  },
  {
   "cell_type": "code",
   "execution_count": 31,
   "id": "39054840",
   "metadata": {},
   "outputs": [],
   "source": [
    "pred4 = model4.predict(X_test)"
   ]
  },
  {
   "cell_type": "code",
   "execution_count": 32,
   "id": "616ba89a",
   "metadata": {},
   "outputs": [],
   "source": [
    "pred4 = np.argmax(pred4, axis=-1)"
   ]
  },
  {
   "cell_type": "code",
   "execution_count": 33,
   "id": "aac88a20",
   "metadata": {},
   "outputs": [
    {
     "name": "stdout",
     "output_type": "stream",
     "text": [
      "              precision    recall  f1-score   support\n",
      "\n",
      "           0       0.00      0.00      0.00       116\n",
      "           1       0.25      1.00      0.40       317\n",
      "           2       0.00      0.00      0.00       855\n",
      "\n",
      "    accuracy                           0.25      1288\n",
      "   macro avg       0.08      0.33      0.13      1288\n",
      "weighted avg       0.06      0.25      0.10      1288\n",
      "\n"
     ]
    },
    {
     "name": "stderr",
     "output_type": "stream",
     "text": [
      "c:\\users\\ushou\\downloads\\data science and ai\\msc project\\federated\\lib\\site-packages\\sklearn\\metrics\\_classification.py:1308: UndefinedMetricWarning: Precision and F-score are ill-defined and being set to 0.0 in labels with no predicted samples. Use `zero_division` parameter to control this behavior.\n",
      "  _warn_prf(average, modifier, msg_start, len(result))\n",
      "c:\\users\\ushou\\downloads\\data science and ai\\msc project\\federated\\lib\\site-packages\\sklearn\\metrics\\_classification.py:1308: UndefinedMetricWarning: Precision and F-score are ill-defined and being set to 0.0 in labels with no predicted samples. Use `zero_division` parameter to control this behavior.\n",
      "  _warn_prf(average, modifier, msg_start, len(result))\n",
      "c:\\users\\ushou\\downloads\\data science and ai\\msc project\\federated\\lib\\site-packages\\sklearn\\metrics\\_classification.py:1308: UndefinedMetricWarning: Precision and F-score are ill-defined and being set to 0.0 in labels with no predicted samples. Use `zero_division` parameter to control this behavior.\n",
      "  _warn_prf(average, modifier, msg_start, len(result))\n"
     ]
    }
   ],
   "source": [
    "print(classification_report(y_test, pred4))"
   ]
  },
  {
   "cell_type": "code",
   "execution_count": 34,
   "id": "2d144dd4",
   "metadata": {},
   "outputs": [
    {
     "data": {
      "text/plain": [
       "<AxesSubplot:>"
      ]
     },
     "execution_count": 34,
     "metadata": {},
     "output_type": "execute_result"
    },
    {
     "data": {
      "image/png": "[encoded data removed]",
      "text/plain": [
       "<Figure size 432x288 with 2 Axes>"
      ]
     },
     "metadata": {
      "needs_background": "light"
     },
     "output_type": "display_data"
    }
   ],
   "source": [
    "cm = confusion_matrix(y_test, pred4)\n",
    "sns.heatmap(cm, annot = True, xticklabels=[\"Covid\", \"Normal\", \"pneumonia\"], yticklabels=[\"Covid\", \"Normal\", \"pneumonia\"])"
   ]
  },
  {
   "cell_type": "markdown",
   "id": "1d0130c7",
   "metadata": {},
   "source": [
    "# Plotting Results"
   ]
  },
  {
   "cell_type": "code",
   "execution_count": 35,
   "id": "d54fd5dc",
   "metadata": {},
   "outputs": [
    {
     "data": {
      "image/png": "[encoded data removed]",
      "text/plain": [
       "<Figure size 720x432 with 1 Axes>"
      ]
     },
     "metadata": {
      "needs_background": "light"
     },
     "output_type": "display_data"
    },
    {
     "data": {
      "image/png": "[encoded data removed]",
      "text/plain": [
       "<Figure size 720x432 with 1 Axes>"
      ]
     },
     "metadata": {
      "needs_background": "light"
     },
     "output_type": "display_data"
    }
   ],
   "source": [
    "fig = plt.figure(figsize=(10, 6))\n",
    "plot_graph(list(range(1, NUM_ROUNDS +1)), tff_train_acc4, label='Train Accuracy')\n",
    "plot_graph(list(range(1, NUM_ROUNDS +1)), tff_val_acc4, label='Validation Accuracy')\n",
    "plt.legend()\n",
    "plt.savefig(output_dir / \"federated_model45o_Accuracy.png\")\n",
    "\n",
    "plt.figure(figsize=(10, 6))\n",
    "plot_graph(list(range(1, NUM_ROUNDS +1)), tff_train_loss4, label='Train loss')\n",
    "plot_graph(list(range(1, NUM_ROUNDS +1)), tff_val_loss4, label='Validation loss')\n",
    "plt.legend()\n",
    "plt.savefig(output_dir / \"federated_model45o_loss.png\")"
   ]
  },
  {
   "cell_type": "code",
   "execution_count": null,
   "id": "14715513",
   "metadata": {},
   "outputs": [],
   "source": []
  },
  {
   "cell_type": "code",
   "execution_count": null,
   "id": "77ff3892",
   "metadata": {},
   "outputs": [],
   "source": []
  },
  {
   "cell_type": "code",
   "execution_count": null,
   "id": "39ea8a3f",
   "metadata": {},
   "outputs": [],
   "source": []
  }
 ],
 "metadata": {
  "kernelspec": {
   "display_name": "Python 3 (ipykernel)",
   "language": "python",
   "name": "python3"
  },
  "language_info": {
   "codemirror_mode": {
    "name": "ipython",
    "version": 3
   },
   "file_extension": ".py",
   "mimetype": "text/x-python",
   "name": "python",
   "nbconvert_exporter": "python",
   "pygments_lexer": "ipython3",
   "version": "3.7.9"
  }
 },
 "nbformat": 4,
 "nbformat_minor": 5
}
