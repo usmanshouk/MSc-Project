{
 "cells": [
  {
   "cell_type": "code",
   "execution_count": 1,
   "id": "7a126dc4",
   "metadata": {},
   "outputs": [],
   "source": [
    "import pandas as pd\n",
    "import numpy as np\n",
    "from sklearn.cluster import KMeans\n",
    "from sklearn.metrics import classification_report, confusion_matrix, cluster, silhouette_samples, silhouette_score\n",
    "from sklearn.preprocessing import scale\n",
    "import matplotlib.pyplot as plt\n",
    "import matplotlib as mpl\n",
    "from matplotlib.ticker import FixedLocator, FixedFormatter\n",
    "from pylab import rcParams\n",
    "import seaborn as sns"
   ]
  },
  {
   "cell_type": "code",
   "execution_count": 2,
   "id": "2bc09de1",
   "metadata": {},
   "outputs": [],
   "source": [
    "data_dir = \"./../\"\n",
    "data = pd.read_excel(data_dir + \"corona_tested_individuals_subset_ver_00132.xlsx\")"
   ]
  },
  {
   "cell_type": "code",
   "execution_count": 3,
   "id": "2a66e77e",
   "metadata": {},
   "outputs": [],
   "source": [
    "# label = data[\"infectionProb\"]"
   ]
  },
  {
   "cell_type": "code",
   "execution_count": 4,
   "id": "7afac22c",
   "metadata": {},
   "outputs": [
    {
     "data": {
      "text/html": [
       "<div>\n",
       "<style scoped>\n",
       "    .dataframe tbody tr th:only-of-type {\n",
       "        vertical-align: middle;\n",
       "    }\n",
       "\n",
       "    .dataframe tbody tr th {\n",
       "        vertical-align: top;\n",
       "    }\n",
       "\n",
       "    .dataframe thead th {\n",
       "        text-align: right;\n",
       "    }\n",
       "</style>\n",
       "<table border=\"1\" class=\"dataframe\">\n",
       "  <thead>\n",
       "    <tr style=\"text-align: right;\">\n",
       "      <th></th>\n",
       "      <th>test_date</th>\n",
       "      <th>cough</th>\n",
       "      <th>fever</th>\n",
       "      <th>sore_throat</th>\n",
       "      <th>shortness_of_breath</th>\n",
       "      <th>head_ache</th>\n",
       "      <th>corona_result</th>\n",
       "      <th>age_60_and_above</th>\n",
       "      <th>gender</th>\n",
       "      <th>test_indication</th>\n",
       "    </tr>\n",
       "  </thead>\n",
       "  <tbody>\n",
       "    <tr>\n",
       "      <th>0</th>\n",
       "      <td>2021-09-02</td>\n",
       "      <td>0</td>\n",
       "      <td>0</td>\n",
       "      <td>0</td>\n",
       "      <td>0</td>\n",
       "      <td>0</td>\n",
       "      <td>Positive</td>\n",
       "      <td>No</td>\n",
       "      <td>Female</td>\n",
       "      <td>Other</td>\n",
       "    </tr>\n",
       "    <tr>\n",
       "      <th>1</th>\n",
       "      <td>2021-09-02</td>\n",
       "      <td>0</td>\n",
       "      <td>0</td>\n",
       "      <td>0</td>\n",
       "      <td>0</td>\n",
       "      <td>0</td>\n",
       "      <td>Positive</td>\n",
       "      <td>No</td>\n",
       "      <td>Female</td>\n",
       "      <td>Other</td>\n",
       "    </tr>\n",
       "    <tr>\n",
       "      <th>2</th>\n",
       "      <td>2021-09-02</td>\n",
       "      <td>0</td>\n",
       "      <td>0</td>\n",
       "      <td>0</td>\n",
       "      <td>0</td>\n",
       "      <td>0</td>\n",
       "      <td>Negative</td>\n",
       "      <td>No</td>\n",
       "      <td>Female</td>\n",
       "      <td>Other</td>\n",
       "    </tr>\n",
       "    <tr>\n",
       "      <th>3</th>\n",
       "      <td>2021-09-02</td>\n",
       "      <td>0</td>\n",
       "      <td>0</td>\n",
       "      <td>0</td>\n",
       "      <td>0</td>\n",
       "      <td>0</td>\n",
       "      <td>Negative</td>\n",
       "      <td>No</td>\n",
       "      <td>Male</td>\n",
       "      <td>Other</td>\n",
       "    </tr>\n",
       "    <tr>\n",
       "      <th>4</th>\n",
       "      <td>2021-09-02</td>\n",
       "      <td>0</td>\n",
       "      <td>0</td>\n",
       "      <td>0</td>\n",
       "      <td>0</td>\n",
       "      <td>0</td>\n",
       "      <td>Positive</td>\n",
       "      <td>No</td>\n",
       "      <td>Male</td>\n",
       "      <td>Other</td>\n",
       "    </tr>\n",
       "    <tr>\n",
       "      <th>...</th>\n",
       "      <td>...</td>\n",
       "      <td>...</td>\n",
       "      <td>...</td>\n",
       "      <td>...</td>\n",
       "      <td>...</td>\n",
       "      <td>...</td>\n",
       "      <td>...</td>\n",
       "      <td>...</td>\n",
       "      <td>...</td>\n",
       "      <td>...</td>\n",
       "    </tr>\n",
       "    <tr>\n",
       "      <th>224725</th>\n",
       "      <td>2021-08-22</td>\n",
       "      <td>1</td>\n",
       "      <td>1</td>\n",
       "      <td>0</td>\n",
       "      <td>0</td>\n",
       "      <td>0</td>\n",
       "      <td>Negative</td>\n",
       "      <td>No</td>\n",
       "      <td>Male</td>\n",
       "      <td>Contact with confirmed</td>\n",
       "    </tr>\n",
       "    <tr>\n",
       "      <th>224726</th>\n",
       "      <td>2021-08-22</td>\n",
       "      <td>1</td>\n",
       "      <td>0</td>\n",
       "      <td>0</td>\n",
       "      <td>0</td>\n",
       "      <td>0</td>\n",
       "      <td>Negative</td>\n",
       "      <td>No</td>\n",
       "      <td>Female</td>\n",
       "      <td>Other</td>\n",
       "    </tr>\n",
       "    <tr>\n",
       "      <th>224727</th>\n",
       "      <td>2021-08-22</td>\n",
       "      <td>0</td>\n",
       "      <td>0</td>\n",
       "      <td>0</td>\n",
       "      <td>0</td>\n",
       "      <td>0</td>\n",
       "      <td>Negative</td>\n",
       "      <td>No</td>\n",
       "      <td>Female</td>\n",
       "      <td>Other</td>\n",
       "    </tr>\n",
       "    <tr>\n",
       "      <th>224728</th>\n",
       "      <td>2021-08-22</td>\n",
       "      <td>0</td>\n",
       "      <td>0</td>\n",
       "      <td>0</td>\n",
       "      <td>0</td>\n",
       "      <td>0</td>\n",
       "      <td>Positive</td>\n",
       "      <td>No</td>\n",
       "      <td>Male</td>\n",
       "      <td>Contact with confirmed</td>\n",
       "    </tr>\n",
       "    <tr>\n",
       "      <th>224729</th>\n",
       "      <td>2021-08-22</td>\n",
       "      <td>0</td>\n",
       "      <td>0</td>\n",
       "      <td>0</td>\n",
       "      <td>0</td>\n",
       "      <td>0</td>\n",
       "      <td>Positive</td>\n",
       "      <td>No</td>\n",
       "      <td>Male</td>\n",
       "      <td>Other</td>\n",
       "    </tr>\n",
       "  </tbody>\n",
       "</table>\n",
       "<p>224730 rows × 10 columns</p>\n",
       "</div>"
      ],
      "text/plain": [
       "        test_date  cough  fever  sore_throat  shortness_of_breath  head_ache  \\\n",
       "0      2021-09-02      0      0            0                    0          0   \n",
       "1      2021-09-02      0      0            0                    0          0   \n",
       "2      2021-09-02      0      0            0                    0          0   \n",
       "3      2021-09-02      0      0            0                    0          0   \n",
       "4      2021-09-02      0      0            0                    0          0   \n",
       "...           ...    ...    ...          ...                  ...        ...   \n",
       "224725 2021-08-22      1      1            0                    0          0   \n",
       "224726 2021-08-22      1      0            0                    0          0   \n",
       "224727 2021-08-22      0      0            0                    0          0   \n",
       "224728 2021-08-22      0      0            0                    0          0   \n",
       "224729 2021-08-22      0      0            0                    0          0   \n",
       "\n",
       "       corona_result age_60_and_above  gender         test_indication  \n",
       "0           Positive               No  Female                   Other  \n",
       "1           Positive               No  Female                   Other  \n",
       "2           Negative               No  Female                   Other  \n",
       "3           Negative               No    Male                   Other  \n",
       "4           Positive               No    Male                   Other  \n",
       "...              ...              ...     ...                     ...  \n",
       "224725      Negative               No    Male  Contact with confirmed  \n",
       "224726      Negative               No  Female                   Other  \n",
       "224727      Negative               No  Female                   Other  \n",
       "224728      Positive               No    Male  Contact with confirmed  \n",
       "224729      Positive               No    Male                   Other  \n",
       "\n",
       "[224730 rows x 10 columns]"
      ]
     },
     "execution_count": 4,
     "metadata": {},
     "output_type": "execute_result"
    }
   ],
   "source": [
    "data"
   ]
  },
  {
   "cell_type": "code",
   "execution_count": 5,
   "id": "0e95a884",
   "metadata": {},
   "outputs": [],
   "source": [
    "data.loc[data['corona_result'] == \"Positive\", 'covid'] = 1\n",
    "data.loc[data['corona_result'] == \"Negative\", 'covid'] = 0"
   ]
  },
  {
   "cell_type": "code",
   "execution_count": 6,
   "id": "1b39e5e8",
   "metadata": {},
   "outputs": [],
   "source": [
    "data.loc[data['age_60_and_above'] == \"Yes\", 'sixty_above'] = 1\n",
    "data.loc[data['age_60_and_above'] == \"No\", 'sixty_above'] = 0"
   ]
  },
  {
   "cell_type": "code",
   "execution_count": 7,
   "id": "e92e9f12",
   "metadata": {},
   "outputs": [],
   "source": [
    "data.loc[data['gender'] == \"Male\", 'male'] = 1\n",
    "data.loc[data['gender'] == \"Female\", 'male'] = 0"
   ]
  },
  {
   "cell_type": "code",
   "execution_count": 8,
   "id": "ce0c808f",
   "metadata": {},
   "outputs": [],
   "source": [
    "data1 = data.drop([\"corona_result\", \"age_60_and_above\", \"gender\", \"test_indication\", \"test_date\"], axis = 1)"
   ]
  },
  {
   "cell_type": "code",
   "execution_count": 9,
   "id": "119803b9",
   "metadata": {},
   "outputs": [
    {
     "data": {
      "text/html": [
       "<div>\n",
       "<style scoped>\n",
       "    .dataframe tbody tr th:only-of-type {\n",
       "        vertical-align: middle;\n",
       "    }\n",
       "\n",
       "    .dataframe tbody tr th {\n",
       "        vertical-align: top;\n",
       "    }\n",
       "\n",
       "    .dataframe thead th {\n",
       "        text-align: right;\n",
       "    }\n",
       "</style>\n",
       "<table border=\"1\" class=\"dataframe\">\n",
       "  <thead>\n",
       "    <tr style=\"text-align: right;\">\n",
       "      <th></th>\n",
       "      <th>cough</th>\n",
       "      <th>fever</th>\n",
       "      <th>sore_throat</th>\n",
       "      <th>shortness_of_breath</th>\n",
       "      <th>head_ache</th>\n",
       "      <th>covid</th>\n",
       "      <th>sixty_above</th>\n",
       "      <th>male</th>\n",
       "    </tr>\n",
       "  </thead>\n",
       "  <tbody>\n",
       "    <tr>\n",
       "      <th>0</th>\n",
       "      <td>0</td>\n",
       "      <td>0</td>\n",
       "      <td>0</td>\n",
       "      <td>0</td>\n",
       "      <td>0</td>\n",
       "      <td>1.0</td>\n",
       "      <td>0.0</td>\n",
       "      <td>0.0</td>\n",
       "    </tr>\n",
       "    <tr>\n",
       "      <th>1</th>\n",
       "      <td>0</td>\n",
       "      <td>0</td>\n",
       "      <td>0</td>\n",
       "      <td>0</td>\n",
       "      <td>0</td>\n",
       "      <td>1.0</td>\n",
       "      <td>0.0</td>\n",
       "      <td>0.0</td>\n",
       "    </tr>\n",
       "    <tr>\n",
       "      <th>2</th>\n",
       "      <td>0</td>\n",
       "      <td>0</td>\n",
       "      <td>0</td>\n",
       "      <td>0</td>\n",
       "      <td>0</td>\n",
       "      <td>0.0</td>\n",
       "      <td>0.0</td>\n",
       "      <td>0.0</td>\n",
       "    </tr>\n",
       "    <tr>\n",
       "      <th>3</th>\n",
       "      <td>0</td>\n",
       "      <td>0</td>\n",
       "      <td>0</td>\n",
       "      <td>0</td>\n",
       "      <td>0</td>\n",
       "      <td>0.0</td>\n",
       "      <td>0.0</td>\n",
       "      <td>1.0</td>\n",
       "    </tr>\n",
       "    <tr>\n",
       "      <th>4</th>\n",
       "      <td>0</td>\n",
       "      <td>0</td>\n",
       "      <td>0</td>\n",
       "      <td>0</td>\n",
       "      <td>0</td>\n",
       "      <td>1.0</td>\n",
       "      <td>0.0</td>\n",
       "      <td>1.0</td>\n",
       "    </tr>\n",
       "    <tr>\n",
       "      <th>...</th>\n",
       "      <td>...</td>\n",
       "      <td>...</td>\n",
       "      <td>...</td>\n",
       "      <td>...</td>\n",
       "      <td>...</td>\n",
       "      <td>...</td>\n",
       "      <td>...</td>\n",
       "      <td>...</td>\n",
       "    </tr>\n",
       "    <tr>\n",
       "      <th>224725</th>\n",
       "      <td>1</td>\n",
       "      <td>1</td>\n",
       "      <td>0</td>\n",
       "      <td>0</td>\n",
       "      <td>0</td>\n",
       "      <td>0.0</td>\n",
       "      <td>0.0</td>\n",
       "      <td>1.0</td>\n",
       "    </tr>\n",
       "    <tr>\n",
       "      <th>224726</th>\n",
       "      <td>1</td>\n",
       "      <td>0</td>\n",
       "      <td>0</td>\n",
       "      <td>0</td>\n",
       "      <td>0</td>\n",
       "      <td>0.0</td>\n",
       "      <td>0.0</td>\n",
       "      <td>0.0</td>\n",
       "    </tr>\n",
       "    <tr>\n",
       "      <th>224727</th>\n",
       "      <td>0</td>\n",
       "      <td>0</td>\n",
       "      <td>0</td>\n",
       "      <td>0</td>\n",
       "      <td>0</td>\n",
       "      <td>0.0</td>\n",
       "      <td>0.0</td>\n",
       "      <td>0.0</td>\n",
       "    </tr>\n",
       "    <tr>\n",
       "      <th>224728</th>\n",
       "      <td>0</td>\n",
       "      <td>0</td>\n",
       "      <td>0</td>\n",
       "      <td>0</td>\n",
       "      <td>0</td>\n",
       "      <td>1.0</td>\n",
       "      <td>0.0</td>\n",
       "      <td>1.0</td>\n",
       "    </tr>\n",
       "    <tr>\n",
       "      <th>224729</th>\n",
       "      <td>0</td>\n",
       "      <td>0</td>\n",
       "      <td>0</td>\n",
       "      <td>0</td>\n",
       "      <td>0</td>\n",
       "      <td>1.0</td>\n",
       "      <td>0.0</td>\n",
       "      <td>1.0</td>\n",
       "    </tr>\n",
       "  </tbody>\n",
       "</table>\n",
       "<p>224730 rows × 8 columns</p>\n",
       "</div>"
      ],
      "text/plain": [
       "        cough  fever  sore_throat  shortness_of_breath  head_ache  covid  \\\n",
       "0           0      0            0                    0          0    1.0   \n",
       "1           0      0            0                    0          0    1.0   \n",
       "2           0      0            0                    0          0    0.0   \n",
       "3           0      0            0                    0          0    0.0   \n",
       "4           0      0            0                    0          0    1.0   \n",
       "...       ...    ...          ...                  ...        ...    ...   \n",
       "224725      1      1            0                    0          0    0.0   \n",
       "224726      1      0            0                    0          0    0.0   \n",
       "224727      0      0            0                    0          0    0.0   \n",
       "224728      0      0            0                    0          0    1.0   \n",
       "224729      0      0            0                    0          0    1.0   \n",
       "\n",
       "        sixty_above  male  \n",
       "0               0.0   0.0  \n",
       "1               0.0   0.0  \n",
       "2               0.0   0.0  \n",
       "3               0.0   1.0  \n",
       "4               0.0   1.0  \n",
       "...             ...   ...  \n",
       "224725          0.0   1.0  \n",
       "224726          0.0   0.0  \n",
       "224727          0.0   0.0  \n",
       "224728          0.0   1.0  \n",
       "224729          0.0   1.0  \n",
       "\n",
       "[224730 rows x 8 columns]"
      ]
     },
     "execution_count": 9,
     "metadata": {},
     "output_type": "execute_result"
    }
   ],
   "source": [
    "data1"
   ]
  },
  {
   "cell_type": "code",
   "execution_count": 10,
   "id": "eef03b31",
   "metadata": {},
   "outputs": [],
   "source": [
    "data1.dropna(axis=0, inplace = True)"
   ]
  },
  {
   "cell_type": "code",
   "execution_count": 11,
   "id": "6e368558",
   "metadata": {},
   "outputs": [
    {
     "data": {
      "text/html": [
       "<div>\n",
       "<style scoped>\n",
       "    .dataframe tbody tr th:only-of-type {\n",
       "        vertical-align: middle;\n",
       "    }\n",
       "\n",
       "    .dataframe tbody tr th {\n",
       "        vertical-align: top;\n",
       "    }\n",
       "\n",
       "    .dataframe thead th {\n",
       "        text-align: right;\n",
       "    }\n",
       "</style>\n",
       "<table border=\"1\" class=\"dataframe\">\n",
       "  <thead>\n",
       "    <tr style=\"text-align: right;\">\n",
       "      <th></th>\n",
       "      <th>cough</th>\n",
       "      <th>fever</th>\n",
       "      <th>sore_throat</th>\n",
       "      <th>shortness_of_breath</th>\n",
       "      <th>head_ache</th>\n",
       "      <th>covid</th>\n",
       "      <th>sixty_above</th>\n",
       "      <th>male</th>\n",
       "    </tr>\n",
       "  </thead>\n",
       "  <tbody>\n",
       "    <tr>\n",
       "      <th>0</th>\n",
       "      <td>0</td>\n",
       "      <td>0</td>\n",
       "      <td>0</td>\n",
       "      <td>0</td>\n",
       "      <td>0</td>\n",
       "      <td>1.0</td>\n",
       "      <td>0.0</td>\n",
       "      <td>0.0</td>\n",
       "    </tr>\n",
       "    <tr>\n",
       "      <th>1</th>\n",
       "      <td>0</td>\n",
       "      <td>0</td>\n",
       "      <td>0</td>\n",
       "      <td>0</td>\n",
       "      <td>0</td>\n",
       "      <td>1.0</td>\n",
       "      <td>0.0</td>\n",
       "      <td>0.0</td>\n",
       "    </tr>\n",
       "    <tr>\n",
       "      <th>2</th>\n",
       "      <td>0</td>\n",
       "      <td>0</td>\n",
       "      <td>0</td>\n",
       "      <td>0</td>\n",
       "      <td>0</td>\n",
       "      <td>0.0</td>\n",
       "      <td>0.0</td>\n",
       "      <td>0.0</td>\n",
       "    </tr>\n",
       "    <tr>\n",
       "      <th>3</th>\n",
       "      <td>0</td>\n",
       "      <td>0</td>\n",
       "      <td>0</td>\n",
       "      <td>0</td>\n",
       "      <td>0</td>\n",
       "      <td>0.0</td>\n",
       "      <td>0.0</td>\n",
       "      <td>1.0</td>\n",
       "    </tr>\n",
       "    <tr>\n",
       "      <th>4</th>\n",
       "      <td>0</td>\n",
       "      <td>0</td>\n",
       "      <td>0</td>\n",
       "      <td>0</td>\n",
       "      <td>0</td>\n",
       "      <td>1.0</td>\n",
       "      <td>0.0</td>\n",
       "      <td>1.0</td>\n",
       "    </tr>\n",
       "    <tr>\n",
       "      <th>...</th>\n",
       "      <td>...</td>\n",
       "      <td>...</td>\n",
       "      <td>...</td>\n",
       "      <td>...</td>\n",
       "      <td>...</td>\n",
       "      <td>...</td>\n",
       "      <td>...</td>\n",
       "      <td>...</td>\n",
       "    </tr>\n",
       "    <tr>\n",
       "      <th>224725</th>\n",
       "      <td>1</td>\n",
       "      <td>1</td>\n",
       "      <td>0</td>\n",
       "      <td>0</td>\n",
       "      <td>0</td>\n",
       "      <td>0.0</td>\n",
       "      <td>0.0</td>\n",
       "      <td>1.0</td>\n",
       "    </tr>\n",
       "    <tr>\n",
       "      <th>224726</th>\n",
       "      <td>1</td>\n",
       "      <td>0</td>\n",
       "      <td>0</td>\n",
       "      <td>0</td>\n",
       "      <td>0</td>\n",
       "      <td>0.0</td>\n",
       "      <td>0.0</td>\n",
       "      <td>0.0</td>\n",
       "    </tr>\n",
       "    <tr>\n",
       "      <th>224727</th>\n",
       "      <td>0</td>\n",
       "      <td>0</td>\n",
       "      <td>0</td>\n",
       "      <td>0</td>\n",
       "      <td>0</td>\n",
       "      <td>0.0</td>\n",
       "      <td>0.0</td>\n",
       "      <td>0.0</td>\n",
       "    </tr>\n",
       "    <tr>\n",
       "      <th>224728</th>\n",
       "      <td>0</td>\n",
       "      <td>0</td>\n",
       "      <td>0</td>\n",
       "      <td>0</td>\n",
       "      <td>0</td>\n",
       "      <td>1.0</td>\n",
       "      <td>0.0</td>\n",
       "      <td>1.0</td>\n",
       "    </tr>\n",
       "    <tr>\n",
       "      <th>224729</th>\n",
       "      <td>0</td>\n",
       "      <td>0</td>\n",
       "      <td>0</td>\n",
       "      <td>0</td>\n",
       "      <td>0</td>\n",
       "      <td>1.0</td>\n",
       "      <td>0.0</td>\n",
       "      <td>1.0</td>\n",
       "    </tr>\n",
       "  </tbody>\n",
       "</table>\n",
       "<p>186082 rows × 8 columns</p>\n",
       "</div>"
      ],
      "text/plain": [
       "        cough  fever  sore_throat  shortness_of_breath  head_ache  covid  \\\n",
       "0           0      0            0                    0          0    1.0   \n",
       "1           0      0            0                    0          0    1.0   \n",
       "2           0      0            0                    0          0    0.0   \n",
       "3           0      0            0                    0          0    0.0   \n",
       "4           0      0            0                    0          0    1.0   \n",
       "...       ...    ...          ...                  ...        ...    ...   \n",
       "224725      1      1            0                    0          0    0.0   \n",
       "224726      1      0            0                    0          0    0.0   \n",
       "224727      0      0            0                    0          0    0.0   \n",
       "224728      0      0            0                    0          0    1.0   \n",
       "224729      0      0            0                    0          0    1.0   \n",
       "\n",
       "        sixty_above  male  \n",
       "0               0.0   0.0  \n",
       "1               0.0   0.0  \n",
       "2               0.0   0.0  \n",
       "3               0.0   1.0  \n",
       "4               0.0   1.0  \n",
       "...             ...   ...  \n",
       "224725          0.0   1.0  \n",
       "224726          0.0   0.0  \n",
       "224727          0.0   0.0  \n",
       "224728          0.0   1.0  \n",
       "224729          0.0   1.0  \n",
       "\n",
       "[186082 rows x 8 columns]"
      ]
     },
     "execution_count": 11,
     "metadata": {},
     "output_type": "execute_result"
    }
   ],
   "source": [
    "data1"
   ]
  },
  {
   "cell_type": "code",
   "execution_count": 12,
   "id": "de4a2f02",
   "metadata": {},
   "outputs": [],
   "source": [
    "data2 = data1[data1[\"covid\"] == 1]"
   ]
  },
  {
   "cell_type": "code",
   "execution_count": 13,
   "id": "d1755ff9",
   "metadata": {},
   "outputs": [
    {
     "data": {
      "text/html": [
       "<div>\n",
       "<style scoped>\n",
       "    .dataframe tbody tr th:only-of-type {\n",
       "        vertical-align: middle;\n",
       "    }\n",
       "\n",
       "    .dataframe tbody tr th {\n",
       "        vertical-align: top;\n",
       "    }\n",
       "\n",
       "    .dataframe thead th {\n",
       "        text-align: right;\n",
       "    }\n",
       "</style>\n",
       "<table border=\"1\" class=\"dataframe\">\n",
       "  <thead>\n",
       "    <tr style=\"text-align: right;\">\n",
       "      <th></th>\n",
       "      <th>cough</th>\n",
       "      <th>fever</th>\n",
       "      <th>sore_throat</th>\n",
       "      <th>shortness_of_breath</th>\n",
       "      <th>head_ache</th>\n",
       "      <th>covid</th>\n",
       "      <th>sixty_above</th>\n",
       "      <th>male</th>\n",
       "    </tr>\n",
       "  </thead>\n",
       "  <tbody>\n",
       "    <tr>\n",
       "      <th>0</th>\n",
       "      <td>0</td>\n",
       "      <td>0</td>\n",
       "      <td>0</td>\n",
       "      <td>0</td>\n",
       "      <td>0</td>\n",
       "      <td>1.0</td>\n",
       "      <td>0.0</td>\n",
       "      <td>0.0</td>\n",
       "    </tr>\n",
       "    <tr>\n",
       "      <th>1</th>\n",
       "      <td>0</td>\n",
       "      <td>0</td>\n",
       "      <td>0</td>\n",
       "      <td>0</td>\n",
       "      <td>0</td>\n",
       "      <td>1.0</td>\n",
       "      <td>0.0</td>\n",
       "      <td>0.0</td>\n",
       "    </tr>\n",
       "    <tr>\n",
       "      <th>4</th>\n",
       "      <td>0</td>\n",
       "      <td>0</td>\n",
       "      <td>0</td>\n",
       "      <td>0</td>\n",
       "      <td>0</td>\n",
       "      <td>1.0</td>\n",
       "      <td>0.0</td>\n",
       "      <td>1.0</td>\n",
       "    </tr>\n",
       "    <tr>\n",
       "      <th>5</th>\n",
       "      <td>0</td>\n",
       "      <td>0</td>\n",
       "      <td>0</td>\n",
       "      <td>0</td>\n",
       "      <td>0</td>\n",
       "      <td>1.0</td>\n",
       "      <td>0.0</td>\n",
       "      <td>0.0</td>\n",
       "    </tr>\n",
       "    <tr>\n",
       "      <th>6</th>\n",
       "      <td>0</td>\n",
       "      <td>0</td>\n",
       "      <td>0</td>\n",
       "      <td>0</td>\n",
       "      <td>0</td>\n",
       "      <td>1.0</td>\n",
       "      <td>0.0</td>\n",
       "      <td>1.0</td>\n",
       "    </tr>\n",
       "    <tr>\n",
       "      <th>...</th>\n",
       "      <td>...</td>\n",
       "      <td>...</td>\n",
       "      <td>...</td>\n",
       "      <td>...</td>\n",
       "      <td>...</td>\n",
       "      <td>...</td>\n",
       "      <td>...</td>\n",
       "      <td>...</td>\n",
       "    </tr>\n",
       "    <tr>\n",
       "      <th>224720</th>\n",
       "      <td>0</td>\n",
       "      <td>1</td>\n",
       "      <td>0</td>\n",
       "      <td>0</td>\n",
       "      <td>0</td>\n",
       "      <td>1.0</td>\n",
       "      <td>0.0</td>\n",
       "      <td>1.0</td>\n",
       "    </tr>\n",
       "    <tr>\n",
       "      <th>224721</th>\n",
       "      <td>0</td>\n",
       "      <td>0</td>\n",
       "      <td>0</td>\n",
       "      <td>0</td>\n",
       "      <td>1</td>\n",
       "      <td>1.0</td>\n",
       "      <td>0.0</td>\n",
       "      <td>1.0</td>\n",
       "    </tr>\n",
       "    <tr>\n",
       "      <th>224723</th>\n",
       "      <td>0</td>\n",
       "      <td>0</td>\n",
       "      <td>0</td>\n",
       "      <td>0</td>\n",
       "      <td>0</td>\n",
       "      <td>1.0</td>\n",
       "      <td>0.0</td>\n",
       "      <td>0.0</td>\n",
       "    </tr>\n",
       "    <tr>\n",
       "      <th>224728</th>\n",
       "      <td>0</td>\n",
       "      <td>0</td>\n",
       "      <td>0</td>\n",
       "      <td>0</td>\n",
       "      <td>0</td>\n",
       "      <td>1.0</td>\n",
       "      <td>0.0</td>\n",
       "      <td>1.0</td>\n",
       "    </tr>\n",
       "    <tr>\n",
       "      <th>224729</th>\n",
       "      <td>0</td>\n",
       "      <td>0</td>\n",
       "      <td>0</td>\n",
       "      <td>0</td>\n",
       "      <td>0</td>\n",
       "      <td>1.0</td>\n",
       "      <td>0.0</td>\n",
       "      <td>1.0</td>\n",
       "    </tr>\n",
       "  </tbody>\n",
       "</table>\n",
       "<p>24024 rows × 8 columns</p>\n",
       "</div>"
      ],
      "text/plain": [
       "        cough  fever  sore_throat  shortness_of_breath  head_ache  covid  \\\n",
       "0           0      0            0                    0          0    1.0   \n",
       "1           0      0            0                    0          0    1.0   \n",
       "4           0      0            0                    0          0    1.0   \n",
       "5           0      0            0                    0          0    1.0   \n",
       "6           0      0            0                    0          0    1.0   \n",
       "...       ...    ...          ...                  ...        ...    ...   \n",
       "224720      0      1            0                    0          0    1.0   \n",
       "224721      0      0            0                    0          1    1.0   \n",
       "224723      0      0            0                    0          0    1.0   \n",
       "224728      0      0            0                    0          0    1.0   \n",
       "224729      0      0            0                    0          0    1.0   \n",
       "\n",
       "        sixty_above  male  \n",
       "0               0.0   0.0  \n",
       "1               0.0   0.0  \n",
       "4               0.0   1.0  \n",
       "5               0.0   0.0  \n",
       "6               0.0   1.0  \n",
       "...             ...   ...  \n",
       "224720          0.0   1.0  \n",
       "224721          0.0   1.0  \n",
       "224723          0.0   0.0  \n",
       "224728          0.0   1.0  \n",
       "224729          0.0   1.0  \n",
       "\n",
       "[24024 rows x 8 columns]"
      ]
     },
     "execution_count": 13,
     "metadata": {},
     "output_type": "execute_result"
    }
   ],
   "source": [
    "data2"
   ]
  },
  {
   "cell_type": "markdown",
   "id": "b22836f6",
   "metadata": {},
   "source": [
    "# Data Visalisation"
   ]
  },
  {
   "cell_type": "code",
   "execution_count": 18,
   "id": "456b6c66",
   "metadata": {},
   "outputs": [
    {
     "data": {
      "text/plain": [
       "<AxesSubplot:xlabel='sixty_above', ylabel='count'>"
      ]
     },
     "execution_count": 18,
     "metadata": {},
     "output_type": "execute_result"
    },
    {
     "data": {
      "image/png": "[encoded data removed]",
      "text/plain": [
       "<Figure size 864x864 with 6 Axes>"
      ]
     },
     "metadata": {
      "needs_background": "light"
     },
     "output_type": "display_data"
    }
   ],
   "source": [
    "plt.figure(figsize=[12,12])\n",
    "plt.subplot(321)\n",
    "sns.countplot(x= \"cough\", data= data2)\n",
    "plt.subplot(322)\n",
    "sns.countplot(x= \"fever\", data= data2)\n",
    "plt.subplot(323)\n",
    "sns.countplot(x= \"sore_throat\", data= data2)\n",
    "plt.subplot(324)\n",
    "sns.countplot(x= \"shortness_of_breath\", data= data2)\n",
    "plt.subplot(325)\n",
    "sns.countplot(x= \"head_ache\", data= data2)\n",
    "plt.subplot(326)\n",
    "sns.countplot(x= \"sixty_above\", data= data2)"
   ]
  },
  {
   "cell_type": "code",
   "execution_count": null,
   "id": "62517c87",
   "metadata": {},
   "outputs": [],
   "source": []
  },
  {
   "cell_type": "code",
   "execution_count": 19,
   "id": "6bdbb3c6",
   "metadata": {},
   "outputs": [
    {
     "data": {
      "text/plain": [
       "<AxesSubplot:>"
      ]
     },
     "execution_count": 19,
     "metadata": {},
     "output_type": "execute_result"
    },
    {
     "data": {
      "image/png": "[encoded data removed]",
      "text/plain": [
       "<Figure size 576x576 with 2 Axes>"
      ]
     },
     "metadata": {
      "needs_background": "light"
     },
     "output_type": "display_data"
    }
   ],
   "source": [
    "plt.figure(figsize=[8,8])\n",
    "sns.heatmap(data2.corr(), annot=True)"
   ]
  },
  {
   "cell_type": "code",
   "execution_count": 21,
   "id": "8c096c93",
   "metadata": {},
   "outputs": [
    {
     "data": {
      "text/plain": [
       "<seaborn.axisgrid.PairGrid at 0x22a813f9d00>"
      ]
     },
     "execution_count": 21,
     "metadata": {},
     "output_type": "execute_result"
    },
    {
     "data": {
      "image/png": "[encoded data removed]",
      "text/plain": [
       "<Figure size 951.875x900 with 30 Axes>"
      ]
     },
     "metadata": {
      "needs_background": "light"
     },
     "output_type": "display_data"
    }
   ],
   "source": [
    "sns.pairplot(data2, hue = \"covid\", vars = [\"cough\", \"fever\", \"sore_throat\",\"shortness_of_breath\", \"head_ache\"])"
   ]
  },
  {
   "cell_type": "code",
   "execution_count": 22,
   "id": "dec28c0d",
   "metadata": {},
   "outputs": [
    {
     "data": {
      "text/plain": [
       "<AxesSubplot:>"
      ]
     },
     "execution_count": 22,
     "metadata": {},
     "output_type": "execute_result"
    },
    {
     "data": {
      "image/png": "[encoded data removed]",
      "text/plain": [
       "<Figure size 432x288 with 1 Axes>"
      ]
     },
     "metadata": {
      "needs_background": "light"
     },
     "output_type": "display_data"
    }
   ],
   "source": [
    "sns.heatmap(data2 == \"Other\", yticklabels=False, cbar=False, cmap = \"Blues\")"
   ]
  },
  {
   "cell_type": "code",
   "execution_count": 23,
   "id": "e35deabd",
   "metadata": {},
   "outputs": [],
   "source": [
    "# data2.dropna(axis=0, inplace = True)"
   ]
  },
  {
   "cell_type": "code",
   "execution_count": 24,
   "id": "fb621dd3",
   "metadata": {},
   "outputs": [
    {
     "data": {
      "text/html": [
       "<div>\n",
       "<style scoped>\n",
       "    .dataframe tbody tr th:only-of-type {\n",
       "        vertical-align: middle;\n",
       "    }\n",
       "\n",
       "    .dataframe tbody tr th {\n",
       "        vertical-align: top;\n",
       "    }\n",
       "\n",
       "    .dataframe thead th {\n",
       "        text-align: right;\n",
       "    }\n",
       "</style>\n",
       "<table border=\"1\" class=\"dataframe\">\n",
       "  <thead>\n",
       "    <tr style=\"text-align: right;\">\n",
       "      <th></th>\n",
       "      <th>cough</th>\n",
       "      <th>fever</th>\n",
       "      <th>sore_throat</th>\n",
       "      <th>shortness_of_breath</th>\n",
       "      <th>head_ache</th>\n",
       "      <th>covid</th>\n",
       "      <th>sixty_above</th>\n",
       "      <th>male</th>\n",
       "    </tr>\n",
       "  </thead>\n",
       "  <tbody>\n",
       "    <tr>\n",
       "      <th>0</th>\n",
       "      <td>0</td>\n",
       "      <td>0</td>\n",
       "      <td>0</td>\n",
       "      <td>0</td>\n",
       "      <td>0</td>\n",
       "      <td>1.0</td>\n",
       "      <td>0.0</td>\n",
       "      <td>0.0</td>\n",
       "    </tr>\n",
       "    <tr>\n",
       "      <th>1</th>\n",
       "      <td>0</td>\n",
       "      <td>0</td>\n",
       "      <td>0</td>\n",
       "      <td>0</td>\n",
       "      <td>0</td>\n",
       "      <td>1.0</td>\n",
       "      <td>0.0</td>\n",
       "      <td>0.0</td>\n",
       "    </tr>\n",
       "    <tr>\n",
       "      <th>4</th>\n",
       "      <td>0</td>\n",
       "      <td>0</td>\n",
       "      <td>0</td>\n",
       "      <td>0</td>\n",
       "      <td>0</td>\n",
       "      <td>1.0</td>\n",
       "      <td>0.0</td>\n",
       "      <td>1.0</td>\n",
       "    </tr>\n",
       "    <tr>\n",
       "      <th>5</th>\n",
       "      <td>0</td>\n",
       "      <td>0</td>\n",
       "      <td>0</td>\n",
       "      <td>0</td>\n",
       "      <td>0</td>\n",
       "      <td>1.0</td>\n",
       "      <td>0.0</td>\n",
       "      <td>0.0</td>\n",
       "    </tr>\n",
       "    <tr>\n",
       "      <th>6</th>\n",
       "      <td>0</td>\n",
       "      <td>0</td>\n",
       "      <td>0</td>\n",
       "      <td>0</td>\n",
       "      <td>0</td>\n",
       "      <td>1.0</td>\n",
       "      <td>0.0</td>\n",
       "      <td>1.0</td>\n",
       "    </tr>\n",
       "    <tr>\n",
       "      <th>...</th>\n",
       "      <td>...</td>\n",
       "      <td>...</td>\n",
       "      <td>...</td>\n",
       "      <td>...</td>\n",
       "      <td>...</td>\n",
       "      <td>...</td>\n",
       "      <td>...</td>\n",
       "      <td>...</td>\n",
       "    </tr>\n",
       "    <tr>\n",
       "      <th>224720</th>\n",
       "      <td>0</td>\n",
       "      <td>1</td>\n",
       "      <td>0</td>\n",
       "      <td>0</td>\n",
       "      <td>0</td>\n",
       "      <td>1.0</td>\n",
       "      <td>0.0</td>\n",
       "      <td>1.0</td>\n",
       "    </tr>\n",
       "    <tr>\n",
       "      <th>224721</th>\n",
       "      <td>0</td>\n",
       "      <td>0</td>\n",
       "      <td>0</td>\n",
       "      <td>0</td>\n",
       "      <td>1</td>\n",
       "      <td>1.0</td>\n",
       "      <td>0.0</td>\n",
       "      <td>1.0</td>\n",
       "    </tr>\n",
       "    <tr>\n",
       "      <th>224723</th>\n",
       "      <td>0</td>\n",
       "      <td>0</td>\n",
       "      <td>0</td>\n",
       "      <td>0</td>\n",
       "      <td>0</td>\n",
       "      <td>1.0</td>\n",
       "      <td>0.0</td>\n",
       "      <td>0.0</td>\n",
       "    </tr>\n",
       "    <tr>\n",
       "      <th>224728</th>\n",
       "      <td>0</td>\n",
       "      <td>0</td>\n",
       "      <td>0</td>\n",
       "      <td>0</td>\n",
       "      <td>0</td>\n",
       "      <td>1.0</td>\n",
       "      <td>0.0</td>\n",
       "      <td>1.0</td>\n",
       "    </tr>\n",
       "    <tr>\n",
       "      <th>224729</th>\n",
       "      <td>0</td>\n",
       "      <td>0</td>\n",
       "      <td>0</td>\n",
       "      <td>0</td>\n",
       "      <td>0</td>\n",
       "      <td>1.0</td>\n",
       "      <td>0.0</td>\n",
       "      <td>1.0</td>\n",
       "    </tr>\n",
       "  </tbody>\n",
       "</table>\n",
       "<p>24024 rows × 8 columns</p>\n",
       "</div>"
      ],
      "text/plain": [
       "        cough  fever  sore_throat  shortness_of_breath  head_ache  covid  \\\n",
       "0           0      0            0                    0          0    1.0   \n",
       "1           0      0            0                    0          0    1.0   \n",
       "4           0      0            0                    0          0    1.0   \n",
       "5           0      0            0                    0          0    1.0   \n",
       "6           0      0            0                    0          0    1.0   \n",
       "...       ...    ...          ...                  ...        ...    ...   \n",
       "224720      0      1            0                    0          0    1.0   \n",
       "224721      0      0            0                    0          1    1.0   \n",
       "224723      0      0            0                    0          0    1.0   \n",
       "224728      0      0            0                    0          0    1.0   \n",
       "224729      0      0            0                    0          0    1.0   \n",
       "\n",
       "        sixty_above  male  \n",
       "0               0.0   0.0  \n",
       "1               0.0   0.0  \n",
       "4               0.0   1.0  \n",
       "5               0.0   0.0  \n",
       "6               0.0   1.0  \n",
       "...             ...   ...  \n",
       "224720          0.0   1.0  \n",
       "224721          0.0   1.0  \n",
       "224723          0.0   0.0  \n",
       "224728          0.0   1.0  \n",
       "224729          0.0   1.0  \n",
       "\n",
       "[24024 rows x 8 columns]"
      ]
     },
     "execution_count": 24,
     "metadata": {},
     "output_type": "execute_result"
    }
   ],
   "source": [
    "data2"
   ]
  },
  {
   "cell_type": "code",
   "execution_count": null,
   "id": "a52a9f13",
   "metadata": {},
   "outputs": [],
   "source": []
  },
  {
   "cell_type": "code",
   "execution_count": 14,
   "id": "1fe8a08c",
   "metadata": {},
   "outputs": [],
   "source": [
    "scaled_data = scale(data2)"
   ]
  },
  {
   "cell_type": "code",
   "execution_count": 26,
   "id": "ab3b05b4",
   "metadata": {},
   "outputs": [],
   "source": [
    "# scaled_data1 = scaled_data[:50000, :]"
   ]
  },
  {
   "cell_type": "code",
   "execution_count": 21,
   "id": "957b8434",
   "metadata": {},
   "outputs": [
    {
     "data": {
      "text/plain": [
       "(24024, 8)"
      ]
     },
     "execution_count": 21,
     "metadata": {},
     "output_type": "execute_result"
    }
   ],
   "source": [
    "scaled_data.shape"
   ]
  },
  {
   "cell_type": "markdown",
   "id": "6f624eaa",
   "metadata": {},
   "source": [
    "# Three Clusters"
   ]
  },
  {
   "cell_type": "code",
   "execution_count": 15,
   "id": "d83c8963",
   "metadata": {},
   "outputs": [],
   "source": [
    "model = KMeans(n_clusters=3, random_state=42)"
   ]
  },
  {
   "cell_type": "code",
   "execution_count": null,
   "id": "f9a4e9ae",
   "metadata": {},
   "outputs": [],
   "source": []
  },
  {
   "cell_type": "code",
   "execution_count": 16,
   "id": "4be1ed50",
   "metadata": {},
   "outputs": [
    {
     "data": {
      "text/plain": [
       "KMeans(n_clusters=3, random_state=42)"
      ]
     },
     "execution_count": 16,
     "metadata": {},
     "output_type": "execute_result"
    }
   ],
   "source": [
    "model.fit(scaled_data)"
   ]
  },
  {
   "cell_type": "code",
   "execution_count": 17,
   "id": "65ffb22b",
   "metadata": {},
   "outputs": [
    {
     "data": {
      "text/plain": [
       "array([1, 1, 1, ..., 1, 1, 1])"
      ]
     },
     "execution_count": 17,
     "metadata": {},
     "output_type": "execute_result"
    }
   ],
   "source": [
    "model.labels_"
   ]
  },
  {
   "cell_type": "code",
   "execution_count": 27,
   "id": "d461e26d",
   "metadata": {},
   "outputs": [
    {
     "data": {
      "text/plain": [
       "0.5496584076264591"
      ]
     },
     "execution_count": 27,
     "metadata": {},
     "output_type": "execute_result"
    }
   ],
   "source": [
    "silhouette_score(scaled_data, model.labels_)"
   ]
  },
  {
   "cell_type": "code",
   "execution_count": 18,
   "id": "55f3e2b8",
   "metadata": {},
   "outputs": [
    {
     "name": "stderr",
     "output_type": "stream",
     "text": [
      "C:\\Users\\ushou\\AppData\\Local\\Temp/ipykernel_20852/378983031.py:1: SettingWithCopyWarning: \n",
      "A value is trying to be set on a copy of a slice from a DataFrame.\n",
      "Try using .loc[row_indexer,col_indexer] = value instead\n",
      "\n",
      "See the caveats in the documentation: https://pandas.pydata.org/pandas-docs/stable/user_guide/indexing.html#returning-a-view-versus-a-copy\n",
      "  data2[\"Clusters\"] = model.labels_\n"
     ]
    }
   ],
   "source": [
    "data2[\"Clusters\"] = model.labels_"
   ]
  },
  {
   "cell_type": "code",
   "execution_count": 27,
   "id": "11240752",
   "metadata": {},
   "outputs": [
    {
     "data": {
      "text/html": [
       "<div>\n",
       "<style scoped>\n",
       "    .dataframe tbody tr th:only-of-type {\n",
       "        vertical-align: middle;\n",
       "    }\n",
       "\n",
       "    .dataframe tbody tr th {\n",
       "        vertical-align: top;\n",
       "    }\n",
       "\n",
       "    .dataframe thead th {\n",
       "        text-align: right;\n",
       "    }\n",
       "</style>\n",
       "<table border=\"1\" class=\"dataframe\">\n",
       "  <thead>\n",
       "    <tr style=\"text-align: right;\">\n",
       "      <th></th>\n",
       "      <th>cough</th>\n",
       "      <th>fever</th>\n",
       "      <th>sore_throat</th>\n",
       "      <th>shortness_of_breath</th>\n",
       "      <th>head_ache</th>\n",
       "      <th>covid</th>\n",
       "      <th>sixty_above</th>\n",
       "      <th>male</th>\n",
       "      <th>Clusters</th>\n",
       "    </tr>\n",
       "  </thead>\n",
       "  <tbody>\n",
       "    <tr>\n",
       "      <th>0</th>\n",
       "      <td>0</td>\n",
       "      <td>0</td>\n",
       "      <td>0</td>\n",
       "      <td>0</td>\n",
       "      <td>0</td>\n",
       "      <td>1.0</td>\n",
       "      <td>0.0</td>\n",
       "      <td>0.0</td>\n",
       "      <td>1</td>\n",
       "    </tr>\n",
       "    <tr>\n",
       "      <th>1</th>\n",
       "      <td>0</td>\n",
       "      <td>0</td>\n",
       "      <td>0</td>\n",
       "      <td>0</td>\n",
       "      <td>0</td>\n",
       "      <td>1.0</td>\n",
       "      <td>0.0</td>\n",
       "      <td>0.0</td>\n",
       "      <td>1</td>\n",
       "    </tr>\n",
       "    <tr>\n",
       "      <th>4</th>\n",
       "      <td>0</td>\n",
       "      <td>0</td>\n",
       "      <td>0</td>\n",
       "      <td>0</td>\n",
       "      <td>0</td>\n",
       "      <td>1.0</td>\n",
       "      <td>0.0</td>\n",
       "      <td>1.0</td>\n",
       "      <td>1</td>\n",
       "    </tr>\n",
       "    <tr>\n",
       "      <th>5</th>\n",
       "      <td>0</td>\n",
       "      <td>0</td>\n",
       "      <td>0</td>\n",
       "      <td>0</td>\n",
       "      <td>0</td>\n",
       "      <td>1.0</td>\n",
       "      <td>0.0</td>\n",
       "      <td>0.0</td>\n",
       "      <td>1</td>\n",
       "    </tr>\n",
       "    <tr>\n",
       "      <th>6</th>\n",
       "      <td>0</td>\n",
       "      <td>0</td>\n",
       "      <td>0</td>\n",
       "      <td>0</td>\n",
       "      <td>0</td>\n",
       "      <td>1.0</td>\n",
       "      <td>0.0</td>\n",
       "      <td>1.0</td>\n",
       "      <td>1</td>\n",
       "    </tr>\n",
       "    <tr>\n",
       "      <th>...</th>\n",
       "      <td>...</td>\n",
       "      <td>...</td>\n",
       "      <td>...</td>\n",
       "      <td>...</td>\n",
       "      <td>...</td>\n",
       "      <td>...</td>\n",
       "      <td>...</td>\n",
       "      <td>...</td>\n",
       "      <td>...</td>\n",
       "    </tr>\n",
       "    <tr>\n",
       "      <th>224720</th>\n",
       "      <td>0</td>\n",
       "      <td>1</td>\n",
       "      <td>0</td>\n",
       "      <td>0</td>\n",
       "      <td>0</td>\n",
       "      <td>1.0</td>\n",
       "      <td>0.0</td>\n",
       "      <td>1.0</td>\n",
       "      <td>1</td>\n",
       "    </tr>\n",
       "    <tr>\n",
       "      <th>224721</th>\n",
       "      <td>0</td>\n",
       "      <td>0</td>\n",
       "      <td>0</td>\n",
       "      <td>0</td>\n",
       "      <td>1</td>\n",
       "      <td>1.0</td>\n",
       "      <td>0.0</td>\n",
       "      <td>1.0</td>\n",
       "      <td>0</td>\n",
       "    </tr>\n",
       "    <tr>\n",
       "      <th>224723</th>\n",
       "      <td>0</td>\n",
       "      <td>0</td>\n",
       "      <td>0</td>\n",
       "      <td>0</td>\n",
       "      <td>0</td>\n",
       "      <td>1.0</td>\n",
       "      <td>0.0</td>\n",
       "      <td>0.0</td>\n",
       "      <td>1</td>\n",
       "    </tr>\n",
       "    <tr>\n",
       "      <th>224728</th>\n",
       "      <td>0</td>\n",
       "      <td>0</td>\n",
       "      <td>0</td>\n",
       "      <td>0</td>\n",
       "      <td>0</td>\n",
       "      <td>1.0</td>\n",
       "      <td>0.0</td>\n",
       "      <td>1.0</td>\n",
       "      <td>1</td>\n",
       "    </tr>\n",
       "    <tr>\n",
       "      <th>224729</th>\n",
       "      <td>0</td>\n",
       "      <td>0</td>\n",
       "      <td>0</td>\n",
       "      <td>0</td>\n",
       "      <td>0</td>\n",
       "      <td>1.0</td>\n",
       "      <td>0.0</td>\n",
       "      <td>1.0</td>\n",
       "      <td>1</td>\n",
       "    </tr>\n",
       "  </tbody>\n",
       "</table>\n",
       "<p>24024 rows × 9 columns</p>\n",
       "</div>"
      ],
      "text/plain": [
       "        cough  fever  sore_throat  shortness_of_breath  head_ache  covid  \\\n",
       "0           0      0            0                    0          0    1.0   \n",
       "1           0      0            0                    0          0    1.0   \n",
       "4           0      0            0                    0          0    1.0   \n",
       "5           0      0            0                    0          0    1.0   \n",
       "6           0      0            0                    0          0    1.0   \n",
       "...       ...    ...          ...                  ...        ...    ...   \n",
       "224720      0      1            0                    0          0    1.0   \n",
       "224721      0      0            0                    0          1    1.0   \n",
       "224723      0      0            0                    0          0    1.0   \n",
       "224728      0      0            0                    0          0    1.0   \n",
       "224729      0      0            0                    0          0    1.0   \n",
       "\n",
       "        sixty_above  male  Clusters  \n",
       "0               0.0   0.0         1  \n",
       "1               0.0   0.0         1  \n",
       "4               0.0   1.0         1  \n",
       "5               0.0   0.0         1  \n",
       "6               0.0   1.0         1  \n",
       "...             ...   ...       ...  \n",
       "224720          0.0   1.0         1  \n",
       "224721          0.0   1.0         0  \n",
       "224723          0.0   0.0         1  \n",
       "224728          0.0   1.0         1  \n",
       "224729          0.0   1.0         1  \n",
       "\n",
       "[24024 rows x 9 columns]"
      ]
     },
     "execution_count": 27,
     "metadata": {},
     "output_type": "execute_result"
    }
   ],
   "source": [
    "data2"
   ]
  },
  {
   "cell_type": "code",
   "execution_count": 30,
   "id": "cb4653b4",
   "metadata": {},
   "outputs": [
    {
     "data": {
      "text/plain": [
       "<AxesSubplot:xlabel='Clusters', ylabel='count'>"
      ]
     },
     "execution_count": 30,
     "metadata": {},
     "output_type": "execute_result"
    },
    {
     "data": {
      "image/png": "[encoded data removed]",
      "text/plain": [
       "<Figure size 432x288 with 1 Axes>"
      ]
     },
     "metadata": {
      "needs_background": "light"
     },
     "output_type": "display_data"
    }
   ],
   "source": [
    "sns.countplot(x= \"Clusters\", data= data2)"
   ]
  },
  {
   "cell_type": "code",
   "execution_count": 31,
   "id": "5ac70dca",
   "metadata": {},
   "outputs": [
    {
     "name": "stderr",
     "output_type": "stream",
     "text": [
      "C:\\Users\\ushou\\AppData\\Local\\Temp/ipykernel_27220/378983031.py:1: SettingWithCopyWarning: \n",
      "A value is trying to be set on a copy of a slice from a DataFrame.\n",
      "Try using .loc[row_indexer,col_indexer] = value instead\n",
      "\n",
      "See the caveats in the documentation: https://pandas.pydata.org/pandas-docs/stable/user_guide/indexing.html#returning-a-view-versus-a-copy\n",
      "  data2[\"Clusters\"] = model.labels_\n"
     ]
    }
   ],
   "source": [
    "data2[\"Clusters\"] = model.labels_"
   ]
  },
  {
   "cell_type": "code",
   "execution_count": 32,
   "id": "8b27e8b3",
   "metadata": {},
   "outputs": [
    {
     "data": {
      "text/plain": [
       "<AxesSubplot:xlabel='sixty_above', ylabel='count'>"
      ]
     },
     "execution_count": 32,
     "metadata": {},
     "output_type": "execute_result"
    },
    {
     "data": {
      "image/png": "[encoded data removed]",
      "text/plain": [
       "<Figure size 864x864 with 6 Axes>"
      ]
     },
     "metadata": {
      "needs_background": "light"
     },
     "output_type": "display_data"
    }
   ],
   "source": [
    "plt.figure(figsize=[12,12])\n",
    "plt.subplot(321)\n",
    "sns.countplot(x= \"cough\", hue = \"Clusters\", data= data2)\n",
    "plt.subplot(322)\n",
    "sns.countplot(x= \"fever\", hue = \"Clusters\", data= data2)\n",
    "plt.subplot(323)\n",
    "sns.countplot(x= \"sore_throat\", hue = \"Clusters\", data= data2)\n",
    "plt.subplot(324)\n",
    "sns.countplot(x= \"shortness_of_breath\", hue = \"Clusters\", data= data2)\n",
    "plt.subplot(325)\n",
    "sns.countplot(x= \"head_ache\", hue = \"Clusters\", data= data2)\n",
    "plt.subplot(326)\n",
    "sns.countplot(x= \"sixty_above\", hue = \"Clusters\", data= data2)"
   ]
  },
  {
   "cell_type": "code",
   "execution_count": 29,
   "id": "9a1a9072",
   "metadata": {},
   "outputs": [],
   "source": [
    "data2.to_csv(\"long_short_covid_data(3clus).csv\", index = False)"
   ]
  },
  {
   "cell_type": "markdown",
   "id": "cbbb45ca",
   "metadata": {},
   "source": [
    "# Two Clusters"
   ]
  },
  {
   "cell_type": "code",
   "execution_count": 30,
   "id": "2ea28e45",
   "metadata": {},
   "outputs": [],
   "source": [
    "model12 = KMeans(n_clusters=2, random_state=42)"
   ]
  },
  {
   "cell_type": "code",
   "execution_count": 31,
   "id": "1a01e388",
   "metadata": {},
   "outputs": [
    {
     "data": {
      "text/plain": [
       "KMeans(n_clusters=2, random_state=42)"
      ]
     },
     "execution_count": 31,
     "metadata": {},
     "output_type": "execute_result"
    }
   ],
   "source": [
    "model12.fit(scaled_data)"
   ]
  },
  {
   "cell_type": "code",
   "execution_count": 32,
   "id": "465fd65c",
   "metadata": {},
   "outputs": [
    {
     "data": {
      "text/plain": [
       "array([0, 0, 0, ..., 0, 0, 0])"
      ]
     },
     "execution_count": 32,
     "metadata": {},
     "output_type": "execute_result"
    }
   ],
   "source": [
    "model12.labels_"
   ]
  },
  {
   "cell_type": "code",
   "execution_count": 33,
   "id": "67b90f83",
   "metadata": {},
   "outputs": [
    {
     "data": {
      "text/plain": [
       "0.5716235307037959"
      ]
     },
     "execution_count": 33,
     "metadata": {},
     "output_type": "execute_result"
    }
   ],
   "source": [
    "silhouette_score(scaled_data, model12.labels_)"
   ]
  },
  {
   "cell_type": "code",
   "execution_count": 34,
   "id": "f5f0d664",
   "metadata": {},
   "outputs": [
    {
     "name": "stderr",
     "output_type": "stream",
     "text": [
      "C:\\Users\\ushou\\AppData\\Local\\Temp/ipykernel_32044/1209469561.py:1: SettingWithCopyWarning: \n",
      "A value is trying to be set on a copy of a slice from a DataFrame.\n",
      "Try using .loc[row_indexer,col_indexer] = value instead\n",
      "\n",
      "See the caveats in the documentation: https://pandas.pydata.org/pandas-docs/stable/user_guide/indexing.html#returning-a-view-versus-a-copy\n",
      "  data2[\"long_covid\"] = model12.labels_\n"
     ]
    }
   ],
   "source": [
    "data2[\"long_covid\"] = model12.labels_"
   ]
  },
  {
   "cell_type": "code",
   "execution_count": 35,
   "id": "4f830d83",
   "metadata": {},
   "outputs": [
    {
     "data": {
      "text/plain": [
       "<AxesSubplot:xlabel='long_covid', ylabel='count'>"
      ]
     },
     "execution_count": 35,
     "metadata": {},
     "output_type": "execute_result"
    },
    {
     "data": {
      "image/png": "[encoded data removed]",
      "text/plain": [
       "<Figure size 432x288 with 1 Axes>"
      ]
     },
     "metadata": {
      "needs_background": "light"
     },
     "output_type": "display_data"
    }
   ],
   "source": [
    "sns.countplot(x= \"long_covid\", data= data2)"
   ]
  },
  {
   "cell_type": "code",
   "execution_count": null,
   "id": "34955b54",
   "metadata": {},
   "outputs": [],
   "source": []
  },
  {
   "cell_type": "code",
   "execution_count": 26,
   "id": "4c272fe1",
   "metadata": {},
   "outputs": [
    {
     "data": {
      "text/html": [
       "<div>\n",
       "<style scoped>\n",
       "    .dataframe tbody tr th:only-of-type {\n",
       "        vertical-align: middle;\n",
       "    }\n",
       "\n",
       "    .dataframe tbody tr th {\n",
       "        vertical-align: top;\n",
       "    }\n",
       "\n",
       "    .dataframe thead th {\n",
       "        text-align: right;\n",
       "    }\n",
       "</style>\n",
       "<table border=\"1\" class=\"dataframe\">\n",
       "  <thead>\n",
       "    <tr style=\"text-align: right;\">\n",
       "      <th></th>\n",
       "      <th>cough</th>\n",
       "      <th>fever</th>\n",
       "      <th>sore_throat</th>\n",
       "      <th>shortness_of_breath</th>\n",
       "      <th>head_ache</th>\n",
       "      <th>covid</th>\n",
       "      <th>sixty_above</th>\n",
       "      <th>male</th>\n",
       "      <th>Clusters</th>\n",
       "    </tr>\n",
       "  </thead>\n",
       "  <tbody>\n",
       "    <tr>\n",
       "      <th>0</th>\n",
       "      <td>0</td>\n",
       "      <td>0</td>\n",
       "      <td>0</td>\n",
       "      <td>0</td>\n",
       "      <td>0</td>\n",
       "      <td>1.0</td>\n",
       "      <td>0.0</td>\n",
       "      <td>0.0</td>\n",
       "      <td>1</td>\n",
       "    </tr>\n",
       "    <tr>\n",
       "      <th>1</th>\n",
       "      <td>0</td>\n",
       "      <td>0</td>\n",
       "      <td>0</td>\n",
       "      <td>0</td>\n",
       "      <td>0</td>\n",
       "      <td>1.0</td>\n",
       "      <td>0.0</td>\n",
       "      <td>0.0</td>\n",
       "      <td>1</td>\n",
       "    </tr>\n",
       "    <tr>\n",
       "      <th>4</th>\n",
       "      <td>0</td>\n",
       "      <td>0</td>\n",
       "      <td>0</td>\n",
       "      <td>0</td>\n",
       "      <td>0</td>\n",
       "      <td>1.0</td>\n",
       "      <td>0.0</td>\n",
       "      <td>1.0</td>\n",
       "      <td>1</td>\n",
       "    </tr>\n",
       "    <tr>\n",
       "      <th>5</th>\n",
       "      <td>0</td>\n",
       "      <td>0</td>\n",
       "      <td>0</td>\n",
       "      <td>0</td>\n",
       "      <td>0</td>\n",
       "      <td>1.0</td>\n",
       "      <td>0.0</td>\n",
       "      <td>0.0</td>\n",
       "      <td>1</td>\n",
       "    </tr>\n",
       "    <tr>\n",
       "      <th>6</th>\n",
       "      <td>0</td>\n",
       "      <td>0</td>\n",
       "      <td>0</td>\n",
       "      <td>0</td>\n",
       "      <td>0</td>\n",
       "      <td>1.0</td>\n",
       "      <td>0.0</td>\n",
       "      <td>1.0</td>\n",
       "      <td>1</td>\n",
       "    </tr>\n",
       "    <tr>\n",
       "      <th>...</th>\n",
       "      <td>...</td>\n",
       "      <td>...</td>\n",
       "      <td>...</td>\n",
       "      <td>...</td>\n",
       "      <td>...</td>\n",
       "      <td>...</td>\n",
       "      <td>...</td>\n",
       "      <td>...</td>\n",
       "      <td>...</td>\n",
       "    </tr>\n",
       "    <tr>\n",
       "      <th>224720</th>\n",
       "      <td>0</td>\n",
       "      <td>1</td>\n",
       "      <td>0</td>\n",
       "      <td>0</td>\n",
       "      <td>0</td>\n",
       "      <td>1.0</td>\n",
       "      <td>0.0</td>\n",
       "      <td>1.0</td>\n",
       "      <td>1</td>\n",
       "    </tr>\n",
       "    <tr>\n",
       "      <th>224721</th>\n",
       "      <td>0</td>\n",
       "      <td>0</td>\n",
       "      <td>0</td>\n",
       "      <td>0</td>\n",
       "      <td>1</td>\n",
       "      <td>1.0</td>\n",
       "      <td>0.0</td>\n",
       "      <td>1.0</td>\n",
       "      <td>0</td>\n",
       "    </tr>\n",
       "    <tr>\n",
       "      <th>224723</th>\n",
       "      <td>0</td>\n",
       "      <td>0</td>\n",
       "      <td>0</td>\n",
       "      <td>0</td>\n",
       "      <td>0</td>\n",
       "      <td>1.0</td>\n",
       "      <td>0.0</td>\n",
       "      <td>0.0</td>\n",
       "      <td>1</td>\n",
       "    </tr>\n",
       "    <tr>\n",
       "      <th>224728</th>\n",
       "      <td>0</td>\n",
       "      <td>0</td>\n",
       "      <td>0</td>\n",
       "      <td>0</td>\n",
       "      <td>0</td>\n",
       "      <td>1.0</td>\n",
       "      <td>0.0</td>\n",
       "      <td>1.0</td>\n",
       "      <td>1</td>\n",
       "    </tr>\n",
       "    <tr>\n",
       "      <th>224729</th>\n",
       "      <td>0</td>\n",
       "      <td>0</td>\n",
       "      <td>0</td>\n",
       "      <td>0</td>\n",
       "      <td>0</td>\n",
       "      <td>1.0</td>\n",
       "      <td>0.0</td>\n",
       "      <td>1.0</td>\n",
       "      <td>1</td>\n",
       "    </tr>\n",
       "  </tbody>\n",
       "</table>\n",
       "<p>24024 rows × 9 columns</p>\n",
       "</div>"
      ],
      "text/plain": [
       "        cough  fever  sore_throat  shortness_of_breath  head_ache  covid  \\\n",
       "0           0      0            0                    0          0    1.0   \n",
       "1           0      0            0                    0          0    1.0   \n",
       "4           0      0            0                    0          0    1.0   \n",
       "5           0      0            0                    0          0    1.0   \n",
       "6           0      0            0                    0          0    1.0   \n",
       "...       ...    ...          ...                  ...        ...    ...   \n",
       "224720      0      1            0                    0          0    1.0   \n",
       "224721      0      0            0                    0          1    1.0   \n",
       "224723      0      0            0                    0          0    1.0   \n",
       "224728      0      0            0                    0          0    1.0   \n",
       "224729      0      0            0                    0          0    1.0   \n",
       "\n",
       "        sixty_above  male  Clusters  \n",
       "0               0.0   0.0         1  \n",
       "1               0.0   0.0         1  \n",
       "4               0.0   1.0         1  \n",
       "5               0.0   0.0         1  \n",
       "6               0.0   1.0         1  \n",
       "...             ...   ...       ...  \n",
       "224720          0.0   1.0         1  \n",
       "224721          0.0   1.0         0  \n",
       "224723          0.0   0.0         1  \n",
       "224728          0.0   1.0         1  \n",
       "224729          0.0   1.0         1  \n",
       "\n",
       "[24024 rows x 9 columns]"
      ]
     },
     "execution_count": 26,
     "metadata": {},
     "output_type": "execute_result"
    }
   ],
   "source": [
    "data2"
   ]
  },
  {
   "cell_type": "code",
   "execution_count": 38,
   "id": "9494d6c6",
   "metadata": {},
   "outputs": [
    {
     "data": {
      "text/plain": [
       "<AxesSubplot:xlabel='long_covid', ylabel='count'>"
      ]
     },
     "execution_count": 38,
     "metadata": {},
     "output_type": "execute_result"
    },
    {
     "data": {
      "image/png": "[encoded data removed]",
      "text/plain": [
       "<Figure size 864x864 with 6 Axes>"
      ]
     },
     "metadata": {
      "needs_background": "light"
     },
     "output_type": "display_data"
    }
   ],
   "source": [
    "plt.figure(figsize=[12,12])\n",
    "plt.subplot(321)\n",
    "sns.countplot(x= \"long_covid\", hue = \"cough\", data= data2)\n",
    "plt.subplot(322)\n",
    "sns.countplot(x= \"long_covid\", hue = \"fever\", data= data2)\n",
    "plt.subplot(323)\n",
    "sns.countplot(x= \"long_covid\", hue = \"sore_throat\", data= data2)\n",
    "plt.subplot(324)\n",
    "sns.countplot(x= \"long_covid\", hue = \"shortness_of_breath\", data= data2)\n",
    "plt.subplot(325)\n",
    "sns.countplot(x= \"long_covid\", hue = \"head_ache\", data= data2)\n",
    "plt.subplot(326)\n",
    "sns.countplot(x= \"long_covid\", hue = \"sixty_above\", data= data2)"
   ]
  },
  {
   "cell_type": "code",
   "execution_count": 40,
   "id": "d02c4ad7",
   "metadata": {},
   "outputs": [],
   "source": [
    "data2.to_csv(\"long_short_covid_data.csv\", index = False)"
   ]
  },
  {
   "cell_type": "code",
   "execution_count": null,
   "id": "cdd87376",
   "metadata": {},
   "outputs": [],
   "source": []
  },
  {
   "cell_type": "code",
   "execution_count": 39,
   "id": "da990859",
   "metadata": {},
   "outputs": [
    {
     "data": {
      "text/plain": [
       "<AxesSubplot:>"
      ]
     },
     "execution_count": 39,
     "metadata": {},
     "output_type": "execute_result"
    },
    {
     "data": {
      "image/png": "[encoded data removed]",
      "text/plain": [
       "<Figure size 576x576 with 2 Axes>"
      ]
     },
     "metadata": {
      "needs_background": "light"
     },
     "output_type": "display_data"
    }
   ],
   "source": [
    "plt.figure(figsize=[8,8])\n",
    "sns.heatmap(data2.corr(), annot=True)"
   ]
  },
  {
   "cell_type": "code",
   "execution_count": null,
   "id": "6609e37a",
   "metadata": {},
   "outputs": [],
   "source": []
  },
  {
   "cell_type": "markdown",
   "id": "e2939d64",
   "metadata": {},
   "source": [
    "# Four Clusters"
   ]
  },
  {
   "cell_type": "code",
   "execution_count": 38,
   "id": "fc0bbb36",
   "metadata": {},
   "outputs": [],
   "source": [
    "model14 = KMeans(n_clusters=4, random_state=42)"
   ]
  },
  {
   "cell_type": "code",
   "execution_count": 39,
   "id": "e6d217e7",
   "metadata": {},
   "outputs": [
    {
     "data": {
      "text/plain": [
       "KMeans(n_clusters=4, random_state=42)"
      ]
     },
     "execution_count": 39,
     "metadata": {},
     "output_type": "execute_result"
    }
   ],
   "source": [
    "model14.fit(scaled_data)"
   ]
  },
  {
   "cell_type": "code",
   "execution_count": 40,
   "id": "48035889",
   "metadata": {},
   "outputs": [
    {
     "data": {
      "text/plain": [
       "array([1, 1, 0, ..., 1, 0, 0])"
      ]
     },
     "execution_count": 40,
     "metadata": {},
     "output_type": "execute_result"
    }
   ],
   "source": [
    "model14.labels_"
   ]
  },
  {
   "cell_type": "code",
   "execution_count": 54,
   "id": "033a82c5",
   "metadata": {},
   "outputs": [],
   "source": [
    "silhouette_14 = silhouette_score(scaled_data, model14.labels_)"
   ]
  },
  {
   "cell_type": "code",
   "execution_count": 55,
   "id": "8627dec5",
   "metadata": {},
   "outputs": [
    {
     "data": {
      "text/plain": [
       "0.5462305812862596"
      ]
     },
     "execution_count": 55,
     "metadata": {},
     "output_type": "execute_result"
    }
   ],
   "source": [
    "silhouette_14"
   ]
  },
  {
   "cell_type": "code",
   "execution_count": 56,
   "id": "26b7f618",
   "metadata": {},
   "outputs": [
    {
     "name": "stderr",
     "output_type": "stream",
     "text": [
      "C:\\Users\\ushou\\AppData\\Local\\Temp/ipykernel_4912/1679773451.py:1: SettingWithCopyWarning: \n",
      "A value is trying to be set on a copy of a slice from a DataFrame.\n",
      "Try using .loc[row_indexer,col_indexer] = value instead\n",
      "\n",
      "See the caveats in the documentation: https://pandas.pydata.org/pandas-docs/stable/user_guide/indexing.html#returning-a-view-versus-a-copy\n",
      "  data2[\"Clusters\"] = model14.labels_\n"
     ]
    }
   ],
   "source": [
    "data2[\"Clusters\"] = model14.labels_"
   ]
  },
  {
   "cell_type": "code",
   "execution_count": 57,
   "id": "4ce6859f",
   "metadata": {},
   "outputs": [
    {
     "data": {
      "text/plain": [
       "<AxesSubplot:xlabel='Clusters', ylabel='count'>"
      ]
     },
     "execution_count": 57,
     "metadata": {},
     "output_type": "execute_result"
    },
    {
     "data": {
      "image/png": "[encoded data removed]",
      "text/plain": [
       "<Figure size 432x288 with 1 Axes>"
      ]
     },
     "metadata": {
      "needs_background": "light"
     },
     "output_type": "display_data"
    }
   ],
   "source": [
    "sns.countplot(x= \"Clusters\", data= data2)"
   ]
  },
  {
   "cell_type": "code",
   "execution_count": 58,
   "id": "7d896bf5",
   "metadata": {},
   "outputs": [
    {
     "data": {
      "text/plain": [
       "<AxesSubplot:>"
      ]
     },
     "execution_count": 58,
     "metadata": {},
     "output_type": "execute_result"
    },
    {
     "data": {
      "image/png": "[encoded data removed]",
      "text/plain": [
       "<Figure size 576x576 with 2 Axes>"
      ]
     },
     "metadata": {
      "needs_background": "light"
     },
     "output_type": "display_data"
    }
   ],
   "source": [
    "plt.figure(figsize=[8,8])\n",
    "sns.heatmap(data2.corr(), annot=True)"
   ]
  },
  {
   "cell_type": "markdown",
   "id": "c7976573",
   "metadata": {},
   "source": [
    "# Five Cluster"
   ]
  },
  {
   "cell_type": "code",
   "execution_count": 48,
   "id": "7bfc8875",
   "metadata": {},
   "outputs": [],
   "source": [
    "model15 = KMeans(n_clusters=5, random_state=42)"
   ]
  },
  {
   "cell_type": "code",
   "execution_count": 50,
   "id": "735a7279",
   "metadata": {},
   "outputs": [
    {
     "data": {
      "text/plain": [
       "KMeans(n_clusters=5, random_state=42)"
      ]
     },
     "execution_count": 50,
     "metadata": {},
     "output_type": "execute_result"
    }
   ],
   "source": [
    "model15.fit(scaled_data)"
   ]
  },
  {
   "cell_type": "code",
   "execution_count": 52,
   "id": "5b8e2498",
   "metadata": {},
   "outputs": [
    {
     "data": {
      "text/plain": [
       "array([4, 4, 0, ..., 4, 0, 0])"
      ]
     },
     "execution_count": 52,
     "metadata": {},
     "output_type": "execute_result"
    }
   ],
   "source": [
    "model15.labels_"
   ]
  },
  {
   "cell_type": "code",
   "execution_count": 59,
   "id": "74add21f",
   "metadata": {},
   "outputs": [
    {
     "data": {
      "text/plain": [
       "0.6272592311134856"
      ]
     },
     "execution_count": 59,
     "metadata": {},
     "output_type": "execute_result"
    }
   ],
   "source": [
    "silhouette_score(scaled_data, model15.labels_)"
   ]
  },
  {
   "cell_type": "code",
   "execution_count": 61,
   "id": "a552b279",
   "metadata": {},
   "outputs": [
    {
     "name": "stderr",
     "output_type": "stream",
     "text": [
      "C:\\Users\\ushou\\AppData\\Local\\Temp/ipykernel_4912/4203213736.py:1: SettingWithCopyWarning: \n",
      "A value is trying to be set on a copy of a slice from a DataFrame.\n",
      "Try using .loc[row_indexer,col_indexer] = value instead\n",
      "\n",
      "See the caveats in the documentation: https://pandas.pydata.org/pandas-docs/stable/user_guide/indexing.html#returning-a-view-versus-a-copy\n",
      "  data2[\"Clusters\"] = model15.labels_\n"
     ]
    }
   ],
   "source": [
    "data2[\"Clusters\"] = model15.labels_"
   ]
  },
  {
   "cell_type": "code",
   "execution_count": 62,
   "id": "b33fb8d6",
   "metadata": {},
   "outputs": [
    {
     "data": {
      "text/plain": [
       "<AxesSubplot:xlabel='Clusters', ylabel='count'>"
      ]
     },
     "execution_count": 62,
     "metadata": {},
     "output_type": "execute_result"
    },
    {
     "data": {
      "image/png": "[encoded data removed]",
      "text/plain": [
       "<Figure size 432x288 with 1 Axes>"
      ]
     },
     "metadata": {
      "needs_background": "light"
     },
     "output_type": "display_data"
    }
   ],
   "source": [
    "sns.countplot(x= \"Clusters\", data= data2)"
   ]
  },
  {
   "cell_type": "markdown",
   "id": "5481e6ba",
   "metadata": {},
   "source": [
    "# Multiple"
   ]
  },
  {
   "cell_type": "code",
   "execution_count": 64,
   "id": "0cb3cc7e",
   "metadata": {},
   "outputs": [],
   "source": [
    "kmeans_multiple = [KMeans(n_clusters=k, random_state=40).fit(scaled_data) for k in range(1, 11)]\n",
    "silhouette_scores = [silhouette_score(scaled_data, model.labels_) for model in kmeans_multiple[1:]]"
   ]
  },
  {
   "cell_type": "code",
   "execution_count": 65,
   "id": "d564a6c5",
   "metadata": {},
   "outputs": [
    {
     "data": {
      "text/plain": [
       "[0.5716235307037959,\n",
       " 0.5259838338820233,\n",
       " 0.544802265581944,\n",
       " 0.6272592311134856,\n",
       " 0.6855603909871972,\n",
       " 0.7444131830449687,\n",
       " 0.7870084532469505,\n",
       " 0.7937961010186566,\n",
       " 0.8121734039983949]"
      ]
     },
     "execution_count": 65,
     "metadata": {},
     "output_type": "execute_result"
    }
   ],
   "source": [
    "silhouette_scores"
   ]
  },
  {
   "cell_type": "code",
   "execution_count": 67,
   "id": "d28b8274",
   "metadata": {},
   "outputs": [
    {
     "data": {
      "text/plain": [
       "Text(0, 0.5, 'Silk Co-efficient')"
      ]
     },
     "execution_count": 67,
     "metadata": {},
     "output_type": "execute_result"
    },
    {
     "data": {
      "image/png": "[encoded data removed]",
      "text/plain": [
       "<Figure size 432x288 with 1 Axes>"
      ]
     },
     "metadata": {
      "needs_background": "light"
     },
     "output_type": "display_data"
    }
   ],
   "source": [
    "plt.plot(range(2,11),silhouette_scores)\n",
    "plt.xlabel(\"Clusters\")\n",
    "plt.ylabel(\"Silk Co-efficient\")"
   ]
  },
  {
   "cell_type": "markdown",
   "id": "6fb0782a",
   "metadata": {},
   "source": [
    "# Zero-One Normaisation"
   ]
  },
  {
   "cell_type": "code",
   "execution_count": 68,
   "id": "35e9e674",
   "metadata": {},
   "outputs": [
    {
     "name": "stderr",
     "output_type": "stream",
     "text": [
      "C:\\Users\\ushou\\AppData\\Local\\Temp/ipykernel_4912/809991547.py:1: SettingWithCopyWarning: \n",
      "A value is trying to be set on a copy of a slice from a DataFrame.\n",
      "Try using .loc[row_indexer,col_indexer] = value instead\n",
      "\n",
      "See the caveats in the documentation: https://pandas.pydata.org/pandas-docs/stable/user_guide/indexing.html#returning-a-view-versus-a-copy\n",
      "  data2[\"Clusters\"] = kmeans_multiple[-1].labels_\n"
     ]
    }
   ],
   "source": [
    "data2[\"Clusters\"] = kmeans_multiple[-1].labels_"
   ]
  },
  {
   "cell_type": "code",
   "execution_count": 69,
   "id": "c77a9cb2",
   "metadata": {},
   "outputs": [
    {
     "data": {
      "text/plain": [
       "<AxesSubplot:xlabel='Clusters', ylabel='count'>"
      ]
     },
     "execution_count": 69,
     "metadata": {},
     "output_type": "execute_result"
    },
    {
     "data": {
      "image/png": "[encoded data removed]",
      "text/plain": [
       "<Figure size 432x288 with 1 Axes>"
      ]
     },
     "metadata": {
      "needs_background": "light"
     },
     "output_type": "display_data"
    }
   ],
   "source": [
    "sns.countplot(x= \"Clusters\", data= data2)"
   ]
  },
  {
   "cell_type": "code",
   "execution_count": null,
   "id": "a18a733a",
   "metadata": {},
   "outputs": [],
   "source": []
  }
 ],
 "metadata": {
  "kernelspec": {
   "display_name": "Python 3 (ipykernel)",
   "language": "python",
   "name": "python3"
  },
  "language_info": {
   "codemirror_mode": {
    "name": "ipython",
    "version": 3
   },
   "file_extension": ".py",
   "mimetype": "text/x-python",
   "name": "python",
   "nbconvert_exporter": "python",
   "pygments_lexer": "ipython3",
   "version": "3.7.9"
  }
 },
 "nbformat": 4,
 "nbformat_minor": 5
}
