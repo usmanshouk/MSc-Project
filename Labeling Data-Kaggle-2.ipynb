{
 "cells": [
  {
   "cell_type": "code",
   "execution_count": 2,
   "id": "7a126dc4",
   "metadata": {},
   "outputs": [],
   "source": [
    "import pandas as pd\n",
    "import numpy as np\n",
    "from sklearn.cluster import KMeans\n",
    "from sklearn.metrics import classification_report, confusion_matrix, cluster, silhouette_samples, silhouette_score\n",
    "from sklearn.preprocessing import scale, MinMaxScaler\n",
    "import matplotlib.pyplot as plt\n",
    "import matplotlib as mpl\n",
    "from matplotlib.ticker import FixedLocator, FixedFormatter\n",
    "from pylab import rcParams\n",
    "import seaborn as sns\n",
    "from sklearn.model_selection import train_test_split\n",
    "import tensorflow as tf\n",
    "from tensorflow.keras.models import Sequential\n",
    "from tensorflow.keras.layers import Dense, Dropout\n",
    "from tensorflow.keras.callbacks import EarlyStopping\n",
    "from keras.preprocessing.text import one_hot"
   ]
  },
  {
   "cell_type": "code",
   "execution_count": 3,
   "id": "2bc09de1",
   "metadata": {},
   "outputs": [],
   "source": [
    "data_dir = \"./../new_dataset/\"\n",
    "data = pd.read_csv(data_dir + \"Cleaned-Data.csv\")"
   ]
  },
  {
   "cell_type": "code",
   "execution_count": 4,
   "id": "2a66e77e",
   "metadata": {},
   "outputs": [],
   "source": [
    "# label = data[\"infectionProb\"]"
   ]
  },
  {
   "cell_type": "code",
   "execution_count": 5,
   "id": "7afac22c",
   "metadata": {},
   "outputs": [
    {
     "data": {
      "text/html": [
       "<div>\n",
       "<style scoped>\n",
       "    .dataframe tbody tr th:only-of-type {\n",
       "        vertical-align: middle;\n",
       "    }\n",
       "\n",
       "    .dataframe tbody tr th {\n",
       "        vertical-align: top;\n",
       "    }\n",
       "\n",
       "    .dataframe thead th {\n",
       "        text-align: right;\n",
       "    }\n",
       "</style>\n",
       "<table border=\"1\" class=\"dataframe\">\n",
       "  <thead>\n",
       "    <tr style=\"text-align: right;\">\n",
       "      <th></th>\n",
       "      <th>Fever</th>\n",
       "      <th>Tiredness</th>\n",
       "      <th>Dry-Cough</th>\n",
       "      <th>Difficulty-in-Breathing</th>\n",
       "      <th>Sore-Throat</th>\n",
       "      <th>None_Sympton</th>\n",
       "      <th>Pains</th>\n",
       "      <th>Nasal-Congestion</th>\n",
       "      <th>Runny-Nose</th>\n",
       "      <th>Diarrhea</th>\n",
       "      <th>...</th>\n",
       "      <th>Gender_Male</th>\n",
       "      <th>Gender_Transgender</th>\n",
       "      <th>Severity_Mild</th>\n",
       "      <th>Severity_Moderate</th>\n",
       "      <th>Severity_None</th>\n",
       "      <th>Severity_Severe</th>\n",
       "      <th>Contact_Dont-Know</th>\n",
       "      <th>Contact_No</th>\n",
       "      <th>Contact_Yes</th>\n",
       "      <th>Country</th>\n",
       "    </tr>\n",
       "  </thead>\n",
       "  <tbody>\n",
       "    <tr>\n",
       "      <th>0</th>\n",
       "      <td>1</td>\n",
       "      <td>1</td>\n",
       "      <td>1</td>\n",
       "      <td>1</td>\n",
       "      <td>1</td>\n",
       "      <td>0</td>\n",
       "      <td>1</td>\n",
       "      <td>1</td>\n",
       "      <td>1</td>\n",
       "      <td>1</td>\n",
       "      <td>...</td>\n",
       "      <td>1</td>\n",
       "      <td>0</td>\n",
       "      <td>1</td>\n",
       "      <td>0</td>\n",
       "      <td>0</td>\n",
       "      <td>0</td>\n",
       "      <td>0</td>\n",
       "      <td>0</td>\n",
       "      <td>1</td>\n",
       "      <td>China</td>\n",
       "    </tr>\n",
       "    <tr>\n",
       "      <th>1</th>\n",
       "      <td>1</td>\n",
       "      <td>1</td>\n",
       "      <td>1</td>\n",
       "      <td>1</td>\n",
       "      <td>1</td>\n",
       "      <td>0</td>\n",
       "      <td>1</td>\n",
       "      <td>1</td>\n",
       "      <td>1</td>\n",
       "      <td>1</td>\n",
       "      <td>...</td>\n",
       "      <td>1</td>\n",
       "      <td>0</td>\n",
       "      <td>1</td>\n",
       "      <td>0</td>\n",
       "      <td>0</td>\n",
       "      <td>0</td>\n",
       "      <td>0</td>\n",
       "      <td>1</td>\n",
       "      <td>0</td>\n",
       "      <td>China</td>\n",
       "    </tr>\n",
       "    <tr>\n",
       "      <th>2</th>\n",
       "      <td>1</td>\n",
       "      <td>1</td>\n",
       "      <td>1</td>\n",
       "      <td>1</td>\n",
       "      <td>1</td>\n",
       "      <td>0</td>\n",
       "      <td>1</td>\n",
       "      <td>1</td>\n",
       "      <td>1</td>\n",
       "      <td>1</td>\n",
       "      <td>...</td>\n",
       "      <td>1</td>\n",
       "      <td>0</td>\n",
       "      <td>1</td>\n",
       "      <td>0</td>\n",
       "      <td>0</td>\n",
       "      <td>0</td>\n",
       "      <td>1</td>\n",
       "      <td>0</td>\n",
       "      <td>0</td>\n",
       "      <td>China</td>\n",
       "    </tr>\n",
       "    <tr>\n",
       "      <th>3</th>\n",
       "      <td>1</td>\n",
       "      <td>1</td>\n",
       "      <td>1</td>\n",
       "      <td>1</td>\n",
       "      <td>1</td>\n",
       "      <td>0</td>\n",
       "      <td>1</td>\n",
       "      <td>1</td>\n",
       "      <td>1</td>\n",
       "      <td>1</td>\n",
       "      <td>...</td>\n",
       "      <td>1</td>\n",
       "      <td>0</td>\n",
       "      <td>0</td>\n",
       "      <td>1</td>\n",
       "      <td>0</td>\n",
       "      <td>0</td>\n",
       "      <td>0</td>\n",
       "      <td>0</td>\n",
       "      <td>1</td>\n",
       "      <td>China</td>\n",
       "    </tr>\n",
       "    <tr>\n",
       "      <th>4</th>\n",
       "      <td>1</td>\n",
       "      <td>1</td>\n",
       "      <td>1</td>\n",
       "      <td>1</td>\n",
       "      <td>1</td>\n",
       "      <td>0</td>\n",
       "      <td>1</td>\n",
       "      <td>1</td>\n",
       "      <td>1</td>\n",
       "      <td>1</td>\n",
       "      <td>...</td>\n",
       "      <td>1</td>\n",
       "      <td>0</td>\n",
       "      <td>0</td>\n",
       "      <td>1</td>\n",
       "      <td>0</td>\n",
       "      <td>0</td>\n",
       "      <td>0</td>\n",
       "      <td>1</td>\n",
       "      <td>0</td>\n",
       "      <td>China</td>\n",
       "    </tr>\n",
       "    <tr>\n",
       "      <th>...</th>\n",
       "      <td>...</td>\n",
       "      <td>...</td>\n",
       "      <td>...</td>\n",
       "      <td>...</td>\n",
       "      <td>...</td>\n",
       "      <td>...</td>\n",
       "      <td>...</td>\n",
       "      <td>...</td>\n",
       "      <td>...</td>\n",
       "      <td>...</td>\n",
       "      <td>...</td>\n",
       "      <td>...</td>\n",
       "      <td>...</td>\n",
       "      <td>...</td>\n",
       "      <td>...</td>\n",
       "      <td>...</td>\n",
       "      <td>...</td>\n",
       "      <td>...</td>\n",
       "      <td>...</td>\n",
       "      <td>...</td>\n",
       "      <td>...</td>\n",
       "    </tr>\n",
       "    <tr>\n",
       "      <th>316795</th>\n",
       "      <td>0</td>\n",
       "      <td>0</td>\n",
       "      <td>0</td>\n",
       "      <td>0</td>\n",
       "      <td>0</td>\n",
       "      <td>1</td>\n",
       "      <td>0</td>\n",
       "      <td>0</td>\n",
       "      <td>0</td>\n",
       "      <td>0</td>\n",
       "      <td>...</td>\n",
       "      <td>0</td>\n",
       "      <td>1</td>\n",
       "      <td>0</td>\n",
       "      <td>0</td>\n",
       "      <td>0</td>\n",
       "      <td>1</td>\n",
       "      <td>0</td>\n",
       "      <td>1</td>\n",
       "      <td>0</td>\n",
       "      <td>Other</td>\n",
       "    </tr>\n",
       "    <tr>\n",
       "      <th>316796</th>\n",
       "      <td>0</td>\n",
       "      <td>0</td>\n",
       "      <td>0</td>\n",
       "      <td>0</td>\n",
       "      <td>0</td>\n",
       "      <td>1</td>\n",
       "      <td>0</td>\n",
       "      <td>0</td>\n",
       "      <td>0</td>\n",
       "      <td>0</td>\n",
       "      <td>...</td>\n",
       "      <td>0</td>\n",
       "      <td>1</td>\n",
       "      <td>0</td>\n",
       "      <td>0</td>\n",
       "      <td>0</td>\n",
       "      <td>1</td>\n",
       "      <td>1</td>\n",
       "      <td>0</td>\n",
       "      <td>0</td>\n",
       "      <td>Other</td>\n",
       "    </tr>\n",
       "    <tr>\n",
       "      <th>316797</th>\n",
       "      <td>0</td>\n",
       "      <td>0</td>\n",
       "      <td>0</td>\n",
       "      <td>0</td>\n",
       "      <td>0</td>\n",
       "      <td>1</td>\n",
       "      <td>0</td>\n",
       "      <td>0</td>\n",
       "      <td>0</td>\n",
       "      <td>0</td>\n",
       "      <td>...</td>\n",
       "      <td>0</td>\n",
       "      <td>1</td>\n",
       "      <td>0</td>\n",
       "      <td>0</td>\n",
       "      <td>1</td>\n",
       "      <td>0</td>\n",
       "      <td>0</td>\n",
       "      <td>0</td>\n",
       "      <td>1</td>\n",
       "      <td>Other</td>\n",
       "    </tr>\n",
       "    <tr>\n",
       "      <th>316798</th>\n",
       "      <td>0</td>\n",
       "      <td>0</td>\n",
       "      <td>0</td>\n",
       "      <td>0</td>\n",
       "      <td>0</td>\n",
       "      <td>1</td>\n",
       "      <td>0</td>\n",
       "      <td>0</td>\n",
       "      <td>0</td>\n",
       "      <td>0</td>\n",
       "      <td>...</td>\n",
       "      <td>0</td>\n",
       "      <td>1</td>\n",
       "      <td>0</td>\n",
       "      <td>0</td>\n",
       "      <td>1</td>\n",
       "      <td>0</td>\n",
       "      <td>0</td>\n",
       "      <td>1</td>\n",
       "      <td>0</td>\n",
       "      <td>Other</td>\n",
       "    </tr>\n",
       "    <tr>\n",
       "      <th>316799</th>\n",
       "      <td>0</td>\n",
       "      <td>0</td>\n",
       "      <td>0</td>\n",
       "      <td>0</td>\n",
       "      <td>0</td>\n",
       "      <td>1</td>\n",
       "      <td>0</td>\n",
       "      <td>0</td>\n",
       "      <td>0</td>\n",
       "      <td>0</td>\n",
       "      <td>...</td>\n",
       "      <td>0</td>\n",
       "      <td>1</td>\n",
       "      <td>0</td>\n",
       "      <td>0</td>\n",
       "      <td>1</td>\n",
       "      <td>0</td>\n",
       "      <td>1</td>\n",
       "      <td>0</td>\n",
       "      <td>0</td>\n",
       "      <td>Other</td>\n",
       "    </tr>\n",
       "  </tbody>\n",
       "</table>\n",
       "<p>316800 rows × 27 columns</p>\n",
       "</div>"
      ],
      "text/plain": [
       "        Fever  Tiredness  Dry-Cough  Difficulty-in-Breathing  Sore-Throat  \\\n",
       "0           1          1          1                        1            1   \n",
       "1           1          1          1                        1            1   \n",
       "2           1          1          1                        1            1   \n",
       "3           1          1          1                        1            1   \n",
       "4           1          1          1                        1            1   \n",
       "...       ...        ...        ...                      ...          ...   \n",
       "316795      0          0          0                        0            0   \n",
       "316796      0          0          0                        0            0   \n",
       "316797      0          0          0                        0            0   \n",
       "316798      0          0          0                        0            0   \n",
       "316799      0          0          0                        0            0   \n",
       "\n",
       "        None_Sympton  Pains  Nasal-Congestion  Runny-Nose  Diarrhea  ...  \\\n",
       "0                  0      1                 1           1         1  ...   \n",
       "1                  0      1                 1           1         1  ...   \n",
       "2                  0      1                 1           1         1  ...   \n",
       "3                  0      1                 1           1         1  ...   \n",
       "4                  0      1                 1           1         1  ...   \n",
       "...              ...    ...               ...         ...       ...  ...   \n",
       "316795             1      0                 0           0         0  ...   \n",
       "316796             1      0                 0           0         0  ...   \n",
       "316797             1      0                 0           0         0  ...   \n",
       "316798             1      0                 0           0         0  ...   \n",
       "316799             1      0                 0           0         0  ...   \n",
       "\n",
       "        Gender_Male  Gender_Transgender  Severity_Mild  Severity_Moderate  \\\n",
       "0                 1                   0              1                  0   \n",
       "1                 1                   0              1                  0   \n",
       "2                 1                   0              1                  0   \n",
       "3                 1                   0              0                  1   \n",
       "4                 1                   0              0                  1   \n",
       "...             ...                 ...            ...                ...   \n",
       "316795            0                   1              0                  0   \n",
       "316796            0                   1              0                  0   \n",
       "316797            0                   1              0                  0   \n",
       "316798            0                   1              0                  0   \n",
       "316799            0                   1              0                  0   \n",
       "\n",
       "        Severity_None  Severity_Severe  Contact_Dont-Know  Contact_No  \\\n",
       "0                   0                0                  0           0   \n",
       "1                   0                0                  0           1   \n",
       "2                   0                0                  1           0   \n",
       "3                   0                0                  0           0   \n",
       "4                   0                0                  0           1   \n",
       "...               ...              ...                ...         ...   \n",
       "316795              0                1                  0           1   \n",
       "316796              0                1                  1           0   \n",
       "316797              1                0                  0           0   \n",
       "316798              1                0                  0           1   \n",
       "316799              1                0                  1           0   \n",
       "\n",
       "        Contact_Yes  Country  \n",
       "0                 1    China  \n",
       "1                 0    China  \n",
       "2                 0    China  \n",
       "3                 1    China  \n",
       "4                 0    China  \n",
       "...             ...      ...  \n",
       "316795            0    Other  \n",
       "316796            0    Other  \n",
       "316797            1    Other  \n",
       "316798            0    Other  \n",
       "316799            0    Other  \n",
       "\n",
       "[316800 rows x 27 columns]"
      ]
     },
     "execution_count": 5,
     "metadata": {},
     "output_type": "execute_result"
    }
   ],
   "source": [
    "data"
   ]
  },
  {
   "cell_type": "code",
   "execution_count": 6,
   "id": "493304ef",
   "metadata": {},
   "outputs": [],
   "source": [
    "data.loc[data['Gender_Male'] == 1, 'gender'] = 0\n",
    "data.loc[data['Gender_Female'] == 1, 'gender'] = 1\n",
    "data.loc[data['Gender_Transgender'] == 1, 'gender'] = 2"
   ]
  },
  {
   "cell_type": "code",
   "execution_count": null,
   "id": "4e6352db",
   "metadata": {},
   "outputs": [],
   "source": []
  },
  {
   "cell_type": "code",
   "execution_count": 7,
   "id": "86afbb7f",
   "metadata": {},
   "outputs": [],
   "source": [
    "data.loc[data['Severity_None'] == 1, 'severity'] = 0\n",
    "data.loc[data['Severity_Mild'] == 1, 'severity'] = 1\n",
    "data.loc[data['Severity_Moderate'] == 1, 'severity'] = 2\n",
    "data.loc[data['Severity_Severe'] == 1, 'severity'] = 3"
   ]
  },
  {
   "cell_type": "code",
   "execution_count": 8,
   "id": "d39080ef",
   "metadata": {},
   "outputs": [],
   "source": [
    "data.loc[data['Age_0-9'] == 1, 'age_group'] = 0\n",
    "data.loc[data['Age_10-19'] == 1, 'age_group'] = 1\n",
    "data.loc[data['Age_20-24'] == 1, 'age_group'] = 2\n",
    "data.loc[data['Age_25-59'] == 1, 'age_group'] = 3\n",
    "data.loc[data['Age_60+'] == 1, 'age_group'] = 4"
   ]
  },
  {
   "cell_type": "code",
   "execution_count": 9,
   "id": "85d345a6",
   "metadata": {},
   "outputs": [],
   "source": [
    "data1 = data.drop([\"Contact_Dont-Know\", \"Contact_No\", \"Contact_Yes\", \"Country\", 'Gender_Male', 'Gender_Female', 'Gender_Transgender', 'Severity_None', 'Severity_Mild', 'Severity_Moderate', 'Severity_Severe', 'Age_0-9', 'Age_10-19', 'Age_20-24', 'Age_25-59', 'Age_60+'], axis = 1)"
   ]
  },
  {
   "cell_type": "code",
   "execution_count": 10,
   "id": "4ee6c7c3",
   "metadata": {},
   "outputs": [
    {
     "data": {
      "text/html": [
       "<div>\n",
       "<style scoped>\n",
       "    .dataframe tbody tr th:only-of-type {\n",
       "        vertical-align: middle;\n",
       "    }\n",
       "\n",
       "    .dataframe tbody tr th {\n",
       "        vertical-align: top;\n",
       "    }\n",
       "\n",
       "    .dataframe thead th {\n",
       "        text-align: right;\n",
       "    }\n",
       "</style>\n",
       "<table border=\"1\" class=\"dataframe\">\n",
       "  <thead>\n",
       "    <tr style=\"text-align: right;\">\n",
       "      <th></th>\n",
       "      <th>Fever</th>\n",
       "      <th>Tiredness</th>\n",
       "      <th>Dry-Cough</th>\n",
       "      <th>Difficulty-in-Breathing</th>\n",
       "      <th>Sore-Throat</th>\n",
       "      <th>None_Sympton</th>\n",
       "      <th>Pains</th>\n",
       "      <th>Nasal-Congestion</th>\n",
       "      <th>Runny-Nose</th>\n",
       "      <th>Diarrhea</th>\n",
       "      <th>None_Experiencing</th>\n",
       "      <th>gender</th>\n",
       "      <th>severity</th>\n",
       "      <th>age_group</th>\n",
       "    </tr>\n",
       "  </thead>\n",
       "  <tbody>\n",
       "    <tr>\n",
       "      <th>0</th>\n",
       "      <td>1</td>\n",
       "      <td>1</td>\n",
       "      <td>1</td>\n",
       "      <td>1</td>\n",
       "      <td>1</td>\n",
       "      <td>0</td>\n",
       "      <td>1</td>\n",
       "      <td>1</td>\n",
       "      <td>1</td>\n",
       "      <td>1</td>\n",
       "      <td>0</td>\n",
       "      <td>0.0</td>\n",
       "      <td>1.0</td>\n",
       "      <td>0.0</td>\n",
       "    </tr>\n",
       "    <tr>\n",
       "      <th>1</th>\n",
       "      <td>1</td>\n",
       "      <td>1</td>\n",
       "      <td>1</td>\n",
       "      <td>1</td>\n",
       "      <td>1</td>\n",
       "      <td>0</td>\n",
       "      <td>1</td>\n",
       "      <td>1</td>\n",
       "      <td>1</td>\n",
       "      <td>1</td>\n",
       "      <td>0</td>\n",
       "      <td>0.0</td>\n",
       "      <td>1.0</td>\n",
       "      <td>0.0</td>\n",
       "    </tr>\n",
       "    <tr>\n",
       "      <th>2</th>\n",
       "      <td>1</td>\n",
       "      <td>1</td>\n",
       "      <td>1</td>\n",
       "      <td>1</td>\n",
       "      <td>1</td>\n",
       "      <td>0</td>\n",
       "      <td>1</td>\n",
       "      <td>1</td>\n",
       "      <td>1</td>\n",
       "      <td>1</td>\n",
       "      <td>0</td>\n",
       "      <td>0.0</td>\n",
       "      <td>1.0</td>\n",
       "      <td>0.0</td>\n",
       "    </tr>\n",
       "    <tr>\n",
       "      <th>3</th>\n",
       "      <td>1</td>\n",
       "      <td>1</td>\n",
       "      <td>1</td>\n",
       "      <td>1</td>\n",
       "      <td>1</td>\n",
       "      <td>0</td>\n",
       "      <td>1</td>\n",
       "      <td>1</td>\n",
       "      <td>1</td>\n",
       "      <td>1</td>\n",
       "      <td>0</td>\n",
       "      <td>0.0</td>\n",
       "      <td>2.0</td>\n",
       "      <td>0.0</td>\n",
       "    </tr>\n",
       "    <tr>\n",
       "      <th>4</th>\n",
       "      <td>1</td>\n",
       "      <td>1</td>\n",
       "      <td>1</td>\n",
       "      <td>1</td>\n",
       "      <td>1</td>\n",
       "      <td>0</td>\n",
       "      <td>1</td>\n",
       "      <td>1</td>\n",
       "      <td>1</td>\n",
       "      <td>1</td>\n",
       "      <td>0</td>\n",
       "      <td>0.0</td>\n",
       "      <td>2.0</td>\n",
       "      <td>0.0</td>\n",
       "    </tr>\n",
       "    <tr>\n",
       "      <th>...</th>\n",
       "      <td>...</td>\n",
       "      <td>...</td>\n",
       "      <td>...</td>\n",
       "      <td>...</td>\n",
       "      <td>...</td>\n",
       "      <td>...</td>\n",
       "      <td>...</td>\n",
       "      <td>...</td>\n",
       "      <td>...</td>\n",
       "      <td>...</td>\n",
       "      <td>...</td>\n",
       "      <td>...</td>\n",
       "      <td>...</td>\n",
       "      <td>...</td>\n",
       "    </tr>\n",
       "    <tr>\n",
       "      <th>316795</th>\n",
       "      <td>0</td>\n",
       "      <td>0</td>\n",
       "      <td>0</td>\n",
       "      <td>0</td>\n",
       "      <td>0</td>\n",
       "      <td>1</td>\n",
       "      <td>0</td>\n",
       "      <td>0</td>\n",
       "      <td>0</td>\n",
       "      <td>0</td>\n",
       "      <td>1</td>\n",
       "      <td>2.0</td>\n",
       "      <td>3.0</td>\n",
       "      <td>4.0</td>\n",
       "    </tr>\n",
       "    <tr>\n",
       "      <th>316796</th>\n",
       "      <td>0</td>\n",
       "      <td>0</td>\n",
       "      <td>0</td>\n",
       "      <td>0</td>\n",
       "      <td>0</td>\n",
       "      <td>1</td>\n",
       "      <td>0</td>\n",
       "      <td>0</td>\n",
       "      <td>0</td>\n",
       "      <td>0</td>\n",
       "      <td>1</td>\n",
       "      <td>2.0</td>\n",
       "      <td>3.0</td>\n",
       "      <td>4.0</td>\n",
       "    </tr>\n",
       "    <tr>\n",
       "      <th>316797</th>\n",
       "      <td>0</td>\n",
       "      <td>0</td>\n",
       "      <td>0</td>\n",
       "      <td>0</td>\n",
       "      <td>0</td>\n",
       "      <td>1</td>\n",
       "      <td>0</td>\n",
       "      <td>0</td>\n",
       "      <td>0</td>\n",
       "      <td>0</td>\n",
       "      <td>1</td>\n",
       "      <td>2.0</td>\n",
       "      <td>0.0</td>\n",
       "      <td>4.0</td>\n",
       "    </tr>\n",
       "    <tr>\n",
       "      <th>316798</th>\n",
       "      <td>0</td>\n",
       "      <td>0</td>\n",
       "      <td>0</td>\n",
       "      <td>0</td>\n",
       "      <td>0</td>\n",
       "      <td>1</td>\n",
       "      <td>0</td>\n",
       "      <td>0</td>\n",
       "      <td>0</td>\n",
       "      <td>0</td>\n",
       "      <td>1</td>\n",
       "      <td>2.0</td>\n",
       "      <td>0.0</td>\n",
       "      <td>4.0</td>\n",
       "    </tr>\n",
       "    <tr>\n",
       "      <th>316799</th>\n",
       "      <td>0</td>\n",
       "      <td>0</td>\n",
       "      <td>0</td>\n",
       "      <td>0</td>\n",
       "      <td>0</td>\n",
       "      <td>1</td>\n",
       "      <td>0</td>\n",
       "      <td>0</td>\n",
       "      <td>0</td>\n",
       "      <td>0</td>\n",
       "      <td>1</td>\n",
       "      <td>2.0</td>\n",
       "      <td>0.0</td>\n",
       "      <td>4.0</td>\n",
       "    </tr>\n",
       "  </tbody>\n",
       "</table>\n",
       "<p>316800 rows × 14 columns</p>\n",
       "</div>"
      ],
      "text/plain": [
       "        Fever  Tiredness  Dry-Cough  Difficulty-in-Breathing  Sore-Throat  \\\n",
       "0           1          1          1                        1            1   \n",
       "1           1          1          1                        1            1   \n",
       "2           1          1          1                        1            1   \n",
       "3           1          1          1                        1            1   \n",
       "4           1          1          1                        1            1   \n",
       "...       ...        ...        ...                      ...          ...   \n",
       "316795      0          0          0                        0            0   \n",
       "316796      0          0          0                        0            0   \n",
       "316797      0          0          0                        0            0   \n",
       "316798      0          0          0                        0            0   \n",
       "316799      0          0          0                        0            0   \n",
       "\n",
       "        None_Sympton  Pains  Nasal-Congestion  Runny-Nose  Diarrhea  \\\n",
       "0                  0      1                 1           1         1   \n",
       "1                  0      1                 1           1         1   \n",
       "2                  0      1                 1           1         1   \n",
       "3                  0      1                 1           1         1   \n",
       "4                  0      1                 1           1         1   \n",
       "...              ...    ...               ...         ...       ...   \n",
       "316795             1      0                 0           0         0   \n",
       "316796             1      0                 0           0         0   \n",
       "316797             1      0                 0           0         0   \n",
       "316798             1      0                 0           0         0   \n",
       "316799             1      0                 0           0         0   \n",
       "\n",
       "        None_Experiencing  gender  severity  age_group  \n",
       "0                       0     0.0       1.0        0.0  \n",
       "1                       0     0.0       1.0        0.0  \n",
       "2                       0     0.0       1.0        0.0  \n",
       "3                       0     0.0       2.0        0.0  \n",
       "4                       0     0.0       2.0        0.0  \n",
       "...                   ...     ...       ...        ...  \n",
       "316795                  1     2.0       3.0        4.0  \n",
       "316796                  1     2.0       3.0        4.0  \n",
       "316797                  1     2.0       0.0        4.0  \n",
       "316798                  1     2.0       0.0        4.0  \n",
       "316799                  1     2.0       0.0        4.0  \n",
       "\n",
       "[316800 rows x 14 columns]"
      ]
     },
     "execution_count": 10,
     "metadata": {},
     "output_type": "execute_result"
    }
   ],
   "source": [
    "data1"
   ]
  },
  {
   "cell_type": "code",
   "execution_count": 11,
   "id": "eef03b31",
   "metadata": {},
   "outputs": [],
   "source": [
    "data1.dropna(axis=0, inplace = True)"
   ]
  },
  {
   "cell_type": "markdown",
   "id": "b22836f6",
   "metadata": {},
   "source": [
    "# Data Visalisation"
   ]
  },
  {
   "cell_type": "code",
   "execution_count": 12,
   "id": "456b6c66",
   "metadata": {},
   "outputs": [
    {
     "data": {
      "text/plain": [
       "<AxesSubplot:xlabel='age_group', ylabel='count'>"
      ]
     },
     "execution_count": 12,
     "metadata": {},
     "output_type": "execute_result"
    },
    {
     "data": {
      "image/png": "[encoded data removed]",
      "text/plain": [
       "<Figure size 864x864 with 4 Axes>"
      ]
     },
     "metadata": {
      "needs_background": "light"
     },
     "output_type": "display_data"
    }
   ],
   "source": [
    "plt.figure(figsize=[12,12])\n",
    "# plt.subplot(531)\n",
    "# sns.countplot(x= \"Fever\", data= data)\n",
    "# plt.subplot(532)\n",
    "# sns.countplot(x= \"Tiredness\", data= data)\n",
    "# plt.subplot(533)\n",
    "# sns.countplot(x= \"Dry-Cough\", data= data)\n",
    "# plt.subplot(534)\n",
    "# sns.countplot(x= \"Difficulty-in-Breathing\", data= data)\n",
    "# plt.subplot(535)\n",
    "# sns.countplot(x= \"Sore-Throat\", data= data)\n",
    "# plt.subplot(536)\n",
    "# sns.countplot(x= \"None_Sympton\", data= data)\n",
    "# plt.subplot(537)\n",
    "# sns.countplot(x= \"Pains\", data= data)\n",
    "# plt.subplot(538)\n",
    "# sns.countplot(x= \"Nasal-Congestion\", data= data)\n",
    "# plt.subplot(539)\n",
    "# sns.countplot(x= \"Runny-Nose\", data= data)\n",
    "plt.subplot(531)\n",
    "sns.countplot(x= \"Diarrhea\", data= data1)\n",
    "plt.subplot(532)\n",
    "sns.countplot(x= \"gender\", data= data1)\n",
    "plt.subplot(533)\n",
    "sns.countplot(x= \"severity\", data= data1)\n",
    "plt.subplot(534)\n",
    "sns.countplot(x= \"age_group\", data= data1)"
   ]
  },
  {
   "cell_type": "code",
   "execution_count": 14,
   "id": "6bdbb3c6",
   "metadata": {},
   "outputs": [
    {
     "data": {
      "text/plain": [
       "<AxesSubplot:>"
      ]
     },
     "execution_count": 14,
     "metadata": {},
     "output_type": "execute_result"
    },
    {
     "data": {
      "image/png": "[encoded data removed]",
      "text/plain": [
       "<Figure size 1440x1440 with 2 Axes>"
      ]
     },
     "metadata": {
      "needs_background": "light"
     },
     "output_type": "display_data"
    }
   ],
   "source": [
    "plt.figure(figsize=[20,20])\n",
    "sns.heatmap(data1.corr(), annot=True)"
   ]
  },
  {
   "cell_type": "code",
   "execution_count": 15,
   "id": "fb621dd3",
   "metadata": {},
   "outputs": [
    {
     "data": {
      "text/html": [
       "<div>\n",
       "<style scoped>\n",
       "    .dataframe tbody tr th:only-of-type {\n",
       "        vertical-align: middle;\n",
       "    }\n",
       "\n",
       "    .dataframe tbody tr th {\n",
       "        vertical-align: top;\n",
       "    }\n",
       "\n",
       "    .dataframe thead th {\n",
       "        text-align: right;\n",
       "    }\n",
       "</style>\n",
       "<table border=\"1\" class=\"dataframe\">\n",
       "  <thead>\n",
       "    <tr style=\"text-align: right;\">\n",
       "      <th></th>\n",
       "      <th>Fever</th>\n",
       "      <th>Tiredness</th>\n",
       "      <th>Dry-Cough</th>\n",
       "      <th>Difficulty-in-Breathing</th>\n",
       "      <th>Sore-Throat</th>\n",
       "      <th>None_Sympton</th>\n",
       "      <th>Pains</th>\n",
       "      <th>Nasal-Congestion</th>\n",
       "      <th>Runny-Nose</th>\n",
       "      <th>Diarrhea</th>\n",
       "      <th>None_Experiencing</th>\n",
       "      <th>gender</th>\n",
       "      <th>severity</th>\n",
       "      <th>age_group</th>\n",
       "    </tr>\n",
       "  </thead>\n",
       "  <tbody>\n",
       "    <tr>\n",
       "      <th>0</th>\n",
       "      <td>1</td>\n",
       "      <td>1</td>\n",
       "      <td>1</td>\n",
       "      <td>1</td>\n",
       "      <td>1</td>\n",
       "      <td>0</td>\n",
       "      <td>1</td>\n",
       "      <td>1</td>\n",
       "      <td>1</td>\n",
       "      <td>1</td>\n",
       "      <td>0</td>\n",
       "      <td>0.0</td>\n",
       "      <td>1.0</td>\n",
       "      <td>0.0</td>\n",
       "    </tr>\n",
       "    <tr>\n",
       "      <th>1</th>\n",
       "      <td>1</td>\n",
       "      <td>1</td>\n",
       "      <td>1</td>\n",
       "      <td>1</td>\n",
       "      <td>1</td>\n",
       "      <td>0</td>\n",
       "      <td>1</td>\n",
       "      <td>1</td>\n",
       "      <td>1</td>\n",
       "      <td>1</td>\n",
       "      <td>0</td>\n",
       "      <td>0.0</td>\n",
       "      <td>1.0</td>\n",
       "      <td>0.0</td>\n",
       "    </tr>\n",
       "    <tr>\n",
       "      <th>2</th>\n",
       "      <td>1</td>\n",
       "      <td>1</td>\n",
       "      <td>1</td>\n",
       "      <td>1</td>\n",
       "      <td>1</td>\n",
       "      <td>0</td>\n",
       "      <td>1</td>\n",
       "      <td>1</td>\n",
       "      <td>1</td>\n",
       "      <td>1</td>\n",
       "      <td>0</td>\n",
       "      <td>0.0</td>\n",
       "      <td>1.0</td>\n",
       "      <td>0.0</td>\n",
       "    </tr>\n",
       "    <tr>\n",
       "      <th>3</th>\n",
       "      <td>1</td>\n",
       "      <td>1</td>\n",
       "      <td>1</td>\n",
       "      <td>1</td>\n",
       "      <td>1</td>\n",
       "      <td>0</td>\n",
       "      <td>1</td>\n",
       "      <td>1</td>\n",
       "      <td>1</td>\n",
       "      <td>1</td>\n",
       "      <td>0</td>\n",
       "      <td>0.0</td>\n",
       "      <td>2.0</td>\n",
       "      <td>0.0</td>\n",
       "    </tr>\n",
       "    <tr>\n",
       "      <th>4</th>\n",
       "      <td>1</td>\n",
       "      <td>1</td>\n",
       "      <td>1</td>\n",
       "      <td>1</td>\n",
       "      <td>1</td>\n",
       "      <td>0</td>\n",
       "      <td>1</td>\n",
       "      <td>1</td>\n",
       "      <td>1</td>\n",
       "      <td>1</td>\n",
       "      <td>0</td>\n",
       "      <td>0.0</td>\n",
       "      <td>2.0</td>\n",
       "      <td>0.0</td>\n",
       "    </tr>\n",
       "    <tr>\n",
       "      <th>...</th>\n",
       "      <td>...</td>\n",
       "      <td>...</td>\n",
       "      <td>...</td>\n",
       "      <td>...</td>\n",
       "      <td>...</td>\n",
       "      <td>...</td>\n",
       "      <td>...</td>\n",
       "      <td>...</td>\n",
       "      <td>...</td>\n",
       "      <td>...</td>\n",
       "      <td>...</td>\n",
       "      <td>...</td>\n",
       "      <td>...</td>\n",
       "      <td>...</td>\n",
       "    </tr>\n",
       "    <tr>\n",
       "      <th>316795</th>\n",
       "      <td>0</td>\n",
       "      <td>0</td>\n",
       "      <td>0</td>\n",
       "      <td>0</td>\n",
       "      <td>0</td>\n",
       "      <td>1</td>\n",
       "      <td>0</td>\n",
       "      <td>0</td>\n",
       "      <td>0</td>\n",
       "      <td>0</td>\n",
       "      <td>1</td>\n",
       "      <td>2.0</td>\n",
       "      <td>3.0</td>\n",
       "      <td>4.0</td>\n",
       "    </tr>\n",
       "    <tr>\n",
       "      <th>316796</th>\n",
       "      <td>0</td>\n",
       "      <td>0</td>\n",
       "      <td>0</td>\n",
       "      <td>0</td>\n",
       "      <td>0</td>\n",
       "      <td>1</td>\n",
       "      <td>0</td>\n",
       "      <td>0</td>\n",
       "      <td>0</td>\n",
       "      <td>0</td>\n",
       "      <td>1</td>\n",
       "      <td>2.0</td>\n",
       "      <td>3.0</td>\n",
       "      <td>4.0</td>\n",
       "    </tr>\n",
       "    <tr>\n",
       "      <th>316797</th>\n",
       "      <td>0</td>\n",
       "      <td>0</td>\n",
       "      <td>0</td>\n",
       "      <td>0</td>\n",
       "      <td>0</td>\n",
       "      <td>1</td>\n",
       "      <td>0</td>\n",
       "      <td>0</td>\n",
       "      <td>0</td>\n",
       "      <td>0</td>\n",
       "      <td>1</td>\n",
       "      <td>2.0</td>\n",
       "      <td>0.0</td>\n",
       "      <td>4.0</td>\n",
       "    </tr>\n",
       "    <tr>\n",
       "      <th>316798</th>\n",
       "      <td>0</td>\n",
       "      <td>0</td>\n",
       "      <td>0</td>\n",
       "      <td>0</td>\n",
       "      <td>0</td>\n",
       "      <td>1</td>\n",
       "      <td>0</td>\n",
       "      <td>0</td>\n",
       "      <td>0</td>\n",
       "      <td>0</td>\n",
       "      <td>1</td>\n",
       "      <td>2.0</td>\n",
       "      <td>0.0</td>\n",
       "      <td>4.0</td>\n",
       "    </tr>\n",
       "    <tr>\n",
       "      <th>316799</th>\n",
       "      <td>0</td>\n",
       "      <td>0</td>\n",
       "      <td>0</td>\n",
       "      <td>0</td>\n",
       "      <td>0</td>\n",
       "      <td>1</td>\n",
       "      <td>0</td>\n",
       "      <td>0</td>\n",
       "      <td>0</td>\n",
       "      <td>0</td>\n",
       "      <td>1</td>\n",
       "      <td>2.0</td>\n",
       "      <td>0.0</td>\n",
       "      <td>4.0</td>\n",
       "    </tr>\n",
       "  </tbody>\n",
       "</table>\n",
       "<p>316800 rows × 14 columns</p>\n",
       "</div>"
      ],
      "text/plain": [
       "        Fever  Tiredness  Dry-Cough  Difficulty-in-Breathing  Sore-Throat  \\\n",
       "0           1          1          1                        1            1   \n",
       "1           1          1          1                        1            1   \n",
       "2           1          1          1                        1            1   \n",
       "3           1          1          1                        1            1   \n",
       "4           1          1          1                        1            1   \n",
       "...       ...        ...        ...                      ...          ...   \n",
       "316795      0          0          0                        0            0   \n",
       "316796      0          0          0                        0            0   \n",
       "316797      0          0          0                        0            0   \n",
       "316798      0          0          0                        0            0   \n",
       "316799      0          0          0                        0            0   \n",
       "\n",
       "        None_Sympton  Pains  Nasal-Congestion  Runny-Nose  Diarrhea  \\\n",
       "0                  0      1                 1           1         1   \n",
       "1                  0      1                 1           1         1   \n",
       "2                  0      1                 1           1         1   \n",
       "3                  0      1                 1           1         1   \n",
       "4                  0      1                 1           1         1   \n",
       "...              ...    ...               ...         ...       ...   \n",
       "316795             1      0                 0           0         0   \n",
       "316796             1      0                 0           0         0   \n",
       "316797             1      0                 0           0         0   \n",
       "316798             1      0                 0           0         0   \n",
       "316799             1      0                 0           0         0   \n",
       "\n",
       "        None_Experiencing  gender  severity  age_group  \n",
       "0                       0     0.0       1.0        0.0  \n",
       "1                       0     0.0       1.0        0.0  \n",
       "2                       0     0.0       1.0        0.0  \n",
       "3                       0     0.0       2.0        0.0  \n",
       "4                       0     0.0       2.0        0.0  \n",
       "...                   ...     ...       ...        ...  \n",
       "316795                  1     2.0       3.0        4.0  \n",
       "316796                  1     2.0       3.0        4.0  \n",
       "316797                  1     2.0       0.0        4.0  \n",
       "316798                  1     2.0       0.0        4.0  \n",
       "316799                  1     2.0       0.0        4.0  \n",
       "\n",
       "[316800 rows x 14 columns]"
      ]
     },
     "execution_count": 15,
     "metadata": {},
     "output_type": "execute_result"
    }
   ],
   "source": [
    "data1"
   ]
  },
  {
   "cell_type": "code",
   "execution_count": null,
   "id": "a52a9f13",
   "metadata": {},
   "outputs": [],
   "source": []
  },
  {
   "cell_type": "code",
   "execution_count": 16,
   "id": "1fe8a08c",
   "metadata": {},
   "outputs": [],
   "source": [
    "scaled_data = scale(data1)"
   ]
  },
  {
   "cell_type": "code",
   "execution_count": 17,
   "id": "ed23c882",
   "metadata": {},
   "outputs": [],
   "source": [
    "# scaled_data1 = scaled_data[:50000, :]"
   ]
  },
  {
   "cell_type": "code",
   "execution_count": 18,
   "id": "957b8434",
   "metadata": {},
   "outputs": [
    {
     "data": {
      "text/plain": [
       "(316800, 14)"
      ]
     },
     "execution_count": 18,
     "metadata": {},
     "output_type": "execute_result"
    }
   ],
   "source": [
    "scaled_data.shape"
   ]
  },
  {
   "cell_type": "markdown",
   "id": "3cf52082",
   "metadata": {},
   "source": [
    "# Three Clusters"
   ]
  },
  {
   "cell_type": "code",
   "execution_count": 34,
   "id": "d92a4bba",
   "metadata": {},
   "outputs": [],
   "source": [
    "model = KMeans(n_clusters=3, random_state=42)"
   ]
  },
  {
   "cell_type": "code",
   "execution_count": 35,
   "id": "54053083",
   "metadata": {},
   "outputs": [
    {
     "data": {
      "text/plain": [
       "KMeans(n_clusters=3, random_state=42)"
      ]
     },
     "execution_count": 35,
     "metadata": {},
     "output_type": "execute_result"
    }
   ],
   "source": [
    "model.fit(scaled_data)"
   ]
  },
  {
   "cell_type": "code",
   "execution_count": 36,
   "id": "757b2258",
   "metadata": {},
   "outputs": [
    {
     "data": {
      "text/plain": [
       "array([1, 1, 1, ..., 0, 0, 0])"
      ]
     },
     "execution_count": 36,
     "metadata": {},
     "output_type": "execute_result"
    }
   ],
   "source": [
    "model.labels_"
   ]
  },
  {
   "cell_type": "code",
   "execution_count": 38,
   "id": "8cc2f481",
   "metadata": {},
   "outputs": [
    {
     "data": {
      "text/plain": [
       "0.1248144094244934"
      ]
     },
     "execution_count": 38,
     "metadata": {},
     "output_type": "execute_result"
    }
   ],
   "source": [
    "silhouette_score(scaled_data, model.labels_)"
   ]
  },
  {
   "cell_type": "code",
   "execution_count": 37,
   "id": "ee1e1bc5",
   "metadata": {},
   "outputs": [],
   "source": [
    "data1[\"condition\"] = model.labels_"
   ]
  },
  {
   "cell_type": "code",
   "execution_count": 38,
   "id": "40060fa5",
   "metadata": {},
   "outputs": [
    {
     "data": {
      "text/plain": [
       "<AxesSubplot:xlabel='condition', ylabel='count'>"
      ]
     },
     "execution_count": 38,
     "metadata": {},
     "output_type": "execute_result"
    },
    {
     "data": {
      "image/png": "[encoded data removed]",
      "text/plain": [
       "<Figure size 432x288 with 1 Axes>"
      ]
     },
     "metadata": {
      "needs_background": "light"
     },
     "output_type": "display_data"
    }
   ],
   "source": [
    "sns.countplot(x = \"condition\", data= data1)"
   ]
  },
  {
   "cell_type": "code",
   "execution_count": 46,
   "id": "ef3ef6be",
   "metadata": {},
   "outputs": [
    {
     "data": {
      "text/plain": [
       "<AxesSubplot:xlabel='severity', ylabel='count'>"
      ]
     },
     "execution_count": 46,
     "metadata": {},
     "output_type": "execute_result"
    },
    {
     "data": {
      "image/png": "[encoded data removed]",
      "text/plain": [
       "<Figure size 432x288 with 1 Axes>"
      ]
     },
     "metadata": {
      "needs_background": "light"
     },
     "output_type": "display_data"
    }
   ],
   "source": [
    "sns.countplot(x= \"severity\", hue = \"condition\", data= data1)"
   ]
  },
  {
   "cell_type": "code",
   "execution_count": 29,
   "id": "9199ee5f",
   "metadata": {},
   "outputs": [],
   "source": [
    "data1.to_csv(\"long_short_covid_data1(3clus).csv\", index = False)"
   ]
  },
  {
   "cell_type": "markdown",
   "id": "feffe4cd",
   "metadata": {},
   "source": [
    "# Two Clusters"
   ]
  },
  {
   "cell_type": "code",
   "execution_count": 25,
   "id": "5a87c77f",
   "metadata": {},
   "outputs": [],
   "source": [
    "model12 = KMeans(n_clusters=2, random_state=42)"
   ]
  },
  {
   "cell_type": "code",
   "execution_count": 26,
   "id": "140119e3",
   "metadata": {},
   "outputs": [
    {
     "data": {
      "text/plain": [
       "KMeans(n_clusters=2, random_state=42)"
      ]
     },
     "execution_count": 26,
     "metadata": {},
     "output_type": "execute_result"
    }
   ],
   "source": [
    "model12.fit(scaled_data)"
   ]
  },
  {
   "cell_type": "code",
   "execution_count": 27,
   "id": "6f184639",
   "metadata": {},
   "outputs": [
    {
     "data": {
      "text/plain": [
       "array([0, 0, 0, ..., 1, 1, 1])"
      ]
     },
     "execution_count": 27,
     "metadata": {},
     "output_type": "execute_result"
    }
   ],
   "source": [
    "model12.labels_"
   ]
  },
  {
   "cell_type": "code",
   "execution_count": 30,
   "id": "382806ad",
   "metadata": {},
   "outputs": [
    {
     "data": {
      "text/plain": [
       "0.10037232911371123"
      ]
     },
     "execution_count": 30,
     "metadata": {},
     "output_type": "execute_result"
    }
   ],
   "source": [
    "silhouette_score(scaled_data, model12.labels_)"
   ]
  },
  {
   "cell_type": "code",
   "execution_count": 28,
   "id": "85ac3fab",
   "metadata": {},
   "outputs": [],
   "source": [
    "data1[\"long_covid\"] = model12.labels_"
   ]
  },
  {
   "cell_type": "code",
   "execution_count": 29,
   "id": "afd07e5f",
   "metadata": {},
   "outputs": [
    {
     "data": {
      "text/plain": [
       "<AxesSubplot:xlabel='severity', ylabel='count'>"
      ]
     },
     "execution_count": 29,
     "metadata": {},
     "output_type": "execute_result"
    },
    {
     "data": {
      "image/png": "[encoded data removed]",
      "text/plain": [
       "<Figure size 432x288 with 1 Axes>"
      ]
     },
     "metadata": {
      "needs_background": "light"
     },
     "output_type": "display_data"
    }
   ],
   "source": [
    "sns.countplot(x= \"severity\", hue = \"long_covid\", data= data1)"
   ]
  },
  {
   "cell_type": "code",
   "execution_count": 30,
   "id": "45cddcf7",
   "metadata": {},
   "outputs": [
    {
     "data": {
      "text/plain": [
       "<AxesSubplot:xlabel='long_covid', ylabel='count'>"
      ]
     },
     "execution_count": 30,
     "metadata": {},
     "output_type": "execute_result"
    },
    {
     "data": {
      "image/png": "[encoded data removed]",
      "text/plain": [
       "<Figure size 432x288 with 1 Axes>"
      ]
     },
     "metadata": {
      "needs_background": "light"
     },
     "output_type": "display_data"
    }
   ],
   "source": [
    "sns.countplot(x= \"long_covid\", hue = \"Fever\", data= data1)"
   ]
  },
  {
   "cell_type": "code",
   "execution_count": 31,
   "id": "1062b405",
   "metadata": {},
   "outputs": [
    {
     "data": {
      "text/plain": [
       "<AxesSubplot:xlabel='long_covid', ylabel='count'>"
      ]
     },
     "execution_count": 31,
     "metadata": {},
     "output_type": "execute_result"
    },
    {
     "data": {
      "image/png": "[encoded data removed]",
      "text/plain": [
       "<Figure size 432x288 with 1 Axes>"
      ]
     },
     "metadata": {
      "needs_background": "light"
     },
     "output_type": "display_data"
    }
   ],
   "source": [
    "sns.countplot(x= \"long_covid\", hue = \"Difficulty-in-Breathing\", data= data1)"
   ]
  },
  {
   "cell_type": "markdown",
   "id": "01c24683",
   "metadata": {},
   "source": [
    "# Classification"
   ]
  },
  {
   "cell_type": "code",
   "execution_count": 32,
   "id": "6337c937",
   "metadata": {},
   "outputs": [
    {
     "data": {
      "text/html": [
       "<div>\n",
       "<style scoped>\n",
       "    .dataframe tbody tr th:only-of-type {\n",
       "        vertical-align: middle;\n",
       "    }\n",
       "\n",
       "    .dataframe tbody tr th {\n",
       "        vertical-align: top;\n",
       "    }\n",
       "\n",
       "    .dataframe thead th {\n",
       "        text-align: right;\n",
       "    }\n",
       "</style>\n",
       "<table border=\"1\" class=\"dataframe\">\n",
       "  <thead>\n",
       "    <tr style=\"text-align: right;\">\n",
       "      <th></th>\n",
       "      <th>Fever</th>\n",
       "      <th>Tiredness</th>\n",
       "      <th>Dry-Cough</th>\n",
       "      <th>Difficulty-in-Breathing</th>\n",
       "      <th>Sore-Throat</th>\n",
       "      <th>None_Sympton</th>\n",
       "      <th>Pains</th>\n",
       "      <th>Nasal-Congestion</th>\n",
       "      <th>Runny-Nose</th>\n",
       "      <th>Diarrhea</th>\n",
       "      <th>None_Experiencing</th>\n",
       "      <th>gender</th>\n",
       "      <th>severity</th>\n",
       "      <th>age_group</th>\n",
       "      <th>long_covid</th>\n",
       "    </tr>\n",
       "  </thead>\n",
       "  <tbody>\n",
       "    <tr>\n",
       "      <th>0</th>\n",
       "      <td>1</td>\n",
       "      <td>1</td>\n",
       "      <td>1</td>\n",
       "      <td>1</td>\n",
       "      <td>1</td>\n",
       "      <td>0</td>\n",
       "      <td>1</td>\n",
       "      <td>1</td>\n",
       "      <td>1</td>\n",
       "      <td>1</td>\n",
       "      <td>0</td>\n",
       "      <td>0.0</td>\n",
       "      <td>1.0</td>\n",
       "      <td>0.0</td>\n",
       "      <td>0</td>\n",
       "    </tr>\n",
       "    <tr>\n",
       "      <th>1</th>\n",
       "      <td>1</td>\n",
       "      <td>1</td>\n",
       "      <td>1</td>\n",
       "      <td>1</td>\n",
       "      <td>1</td>\n",
       "      <td>0</td>\n",
       "      <td>1</td>\n",
       "      <td>1</td>\n",
       "      <td>1</td>\n",
       "      <td>1</td>\n",
       "      <td>0</td>\n",
       "      <td>0.0</td>\n",
       "      <td>1.0</td>\n",
       "      <td>0.0</td>\n",
       "      <td>0</td>\n",
       "    </tr>\n",
       "    <tr>\n",
       "      <th>2</th>\n",
       "      <td>1</td>\n",
       "      <td>1</td>\n",
       "      <td>1</td>\n",
       "      <td>1</td>\n",
       "      <td>1</td>\n",
       "      <td>0</td>\n",
       "      <td>1</td>\n",
       "      <td>1</td>\n",
       "      <td>1</td>\n",
       "      <td>1</td>\n",
       "      <td>0</td>\n",
       "      <td>0.0</td>\n",
       "      <td>1.0</td>\n",
       "      <td>0.0</td>\n",
       "      <td>0</td>\n",
       "    </tr>\n",
       "    <tr>\n",
       "      <th>3</th>\n",
       "      <td>1</td>\n",
       "      <td>1</td>\n",
       "      <td>1</td>\n",
       "      <td>1</td>\n",
       "      <td>1</td>\n",
       "      <td>0</td>\n",
       "      <td>1</td>\n",
       "      <td>1</td>\n",
       "      <td>1</td>\n",
       "      <td>1</td>\n",
       "      <td>0</td>\n",
       "      <td>0.0</td>\n",
       "      <td>2.0</td>\n",
       "      <td>0.0</td>\n",
       "      <td>0</td>\n",
       "    </tr>\n",
       "    <tr>\n",
       "      <th>4</th>\n",
       "      <td>1</td>\n",
       "      <td>1</td>\n",
       "      <td>1</td>\n",
       "      <td>1</td>\n",
       "      <td>1</td>\n",
       "      <td>0</td>\n",
       "      <td>1</td>\n",
       "      <td>1</td>\n",
       "      <td>1</td>\n",
       "      <td>1</td>\n",
       "      <td>0</td>\n",
       "      <td>0.0</td>\n",
       "      <td>2.0</td>\n",
       "      <td>0.0</td>\n",
       "      <td>0</td>\n",
       "    </tr>\n",
       "    <tr>\n",
       "      <th>...</th>\n",
       "      <td>...</td>\n",
       "      <td>...</td>\n",
       "      <td>...</td>\n",
       "      <td>...</td>\n",
       "      <td>...</td>\n",
       "      <td>...</td>\n",
       "      <td>...</td>\n",
       "      <td>...</td>\n",
       "      <td>...</td>\n",
       "      <td>...</td>\n",
       "      <td>...</td>\n",
       "      <td>...</td>\n",
       "      <td>...</td>\n",
       "      <td>...</td>\n",
       "      <td>...</td>\n",
       "    </tr>\n",
       "    <tr>\n",
       "      <th>316795</th>\n",
       "      <td>0</td>\n",
       "      <td>0</td>\n",
       "      <td>0</td>\n",
       "      <td>0</td>\n",
       "      <td>0</td>\n",
       "      <td>1</td>\n",
       "      <td>0</td>\n",
       "      <td>0</td>\n",
       "      <td>0</td>\n",
       "      <td>0</td>\n",
       "      <td>1</td>\n",
       "      <td>2.0</td>\n",
       "      <td>3.0</td>\n",
       "      <td>4.0</td>\n",
       "      <td>1</td>\n",
       "    </tr>\n",
       "    <tr>\n",
       "      <th>316796</th>\n",
       "      <td>0</td>\n",
       "      <td>0</td>\n",
       "      <td>0</td>\n",
       "      <td>0</td>\n",
       "      <td>0</td>\n",
       "      <td>1</td>\n",
       "      <td>0</td>\n",
       "      <td>0</td>\n",
       "      <td>0</td>\n",
       "      <td>0</td>\n",
       "      <td>1</td>\n",
       "      <td>2.0</td>\n",
       "      <td>3.0</td>\n",
       "      <td>4.0</td>\n",
       "      <td>1</td>\n",
       "    </tr>\n",
       "    <tr>\n",
       "      <th>316797</th>\n",
       "      <td>0</td>\n",
       "      <td>0</td>\n",
       "      <td>0</td>\n",
       "      <td>0</td>\n",
       "      <td>0</td>\n",
       "      <td>1</td>\n",
       "      <td>0</td>\n",
       "      <td>0</td>\n",
       "      <td>0</td>\n",
       "      <td>0</td>\n",
       "      <td>1</td>\n",
       "      <td>2.0</td>\n",
       "      <td>0.0</td>\n",
       "      <td>4.0</td>\n",
       "      <td>1</td>\n",
       "    </tr>\n",
       "    <tr>\n",
       "      <th>316798</th>\n",
       "      <td>0</td>\n",
       "      <td>0</td>\n",
       "      <td>0</td>\n",
       "      <td>0</td>\n",
       "      <td>0</td>\n",
       "      <td>1</td>\n",
       "      <td>0</td>\n",
       "      <td>0</td>\n",
       "      <td>0</td>\n",
       "      <td>0</td>\n",
       "      <td>1</td>\n",
       "      <td>2.0</td>\n",
       "      <td>0.0</td>\n",
       "      <td>4.0</td>\n",
       "      <td>1</td>\n",
       "    </tr>\n",
       "    <tr>\n",
       "      <th>316799</th>\n",
       "      <td>0</td>\n",
       "      <td>0</td>\n",
       "      <td>0</td>\n",
       "      <td>0</td>\n",
       "      <td>0</td>\n",
       "      <td>1</td>\n",
       "      <td>0</td>\n",
       "      <td>0</td>\n",
       "      <td>0</td>\n",
       "      <td>0</td>\n",
       "      <td>1</td>\n",
       "      <td>2.0</td>\n",
       "      <td>0.0</td>\n",
       "      <td>4.0</td>\n",
       "      <td>1</td>\n",
       "    </tr>\n",
       "  </tbody>\n",
       "</table>\n",
       "<p>316800 rows × 15 columns</p>\n",
       "</div>"
      ],
      "text/plain": [
       "        Fever  Tiredness  Dry-Cough  Difficulty-in-Breathing  Sore-Throat  \\\n",
       "0           1          1          1                        1            1   \n",
       "1           1          1          1                        1            1   \n",
       "2           1          1          1                        1            1   \n",
       "3           1          1          1                        1            1   \n",
       "4           1          1          1                        1            1   \n",
       "...       ...        ...        ...                      ...          ...   \n",
       "316795      0          0          0                        0            0   \n",
       "316796      0          0          0                        0            0   \n",
       "316797      0          0          0                        0            0   \n",
       "316798      0          0          0                        0            0   \n",
       "316799      0          0          0                        0            0   \n",
       "\n",
       "        None_Sympton  Pains  Nasal-Congestion  Runny-Nose  Diarrhea  \\\n",
       "0                  0      1                 1           1         1   \n",
       "1                  0      1                 1           1         1   \n",
       "2                  0      1                 1           1         1   \n",
       "3                  0      1                 1           1         1   \n",
       "4                  0      1                 1           1         1   \n",
       "...              ...    ...               ...         ...       ...   \n",
       "316795             1      0                 0           0         0   \n",
       "316796             1      0                 0           0         0   \n",
       "316797             1      0                 0           0         0   \n",
       "316798             1      0                 0           0         0   \n",
       "316799             1      0                 0           0         0   \n",
       "\n",
       "        None_Experiencing  gender  severity  age_group  long_covid  \n",
       "0                       0     0.0       1.0        0.0           0  \n",
       "1                       0     0.0       1.0        0.0           0  \n",
       "2                       0     0.0       1.0        0.0           0  \n",
       "3                       0     0.0       2.0        0.0           0  \n",
       "4                       0     0.0       2.0        0.0           0  \n",
       "...                   ...     ...       ...        ...         ...  \n",
       "316795                  1     2.0       3.0        4.0           1  \n",
       "316796                  1     2.0       3.0        4.0           1  \n",
       "316797                  1     2.0       0.0        4.0           1  \n",
       "316798                  1     2.0       0.0        4.0           1  \n",
       "316799                  1     2.0       0.0        4.0           1  \n",
       "\n",
       "[316800 rows x 15 columns]"
      ]
     },
     "execution_count": 32,
     "metadata": {},
     "output_type": "execute_result"
    }
   ],
   "source": [
    "data1"
   ]
  },
  {
   "cell_type": "code",
   "execution_count": 39,
   "id": "1e92539f",
   "metadata": {},
   "outputs": [],
   "source": [
    "data2 = data1.drop([\"long_covid\", \"condition\"], axis = 1)"
   ]
  },
  {
   "cell_type": "code",
   "execution_count": 40,
   "id": "01f13901",
   "metadata": {},
   "outputs": [
    {
     "data": {
      "text/html": [
       "<div>\n",
       "<style scoped>\n",
       "    .dataframe tbody tr th:only-of-type {\n",
       "        vertical-align: middle;\n",
       "    }\n",
       "\n",
       "    .dataframe tbody tr th {\n",
       "        vertical-align: top;\n",
       "    }\n",
       "\n",
       "    .dataframe thead th {\n",
       "        text-align: right;\n",
       "    }\n",
       "</style>\n",
       "<table border=\"1\" class=\"dataframe\">\n",
       "  <thead>\n",
       "    <tr style=\"text-align: right;\">\n",
       "      <th></th>\n",
       "      <th>Fever</th>\n",
       "      <th>Tiredness</th>\n",
       "      <th>Dry-Cough</th>\n",
       "      <th>Difficulty-in-Breathing</th>\n",
       "      <th>Sore-Throat</th>\n",
       "      <th>None_Sympton</th>\n",
       "      <th>Pains</th>\n",
       "      <th>Nasal-Congestion</th>\n",
       "      <th>Runny-Nose</th>\n",
       "      <th>Diarrhea</th>\n",
       "      <th>None_Experiencing</th>\n",
       "      <th>gender</th>\n",
       "      <th>severity</th>\n",
       "      <th>age_group</th>\n",
       "    </tr>\n",
       "  </thead>\n",
       "  <tbody>\n",
       "    <tr>\n",
       "      <th>0</th>\n",
       "      <td>1</td>\n",
       "      <td>1</td>\n",
       "      <td>1</td>\n",
       "      <td>1</td>\n",
       "      <td>1</td>\n",
       "      <td>0</td>\n",
       "      <td>1</td>\n",
       "      <td>1</td>\n",
       "      <td>1</td>\n",
       "      <td>1</td>\n",
       "      <td>0</td>\n",
       "      <td>0.0</td>\n",
       "      <td>1.0</td>\n",
       "      <td>0.0</td>\n",
       "    </tr>\n",
       "    <tr>\n",
       "      <th>1</th>\n",
       "      <td>1</td>\n",
       "      <td>1</td>\n",
       "      <td>1</td>\n",
       "      <td>1</td>\n",
       "      <td>1</td>\n",
       "      <td>0</td>\n",
       "      <td>1</td>\n",
       "      <td>1</td>\n",
       "      <td>1</td>\n",
       "      <td>1</td>\n",
       "      <td>0</td>\n",
       "      <td>0.0</td>\n",
       "      <td>1.0</td>\n",
       "      <td>0.0</td>\n",
       "    </tr>\n",
       "    <tr>\n",
       "      <th>2</th>\n",
       "      <td>1</td>\n",
       "      <td>1</td>\n",
       "      <td>1</td>\n",
       "      <td>1</td>\n",
       "      <td>1</td>\n",
       "      <td>0</td>\n",
       "      <td>1</td>\n",
       "      <td>1</td>\n",
       "      <td>1</td>\n",
       "      <td>1</td>\n",
       "      <td>0</td>\n",
       "      <td>0.0</td>\n",
       "      <td>1.0</td>\n",
       "      <td>0.0</td>\n",
       "    </tr>\n",
       "    <tr>\n",
       "      <th>3</th>\n",
       "      <td>1</td>\n",
       "      <td>1</td>\n",
       "      <td>1</td>\n",
       "      <td>1</td>\n",
       "      <td>1</td>\n",
       "      <td>0</td>\n",
       "      <td>1</td>\n",
       "      <td>1</td>\n",
       "      <td>1</td>\n",
       "      <td>1</td>\n",
       "      <td>0</td>\n",
       "      <td>0.0</td>\n",
       "      <td>2.0</td>\n",
       "      <td>0.0</td>\n",
       "    </tr>\n",
       "    <tr>\n",
       "      <th>4</th>\n",
       "      <td>1</td>\n",
       "      <td>1</td>\n",
       "      <td>1</td>\n",
       "      <td>1</td>\n",
       "      <td>1</td>\n",
       "      <td>0</td>\n",
       "      <td>1</td>\n",
       "      <td>1</td>\n",
       "      <td>1</td>\n",
       "      <td>1</td>\n",
       "      <td>0</td>\n",
       "      <td>0.0</td>\n",
       "      <td>2.0</td>\n",
       "      <td>0.0</td>\n",
       "    </tr>\n",
       "    <tr>\n",
       "      <th>...</th>\n",
       "      <td>...</td>\n",
       "      <td>...</td>\n",
       "      <td>...</td>\n",
       "      <td>...</td>\n",
       "      <td>...</td>\n",
       "      <td>...</td>\n",
       "      <td>...</td>\n",
       "      <td>...</td>\n",
       "      <td>...</td>\n",
       "      <td>...</td>\n",
       "      <td>...</td>\n",
       "      <td>...</td>\n",
       "      <td>...</td>\n",
       "      <td>...</td>\n",
       "    </tr>\n",
       "    <tr>\n",
       "      <th>316795</th>\n",
       "      <td>0</td>\n",
       "      <td>0</td>\n",
       "      <td>0</td>\n",
       "      <td>0</td>\n",
       "      <td>0</td>\n",
       "      <td>1</td>\n",
       "      <td>0</td>\n",
       "      <td>0</td>\n",
       "      <td>0</td>\n",
       "      <td>0</td>\n",
       "      <td>1</td>\n",
       "      <td>2.0</td>\n",
       "      <td>3.0</td>\n",
       "      <td>4.0</td>\n",
       "    </tr>\n",
       "    <tr>\n",
       "      <th>316796</th>\n",
       "      <td>0</td>\n",
       "      <td>0</td>\n",
       "      <td>0</td>\n",
       "      <td>0</td>\n",
       "      <td>0</td>\n",
       "      <td>1</td>\n",
       "      <td>0</td>\n",
       "      <td>0</td>\n",
       "      <td>0</td>\n",
       "      <td>0</td>\n",
       "      <td>1</td>\n",
       "      <td>2.0</td>\n",
       "      <td>3.0</td>\n",
       "      <td>4.0</td>\n",
       "    </tr>\n",
       "    <tr>\n",
       "      <th>316797</th>\n",
       "      <td>0</td>\n",
       "      <td>0</td>\n",
       "      <td>0</td>\n",
       "      <td>0</td>\n",
       "      <td>0</td>\n",
       "      <td>1</td>\n",
       "      <td>0</td>\n",
       "      <td>0</td>\n",
       "      <td>0</td>\n",
       "      <td>0</td>\n",
       "      <td>1</td>\n",
       "      <td>2.0</td>\n",
       "      <td>0.0</td>\n",
       "      <td>4.0</td>\n",
       "    </tr>\n",
       "    <tr>\n",
       "      <th>316798</th>\n",
       "      <td>0</td>\n",
       "      <td>0</td>\n",
       "      <td>0</td>\n",
       "      <td>0</td>\n",
       "      <td>0</td>\n",
       "      <td>1</td>\n",
       "      <td>0</td>\n",
       "      <td>0</td>\n",
       "      <td>0</td>\n",
       "      <td>0</td>\n",
       "      <td>1</td>\n",
       "      <td>2.0</td>\n",
       "      <td>0.0</td>\n",
       "      <td>4.0</td>\n",
       "    </tr>\n",
       "    <tr>\n",
       "      <th>316799</th>\n",
       "      <td>0</td>\n",
       "      <td>0</td>\n",
       "      <td>0</td>\n",
       "      <td>0</td>\n",
       "      <td>0</td>\n",
       "      <td>1</td>\n",
       "      <td>0</td>\n",
       "      <td>0</td>\n",
       "      <td>0</td>\n",
       "      <td>0</td>\n",
       "      <td>1</td>\n",
       "      <td>2.0</td>\n",
       "      <td>0.0</td>\n",
       "      <td>4.0</td>\n",
       "    </tr>\n",
       "  </tbody>\n",
       "</table>\n",
       "<p>316800 rows × 14 columns</p>\n",
       "</div>"
      ],
      "text/plain": [
       "        Fever  Tiredness  Dry-Cough  Difficulty-in-Breathing  Sore-Throat  \\\n",
       "0           1          1          1                        1            1   \n",
       "1           1          1          1                        1            1   \n",
       "2           1          1          1                        1            1   \n",
       "3           1          1          1                        1            1   \n",
       "4           1          1          1                        1            1   \n",
       "...       ...        ...        ...                      ...          ...   \n",
       "316795      0          0          0                        0            0   \n",
       "316796      0          0          0                        0            0   \n",
       "316797      0          0          0                        0            0   \n",
       "316798      0          0          0                        0            0   \n",
       "316799      0          0          0                        0            0   \n",
       "\n",
       "        None_Sympton  Pains  Nasal-Congestion  Runny-Nose  Diarrhea  \\\n",
       "0                  0      1                 1           1         1   \n",
       "1                  0      1                 1           1         1   \n",
       "2                  0      1                 1           1         1   \n",
       "3                  0      1                 1           1         1   \n",
       "4                  0      1                 1           1         1   \n",
       "...              ...    ...               ...         ...       ...   \n",
       "316795             1      0                 0           0         0   \n",
       "316796             1      0                 0           0         0   \n",
       "316797             1      0                 0           0         0   \n",
       "316798             1      0                 0           0         0   \n",
       "316799             1      0                 0           0         0   \n",
       "\n",
       "        None_Experiencing  gender  severity  age_group  \n",
       "0                       0     0.0       1.0        0.0  \n",
       "1                       0     0.0       1.0        0.0  \n",
       "2                       0     0.0       1.0        0.0  \n",
       "3                       0     0.0       2.0        0.0  \n",
       "4                       0     0.0       2.0        0.0  \n",
       "...                   ...     ...       ...        ...  \n",
       "316795                  1     2.0       3.0        4.0  \n",
       "316796                  1     2.0       3.0        4.0  \n",
       "316797                  1     2.0       0.0        4.0  \n",
       "316798                  1     2.0       0.0        4.0  \n",
       "316799                  1     2.0       0.0        4.0  \n",
       "\n",
       "[316800 rows x 14 columns]"
      ]
     },
     "execution_count": 40,
     "metadata": {},
     "output_type": "execute_result"
    }
   ],
   "source": [
    "data2"
   ]
  },
  {
   "cell_type": "code",
   "execution_count": 42,
   "id": "b28f1668",
   "metadata": {},
   "outputs": [],
   "source": [
    "data2.dropna(axis=0, inplace = True)"
   ]
  },
  {
   "cell_type": "code",
   "execution_count": 43,
   "id": "4e80553f",
   "metadata": {},
   "outputs": [
    {
     "data": {
      "text/plain": [
       "<AxesSubplot:xlabel='severity', ylabel='count'>"
      ]
     },
     "execution_count": 43,
     "metadata": {},
     "output_type": "execute_result"
    },
    {
     "data": {
      "image/png": "[encoded data removed]",
      "text/plain": [
       "<Figure size 432x288 with 1 Axes>"
      ]
     },
     "metadata": {
      "needs_background": "light"
     },
     "output_type": "display_data"
    }
   ],
   "source": [
    "sns.countplot(x= \"severity\", data= data2)"
   ]
  },
  {
   "cell_type": "code",
   "execution_count": 44,
   "id": "a1ea6107",
   "metadata": {},
   "outputs": [],
   "source": [
    "X = data2.drop(\"severity\", axis = 1).values"
   ]
  },
  {
   "cell_type": "code",
   "execution_count": 45,
   "id": "86bb397a",
   "metadata": {},
   "outputs": [
    {
     "data": {
      "text/plain": [
       "(316800, 13)"
      ]
     },
     "execution_count": 45,
     "metadata": {},
     "output_type": "execute_result"
    }
   ],
   "source": [
    "X.shape"
   ]
  },
  {
   "cell_type": "code",
   "execution_count": 46,
   "id": "3d8130f1",
   "metadata": {},
   "outputs": [],
   "source": [
    "y = data2[\"severity\"].values"
   ]
  },
  {
   "cell_type": "code",
   "execution_count": 47,
   "id": "62ee9bc6",
   "metadata": {},
   "outputs": [
    {
     "data": {
      "text/plain": [
       "(316800,)"
      ]
     },
     "execution_count": 47,
     "metadata": {},
     "output_type": "execute_result"
    }
   ],
   "source": [
    "y.shape"
   ]
  },
  {
   "cell_type": "code",
   "execution_count": 48,
   "id": "8ee68802",
   "metadata": {},
   "outputs": [],
   "source": [
    "y = pd.get_dummies(y).values"
   ]
  },
  {
   "cell_type": "code",
   "execution_count": 49,
   "id": "05e4b7bd",
   "metadata": {},
   "outputs": [
    {
     "data": {
      "text/plain": [
       "(316800, 4)"
      ]
     },
     "execution_count": 49,
     "metadata": {},
     "output_type": "execute_result"
    }
   ],
   "source": [
    "y.shape"
   ]
  },
  {
   "cell_type": "code",
   "execution_count": 50,
   "id": "ae3ec0d8",
   "metadata": {},
   "outputs": [],
   "source": [
    "train_X, test_X, train_y, test_y = train_test_split(X, y, test_size=0.2, random_state=56)"
   ]
  },
  {
   "cell_type": "code",
   "execution_count": 51,
   "id": "58a06761",
   "metadata": {},
   "outputs": [],
   "source": [
    "scaler = MinMaxScaler()"
   ]
  },
  {
   "cell_type": "code",
   "execution_count": 52,
   "id": "f999e2fe",
   "metadata": {},
   "outputs": [],
   "source": [
    "X = scaler.fit_transform(train_X)"
   ]
  },
  {
   "cell_type": "code",
   "execution_count": 53,
   "id": "be789b85",
   "metadata": {},
   "outputs": [],
   "source": [
    "testX = scaler.transform(test_X)"
   ]
  },
  {
   "cell_type": "markdown",
   "id": "107ac965",
   "metadata": {},
   "source": [
    "# Scale"
   ]
  },
  {
   "cell_type": "code",
   "execution_count": 54,
   "id": "4266e3a4",
   "metadata": {},
   "outputs": [],
   "source": [
    "X2 = scale(train_X)"
   ]
  },
  {
   "cell_type": "code",
   "execution_count": 55,
   "id": "8994f206",
   "metadata": {},
   "outputs": [],
   "source": [
    "testX2 = scale(test_X)"
   ]
  },
  {
   "cell_type": "code",
   "execution_count": 56,
   "id": "fb20b732",
   "metadata": {},
   "outputs": [
    {
     "data": {
      "text/plain": [
       "(253440, 13)"
      ]
     },
     "execution_count": 56,
     "metadata": {},
     "output_type": "execute_result"
    }
   ],
   "source": [
    "X2.shape"
   ]
  },
  {
   "cell_type": "code",
   "execution_count": 57,
   "id": "b2e7f2f0",
   "metadata": {},
   "outputs": [
    {
     "data": {
      "text/plain": [
       "(253440, 4)"
      ]
     },
     "execution_count": 57,
     "metadata": {},
     "output_type": "execute_result"
    }
   ],
   "source": [
    "train_y.shape"
   ]
  },
  {
   "cell_type": "markdown",
   "id": "200b5bd2",
   "metadata": {},
   "source": [
    "# Model"
   ]
  },
  {
   "cell_type": "code",
   "execution_count": 58,
   "id": "37dcfa06",
   "metadata": {},
   "outputs": [],
   "source": [
    "model = Sequential()\n",
    "\n",
    "model.add(Dense(512, activation=\"relu\"))\n",
    "\n",
    "model.add(Dense(256, activation=\"relu\"))\n",
    "\n",
    "model.add(Dense(128, activation=\"relu\"))\n",
    "\n",
    "model.add(Dense(64, activation=\"relu\"))\n",
    "\n",
    "model.add(Dense(32, activation=\"relu\"))\n",
    "\n",
    "model.add(Dense(4, activation=\"softmax\"))\n",
    "\n",
    "model.compile(loss=\"categorical_crossentropy\", optimizer = \"adam\",\n",
    "             metrics=[\"accuracy\"])"
   ]
  },
  {
   "cell_type": "code",
   "execution_count": 61,
   "id": "37b26ac9",
   "metadata": {},
   "outputs": [],
   "source": [
    "early_stop = EarlyStopping(monitor=\"val_loss\", patience=100) "
   ]
  },
  {
   "cell_type": "code",
   "execution_count": 62,
   "id": "fa5b0f54",
   "metadata": {},
   "outputs": [
    {
     "name": "stdout",
     "output_type": "stream",
     "text": [
      "Epoch 1/150\n",
      "7920/7920 [==============================] - 22s 3ms/step - loss: 1.3864 - accuracy: 0.2503 - val_loss: 1.3864 - val_accuracy: 0.2485\n",
      "Epoch 2/150\n",
      "7920/7920 [==============================] - 22s 3ms/step - loss: 1.3864 - accuracy: 0.2504 - val_loss: 1.3864 - val_accuracy: 0.2498\n",
      "Epoch 3/150\n",
      "7920/7920 [==============================] - 24s 3ms/step - loss: 1.3864 - accuracy: 0.2494 - val_loss: 1.3863 - val_accuracy: 0.2485\n",
      "Epoch 4/150\n",
      "7920/7920 [==============================] - 23s 3ms/step - loss: 1.3864 - accuracy: 0.2506 - val_loss: 1.3863 - val_accuracy: 0.2501\n",
      "Epoch 5/150\n",
      "7920/7920 [==============================] - 22s 3ms/step - loss: 1.3864 - accuracy: 0.2485 - val_loss: 1.3863 - val_accuracy: 0.2485\n",
      "Epoch 6/150\n",
      "7920/7920 [==============================] - 22s 3ms/step - loss: 1.3864 - accuracy: 0.2491 - val_loss: 1.3864 - val_accuracy: 0.2485\n",
      "Epoch 7/150\n",
      "7920/7920 [==============================] - 20s 3ms/step - loss: 1.3864 - accuracy: 0.2493 - val_loss: 1.3864 - val_accuracy: 0.2498\n",
      "Epoch 8/150\n",
      "7920/7920 [==============================] - 18s 2ms/step - loss: 1.3864 - accuracy: 0.2494 - val_loss: 1.3863 - val_accuracy: 0.2485\n",
      "Epoch 9/150\n",
      "7920/7920 [==============================] - 17s 2ms/step - loss: 1.3864 - accuracy: 0.2484 - val_loss: 1.3863 - val_accuracy: 0.2501\n",
      "Epoch 10/150\n",
      "7920/7920 [==============================] - 18s 2ms/step - loss: 1.3864 - accuracy: 0.2504 - val_loss: 1.3863 - val_accuracy: 0.2485\n",
      "Epoch 11/150\n",
      "7920/7920 [==============================] - 17s 2ms/step - loss: 1.3864 - accuracy: 0.2488 - val_loss: 1.3864 - val_accuracy: 0.2485\n",
      "Epoch 12/150\n",
      "7920/7920 [==============================] - 18s 2ms/step - loss: 1.3864 - accuracy: 0.2507 - val_loss: 1.3864 - val_accuracy: 0.2501\n",
      "Epoch 13/150\n",
      "7920/7920 [==============================] - 21s 3ms/step - loss: 1.3864 - accuracy: 0.2502 - val_loss: 1.3863 - val_accuracy: 0.2498\n",
      "Epoch 14/150\n",
      "7920/7920 [==============================] - 23s 3ms/step - loss: 1.3864 - accuracy: 0.2493 - val_loss: 1.3864 - val_accuracy: 0.2498\n",
      "Epoch 15/150\n",
      "7920/7920 [==============================] - 20s 2ms/step - loss: 1.3864 - accuracy: 0.2506 - val_loss: 1.3863 - val_accuracy: 0.2501\n",
      "Epoch 16/150\n",
      "7920/7920 [==============================] - 23s 3ms/step - loss: 1.3864 - accuracy: 0.2495 - val_loss: 1.3863 - val_accuracy: 0.2501\n",
      "Epoch 17/150\n",
      "7920/7920 [==============================] - 20s 3ms/step - loss: 1.3864 - accuracy: 0.2505 - val_loss: 1.3863 - val_accuracy: 0.2516\n",
      "Epoch 18/150\n",
      "7920/7920 [==============================] - 19s 2ms/step - loss: 1.3864 - accuracy: 0.2496 - val_loss: 1.3865 - val_accuracy: 0.2498\n",
      "Epoch 19/150\n",
      "7920/7920 [==============================] - 17s 2ms/step - loss: 1.3864 - accuracy: 0.2500 - val_loss: 1.3864 - val_accuracy: 0.2516\n",
      "Epoch 20/150\n",
      "7920/7920 [==============================] - 21s 3ms/step - loss: 1.3864 - accuracy: 0.2507 - val_loss: 1.3864 - val_accuracy: 0.2485\n",
      "Epoch 21/150\n",
      "7920/7920 [==============================] - 23s 3ms/step - loss: 1.3864 - accuracy: 0.2501 - val_loss: 1.3864 - val_accuracy: 0.2516\n",
      "Epoch 22/150\n",
      "7920/7920 [==============================] - 24s 3ms/step - loss: 1.3864 - accuracy: 0.2490 - val_loss: 1.3863 - val_accuracy: 0.2501\n",
      "Epoch 23/150\n",
      "7920/7920 [==============================] - 22s 3ms/step - loss: 1.3864 - accuracy: 0.2497 - val_loss: 1.3864 - val_accuracy: 0.2485\n",
      "Epoch 24/150\n",
      "7920/7920 [==============================] - 22s 3ms/step - loss: 1.3864 - accuracy: 0.2493 - val_loss: 1.3863 - val_accuracy: 0.2485\n",
      "Epoch 25/150\n",
      "7920/7920 [==============================] - 19s 2ms/step - loss: 1.3864 - accuracy: 0.2509 - val_loss: 1.3863 - val_accuracy: 0.2516\n",
      "Epoch 26/150\n",
      "7920/7920 [==============================] - 18s 2ms/step - loss: 1.3864 - accuracy: 0.2517 - val_loss: 1.3863 - val_accuracy: 0.2501\n",
      "Epoch 27/150\n",
      "7920/7920 [==============================] - 20s 3ms/step - loss: 1.3864 - accuracy: 0.2497 - val_loss: 1.3863 - val_accuracy: 0.2498\n",
      "Epoch 28/150\n",
      "7920/7920 [==============================] - 20s 3ms/step - loss: 1.3864 - accuracy: 0.2499 - val_loss: 1.3863 - val_accuracy: 0.2498\n",
      "Epoch 29/150\n",
      "7920/7920 [==============================] - 18s 2ms/step - loss: 1.3864 - accuracy: 0.2498 - val_loss: 1.3863 - val_accuracy: 0.2501\n",
      "Epoch 30/150\n",
      "7920/7920 [==============================] - 20s 3ms/step - loss: 1.3864 - accuracy: 0.2493 - val_loss: 1.3864 - val_accuracy: 0.2498\n",
      "Epoch 31/150\n",
      "7920/7920 [==============================] - 22s 3ms/step - loss: 1.3864 - accuracy: 0.2498 - val_loss: 1.3863 - val_accuracy: 0.2485\n",
      "Epoch 32/150\n",
      "7920/7920 [==============================] - 26s 3ms/step - loss: 1.3864 - accuracy: 0.2491 - val_loss: 1.3864 - val_accuracy: 0.2498\n",
      "Epoch 33/150\n",
      "7920/7920 [==============================] - 23s 3ms/step - loss: 1.3864 - accuracy: 0.2498 - val_loss: 1.3864 - val_accuracy: 0.2498\n",
      "Epoch 34/150\n",
      "7920/7920 [==============================] - 20s 3ms/step - loss: 1.3864 - accuracy: 0.2504 - val_loss: 1.3863 - val_accuracy: 0.2498\n",
      "Epoch 35/150\n",
      "7920/7920 [==============================] - 19s 2ms/step - loss: 1.3864 - accuracy: 0.2491 - val_loss: 1.3865 - val_accuracy: 0.2501\n",
      "Epoch 36/150\n",
      "7920/7920 [==============================] - 19s 2ms/step - loss: 1.3864 - accuracy: 0.2496 - val_loss: 1.3864 - val_accuracy: 0.2485\n",
      "Epoch 37/150\n",
      "7920/7920 [==============================] - 19s 2ms/step - loss: 1.3864 - accuracy: 0.2513 - val_loss: 1.3865 - val_accuracy: 0.2485\n",
      "Epoch 38/150\n",
      "7920/7920 [==============================] - 23s 3ms/step - loss: 1.3864 - accuracy: 0.2493 - val_loss: 1.3863 - val_accuracy: 0.2498\n",
      "Epoch 39/150\n",
      "7920/7920 [==============================] - 23s 3ms/step - loss: 1.3864 - accuracy: 0.2504 - val_loss: 1.3865 - val_accuracy: 0.2485\n",
      "Epoch 40/150\n",
      "7920/7920 [==============================] - 21s 3ms/step - loss: 1.3864 - accuracy: 0.2490 - val_loss: 1.3863 - val_accuracy: 0.2501\n",
      "Epoch 41/150\n",
      "7920/7920 [==============================] - 18s 2ms/step - loss: 1.3864 - accuracy: 0.2503 - val_loss: 1.3864 - val_accuracy: 0.2485\n",
      "Epoch 42/150\n",
      "7920/7920 [==============================] - 20s 2ms/step - loss: 1.3864 - accuracy: 0.2496 - val_loss: 1.3863 - val_accuracy: 0.2501\n",
      "Epoch 43/150\n",
      "7920/7920 [==============================] - 19s 2ms/step - loss: 1.3864 - accuracy: 0.2482 - val_loss: 1.3864 - val_accuracy: 0.2516\n",
      "Epoch 44/150\n",
      "7920/7920 [==============================] - 19s 2ms/step - loss: 1.3864 - accuracy: 0.2507 - val_loss: 1.3864 - val_accuracy: 0.2501\n",
      "Epoch 45/150\n",
      "7920/7920 [==============================] - 22s 3ms/step - loss: 1.3864 - accuracy: 0.2503 - val_loss: 1.3864 - val_accuracy: 0.2498\n",
      "Epoch 46/150\n",
      "7920/7920 [==============================] - 23s 3ms/step - loss: 1.3864 - accuracy: 0.2506 - val_loss: 1.3863 - val_accuracy: 0.2498\n",
      "Epoch 47/150\n",
      "7920/7920 [==============================] - 20s 3ms/step - loss: 1.3864 - accuracy: 0.2488 - val_loss: 1.3864 - val_accuracy: 0.2485\n",
      "Epoch 48/150\n",
      "7920/7920 [==============================] - 17s 2ms/step - loss: 1.3864 - accuracy: 0.2495 - val_loss: 1.3864 - val_accuracy: 0.2485\n",
      "Epoch 49/150\n",
      "7920/7920 [==============================] - 17s 2ms/step - loss: 1.3864 - accuracy: 0.2494 - val_loss: 1.3864 - val_accuracy: 0.2498\n",
      "Epoch 50/150\n",
      "7920/7920 [==============================] - 18s 2ms/step - loss: 1.3864 - accuracy: 0.2494 - val_loss: 1.3864 - val_accuracy: 0.2501\n",
      "Epoch 51/150\n",
      "7920/7920 [==============================] - 17s 2ms/step - loss: 1.3864 - accuracy: 0.2495 - val_loss: 1.3863 - val_accuracy: 0.2485\n",
      "Epoch 52/150\n",
      "7920/7920 [==============================] - 17s 2ms/step - loss: 1.3864 - accuracy: 0.2496 - val_loss: 1.3863 - val_accuracy: 0.2485\n",
      "Epoch 53/150\n",
      "7920/7920 [==============================] - 17s 2ms/step - loss: 1.3864 - accuracy: 0.2500 - val_loss: 1.3865 - val_accuracy: 0.2498\n",
      "Epoch 54/150\n",
      "7920/7920 [==============================] - 17s 2ms/step - loss: 1.3864 - accuracy: 0.2485 - val_loss: 1.3864 - val_accuracy: 0.2485\n",
      "Epoch 55/150\n",
      "7920/7920 [==============================] - 17s 2ms/step - loss: 1.3864 - accuracy: 0.2487 - val_loss: 1.3864 - val_accuracy: 0.2498\n",
      "Epoch 56/150\n",
      "7920/7920 [==============================] - 18s 2ms/step - loss: 1.3864 - accuracy: 0.2507 - val_loss: 1.3864 - val_accuracy: 0.2485\n"
     ]
    },
    {
     "name": "stdout",
     "output_type": "stream",
     "text": [
      "Epoch 57/150\n",
      "7920/7920 [==============================] - 17s 2ms/step - loss: 1.3864 - accuracy: 0.2491 - val_loss: 1.3864 - val_accuracy: 0.2498\n",
      "Epoch 58/150\n",
      "7920/7920 [==============================] - 17s 2ms/step - loss: 1.3864 - accuracy: 0.2495 - val_loss: 1.3866 - val_accuracy: 0.2501\n",
      "Epoch 59/150\n",
      "7920/7920 [==============================] - 18s 2ms/step - loss: 1.3864 - accuracy: 0.2497 - val_loss: 1.3864 - val_accuracy: 0.2485\n",
      "Epoch 60/150\n",
      "7920/7920 [==============================] - 17s 2ms/step - loss: 1.3864 - accuracy: 0.2495 - val_loss: 1.3863 - val_accuracy: 0.2516\n",
      "Epoch 61/150\n",
      "7920/7920 [==============================] - 17s 2ms/step - loss: 1.3864 - accuracy: 0.2498 - val_loss: 1.3863 - val_accuracy: 0.2498\n",
      "Epoch 62/150\n",
      "7920/7920 [==============================] - 17s 2ms/step - loss: 1.3864 - accuracy: 0.2500 - val_loss: 1.3863 - val_accuracy: 0.2516\n",
      "Epoch 63/150\n",
      "7920/7920 [==============================] - 19s 2ms/step - loss: 1.3864 - accuracy: 0.2504 - val_loss: 1.3865 - val_accuracy: 0.2516\n",
      "Epoch 64/150\n",
      "7920/7920 [==============================] - 22s 3ms/step - loss: 1.3864 - accuracy: 0.2502 - val_loss: 1.3864 - val_accuracy: 0.2485\n",
      "Epoch 65/150\n",
      "7920/7920 [==============================] - 21s 3ms/step - loss: 1.3864 - accuracy: 0.2481 - val_loss: 1.3864 - val_accuracy: 0.2498\n",
      "Epoch 66/150\n",
      "7920/7920 [==============================] - 21s 3ms/step - loss: 1.3864 - accuracy: 0.2506 - val_loss: 1.3863 - val_accuracy: 0.2501\n",
      "Epoch 67/150\n",
      "7920/7920 [==============================] - 21s 3ms/step - loss: 1.3864 - accuracy: 0.2506 - val_loss: 1.3865 - val_accuracy: 0.2516\n",
      "Epoch 68/150\n",
      "7920/7920 [==============================] - 21s 3ms/step - loss: 1.3864 - accuracy: 0.2498 - val_loss: 1.3865 - val_accuracy: 0.2485\n",
      "Epoch 69/150\n",
      "7920/7920 [==============================] - 21s 3ms/step - loss: 1.3864 - accuracy: 0.2489 - val_loss: 1.3863 - val_accuracy: 0.2501\n",
      "Epoch 70/150\n",
      "7920/7920 [==============================] - 21s 3ms/step - loss: 1.3864 - accuracy: 0.2500 - val_loss: 1.3863 - val_accuracy: 0.2516\n",
      "Epoch 71/150\n",
      "7920/7920 [==============================] - 20s 3ms/step - loss: 1.3864 - accuracy: 0.2496 - val_loss: 1.3864 - val_accuracy: 0.2498\n",
      "Epoch 72/150\n",
      "7920/7920 [==============================] - 20s 3ms/step - loss: 1.3864 - accuracy: 0.2497 - val_loss: 1.3864 - val_accuracy: 0.2498\n",
      "Epoch 73/150\n",
      "7920/7920 [==============================] - 21s 3ms/step - loss: 1.3864 - accuracy: 0.2508 - val_loss: 1.3864 - val_accuracy: 0.2516\n",
      "Epoch 74/150\n",
      "7920/7920 [==============================] - 19s 2ms/step - loss: 1.3864 - accuracy: 0.2497 - val_loss: 1.3865 - val_accuracy: 0.2485\n",
      "Epoch 75/150\n",
      "7920/7920 [==============================] - 19s 2ms/step - loss: 1.3864 - accuracy: 0.2505 - val_loss: 1.3863 - val_accuracy: 0.2516\n",
      "Epoch 76/150\n",
      "7920/7920 [==============================] - 19s 2ms/step - loss: 1.3864 - accuracy: 0.2505 - val_loss: 1.3865 - val_accuracy: 0.2485\n",
      "Epoch 77/150\n",
      "7920/7920 [==============================] - 19s 2ms/step - loss: 1.3864 - accuracy: 0.2503 - val_loss: 1.3863 - val_accuracy: 0.2516\n",
      "Epoch 78/150\n",
      "7920/7920 [==============================] - 18s 2ms/step - loss: 1.3864 - accuracy: 0.2491 - val_loss: 1.3864 - val_accuracy: 0.2485\n",
      "Epoch 79/150\n",
      "7920/7920 [==============================] - 18s 2ms/step - loss: 1.3864 - accuracy: 0.2501 - val_loss: 1.3864 - val_accuracy: 0.2501\n",
      "Epoch 80/150\n",
      "7920/7920 [==============================] - 18s 2ms/step - loss: 1.3864 - accuracy: 0.2496 - val_loss: 1.3864 - val_accuracy: 0.2498\n",
      "Epoch 81/150\n",
      "7920/7920 [==============================] - 19s 2ms/step - loss: 1.3864 - accuracy: 0.2503 - val_loss: 1.3864 - val_accuracy: 0.2516\n",
      "Epoch 82/150\n",
      "7920/7920 [==============================] - 18s 2ms/step - loss: 1.3864 - accuracy: 0.2490 - val_loss: 1.3863 - val_accuracy: 0.2516\n",
      "Epoch 83/150\n",
      "7920/7920 [==============================] - 18s 2ms/step - loss: 1.3864 - accuracy: 0.2498 - val_loss: 1.3863 - val_accuracy: 0.2498\n",
      "Epoch 84/150\n",
      "7920/7920 [==============================] - 18s 2ms/step - loss: 1.3864 - accuracy: 0.2497 - val_loss: 1.3864 - val_accuracy: 0.2501\n",
      "Epoch 85/150\n",
      "7920/7920 [==============================] - 18s 2ms/step - loss: 1.3864 - accuracy: 0.2495 - val_loss: 1.3863 - val_accuracy: 0.2501\n",
      "Epoch 86/150\n",
      "7920/7920 [==============================] - 18s 2ms/step - loss: 1.3864 - accuracy: 0.2501 - val_loss: 1.3864 - val_accuracy: 0.2485\n",
      "Epoch 87/150\n",
      "7920/7920 [==============================] - 19s 2ms/step - loss: 1.3864 - accuracy: 0.2495 - val_loss: 1.3863 - val_accuracy: 0.2501\n",
      "Epoch 88/150\n",
      "7920/7920 [==============================] - 19s 2ms/step - loss: 1.3864 - accuracy: 0.2494 - val_loss: 1.3863 - val_accuracy: 0.2516\n",
      "Epoch 89/150\n",
      "7920/7920 [==============================] - 20s 2ms/step - loss: 1.3864 - accuracy: 0.2496 - val_loss: 1.3864 - val_accuracy: 0.2501\n",
      "Epoch 90/150\n",
      "7920/7920 [==============================] - 19s 2ms/step - loss: 1.3864 - accuracy: 0.2487 - val_loss: 1.3863 - val_accuracy: 0.2516\n",
      "Epoch 91/150\n",
      "7920/7920 [==============================] - 19s 2ms/step - loss: 1.3864 - accuracy: 0.2507 - val_loss: 1.3865 - val_accuracy: 0.2498\n",
      "Epoch 92/150\n",
      "7920/7920 [==============================] - 22s 3ms/step - loss: 1.3864 - accuracy: 0.2491 - val_loss: 1.3863 - val_accuracy: 0.2516\n",
      "Epoch 93/150\n",
      "7920/7920 [==============================] - 21s 3ms/step - loss: 1.3864 - accuracy: 0.2512 - val_loss: 1.3863 - val_accuracy: 0.2485\n",
      "Epoch 94/150\n",
      "7920/7920 [==============================] - 21s 3ms/step - loss: 1.3864 - accuracy: 0.2497 - val_loss: 1.3863 - val_accuracy: 0.2498\n",
      "Epoch 95/150\n",
      "7920/7920 [==============================] - 22s 3ms/step - loss: 1.3864 - accuracy: 0.2494 - val_loss: 1.3864 - val_accuracy: 0.2498\n",
      "Epoch 96/150\n",
      "7920/7920 [==============================] - 21s 3ms/step - loss: 1.3863 - accuracy: 0.2503 - val_loss: 1.3865 - val_accuracy: 0.2485\n",
      "Epoch 97/150\n",
      "7920/7920 [==============================] - 22s 3ms/step - loss: 1.3864 - accuracy: 0.2499 - val_loss: 1.3863 - val_accuracy: 0.2498\n",
      "Epoch 98/150\n",
      "7920/7920 [==============================] - 21s 3ms/step - loss: 1.3864 - accuracy: 0.2505 - val_loss: 1.3863 - val_accuracy: 0.2501\n",
      "Epoch 99/150\n",
      "7920/7920 [==============================] - 20s 3ms/step - loss: 1.3864 - accuracy: 0.2487 - val_loss: 1.3863 - val_accuracy: 0.2516\n",
      "Epoch 100/150\n",
      "7920/7920 [==============================] - 20s 3ms/step - loss: 1.3864 - accuracy: 0.2494 - val_loss: 1.3864 - val_accuracy: 0.2485\n",
      "Epoch 101/150\n",
      "7920/7920 [==============================] - 23s 3ms/step - loss: 1.3864 - accuracy: 0.2501 - val_loss: 1.3863 - val_accuracy: 0.2516\n",
      "Epoch 102/150\n",
      "7920/7920 [==============================] - 22s 3ms/step - loss: 1.3864 - accuracy: 0.2496 - val_loss: 1.3864 - val_accuracy: 0.2498\n",
      "Epoch 103/150\n",
      "7920/7920 [==============================] - 20s 3ms/step - loss: 1.3864 - accuracy: 0.2496 - val_loss: 1.3864 - val_accuracy: 0.2501\n",
      "Epoch 104/150\n",
      "7920/7920 [==============================] - 21s 3ms/step - loss: 1.3864 - accuracy: 0.2500 - val_loss: 1.3863 - val_accuracy: 0.2498\n",
      "Epoch 105/150\n",
      "7920/7920 [==============================] - 19s 2ms/step - loss: 1.3864 - accuracy: 0.2501 - val_loss: 1.3863 - val_accuracy: 0.2485\n",
      "Epoch 106/150\n",
      "7920/7920 [==============================] - 23s 3ms/step - loss: 1.3864 - accuracy: 0.2494 - val_loss: 1.3863 - val_accuracy: 0.2498\n",
      "Epoch 107/150\n",
      "7920/7920 [==============================] - 21s 3ms/step - loss: 1.3864 - accuracy: 0.2491 - val_loss: 1.3864 - val_accuracy: 0.2498\n",
      "Epoch 108/150\n",
      "7920/7920 [==============================] - 22s 3ms/step - loss: 1.3864 - accuracy: 0.2504 - val_loss: 1.3865 - val_accuracy: 0.2516\n",
      "Epoch 109/150\n",
      "7920/7920 [==============================] - 29s 4ms/step - loss: 1.3864 - accuracy: 0.2497 - val_loss: 1.3864 - val_accuracy: 0.2485\n",
      "Epoch 110/150\n",
      "7920/7920 [==============================] - 24s 3ms/step - loss: 1.3864 - accuracy: 0.2486 - val_loss: 1.3864 - val_accuracy: 0.2485\n",
      "Epoch 111/150\n",
      "7920/7920 [==============================] - 25s 3ms/step - loss: 1.3864 - accuracy: 0.2504 - val_loss: 1.3863 - val_accuracy: 0.2501\n",
      "Epoch 112/150\n",
      "7920/7920 [==============================] - 17s 2ms/step - loss: 1.3864 - accuracy: 0.2498 - val_loss: 1.3864 - val_accuracy: 0.2516\n",
      "Epoch 113/150\n",
      "7920/7920 [==============================] - 22s 3ms/step - loss: 1.3864 - accuracy: 0.2500 - val_loss: 1.3863 - val_accuracy: 0.2516\n",
      "Epoch 114/150\n",
      "7920/7920 [==============================] - 19s 2ms/step - loss: 1.3864 - accuracy: 0.2500 - val_loss: 1.3863 - val_accuracy: 0.2516\n",
      "Epoch 115/150\n",
      "7920/7920 [==============================] - 19s 2ms/step - loss: 1.3864 - accuracy: 0.2499 - val_loss: 1.3863 - val_accuracy: 0.2516\n",
      "Epoch 116/150\n",
      "7920/7920 [==============================] - 21s 3ms/step - loss: 1.3864 - accuracy: 0.2496 - val_loss: 1.3863 - val_accuracy: 0.2498\n",
      "Epoch 117/150\n",
      "7920/7920 [==============================] - 23s 3ms/step - loss: 1.3864 - accuracy: 0.2511 - val_loss: 1.3864 - val_accuracy: 0.2501\n",
      "Epoch 118/150\n",
      "7920/7920 [==============================] - 22s 3ms/step - loss: 1.3864 - accuracy: 0.2497 - val_loss: 1.3864 - val_accuracy: 0.2501\n",
      "Epoch 119/150\n",
      "7920/7920 [==============================] - 22s 3ms/step - loss: 1.3864 - accuracy: 0.2499 - val_loss: 1.3863 - val_accuracy: 0.2498\n",
      "Epoch 120/150\n",
      "7920/7920 [==============================] - 25s 3ms/step - loss: 1.3864 - accuracy: 0.2494 - val_loss: 1.3863 - val_accuracy: 0.2501\n",
      "Epoch 121/150\n",
      "7920/7920 [==============================] - 24s 3ms/step - loss: 1.3864 - accuracy: 0.2480 - val_loss: 1.3864 - val_accuracy: 0.2498\n",
      "Epoch 122/150\n",
      "7920/7920 [==============================] - 24s 3ms/step - loss: 1.3864 - accuracy: 0.2496 - val_loss: 1.3864 - val_accuracy: 0.2498\n",
      "Epoch 123/150\n",
      "7920/7920 [==============================] - 23s 3ms/step - loss: 1.3864 - accuracy: 0.2510 - val_loss: 1.3864 - val_accuracy: 0.2501\n",
      "Epoch 124/150\n",
      "7920/7920 [==============================] - 23s 3ms/step - loss: 1.3864 - accuracy: 0.2490 - val_loss: 1.3863 - val_accuracy: 0.2501\n",
      "Epoch 125/150\n",
      "7920/7920 [==============================] - 23s 3ms/step - loss: 1.3864 - accuracy: 0.2508 - val_loss: 1.3863 - val_accuracy: 0.2516\n",
      "Epoch 126/150\n",
      "7920/7920 [==============================] - 22s 3ms/step - loss: 1.3864 - accuracy: 0.2496 - val_loss: 1.3863 - val_accuracy: 0.2498\n",
      "Epoch 127/150\n",
      "7920/7920 [==============================] - 19s 2ms/step - loss: 1.3864 - accuracy: 0.2493 - val_loss: 1.3863 - val_accuracy: 0.2516\n",
      "Epoch 128/150\n",
      "7920/7920 [==============================] - 17s 2ms/step - loss: 1.3864 - accuracy: 0.2493 - val_loss: 1.3864 - val_accuracy: 0.2516\n",
      "Epoch 129/150\n",
      "7920/7920 [==============================] - 20s 3ms/step - loss: 1.3864 - accuracy: 0.2504 - val_loss: 1.3864 - val_accuracy: 0.2485\n",
      "Epoch 130/150\n",
      "7920/7920 [==============================] - 22s 3ms/step - loss: 1.3864 - accuracy: 0.2484 - val_loss: 1.3865 - val_accuracy: 0.2485\n",
      "Epoch 131/150\n",
      "7920/7920 [==============================] - 22s 3ms/step - loss: 1.3864 - accuracy: 0.2482 - val_loss: 1.3863 - val_accuracy: 0.2485\n",
      "Epoch 132/150\n",
      "7920/7920 [==============================] - 22s 3ms/step - loss: 1.3864 - accuracy: 0.2483 - val_loss: 1.3863 - val_accuracy: 0.2516\n",
      "Epoch 133/150\n",
      "7920/7920 [==============================] - 20s 2ms/step - loss: 1.3864 - accuracy: 0.2490 - val_loss: 1.3865 - val_accuracy: 0.2485\n",
      "Epoch 134/150\n",
      "7920/7920 [==============================] - 17s 2ms/step - loss: 1.3864 - accuracy: 0.2484 - val_loss: 1.3865 - val_accuracy: 0.2485\n",
      "Epoch 135/150\n",
      "7920/7920 [==============================] - 17s 2ms/step - loss: 1.3864 - accuracy: 0.2513 - val_loss: 1.3864 - val_accuracy: 0.2485\n",
      "Epoch 136/150\n",
      "7920/7920 [==============================] - 17s 2ms/step - loss: 1.3864 - accuracy: 0.2503 - val_loss: 1.3865 - val_accuracy: 0.2485\n",
      "Epoch 137/150\n",
      "7920/7920 [==============================] - 17s 2ms/step - loss: 1.3864 - accuracy: 0.2500 - val_loss: 1.3864 - val_accuracy: 0.2485\n",
      "Epoch 138/150\n",
      "7920/7920 [==============================] - 17s 2ms/step - loss: 1.3864 - accuracy: 0.2504 - val_loss: 1.3863 - val_accuracy: 0.2501\n",
      "Epoch 139/150\n",
      "7920/7920 [==============================] - 23s 3ms/step - loss: 1.3864 - accuracy: 0.2501 - val_loss: 1.3865 - val_accuracy: 0.2485\n",
      "Epoch 140/150\n",
      "7920/7920 [==============================] - 23s 3ms/step - loss: 1.3864 - accuracy: 0.2495 - val_loss: 1.3863 - val_accuracy: 0.2501\n",
      "Epoch 141/150\n",
      "7920/7920 [==============================] - 25s 3ms/step - loss: 1.3864 - accuracy: 0.2500 - val_loss: 1.3865 - val_accuracy: 0.2485\n",
      "Epoch 142/150\n",
      "7920/7920 [==============================] - 20s 3ms/step - loss: 1.3864 - accuracy: 0.2501 - val_loss: 1.3864 - val_accuracy: 0.2498\n",
      "Epoch 143/150\n",
      "7920/7920 [==============================] - 19s 2ms/step - loss: 1.3864 - accuracy: 0.2504 - val_loss: 1.3864 - val_accuracy: 0.2501\n",
      "Epoch 144/150\n",
      "7920/7920 [==============================] - 26s 3ms/step - loss: 1.3864 - accuracy: 0.2498 - val_loss: 1.3863 - val_accuracy: 0.2501\n",
      "Epoch 145/150\n",
      "7920/7920 [==============================] - 25s 3ms/step - loss: 1.3864 - accuracy: 0.2508 - val_loss: 1.3864 - val_accuracy: 0.2498\n",
      "Epoch 146/150\n",
      "7920/7920 [==============================] - 17s 2ms/step - loss: 1.3864 - accuracy: 0.2505 - val_loss: 1.3864 - val_accuracy: 0.2485\n",
      "Epoch 147/150\n",
      "7920/7920 [==============================] - 22s 3ms/step - loss: 1.3864 - accuracy: 0.2520 - val_loss: 1.3863 - val_accuracy: 0.2498\n",
      "Epoch 148/150\n",
      "7920/7920 [==============================] - 22s 3ms/step - loss: 1.3864 - accuracy: 0.2496 - val_loss: 1.3864 - val_accuracy: 0.2485\n",
      "Epoch 149/150\n",
      "7920/7920 [==============================] - 22s 3ms/step - loss: 1.3864 - accuracy: 0.2517 - val_loss: 1.3864 - val_accuracy: 0.2498\n",
      "Epoch 150/150\n",
      "7920/7920 [==============================] - 21s 3ms/step - loss: 1.3864 - accuracy: 0.2484 - val_loss: 1.3863 - val_accuracy: 0.2501\n"
     ]
    },
    {
     "data": {
      "text/plain": [
       "<keras.callbacks.History at 0x1d69bc57b20>"
      ]
     },
     "execution_count": 62,
     "metadata": {},
     "output_type": "execute_result"
    }
   ],
   "source": [
    "model.fit(x= X2, y= train_y, epochs = 150, validation_data = (testX2, test_y), callbacks=[early_stop], batch_size = 32)"
   ]
  },
  {
   "cell_type": "code",
   "execution_count": 240,
   "id": "d84e5cd7",
   "metadata": {},
   "outputs": [
    {
     "name": "stdout",
     "output_type": "stream",
     "text": [
      "1980/1980 [==============================] - 3s 2ms/step - loss: 0.0000e+00 - accuracy: 0.0000e+00\n"
     ]
    },
    {
     "data": {
      "text/plain": [
       "[0.0, 0.0]"
      ]
     },
     "execution_count": 240,
     "metadata": {},
     "output_type": "execute_result"
    }
   ],
   "source": [
    "model.evaluate(testX2)"
   ]
  },
  {
   "cell_type": "code",
   "execution_count": 63,
   "id": "0c98c8f8",
   "metadata": {},
   "outputs": [],
   "source": [
    "pred = model.predict(testX)"
   ]
  },
  {
   "cell_type": "code",
   "execution_count": 64,
   "id": "e9042e1a",
   "metadata": {},
   "outputs": [],
   "source": [
    "pred1 = np.argmax(pred, axis=-1)"
   ]
  },
  {
   "cell_type": "code",
   "execution_count": 65,
   "id": "82e31caf",
   "metadata": {},
   "outputs": [],
   "source": [
    "testingLabel = np.argmax(test_y, axis=-1)"
   ]
  },
  {
   "cell_type": "code",
   "execution_count": 66,
   "id": "6eac3cad",
   "metadata": {},
   "outputs": [
    {
     "data": {
      "text/plain": [
       "array([[0.25234595, 0.25015032, 0.24517658, 0.2523272 ],\n",
       "       [0.25234595, 0.25015032, 0.24517658, 0.2523272 ],\n",
       "       [0.25234595, 0.25015032, 0.24517658, 0.2523272 ],\n",
       "       ...,\n",
       "       [0.25234595, 0.25015032, 0.24517658, 0.2523272 ],\n",
       "       [0.25234595, 0.25015032, 0.24517658, 0.2523272 ],\n",
       "       [0.25234595, 0.25015032, 0.24517658, 0.2523272 ]], dtype=float32)"
      ]
     },
     "execution_count": 66,
     "metadata": {},
     "output_type": "execute_result"
    }
   ],
   "source": [
    "pred"
   ]
  },
  {
   "cell_type": "code",
   "execution_count": 67,
   "id": "2df4ead2",
   "metadata": {},
   "outputs": [
    {
     "name": "stdout",
     "output_type": "stream",
     "text": [
      "              precision    recall  f1-score   support\n",
      "\n",
      "           0       0.25      1.00      0.40     15848\n",
      "           1       0.00      0.00      0.00     15745\n",
      "           2       0.00      0.00      0.00     15828\n",
      "           3       0.00      0.00      0.00     15939\n",
      "\n",
      "    accuracy                           0.25     63360\n",
      "   macro avg       0.06      0.25      0.10     63360\n",
      "weighted avg       0.06      0.25      0.10     63360\n",
      "\n"
     ]
    },
    {
     "name": "stderr",
     "output_type": "stream",
     "text": [
      "C:\\Users\\ushou\\Downloads\\Data Science and AI\\MSc Project\\project_env\\lib\\site-packages\\sklearn\\metrics\\_classification.py:1308: UndefinedMetricWarning: Precision and F-score are ill-defined and being set to 0.0 in labels with no predicted samples. Use `zero_division` parameter to control this behavior.\n",
      "  _warn_prf(average, modifier, msg_start, len(result))\n",
      "C:\\Users\\ushou\\Downloads\\Data Science and AI\\MSc Project\\project_env\\lib\\site-packages\\sklearn\\metrics\\_classification.py:1308: UndefinedMetricWarning: Precision and F-score are ill-defined and being set to 0.0 in labels with no predicted samples. Use `zero_division` parameter to control this behavior.\n",
      "  _warn_prf(average, modifier, msg_start, len(result))\n",
      "C:\\Users\\ushou\\Downloads\\Data Science and AI\\MSc Project\\project_env\\lib\\site-packages\\sklearn\\metrics\\_classification.py:1308: UndefinedMetricWarning: Precision and F-score are ill-defined and being set to 0.0 in labels with no predicted samples. Use `zero_division` parameter to control this behavior.\n",
      "  _warn_prf(average, modifier, msg_start, len(result))\n"
     ]
    }
   ],
   "source": [
    "print(classification_report(testingLabel, pred1))"
   ]
  },
  {
   "cell_type": "code",
   "execution_count": 71,
   "id": "5d295d96",
   "metadata": {},
   "outputs": [
    {
     "data": {
      "text/plain": [
       "<AxesSubplot:>"
      ]
     },
     "execution_count": 71,
     "metadata": {},
     "output_type": "execute_result"
    },
    {
     "data": {
      "image/png": "[encoded data removed]",
      "text/plain": [
       "<Figure size 432x288 with 2 Axes>"
      ]
     },
     "metadata": {
      "needs_background": "light"
     },
     "output_type": "display_data"
    }
   ],
   "source": [
    "cm = confusion_matrix(testingLabel, pred1)\n",
    "sns.heatmap(cm, annot = True)"
   ]
  },
  {
   "cell_type": "code",
   "execution_count": 69,
   "id": "6aaa7796",
   "metadata": {},
   "outputs": [
    {
     "data": {
      "text/html": [
       "<div>\n",
       "<style scoped>\n",
       "    .dataframe tbody tr th:only-of-type {\n",
       "        vertical-align: middle;\n",
       "    }\n",
       "\n",
       "    .dataframe tbody tr th {\n",
       "        vertical-align: top;\n",
       "    }\n",
       "\n",
       "    .dataframe thead th {\n",
       "        text-align: right;\n",
       "    }\n",
       "</style>\n",
       "<table border=\"1\" class=\"dataframe\">\n",
       "  <thead>\n",
       "    <tr style=\"text-align: right;\">\n",
       "      <th></th>\n",
       "    </tr>\n",
       "  </thead>\n",
       "  <tbody>\n",
       "  </tbody>\n",
       "</table>\n",
       "</div>"
      ],
      "text/plain": [
       "Empty DataFrame\n",
       "Columns: []\n",
       "Index: []"
      ]
     },
     "execution_count": 69,
     "metadata": {},
     "output_type": "execute_result"
    }
   ],
   "source": []
  },
  {
   "cell_type": "code",
   "execution_count": null,
   "id": "0c4b004b",
   "metadata": {},
   "outputs": [],
   "source": []
  }
 ],
 "metadata": {
  "kernelspec": {
   "display_name": "Python 3 (ipykernel)",
   "language": "python",
   "name": "python3"
  },
  "language_info": {
   "codemirror_mode": {
    "name": "ipython",
    "version": 3
   },
   "file_extension": ".py",
   "mimetype": "text/x-python",
   "name": "python",
   "nbconvert_exporter": "python",
   "pygments_lexer": "ipython3",
   "version": "3.7.9"
  }
 },
 "nbformat": 4,
 "nbformat_minor": 5
}
