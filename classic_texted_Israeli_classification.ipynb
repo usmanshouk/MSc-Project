{
 "cells": [
  {
   "cell_type": "markdown",
   "id": "9b0b72cc",
   "metadata": {},
   "source": [
    "# Tensorflow Implementation"
   ]
  },
  {
   "cell_type": "code",
   "execution_count": 1,
   "id": "6152d81b",
   "metadata": {},
   "outputs": [],
   "source": [
    "import nest_asyncio\n",
    "nest_asyncio.apply()\n",
    "import collections\n",
    "import numpy as np\n",
    "import tensorflow as tf\n",
    "import tensorflow_federated as tff\n",
    "from tqdm import tqdm\n",
    "from pathlib import Path\n",
    "from matplotlib import pyplot as plt\n",
    "import collections\n",
    "import numpy as np\n",
    "from tensorflow import reshape, nest, config\n",
    "from tensorflow.keras import losses, metrics, optimizers\n",
    "import tensorflow_federated as tff\n",
    "from matplotlib import pyplot as plt\n",
    "from pathlib import Path\n",
    "from tensorflow.keras.preprocessing.image import ImageDataGenerator\n",
    "from tensorflow import reshape, nest, config\n",
    "from tensorflow.keras import Sequential\n",
    "from tensorflow.keras.layers import Conv2D, MaxPool2D, Flatten, Dense, Dropout\n",
    "import pandas as pd\n",
    "from sklearn.model_selection import train_test_split\n",
    "from sklearn.metrics import confusion_matrix, classification_report\n",
    "import seaborn as sns\n",
    "from tensorflow.keras.callbacks import EarlyStopping"
   ]
  },
  {
   "cell_type": "markdown",
   "id": "57ac19c6",
   "metadata": {},
   "source": [
    "# Data Loading and Pre_processing"
   ]
  },
  {
   "cell_type": "code",
   "execution_count": 2,
   "id": "15ba8f07",
   "metadata": {},
   "outputs": [],
   "source": [
    "experiment_name = \"xray_image_dataset\"\n",
    "method = \"tff_training\"\n",
    "this_dir = Path.cwd()\n",
    "model_dir = this_dir / \"models\" \n",
    "output_dir = this_dir / \"results\" \n",
    "\n",
    "data = pd.read_csv(\"./../texted_data.csv\")\n",
    "label = pd.get_dummies(data[\"result\"])\n",
    "X = data.drop([\"result\", \"Unnamed: 0\"], axis = 1)\n",
    "X_train, X_test, y_train, y_test = train_test_split(X, \n",
    "                                                    label, \n",
    "                                                    test_size=0.1, \n",
    "                                                    random_state=42)\n",
    "# X_train = X_train.astype(np.float32).values\n",
    "# y_train = pd.get_dummies(data[\"result\"]).values\n",
    "# X = X.astype(np.float32).values\n",
    "# label = pd.get_dummies(data[\"result\"]).values\n",
    "\n",
    "X_test = X_test.astype(np.float32).values\n",
    "y_test =  y_test.astype(np.int32).values\n",
    "X_train = X_train.astype(np.float32).values\n",
    "y_train =  y_train.astype(np.int32).values"
   ]
  },
  {
   "cell_type": "code",
   "execution_count": null,
   "id": "3d03d89d",
   "metadata": {},
   "outputs": [],
   "source": []
  },
  {
   "cell_type": "code",
   "execution_count": null,
   "id": "3456eec6",
   "metadata": {},
   "outputs": [],
   "source": []
  },
  {
   "cell_type": "markdown",
   "id": "813962fa",
   "metadata": {},
   "source": [
    "# Model 1"
   ]
  },
  {
   "cell_type": "code",
   "execution_count": 3,
   "id": "17d00191",
   "metadata": {},
   "outputs": [],
   "source": [
    "model = Sequential()\n",
    "\n",
    "\n",
    "model.add(Dense(64, activation= \"relu\", input_shape=(7,)))\n",
    "# model.add(Dense(128, activation= \"relu\"))\n",
    "model.add(Dense(128, activation= \"relu\"))\n",
    "# model.add(Dropout(0.5))\n",
    "model.add(Dense(2, activation= \"softmax\"))\n",
    "\n",
    "model.compile(loss=\"categorical_crossentropy\", optimizer = \"adam\",\n",
    "             metrics=[\"accuracy\"])"
   ]
  },
  {
   "cell_type": "code",
   "execution_count": 4,
   "id": "7e33da7d",
   "metadata": {},
   "outputs": [
    {
     "name": "stdout",
     "output_type": "stream",
     "text": [
      "Model: \"sequential\"\n",
      "_________________________________________________________________\n",
      "Layer (type)                 Output Shape              Param #   \n",
      "=================================================================\n",
      "dense (Dense)                (None, 64)                512       \n",
      "_________________________________________________________________\n",
      "dense_1 (Dense)              (None, 128)               8320      \n",
      "_________________________________________________________________\n",
      "dense_2 (Dense)              (None, 2)                 258       \n",
      "=================================================================\n",
      "Total params: 9,090\n",
      "Trainable params: 9,090\n",
      "Non-trainable params: 0\n",
      "_________________________________________________________________\n"
     ]
    }
   ],
   "source": [
    "model.summary()"
   ]
  },
  {
   "cell_type": "code",
   "execution_count": 5,
   "id": "997c4c46",
   "metadata": {},
   "outputs": [],
   "source": [
    "early_stop = EarlyStopping(monitor=\"val_loss\", patience=2) "
   ]
  },
  {
   "cell_type": "code",
   "execution_count": 6,
   "id": "52ebcee7",
   "metadata": {},
   "outputs": [
    {
     "name": "stdout",
     "output_type": "stream",
     "text": [
      "Epoch 1/10\n",
      "3664/3664 [==============================] - 6s 2ms/step - loss: 0.3298 - accuracy: 0.8971 - val_loss: 0.3281 - val_accuracy: 0.8975\n",
      "Epoch 2/10\n",
      "3664/3664 [==============================] - 5s 1ms/step - loss: 0.3256 - accuracy: 0.8980 - val_loss: 0.3262 - val_accuracy: 0.8975\n",
      "Epoch 3/10\n",
      "3664/3664 [==============================] - 4s 1ms/step - loss: 0.3251 - accuracy: 0.8980 - val_loss: 0.3252 - val_accuracy: 0.8975\n",
      "Epoch 4/10\n",
      "3664/3664 [==============================] - 7s 2ms/step - loss: 0.3251 - accuracy: 0.8980 - val_loss: 0.3252 - val_accuracy: 0.8975\n",
      "Epoch 5/10\n",
      "3664/3664 [==============================] - 4s 1ms/step - loss: 0.3250 - accuracy: 0.8980 - val_loss: 0.3257 - val_accuracy: 0.8975\n",
      "Epoch 6/10\n",
      "3664/3664 [==============================] - 5s 1ms/step - loss: 0.3249 - accuracy: 0.8980 - val_loss: 0.3252 - val_accuracy: 0.8975\n",
      "Epoch 7/10\n",
      "3664/3664 [==============================] - 5s 1ms/step - loss: 0.3246 - accuracy: 0.8980 - val_loss: 0.3252 - val_accuracy: 0.8975\n",
      "Epoch 8/10\n",
      "3664/3664 [==============================] - 4s 1ms/step - loss: 0.3247 - accuracy: 0.8980 - val_loss: 0.3258 - val_accuracy: 0.8975\n"
     ]
    },
    {
     "data": {
      "text/plain": [
       "<tensorflow.python.keras.callbacks.History at 0x19b79983708>"
      ]
     },
     "execution_count": 6,
     "metadata": {},
     "output_type": "execute_result"
    }
   ],
   "source": [
    "\n",
    "model.fit(x = X_train, y = y_train,epochs = 10,validation_split = 0.3 ,batch_size = 32, callbacks=[early_stop])"
   ]
  },
  {
   "cell_type": "code",
   "execution_count": 7,
   "id": "8ad258e2",
   "metadata": {},
   "outputs": [],
   "source": [
    "model.save(\"Tensorflow_best_model.h5\")"
   ]
  },
  {
   "cell_type": "code",
   "execution_count": 8,
   "id": "42288f8c",
   "metadata": {},
   "outputs": [
    {
     "name": "stdout",
     "output_type": "stream",
     "text": [
      "582/582 [==============================] - 0s 758us/step - loss: 0.3251 - accuracy: 0.8977\n"
     ]
    },
    {
     "data": {
      "text/plain": [
       "[0.325103223323822, 0.8976839184761047]"
      ]
     },
     "execution_count": 8,
     "metadata": {},
     "output_type": "execute_result"
    }
   ],
   "source": [
    "model.evaluate(x = X_test, y = y_test, batch_size = 32)"
   ]
  },
  {
   "cell_type": "code",
   "execution_count": 9,
   "id": "8107b33f",
   "metadata": {},
   "outputs": [
    {
     "data": {
      "text/plain": [
       "['loss', 'accuracy']"
      ]
     },
     "execution_count": 9,
     "metadata": {},
     "output_type": "execute_result"
    }
   ],
   "source": [
    "model.metrics_names"
   ]
  },
  {
   "cell_type": "code",
   "execution_count": 10,
   "id": "1fb9ef66",
   "metadata": {},
   "outputs": [],
   "source": [
    "pred = model.predict(X_test)"
   ]
  },
  {
   "cell_type": "code",
   "execution_count": 11,
   "id": "8a11254f",
   "metadata": {},
   "outputs": [],
   "source": [
    "pred1 = np.argmax(pred, axis=-1)"
   ]
  },
  {
   "cell_type": "code",
   "execution_count": 12,
   "id": "37ef5994",
   "metadata": {},
   "outputs": [],
   "source": [
    "test_labels = np.argmax(y_test, axis=-1)"
   ]
  },
  {
   "cell_type": "code",
   "execution_count": 13,
   "id": "0184dc12",
   "metadata": {},
   "outputs": [
    {
     "name": "stdout",
     "output_type": "stream",
     "text": [
      "              precision    recall  f1-score   support\n",
      "\n",
      "           0       0.90      0.99      0.94     16176\n",
      "           1       0.84      0.27      0.41      2433\n",
      "\n",
      "    accuracy                           0.90     18609\n",
      "   macro avg       0.87      0.63      0.68     18609\n",
      "weighted avg       0.89      0.90      0.87     18609\n",
      "\n"
     ]
    }
   ],
   "source": [
    "print(classification_report(test_labels, pred1))"
   ]
  },
  {
   "cell_type": "code",
   "execution_count": 14,
   "id": "d01e513b",
   "metadata": {},
   "outputs": [
    {
     "data": {
      "text/plain": [
       "<AxesSubplot:>"
      ]
     },
     "execution_count": 14,
     "metadata": {},
     "output_type": "execute_result"
    },
    {
     "data": {
      "image/png": "[encoded data removed]",
      "text/plain": [
       "<Figure size 432x288 with 2 Axes>"
      ]
     },
     "metadata": {
      "needs_background": "light"
     },
     "output_type": "display_data"
    }
   ],
   "source": [
    "cm = confusion_matrix(test_labels, pred1)\n",
    "sns.heatmap(cm, annot = True, xticklabels=[\"Not Covid\", \"Covid\"], yticklabels=[\"Not Covid\", \"Covid\"])"
   ]
  },
  {
   "cell_type": "markdown",
   "id": "7a92f764",
   "metadata": {},
   "source": [
    "# Data Reduction"
   ]
  },
  {
   "cell_type": "code",
   "execution_count": 15,
   "id": "6a8c30f3",
   "metadata": {},
   "outputs": [],
   "source": [
    "positive = data[data[\"result\"] == 1]\n",
    "negative = data[data[\"result\"] == 0]\n",
    "negative = negative[:50000]\n",
    "newData = pd.concat([positive, negative], axis =0)\n",
    "label = pd.get_dummies(newData[\"result\"])\n",
    "X = newData.drop([\"result\", \"Unnamed: 0\"], axis = 1)\n",
    "X_train, X_test, y_train, y_test = train_test_split(X, \n",
    "                                                    label, \n",
    "                                                    test_size=0.2, \n",
    "                                                    random_state=42, shuffle = True)\n",
    "# X_train = X_train.astype(np.float32).values\n",
    "# y_train = pd.get_dummies(data[\"result\"]).values\n",
    "# X = X.astype(np.float32).values\n",
    "# label = pd.get_dummies(data[\"result\"]).values\n",
    "\n",
    "X_test = X_test.astype(np.float32).values\n",
    "y_test =  y_test.astype(np.int32).values\n",
    "X_train = X_train.astype(np.float32).values\n",
    "y_train =  y_train.astype(np.int32).values"
   ]
  },
  {
   "cell_type": "markdown",
   "id": "0808eb02",
   "metadata": {},
   "source": [
    "# Model 2"
   ]
  },
  {
   "cell_type": "code",
   "execution_count": 16,
   "id": "b1e5deb3",
   "metadata": {},
   "outputs": [],
   "source": [
    "model = Sequential()\n",
    "\n",
    "\n",
    "model.add(Dense(64, activation= \"relu\", input_shape=(7,)))\n",
    "# model.add(Dense(128, activation= \"relu\"))\n",
    "model.add(Dense(512, activation= \"relu\"))\n",
    "model.add(Dropout(0.5))\n",
    "model.add(Dense(2, activation= \"softmax\"))\n",
    "\n",
    "model.compile(loss=\"categorical_crossentropy\", optimizer = \"adam\",\n",
    "             metrics=[\"accuracy\"])"
   ]
  },
  {
   "cell_type": "code",
   "execution_count": 18,
   "id": "532da7cd",
   "metadata": {},
   "outputs": [
    {
     "name": "stdout",
     "output_type": "stream",
     "text": [
      "Model: \"sequential_1\"\n",
      "_________________________________________________________________\n",
      "Layer (type)                 Output Shape              Param #   \n",
      "=================================================================\n",
      "dense_3 (Dense)              (None, 64)                512       \n",
      "_________________________________________________________________\n",
      "dense_4 (Dense)              (None, 512)               33280     \n",
      "_________________________________________________________________\n",
      "dropout (Dropout)            (None, 512)               0         \n",
      "_________________________________________________________________\n",
      "dense_5 (Dense)              (None, 2)                 1026      \n",
      "=================================================================\n",
      "Total params: 34,818\n",
      "Trainable params: 34,818\n",
      "Non-trainable params: 0\n",
      "_________________________________________________________________\n"
     ]
    }
   ],
   "source": [
    "model.summary()"
   ]
  },
  {
   "cell_type": "code",
   "execution_count": null,
   "id": "46fe84af",
   "metadata": {},
   "outputs": [],
   "source": [
    "early_stop = EarlyStopping(monitor=\"val_loss\", patience=2) "
   ]
  },
  {
   "cell_type": "code",
   "execution_count": 19,
   "id": "644483aa",
   "metadata": {},
   "outputs": [
    {
     "name": "stdout",
     "output_type": "stream",
     "text": [
      "Epoch 1/10\n",
      "1296/1296 [==============================] - 3s 3ms/step - loss: 0.5354 - accuracy: 0.7565 - val_loss: 0.5356 - val_accuracy: 0.7500\n",
      "Epoch 2/10\n",
      "1296/1296 [==============================] - 4s 3ms/step - loss: 0.5302 - accuracy: 0.7579 - val_loss: 0.5365 - val_accuracy: 0.7500\n",
      "Epoch 3/10\n",
      "1296/1296 [==============================] - 3s 2ms/step - loss: 0.5298 - accuracy: 0.7579 - val_loss: 0.5363 - val_accuracy: 0.7500\n"
     ]
    },
    {
     "data": {
      "text/plain": [
       "<tensorflow.python.keras.callbacks.History at 0x19b7a0c9748>"
      ]
     },
     "execution_count": 19,
     "metadata": {},
     "output_type": "execute_result"
    }
   ],
   "source": [
    "\n",
    "model.fit(x = X_train, y = y_train,epochs = 10,validation_split = 0.3 ,batch_size = 32, callbacks=[early_stop])"
   ]
  },
  {
   "cell_type": "code",
   "execution_count": null,
   "id": "24d74e47",
   "metadata": {},
   "outputs": [],
   "source": [
    " model2.save(\"Tensorflow_best_model2.h5\")"
   ]
  },
  {
   "cell_type": "code",
   "execution_count": 27,
   "id": "c2421168",
   "metadata": {},
   "outputs": [
    {
     "name": "stdout",
     "output_type": "stream",
     "text": [
      "463/463 [==============================] - 1s 1ms/step - loss: 0.5281 - accuracy: 0.7597\n"
     ]
    },
    {
     "data": {
      "text/plain": [
       "[0.5281186103820801, 0.759743332862854]"
      ]
     },
     "execution_count": 27,
     "metadata": {},
     "output_type": "execute_result"
    }
   ],
   "source": [
    "model.evaluate(x = X_test, y = y_test, batch_size = 32)"
   ]
  },
  {
   "cell_type": "code",
   "execution_count": 33,
   "id": "87d3e240",
   "metadata": {},
   "outputs": [],
   "source": [
    "pred2 = model.predict(X_test)\n",
    "pred2 = np.argmax(pred2, axis=-1)"
   ]
  },
  {
   "cell_type": "code",
   "execution_count": 34,
   "id": "53e120ac",
   "metadata": {},
   "outputs": [],
   "source": [
    "test_labels = np.argmax(y_test, axis=-1)"
   ]
  },
  {
   "cell_type": "code",
   "execution_count": 36,
   "id": "9576263b",
   "metadata": {},
   "outputs": [
    {
     "name": "stdout",
     "output_type": "stream",
     "text": [
      "              precision    recall  f1-score   support\n",
      "\n",
      "           0       0.74      1.00      0.85     10054\n",
      "           1       0.97      0.26      0.41      4751\n",
      "\n",
      "    accuracy                           0.76     14805\n",
      "   macro avg       0.85      0.63      0.63     14805\n",
      "weighted avg       0.81      0.76      0.71     14805\n",
      "\n"
     ]
    }
   ],
   "source": [
    "print(classification_report(test_labels, pred2))"
   ]
  },
  {
   "cell_type": "code",
   "execution_count": 38,
   "id": "b392c445",
   "metadata": {},
   "outputs": [
    {
     "data": {
      "text/plain": [
       "<AxesSubplot:>"
      ]
     },
     "execution_count": 38,
     "metadata": {},
     "output_type": "execute_result"
    },
    {
     "data": {
      "image/png": "[encoded data removed]",
      "text/plain": [
       "<Figure size 432x288 with 2 Axes>"
      ]
     },
     "metadata": {
      "needs_background": "light"
     },
     "output_type": "display_data"
    }
   ],
   "source": [
    "cm = confusion_matrix(test_labels, pred2)\n",
    "sns.heatmap(cm, annot = True, xticklabels=[\"Negative\", \"Positive\"], yticklabels=[\"Negative\", \"Positive\"])"
   ]
  },
  {
   "cell_type": "code",
   "execution_count": null,
   "id": "cbe84efb",
   "metadata": {},
   "outputs": [],
   "source": []
  }
 ],
 "metadata": {
  "kernelspec": {
   "display_name": "Python 3 (ipykernel)",
   "language": "python",
   "name": "python3"
  },
  "language_info": {
   "codemirror_mode": {
    "name": "ipython",
    "version": 3
   },
   "file_extension": ".py",
   "mimetype": "text/x-python",
   "name": "python",
   "nbconvert_exporter": "python",
   "pygments_lexer": "ipython3",
   "version": "3.7.9"
  }
 },
 "nbformat": 4,
 "nbformat_minor": 5
}
