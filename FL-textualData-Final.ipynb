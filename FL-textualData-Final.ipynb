{
 "cells": [
  {
   "cell_type": "code",
   "execution_count": 23,
   "id": "189f3808",
   "metadata": {},
   "outputs": [],
   "source": [
    "# pred = eval_model.predict(X_test, y_test, verbose=0)"
   ]
  },
  {
   "cell_type": "code",
   "execution_count": 24,
   "id": "30c2c990",
   "metadata": {},
   "outputs": [],
   "source": [
    "# X_test.shape"
   ]
  },
  {
   "cell_type": "code",
   "execution_count": 25,
   "id": "07f3c8f2",
   "metadata": {},
   "outputs": [],
   "source": [
    "# y_test.shape"
   ]
  },
  {
   "cell_type": "code",
   "execution_count": 2,
   "id": "651d31fd",
   "metadata": {},
   "outputs": [],
   "source": [
    "import nest_asyncio\n",
    "nest_asyncio.apply()\n",
    "import collections\n",
    "import numpy as np\n",
    "import tensorflow as tf\n",
    "import tensorflow_federated as tff\n",
    "from tqdm import tqdm\n",
    "from pathlib import Path\n",
    "from matplotlib import pyplot as plt\n",
    "import collections\n",
    "import numpy as np\n",
    "from tensorflow import reshape, nest, config\n",
    "from tensorflow.keras import losses, metrics, optimizers\n",
    "import tensorflow_federated as tff\n",
    "from matplotlib import pyplot as plt\n",
    "from pathlib import Path\n",
    "from tensorflow.keras.preprocessing.image import ImageDataGenerator\n",
    "from tensorflow import reshape, nest, config\n",
    "from tensorflow.keras import Sequential\n",
    "from tensorflow.keras.layers import Conv2D, MaxPool2D, Flatten, Dense, Dropout\n",
    "import pandas as pd\n",
    "from sklearn.model_selection import train_test_split\n",
    "from sklearn.metrics import confusion_matrix, classification_report\n",
    "import seaborn as sns"
   ]
  },
  {
   "cell_type": "markdown",
   "id": "04b1de07",
   "metadata": {},
   "source": [
    "# Data Loading and Pre-Processing"
   ]
  },
  {
   "cell_type": "code",
   "execution_count": 3,
   "id": "5233ab81",
   "metadata": {},
   "outputs": [],
   "source": [
    "experiment_name = \"xray_image_dataset\"\n",
    "method = \"tff_training\"\n",
    "this_dir = Path.cwd()\n",
    "model_dir = this_dir / \"models\" \n",
    "output_dir = this_dir / \"results\" \n",
    "\n",
    "data = pd.read_csv(\"./../texted_data.csv\")\n",
    "label = data[\"result\"]\n",
    "X = data.drop([\"result\", \"Unnamed: 0\"], axis = 1)\n",
    "X_train, X_test, y_train, y_test = train_test_split(X, \n",
    "                                                    label, \n",
    "                                                    test_size=0.1, \n",
    "                                                    random_state=42)\n",
    "X_test = X_test.astype(np.float32).values\n",
    "y_test =  y_test.astype(np.int32).values\n",
    "X_train = X_train.astype(np.float32).values\n",
    "y_train =  y_train.astype(np.int32).values"
   ]
  },
  {
   "cell_type": "markdown",
   "id": "ac08d518",
   "metadata": {},
   "source": [
    "# Creating Federations"
   ]
  },
  {
   "cell_type": "code",
   "execution_count": 41,
   "id": "75596a72",
   "metadata": {},
   "outputs": [
    {
     "name": "stdout",
     "output_type": "stream",
     "text": [
      "Adding data from 0 to 41868 for client : client_1\n",
      "Adding data from 41868 to 83736 for client : client_2\n",
      "Adding data from 83736 to 125604 for client : client_3\n",
      "Adding data from 125604 to 167472 for client : client_4\n",
      "Number of client datasets: 4\n",
      "First dataset: <PrefetchDataset shapes: OrderedDict([(x, (None, 7)), (y, (None, 1))]), types: OrderedDict([(x, tf.float32), (y, tf.int32)])>\n"
     ]
    }
   ],
   "source": [
    "split=4 #Number of clients\n",
    "total_image_count = len(X_train)\n",
    "image_per_set = int(np.floor(total_image_count/split))\n",
    "\n",
    "\n",
    "\n",
    "client_train_dataset = collections.OrderedDict()\n",
    "for i in range(1, split+1):\n",
    "    client_name = \"client_\" + str(i)\n",
    "    start = image_per_set * (i-1)\n",
    "    end = image_per_set * i\n",
    "\n",
    "    print(f\"Adding data from {start} to {end} for client : {client_name}\")\n",
    "    data = collections.OrderedDict((('label', y_train[start:end]), ('pixels', X_train[start:end])))\n",
    "    client_train_dataset[client_name] = data\n",
    "\n",
    "\n",
    "\n",
    "NUM_EPOCHS=10\n",
    "BATCH_SIZE=10\n",
    "PREFETCH_BUFFER = 10\n",
    "\n",
    "\n",
    "\n",
    "train_dataset = tff.simulation.FromTensorSlicesClientData(client_train_dataset)\n",
    "\n",
    "sample_dataset = train_dataset.create_tf_dataset_for_client(train_dataset.client_ids[0])\n",
    "#print(sample_dataset['pixels'])\n",
    "sample_element = next(iter(sample_dataset))\n",
    "\n",
    "SHUFFLE_BUFFER = image_per_set\n",
    "\n",
    "def preprocess(dataset):\n",
    "\n",
    "    def batch_format_fn(element):\n",
    "        \"\"\"Flatten a batch `pixels` and return the features as an `OrderedDict`.\"\"\"\n",
    "        return collections.OrderedDict(\n",
    "            x=reshape(element['pixels'], [-1, 7]),\n",
    "            y=reshape(element['label'], [-1, 1]))\n",
    "\n",
    "\n",
    "\n",
    "    return dataset.repeat(NUM_EPOCHS).shuffle(SHUFFLE_BUFFER).batch(\n",
    "        BATCH_SIZE).map(batch_format_fn).prefetch(PREFETCH_BUFFER)\n",
    "\n",
    "\n",
    "preprocessed_sample_dataset = preprocess(sample_dataset)\n",
    "sample_batch = nest.map_structure(lambda x: x.numpy(), next(iter(preprocessed_sample_dataset)))\n",
    "\n",
    "\n",
    "def make_federated_data(client_data, client_ids):\n",
    "    return [preprocess(client_data.create_tf_dataset_for_client(x)) for x in client_ids]\n",
    "\n",
    "federated_train_data = make_federated_data(train_dataset, train_dataset.client_ids)\n",
    "\n",
    "print('Number of client datasets: {l}'.format(l=len(federated_train_data)))\n",
    "print('First dataset: {d}'.format(d=federated_train_data[0]))"
   ]
  },
  {
   "cell_type": "markdown",
   "id": "9acbff6c",
   "metadata": {},
   "source": [
    "# Model 1"
   ]
  },
  {
   "cell_type": "code",
   "execution_count": 40,
   "id": "7e0858c1",
   "metadata": {
    "scrolled": true
   },
   "outputs": [
    {
     "name": "stdout",
     "output_type": "stream",
     "text": [
      "WARNING:tensorflow:7 out of the last 7 calls to <function zero_all_if_any_non_finite at 0x000001FCBC5651F8> triggered tf.function retracing. Tracing is expensive and the excessive number of tracings is likely due to passing python objects instead of tensors. Also, tf.function has experimental_relax_shapes=True option that relaxes argument shapes that can avoid unnecessary retracing. Please refer to https://www.tensorflow.org/tutorials/customization/performance#python_or_tensor_args and https://www.tensorflow.org/api_docs/python/tf/function for more details.\n"
     ]
    },
    {
     "name": "stderr",
     "output_type": "stream",
     "text": [
      "WARNING:tensorflow:7 out of the last 7 calls to <function zero_all_if_any_non_finite at 0x000001FCBC5651F8> triggered tf.function retracing. Tracing is expensive and the excessive number of tracings is likely due to passing python objects instead of tensors. Also, tf.function has experimental_relax_shapes=True option that relaxes argument shapes that can avoid unnecessary retracing. Please refer to https://www.tensorflow.org/tutorials/customization/performance#python_or_tensor_args and https://www.tensorflow.org/api_docs/python/tf/function for more details.\n"
     ]
    },
    {
     "name": "stdout",
     "output_type": "stream",
     "text": [
      "WARNING:tensorflow:8 out of the last 8 calls to <function zero_all_if_any_non_finite at 0x000001FCBC5651F8> triggered tf.function retracing. Tracing is expensive and the excessive number of tracings is likely due to passing python objects instead of tensors. Also, tf.function has experimental_relax_shapes=True option that relaxes argument shapes that can avoid unnecessary retracing. Please refer to https://www.tensorflow.org/tutorials/customization/performance#python_or_tensor_args and https://www.tensorflow.org/api_docs/python/tf/function for more details.\n"
     ]
    },
    {
     "name": "stderr",
     "output_type": "stream",
     "text": [
      "WARNING:tensorflow:8 out of the last 8 calls to <function zero_all_if_any_non_finite at 0x000001FCBC5651F8> triggered tf.function retracing. Tracing is expensive and the excessive number of tracings is likely due to passing python objects instead of tensors. Also, tf.function has experimental_relax_shapes=True option that relaxes argument shapes that can avoid unnecessary retracing. Please refer to https://www.tensorflow.org/tutorials/customization/performance#python_or_tensor_args and https://www.tensorflow.org/api_docs/python/tf/function for more details.\n"
     ]
    },
    {
     "name": "stdout",
     "output_type": "stream",
     "text": [
      "( -> <model=<trainable=<float32[7,64],float32[64],float32[64,128],float32[128],float32[128,2],float32[2]>,non_trainable=<>>,optimizer_state=<int64,float32[7,64],float32[64],float32[64,128],float32[128],float32[128,2],float32[2]>,delta_aggregate_state=<>,model_broadcast_state=<>>@SERVER)\n",
      "round  1, metrics=<sparse_categorical_accuracy=0.8871763348579407,loss=0.3437453806400299,keras_training_time_client_sum_sec=0.0>\n",
      "Validation loss : 0.6305394982162889 and Validation accuracy : 0.8711376190185547\n",
      "round  2, metrics=<sparse_categorical_accuracy=0.888870358467102,loss=0.3399884104728699,keras_training_time_client_sum_sec=0.0>\n",
      "Validation loss : 0.6134387820364935 and Validation accuracy : 0.8769412636756897\n",
      "round  3, metrics=<sparse_categorical_accuracy=0.8899750113487244,loss=0.33790481090545654,keras_training_time_client_sum_sec=0.0>\n",
      "Validation loss : 0.6001946973617448 and Validation accuracy : 0.8811327815055847\n",
      "round  4, metrics=<sparse_categorical_accuracy=0.8907877206802368,loss=0.33644628524780273,keras_training_time_client_sum_sec=0.0>\n",
      "Validation loss : 0.5891822472457326 and Validation accuracy : 0.8837121725082397\n",
      "round  5, metrics=<sparse_categorical_accuracy=0.8915162086486816,loss=0.3353025019168854,keras_training_time_client_sum_sec=0.0>\n",
      "Validation loss : 0.5787118397642292 and Validation accuracy : 0.8862378597259521\n",
      "round  6, metrics=<sparse_categorical_accuracy=0.8921073079109192,loss=0.3343869745731354,keras_training_time_client_sum_sec=0.0>\n",
      "Validation loss : 0.5687806198742883 and Validation accuracy : 0.8897845149040222\n",
      "round  7, metrics=<sparse_categorical_accuracy=0.8926357626914978,loss=0.3335760533809662,keras_training_time_client_sum_sec=0.0>\n",
      "Validation loss : 0.5595141893058648 and Validation accuracy : 0.8913966417312622\n",
      "round  8, metrics=<sparse_categorical_accuracy=0.8931648135185242,loss=0.33289533853530884,keras_training_time_client_sum_sec=0.0>\n",
      "Validation loss : 0.5506463462556028 and Validation accuracy : 0.8919340372085571\n",
      "round  9, metrics=<sparse_categorical_accuracy=0.893618643283844,loss=0.3322441875934601,keras_training_time_client_sum_sec=0.0>\n",
      "Validation loss : 0.541941627825637 and Validation accuracy : 0.8921489715576172\n",
      "round 10, metrics=<sparse_categorical_accuracy=0.8939769268035889,loss=0.3317021131515503,keras_training_time_client_sum_sec=0.0>\n",
      "Validation loss : 0.5332938928838329 and Validation accuracy : 0.8932774662971497\n"
     ]
    }
   ],
   "source": [
    "np.random.seed(99)\n",
    "def model1():\n",
    "    model = Sequential([\n",
    "        Dense(64, activation='relu', input_shape=(7, )),\n",
    "        Dense(128, activation='relu'),\n",
    "#         Dropout(0.3),\n",
    "        Dense(2, activation='softmax')\n",
    "\n",
    "    ])\n",
    "    return model\n",
    "\n",
    "#         model = Sequential()\n",
    "#         model.add(Dense(200, input_shape=(shape,)))\n",
    "#         model.add(Activation(\"relu\"))\n",
    "#         model.add(Dense(200))\n",
    "#         model.add(Activation(\"relu\"))\n",
    "#         model.add(Dense(classes))\n",
    "#         model.add(Activation(\"softmax\"))\n",
    "\n",
    "\n",
    "method = \"tff_training\"\n",
    "client_lr = 1e-3\n",
    "server_lr = 1e-3\n",
    "NUM_ROUNDS = 10\n",
    "\n",
    "\n",
    "def model_fn():\n",
    "  # We _must_ create a new model here, and _not_ capture it from an external\n",
    "  # scope. TFF will call this within different graph contexts.\n",
    "\n",
    "    keras_model = model1()\n",
    "    return tff.learning.from_keras_model(\n",
    "      keras_model,\n",
    "      input_spec=preprocessed_sample_dataset.element_spec,\n",
    "      loss=losses.SparseCategoricalCrossentropy(),\n",
    "      metrics=[metrics.SparseCategoricalAccuracy()])\n",
    "\n",
    "\n",
    "iterative_process = tff.learning.build_federated_averaging_process(\n",
    "    model_fn,\n",
    "    client_optimizer_fn=lambda: optimizers.Adagrad(learning_rate=client_lr),\n",
    "    server_optimizer_fn=lambda: optimizers.RMSprop(learning_rate=server_lr))\n",
    "\n",
    "print(str(iterative_process.initialize.type_signature))\n",
    "\n",
    "state = iterative_process.initialize()\n",
    "\n",
    "tff_train_acc1 = []\n",
    "tff_val_acc1 = []\n",
    "tff_train_loss1 = []\n",
    "tff_val_loss1 = []\n",
    "\n",
    "eval_model1 = None\n",
    "best_accuracy = 0\n",
    "for round_num in range(1, NUM_ROUNDS+1):\n",
    "    state, tff_metrics = iterative_process.next(state, federated_train_data)\n",
    "    eval_model1 = model1()\n",
    "    eval_model1.compile(optimizer=optimizers.Adam(learning_rate=client_lr),\n",
    "                       loss=losses.SparseCategoricalCrossentropy(),\n",
    "                       metrics=[metrics.SparseCategoricalAccuracy()])\n",
    "\n",
    "    tff.learning.assign_weights_to_keras_model(eval_model1, state.model)\n",
    "\n",
    "    ev_result1 = eval_model1.evaluate(X_test, y_test, verbose=0)\n",
    "    print('round {:2d}, metrics={}'.format(round_num, tff_metrics))\n",
    "    print(f\"Validation loss : {ev_result1[0]} and Validation accuracy : {ev_result1[1]}\")\n",
    "    tff_train_acc1.append(float(tff_metrics.sparse_categorical_accuracy))\n",
    "    tff_val_acc1.append(ev_result1[1])\n",
    "    tff_train_loss1.append(float(tff_metrics.loss))\n",
    "    tff_val_loss1.append(ev_result1[0])\n",
    "    if ev_result1[1] > best_accuracy:\n",
    "        eval_model1.save_weights('./checkpoints/my_checkpoint')\n",
    "        best_accuracy = ev_result1[1]\n",
    "        eval_model1.save(\"federated_best_texted_model1.h5\")\n",
    "\n",
    "metric_collection = {\"sparse_categorical_accuracy\": tff_train_acc1,\n",
    "                     \"val_sparse_categorical_accuracy\": tff_val_acc1,\n",
    "                     \"loss\": tff_train_loss1,\n",
    "                     \"val_loss\": tff_val_loss1}\n",
    "\n"
   ]
  },
  {
   "cell_type": "markdown",
   "id": "52776ebd",
   "metadata": {},
   "source": [
    "## Evaluation"
   ]
  },
  {
   "cell_type": "code",
   "execution_count": 4,
   "id": "fd5bdeaf",
   "metadata": {},
   "outputs": [
    {
     "name": "stdout",
     "output_type": "stream",
     "text": [
      "              precision    recall  f1-score   support\n",
      "\n",
      "           0       0.90      0.99      0.94     16176\n",
      "           1       0.84      0.23      0.36      2433\n",
      "\n",
      "    accuracy                           0.89     18609\n",
      "   macro avg       0.87      0.61      0.65     18609\n",
      "weighted avg       0.89      0.89      0.87     18609\n",
      "\n"
     ]
    },
    {
     "data": {
      "text/plain": [
       "<AxesSubplot:>"
      ]
     },
     "execution_count": 4,
     "metadata": {},
     "output_type": "execute_result"
    },
    {
     "data": {
      "image/png": "[encoded data removed]",
      "text/plain": [
       "<Figure size 432x288 with 2 Axes>"
      ]
     },
     "metadata": {
      "needs_background": "light"
     },
     "output_type": "display_data"
    }
   ],
   "source": [
    "model1 = tf.keras.models.load_model('federated_best_texted_model1.h5')\n",
    "pred1 = model1.predict(X_test)\n",
    "pred1 = np.argmax(pred1, axis=-1)\n",
    "print(classification_report(y_test, pred1))\n",
    "cm = confusion_matrix(y_test, pred1)\n",
    "sns.heatmap(cm, annot = True, xticklabels=[\"Not_Covid\", \"Covid\"], yticklabels=[\"Not_Covid\", \"Covid\"])"
   ]
  },
  {
   "cell_type": "markdown",
   "id": "a1186629",
   "metadata": {},
   "source": [
    "## Plotting Results"
   ]
  },
  {
   "cell_type": "code",
   "execution_count": 42,
   "id": "82c57545",
   "metadata": {},
   "outputs": [],
   "source": [
    "def plot_graph(X, y, format = '-', label=''):\n",
    "    plt.plot(X, y, format, label=label)\n",
    "    plt.xlabel(\"Rounds\")\n",
    "    plt.ylabel(\"Value\")\n",
    "    plt.grid(True)"
   ]
  },
  {
   "cell_type": "code",
   "execution_count": 48,
   "id": "31e59e3a",
   "metadata": {},
   "outputs": [
    {
     "data": {
      "image/png": "[encoded data removed]",
      "text/plain": [
       "<Figure size 720x432 with 1 Axes>"
      ]
     },
     "metadata": {
      "needs_background": "light"
     },
     "output_type": "display_data"
    },
    {
     "data": {
      "image/png": "[encoded data removed]",
      "text/plain": [
       "<Figure size 720x432 with 1 Axes>"
      ]
     },
     "metadata": {
      "needs_background": "light"
     },
     "output_type": "display_data"
    }
   ],
   "source": [
    "fig = plt.figure(figsize=(10, 6))\n",
    "plot_graph(list(range(1, NUM_ROUNDS +1)), tff_train_acc1, label='Train Accuracy')\n",
    "plot_graph(list(range(1, NUM_ROUNDS +1)), tff_val_acc1, label='Validation Accuracy')\n",
    "plt.legend()\n",
    "plt.savefig(output_dir / \"federated_texted_model1_Accuracy.png\")\n",
    "\n",
    "plt.figure(figsize=(10, 6))\n",
    "plot_graph(list(range(1, NUM_ROUNDS +1)), tff_train_loss1, label='Train loss')\n",
    "plot_graph(list(range(1, NUM_ROUNDS +1)), tff_val_loss1, label='Validation loss')\n",
    "plt.legend()\n",
    "plt.savefig(output_dir / \"federated_texted_model1_loss.png\")"
   ]
  }
 ],
 "metadata": {
  "kernelspec": {
   "display_name": "Python 3 (ipykernel)",
   "language": "python",
   "name": "python3"
  },
  "language_info": {
   "codemirror_mode": {
    "name": "ipython",
    "version": 3
   },
   "file_extension": ".py",
   "mimetype": "text/x-python",
   "name": "python",
   "nbconvert_exporter": "python",
   "pygments_lexer": "ipython3",
   "version": "3.7.9"
  }
 },
 "nbformat": 4,
 "nbformat_minor": 5
}
